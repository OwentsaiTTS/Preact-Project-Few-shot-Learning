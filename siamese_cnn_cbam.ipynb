{
 "cells": [
  {
   "cell_type": "code",
   "execution_count": 1,
   "id": "cc5cf4b3",
   "metadata": {},
   "outputs": [],
   "source": [
    "# !pip install torch torchvision torchaudio --index-url https://download.pytorch.org/whl/cu121\n",
    "# !pip install opencv-python\n",
    "# !pip install torchsummary\n",
    "# !pip list"
   ]
  },
  {
   "cell_type": "code",
   "execution_count": 2,
   "id": "f16374c7",
   "metadata": {},
   "outputs": [
    {
     "name": "stdout",
     "output_type": "stream",
     "text": [
      "True\n",
      "1\n",
      "0\n",
      "NVIDIA GeForce RTX 3070\n"
     ]
    }
   ],
   "source": [
    "import torch\n",
    "\n",
    "print(torch.cuda.is_available())\n",
    "print(torch.cuda.device_count())\n",
    "print(torch.cuda.current_device())\n",
    "print(torch.cuda.get_device_name(torch.cuda.current_device()))"
   ]
  },
  {
   "cell_type": "code",
   "execution_count": 3,
   "id": "033530e3-0e33-4231-9aad-03f1974a07f5",
   "metadata": {
    "tags": []
   },
   "outputs": [],
   "source": [
    "import torch\n",
    "import torch.nn as nn\n",
    "import torch.nn.functional as F\n",
    "import torch.optim as optim\n",
    "import torchvision\n",
    "import torchvision.datasets as datasets\n",
    "import torchvision.transforms as transforms\n",
    "from torch.utils.data import DataLoader, Dataset\n",
    "from PIL import Image\n",
    "import os\n",
    "from matplotlib.pyplot import imread\n",
    "import cv2\n",
    "import numpy as np\n",
    "import random\n",
    "import numpy.random as rng\n",
    "from sklearn.cluster import DBSCAN\n",
    "from torchsummary import summary\n",
    "import scipy.stats as stats\n",
    "from tqdm import tqdm  # Import tqdm function from the tqdm module\n",
    "\n",
    "import os\n",
    "os.environ['CUDA_LAUNCH_BLOCKING'] = \"1\""
   ]
  },
  {
   "cell_type": "code",
   "execution_count": 4,
   "id": "e8b2edaf-cd9a-47eb-a48d-4771a4cbd1f8",
   "metadata": {
    "tags": []
   },
   "outputs": [],
   "source": [
    "#====================================================================================\n",
    "#                   Loading images and family names\n",
    "#====================================================================================\n",
    "def loadimgs(path,w,h,n_shot):\n",
    "    X = []\n",
    "    y = []\n",
    "    cat_dict = {}\n",
    "    lang_dict = {}\n",
    "    fam_dict = {}\n",
    "    curr_y = 0\n",
    "    idx = 0\n",
    "    for fam in sorted(os.listdir(path)):\n",
    "        fam_path = os.path.join(path,fam)\n",
    "        if fam == '1_avg' or fam == '1_known' or fam == 'SINGLETON' or len(os.listdir(fam_path)) < n_shot:\n",
    "            continue\n",
    "\n",
    "        lang_dict[fam] = [curr_y,None]\n",
    "        category_images=[]\n",
    "        fam_dict[idx] = fam\n",
    "        idx += 1\n",
    "        for img in os.listdir(fam_path):\n",
    "            image_path = os.path.join(fam_path, img)\n",
    "            if os.path.isdir(image_path):\n",
    "                continue\n",
    "            cat_dict[curr_y] = (fam, img)\n",
    "            img = imread(image_path)[:,:,:3]\n",
    "            img_resized = cv2.resize(img,(w,h))\n",
    "            category_images.append(img_resized)\n",
    "            #print(image_path+', '+str(img_resized.shape))\n",
    "            lang_dict[fam][1] = curr_y\n",
    "            curr_y += 1\n",
    "        X.append(category_images)\n",
    "        y.append(curr_y)\n",
    "            \n",
    "    y = np.vstack(y)\n",
    "\n",
    "    print('[Info] Classes: '+str(len(lang_dict)))\n",
    "    print('[Info] Images: '+str(y[-1][0]))\n",
    "    \n",
    "    return X,y,lang_dict,fam_dict\n"
   ]
  },
  {
   "cell_type": "code",
   "execution_count": 5,
   "id": "64d0c209-891e-4a9b-80ee-c20d34ade86e",
   "metadata": {
    "tags": []
   },
   "outputs": [],
   "source": [
    "import torch\n",
    "import random\n",
    "\n",
    "def generate_pairs(support_imgs, n_shot, n_way, device, hard_negatives_info=None, hard_positives_info=None):\n",
    "    # Calculate the number of positive and negative pairs needed\n",
    "    total_pairs_per_class = n_shot * (n_shot - 1) // 2\n",
    "    total_positive_pairs = total_pairs_per_class * n_way\n",
    "\n",
    "    # Pre-allocate tensors for efficiency\n",
    "    left_images_tensor = torch.empty(total_positive_pairs * 2, *support_imgs.size()[1:], device=device)\n",
    "    right_images_tensor = torch.empty(total_positive_pairs * 2, *support_imgs.size()[1:], device=device)\n",
    "    labels_tensor = torch.empty(total_positive_pairs * 2, device=device)\n",
    "\n",
    "    # Generate positive and negative pairs\n",
    "    pair_idx = 0\n",
    "    for class_idx in range(n_way):\n",
    "        class_images = support_imgs[class_idx * n_shot:(class_idx + 1) * n_shot]\n",
    "        for i in range(n_shot):\n",
    "            for j in range(i + 1, n_shot):\n",
    "                left_images_tensor[pair_idx] = class_images[i]\n",
    "                right_images_tensor[pair_idx] = class_images[j]\n",
    "                labels_tensor[pair_idx] = 1.0  # Positive pair\n",
    "                pair_idx += 1\n",
    "\n",
    "                # For each positive pair, add a corresponding negative pair\n",
    "                negative_class_idx = random.choice([x for x in range(n_way) if x != class_idx])\n",
    "                negative_image = support_imgs[negative_class_idx * n_shot + random.randint(0, n_shot - 1)]\n",
    "\n",
    "                left_images_tensor[pair_idx] = class_images[i]\n",
    "                right_images_tensor[pair_idx] = negative_image\n",
    "                labels_tensor[pair_idx] = 0.0  # Negative pair\n",
    "                pair_idx += 1\n",
    "\n",
    "    # Shuffle the pairs to mix positive and negative pairs\n",
    "    indices = torch.randperm(pair_idx, device=device)\n",
    "    left_images_tensor = left_images_tensor[indices]\n",
    "    right_images_tensor = right_images_tensor[indices]\n",
    "    labels_tensor = labels_tensor[indices]\n",
    "\n",
    "    return left_images_tensor, right_images_tensor, labels_tensor"
   ]
  },
  {
   "cell_type": "code",
   "execution_count": 6,
   "id": "57f5a535-329c-4028-a32a-a4094960f09b",
   "metadata": {
    "tags": []
   },
   "outputs": [],
   "source": [
    "import numpy as np\n",
    "import torch\n",
    "from sklearn.cluster import DBSCAN\n",
    "from scipy.spatial.distance import pdist, squareform\n",
    "\n",
    "def get_prototypes(z, n_shot, n_class, percentile=20):\n",
    "    prototypes = {class_idx: [] for class_idx in range(n_class)}\n",
    "\n",
    "    for i in range(n_class):\n",
    "        # Extract embeddings for the current class\n",
    "        support_set = z[i * n_shot:(i + 1) * n_shot]\n",
    "\n",
    "        # Check if support_set is a numpy array and on CPU, if not convert\n",
    "        if not isinstance(support_set, np.ndarray):\n",
    "            support_set_np = support_set.cpu().detach().numpy()\n",
    "        else:\n",
    "            support_set_np = support_set\n",
    "\n",
    "        # Calculate pairwise distances and determine dynamic epsilon\n",
    "        distances = pdist(support_set_np)\n",
    "        eps = np.percentile(distances, percentile)\n",
    "\n",
    "        # Ensure epsilon is greater than 0\n",
    "        eps = max(eps, 0.001)  # Set a minimum threshold for eps to avoid InvalidParameterError\n",
    "\n",
    "        # Perform DBSCAN clustering on support embeddings (a single class)\n",
    "        clustering = DBSCAN(eps=eps, min_samples=1).fit(support_set_np)\n",
    "\n",
    "        # Calculate cluster centroids as prototypes\n",
    "        unique_clusters = np.unique(clustering.labels_)\n",
    "        for cluster_id in unique_clusters:\n",
    "            if cluster_id == -1:  # Skip noise points\n",
    "                continue\n",
    "\n",
    "            cluster_indices = np.where(clustering.labels_ == cluster_id)[0]\n",
    "            cluster_embeddings = support_set[cluster_indices]\n",
    "\n",
    "            # Calculate the mean of embeddings within the same cluster to form a prototype\n",
    "            if len(cluster_embeddings) > 0:\n",
    "                cluster_center = torch.mean(cluster_embeddings.clone().detach(), dim=0)\n",
    "                prototypes[i].append(cluster_center)\n",
    "\n",
    "        # Additionally, calculate the overall prototype for the class\n",
    "        if len(support_set) > 0:\n",
    "            overall_prototype = torch.mean(support_set.clone().detach(), dim=0)\n",
    "            prototypes[i].append(overall_prototype)\n",
    "\n",
    "    return prototypes\n"
   ]
  },
  {
   "cell_type": "code",
   "execution_count": 7,
   "id": "51590c12-8ad0-4abf-86e9-138e298371b6",
   "metadata": {
    "tags": []
   },
   "outputs": [],
   "source": [
    "class EpisodeLoader:\n",
    "    def __init__(self, X, y, class_info, n_way, k_shot, q_queries):\n",
    "        self.X = X\n",
    "        self.y = y\n",
    "        self.class_info = class_info\n",
    "        self.n_way = n_way\n",
    "        self.k_shot = k_shot\n",
    "        self.q_queries = q_queries\n",
    "        self.class_frequency = {class_idx: 0 for class_idx in range(len(X))}  # Tracking frequency\n",
    "        self.class_accuracy = {class_idx: {'correct': 0, 'total': 0} for class_idx in range(len(X))}\n",
    "\n",
    "    def load_episode(self):\n",
    "        # Calculate weights for each class based on inverse frequency\n",
    "        max_freq = max(self.class_frequency.values())\n",
    "        weights = [(max_freq - self.class_frequency[class_idx]) + 1 for class_idx in range(len(self.X))]\n",
    "        \n",
    "        # Normalize weights to sum to 1\n",
    "        total_weight = sum(weights)\n",
    "        weights = [w / total_weight for w in weights]\n",
    "\n",
    "        # Sample n_way classes based on the calculated weights\n",
    "        sampled_classes = np.random.choice(range(len(self.X)), size=self.n_way, replace=False, p=weights)\n",
    "        \n",
    "        support_set = []\n",
    "        support_labels = []\n",
    "        query_set = []\n",
    "        query_labels = []\n",
    "\n",
    "        # Increment frequency count for each sampled class\n",
    "        for class_idx in sampled_classes:\n",
    "            self.class_frequency[class_idx] += 1\n",
    "            \n",
    "        # Remap labels to range from 0 to n_way-1\n",
    "        remapped_labels = {class_idx: i for i, class_idx in enumerate(sampled_classes)}\n",
    "\n",
    "        for class_idx in sampled_classes:\n",
    "            # Get all available images in the class\n",
    "            available_images = self.X[class_idx]\n",
    "\n",
    "            # If there are not enough images, use available images as both support and query\n",
    "            if len(available_images) < self.k_shot + self.q_queries:\n",
    "                repeated_images = available_images * ((self.k_shot + self.q_queries) // len(available_images) + 1)\n",
    "                sampled_images = random.sample(repeated_images, self.k_shot + self.q_queries)\n",
    "            else:\n",
    "                # Randomly sample k_shot + q_queries images from the class\n",
    "                sampled_images = random.sample(available_images, self.k_shot + self.q_queries)\n",
    "\n",
    "            # Split into support and query sets\n",
    "            support_set.extend(sampled_images[:self.k_shot])\n",
    "            support_labels.extend([remapped_labels[class_idx]] * self.k_shot)  # Remapped label\n",
    "            query_set.extend(sampled_images[self.k_shot:])\n",
    "            query_labels.extend([remapped_labels[class_idx]] * self.q_queries)  # Remapped label\n",
    "\n",
    "        # Convert to torch tensors and normalize\n",
    "        support_set = torch.stack([torch.tensor(img).permute(2, 0, 1).float() for img in support_set])\n",
    "        query_set = torch.stack([torch.tensor(img).permute(2, 0, 1).float() for img in query_set])\n",
    "        \n",
    "        # Create a mapping from remapped labels to original class labels\n",
    "        remap_dict = {remapped_label: actual_label for remapped_label, actual_label in enumerate(sampled_classes)}\n",
    "        \n",
    "        # Keep track of actual labels of the query set for accuracy calculation\n",
    "        actual_query_labels = [class_idx for class_idx in sampled_classes for _ in range(self.q_queries)]\n",
    "\n",
    "    \n",
    "        return support_set, torch.tensor(support_labels), query_set, torch.tensor(query_labels), actual_query_labels, remap_dict\n",
    "    \n",
    "    def get_class_accuracy(self):\n",
    "        return {class_idx: round(info['correct'].item() / info['total'], 3) if info['total'] > 0 else 0 for class_idx, info in self.class_accuracy.items()}\n",
    "        #return self.class_accuracy\n",
    "    \n",
    "    def update_class_accuracy(self, predictions, actual_targets):\n",
    "        for actual_class in set(actual_targets):\n",
    "            # Get the indices of actual targets that match the current class\n",
    "            target_indices = [i for i, target in enumerate(actual_targets) if target == actual_class]\n",
    "    \n",
    "            # Count how many times the predicted class matches the actual class at these indices\n",
    "            correct_count = sum(predictions[i] == actual_class for i in target_indices)\n",
    "    \n",
    "            # Update the class accuracy tracking\n",
    "            self.class_accuracy[actual_class.item()]['correct'] += correct_count\n",
    "            self.class_accuracy[actual_class.item()]['total'] += len(target_indices)\n",
    "            \n",
    "    def get_class_frequency(self):\n",
    "        # Sort the class_frequency dictionary by frequency counts in descending order\n",
    "        sorted_frequency = {k: v for k, v in sorted(self.class_frequency.items(), key=lambda item: item[1], reverse=True)}\n",
    "        return sorted_frequency"
   ]
  },
  {
   "cell_type": "code",
   "execution_count": 8,
   "id": "33135f36-d77d-4e91-9ab1-9244cc205f66",
   "metadata": {
    "tags": []
   },
   "outputs": [],
   "source": [
    "import torch\n",
    "import torch.nn as nn\n",
    "import torch.nn.functional as F\n",
    "\n",
    "from torch.autograd import Variable\n",
    "\n",
    "class Flatten(nn.Module):\n",
    "    def __init__(self):\n",
    "        super(Flatten, self).__init__()\n",
    "\n",
    "    def forward(self, x):\n",
    "        return x.view(x.size(0), -1)\n",
    "    \n",
    "class ContrastiveLoss(nn.Module):\n",
    "    def __init__(self, margin=1.0):\n",
    "        super(ContrastiveLoss, self).__init__()\n",
    "        self.margin = margin\n",
    "\n",
    "    def forward(self, embedding1, embedding2, label, reduction='mean'):\n",
    "        # Euclidean distance between embeddings\n",
    "        distance = F.pairwise_distance(embedding1, embedding2, keepdim=False)  # keepdim=False for 1D tensor\n",
    " \n",
    "        # Contrastive loss calculation\n",
    "        losses = (label * torch.pow(distance, 2) +\n",
    "                  (1 - label) * torch.pow(torch.clamp(self.margin - distance, min=0.0), 2))\n",
    "        \n",
    "        if reduction == 'none':\n",
    "            return losses\n",
    "        elif reduction == 'mean':\n",
    "            return torch.mean(losses)\n",
    "        elif reduction == 'sum':\n",
    "            return torch.sum(losses)\n",
    "        else:\n",
    "            raise ValueError(f\"Unsupported reduction '{reduction}'. Use 'none', 'mean', or 'sum'.\")\n",
    "\n",
    "class AttentionModule(nn.Module):\n",
    "    def __init__(self, in_channels):\n",
    "        super(AttentionModule, self).__init__()\n",
    "        self.conv1 = nn.Conv2d(in_channels, 1, kernel_size=1)\n",
    "        self.softmax = nn.Softmax(dim=1)\n",
    "        \n",
    "    def forward(self, x):\n",
    "        attention_map = self.conv1(x)\n",
    "        attention_map = attention_map.view(x.size(0), -1) # Flatten the spatial dimensions\n",
    "        attention_map = self.softmax(attention_map)\n",
    "        attention_map = attention_map.view(x.size(0), 1, x.size(2), x.size(3)) # Reshape back to image dimensions\n",
    "        return x * attention_map\n",
    "\n",
    "class ChannelAttention(nn.Module):\n",
    "    def __init__(self, in_channels, ratio=16):\n",
    "        super(ChannelAttention, self).__init__()\n",
    "        self.avg_pool = nn.AdaptiveAvgPool2d(1)\n",
    "        self.max_pool = nn.AdaptiveMaxPool2d(1)\n",
    "        \n",
    "        # Use a shared MLP\n",
    "        self.shared_MLP = nn.Sequential(\n",
    "            nn.Conv2d(in_channels, in_channels // ratio, 1, bias=False),\n",
    "            nn.ReLU(),\n",
    "            nn.Dropout(0.2),\n",
    "            nn.Conv2d(in_channels // ratio, in_channels, 1, bias=False),\n",
    "            nn.Dropout(0.2)\n",
    "        )\n",
    "        self.sigmoid = nn.Sigmoid()\n",
    "\n",
    "    def forward(self, x):\n",
    "        avgout = self.shared_MLP(self.avg_pool(x))\n",
    "        maxout = self.shared_MLP(self.max_pool(x))\n",
    "        return self.sigmoid(avgout + maxout)\n",
    "\n",
    "class SpatialAttention(nn.Module):\n",
    "    def __init__(self, kernel_size=7):\n",
    "        super(SpatialAttention, self).__init__()\n",
    "        \n",
    "        self.conv1 = nn.Conv2d(2, 1, kernel_size, padding=kernel_size//2, bias=False)\n",
    "        self.sigmoid = nn.Sigmoid()\n",
    "\n",
    "    def forward(self, x):\n",
    "        avgout = torch.mean(x, dim=1, keepdim=True)\n",
    "        maxout, _ = torch.max(x, dim=1, keepdim=True)\n",
    "        x = torch.cat([avgout, maxout], dim=1)\n",
    "        x = self.conv1(x)\n",
    "        return self.sigmoid(x)\n",
    "    \n",
    "class SiameseCNN(nn.Module):\n",
    "    def __init__(self, encoder):\n",
    "        super(SiameseCNN, self).__init__()\n",
    "        self.encoder = encoder\n",
    "        self.channel_attention = ChannelAttention(in_channels=128)\n",
    "        self.spatial_attention = SpatialAttention()\n",
    "        \n",
    "        print(\"Encoder Parameters:\", count_parameters(encoder))\n",
    "        print(\"Channel Attention Parameters:\", count_parameters(self.channel_attention))\n",
    "        print(\"Spatial Attention Parameters:\", count_parameters(self.spatial_attention))\n",
    "\n",
    "    def forward(self, input1, input2, return_attention_maps=False):\n",
    "        # Compute embeddings for both inputs\n",
    "        emb1 = self.encoder(input1)\n",
    "        emb2 = self.encoder(input2)\n",
    "        \n",
    "        # Apply Channel Attention\n",
    "        ca1 = self.channel_attention(emb1) * emb1\n",
    "        ca2 = self.channel_attention(emb2) * emb2\n",
    "\n",
    "        # Apply Spatial Attention\n",
    "        sa1 = self.spatial_attention(ca1) * ca1\n",
    "        sa2 = self.spatial_attention(ca2) * ca2\n",
    "        \n",
    "        if return_attention_maps:\n",
    "            return emb1, emb2, ca1, ca2, sa1, sa2\n",
    "        \n",
    "        # Flatten embeddings after applying attention\n",
    "        emb1 = sa1.view(sa1.size(0), -1)  # Flatten\n",
    "        emb2 = sa2.view(sa2.size(0), -1)  # Flatten\n",
    "        \n",
    "        return emb1, emb2\n",
    "\n",
    "def load_single_siamese(**kwargs):\n",
    "    x_dim = kwargs['x_dim']\n",
    "    hid_dim = kwargs['hid_dim']\n",
    "    z_dim = kwargs['z_dim']\n",
    "    \n",
    "    \n",
    "    def conv_block(in_channels, out_channels):\n",
    "        return nn.Sequential(\n",
    "            nn.Conv2d(in_channels, out_channels, 3, padding=1),\n",
    "            nn.BatchNorm2d(out_channels),\n",
    "            nn.ReLU(),\n",
    "            nn.MaxPool2d(2)\n",
    "        )\n",
    "    \n",
    "    encoder = nn.Sequential(\n",
    "        conv_block(x_dim[0], hid_dim),\n",
    "        conv_block(hid_dim, hid_dim),\n",
    "        conv_block(hid_dim, hid_dim),\n",
    "        conv_block(hid_dim, z_dim)\n",
    "    )\n",
    "    # summary(encoder.to(device), input_size=x_dim)\n",
    "    \n",
    "    return SiameseCNN(encoder)\n",
    "\n",
    "def count_parameters(model):\n",
    "    return sum(p.numel() for p in model.parameters() if p.requires_grad)\n",
    "\n",
    "def get_image_embedding(model, image, device='cpu'):\n",
    "    # Move the model to the specified device\n",
    "    model.to(device)\n",
    "\n",
    "    # If the input image is not already a batch, add a batch dimension [B, C, H, W] where B=1\n",
    "    if len(image.shape) == 3:\n",
    "        image = image.unsqueeze(0)\n",
    "\n",
    "    # Move the image to the specified device\n",
    "    image = image.to(device)\n",
    "\n",
    "    # Disable gradient computation for inference\n",
    "    with torch.no_grad():\n",
    "        embedding = model.encoder(image)\n",
    "        # Apply the attention mechanism to the embedding\n",
    "        embedding = model.channel_attention(embedding) * embedding\n",
    "        embedding = model.spatial_attention(embedding) * embedding\n",
    "        # Flatten the output to get a vector representation      \n",
    "        embedding = embedding.view(embedding.size(0), -1)  # Flatten\n",
    "        embedding = normalize_embeddings(embedding)\n",
    "    return embedding\n",
    "\n",
    "def euclidean_dist(x, y):\n",
    "    n = x.size(0)\n",
    "    m = y.size(0)\n",
    "    d = x.size(1)\n",
    "    assert d == y.size(1)\n",
    "\n",
    "    x = x.unsqueeze(1).expand(n, m, d)\n",
    "    y = y.unsqueeze(0).expand(n, m, d)\n",
    "\n",
    "    return torch.pow(x - y, 2).sum(2)\n",
    "\n",
    "def flatten_and_calculate_distances(zq, prototypes_dict):\n",
    "    # Flatten all prototypes into a single tensor\n",
    "    all_prototypes = []\n",
    "    for class_idx, class_prototypes in prototypes_dict.items():\n",
    "        all_prototypes.extend(class_prototypes)  # Assuming class_prototypes is already a list of tensors\n",
    "    \n",
    "    # Stack all prototypes into a single tensor\n",
    "    all_prototypes_tensor = torch.stack(all_prototypes)\n",
    "    \n",
    "    # Calculate Euclidean distances between each query sample and each prototype\n",
    "    dists = euclidean_dist(zq, all_prototypes_tensor)\n",
    "    \n",
    "    return dists"
   ]
  },
  {
   "cell_type": "code",
   "execution_count": 9,
   "id": "32bacebd-a45f-4d18-b7b4-61dde9e1769d",
   "metadata": {
    "tags": []
   },
   "outputs": [],
   "source": [
    "import torch\n",
    "import torch.nn.functional as F\n",
    "import matplotlib.pyplot as plt\n",
    "import numpy as np\n",
    "\n",
    "def visualize_attention(original_image, attention_map):\n",
    "    # Upsample attention map to match the original image size\n",
    "    upsampled_attention = F.interpolate(attention_map.unsqueeze(0), size=original_image.shape[-2:], mode='bilinear', align_corners=False)\n",
    "    # Take the mean of the attention maps across the channel dimension\n",
    "    aggregated_attention = torch.mean(upsampled_attention, dim=1).squeeze(0)\n",
    "\n",
    "    # Normalize the aggregated attention map for better visualization\n",
    "    aggregated_attention = (aggregated_attention - aggregated_attention.min()) / (aggregated_attention.max() - aggregated_attention.min())\n",
    "\n",
    "    # Convert to numpy arrays for plotting\n",
    "    original_image_np = original_image.cpu().detach().numpy()\n",
    "    aggregated_attention_np = aggregated_attention.cpu().detach().numpy()\n",
    "\n",
    "    # Plot original image\n",
    "    plt.figure(figsize=(12, 6))\n",
    "    plt.subplot(1, 2, 1)\n",
    "    plt.imshow(np.transpose(original_image_np, (1, 2, 0)))  # Adjust this if needed\n",
    "    plt.title(\"Original Image\")\n",
    "    plt.axis('off')\n",
    "\n",
    "    # Plot attention map\n",
    "    plt.subplot(1, 2, 2)\n",
    "    plt.imshow(np.transpose(original_image_np, (1, 2, 0)), alpha=0.5)  # Adjust this if needed\n",
    "    plt.imshow(aggregated_attention_np, cmap='jet', alpha=0.5)\n",
    "    plt.title(\"Attention Overlay\")\n",
    "    plt.axis('off')\n",
    "\n",
    "    plt.show()"
   ]
  },
  {
   "cell_type": "code",
   "execution_count": 10,
   "id": "7505daf2-ac89-44af-b169-053c1567cf51",
   "metadata": {
    "tags": []
   },
   "outputs": [],
   "source": [
    "import torch\n",
    "import torch.nn.functional as F\n",
    "import matplotlib.pyplot as plt\n",
    "import numpy as np\n",
    "\n",
    "def visualize_attention_pair(original_image1, attention_map1, original_image2, attention_map2):\n",
    "    # Function to upsample and normalize attention map\n",
    "    def process_attention(original_image, attention_map):\n",
    "        upsampled_attention = F.interpolate(attention_map.unsqueeze(0), size=original_image.shape[-2:], mode='bilinear', align_corners=False)\n",
    "        aggregated_attention = torch.mean(upsampled_attention, dim=1).squeeze(0)\n",
    "        aggregated_attention = (aggregated_attention - aggregated_attention.min()) / (aggregated_attention.max() - aggregated_attention.min())\n",
    "        return aggregated_attention.cpu().detach().numpy()\n",
    "    \n",
    "    # Process both attention maps\n",
    "    aggregated_attention_np1 = process_attention(original_image1, attention_map1)\n",
    "    aggregated_attention_np2 = process_attention(original_image2, attention_map2)\n",
    "    \n",
    "    # Convert original images to numpy arrays for plotting\n",
    "    original_image_np1 = original_image1.cpu().detach().permute(1, 2, 0).numpy()\n",
    "    original_image_np2 = original_image2.cpu().detach().permute(1, 2, 0).numpy()\n",
    "\n",
    "    # Plotting\n",
    "    fig, axes = plt.subplots(1, 4, figsize=(6, 6))  # 4 subplots: 2 original images and 2 with attention overlay\n",
    "    \n",
    "    axes[0].imshow(original_image_np1)\n",
    "    axes[0].axis('on')\n",
    "    axes[0].tick_params(left=False, bottom=False)\n",
    "    axes[0].set_xticks([])\n",
    "    axes[0].set_yticks([])\n",
    "    \n",
    "    axes[1].imshow(original_image_np2)\n",
    "    axes[1].axis('on')\n",
    "    axes[1].tick_params(left=False, bottom=False)\n",
    "    axes[1].set_xticks([])\n",
    "    axes[1].set_yticks([])\n",
    "    \n",
    "    axes[2].imshow(original_image_np1, alpha=0.7)\n",
    "    axes[2].imshow(aggregated_attention_np1, cmap='jet', alpha=0.3)\n",
    "    axes[2].axis('on')\n",
    "    axes[2].tick_params(left=False, bottom=False)\n",
    "    axes[2].set_xticks([])\n",
    "    axes[2].set_yticks([])\n",
    "    \n",
    "    axes[3].imshow(original_image_np2, alpha=0.7)\n",
    "    axes[3].imshow(aggregated_attention_np2, cmap='jet', alpha=0.3)\n",
    "    axes[3].axis('on')\n",
    "    axes[3].tick_params(left=False, bottom=False)\n",
    "    axes[3].set_xticks([])\n",
    "    axes[3].set_yticks([])\n",
    "    \n",
    "    plt.show()"
   ]
  },
  {
   "cell_type": "code",
   "execution_count": 11,
   "id": "0c8e6e68-f6b3-49bf-b3dd-2c3cbb1b4174",
   "metadata": {
    "tags": []
   },
   "outputs": [],
   "source": [
    "def normalize_embeddings(embeddings):\n",
    "    # Normalize embeddings to have unit norm\n",
    "    norm = embeddings.norm(p=2, dim=1, keepdim=True)\n",
    "    normalized_embeddings = embeddings.div(norm.expand_as(embeddings))\n",
    "    return normalized_embeddings"
   ]
  },
  {
   "cell_type": "code",
   "execution_count": 12,
   "id": "05261404-30cf-4759-84aa-acf447ed9205",
   "metadata": {
    "tags": []
   },
   "outputs": [],
   "source": [
    "def evaluate_fewshot_f1(support_set, query_set, k_shot, q_queries, eps, n_way, episode_loader, remap_dict):\n",
    "    # Get embeddings\n",
    "    support_embedding = get_image_embedding(siamese_cnn, support_set, device).to(device)\n",
    "    query_embedding = get_image_embedding(siamese_cnn, query_set, device).to(device)\n",
    "\n",
    "    # Calculate prototypes and distances\n",
    "    prototypes = get_prototypes(support_embedding, k_shot, n_way, eps)\n",
    "    dists = flatten_and_calculate_distances(query_embedding, prototypes).to(device)\n",
    "    \n",
    "    # Predict classes\n",
    "    true_prototypes_labels = torch.tensor([class_idx for class_idx, _ in prototypes.items() for _ in range(len(prototypes[class_idx]))], device=device)\n",
    "    target_inds = torch.repeat_interleave(torch.arange(0, n_way, device=device), q_queries)\n",
    "    predicted_classes_inds = torch.argmin(dists, dim=1)\n",
    "    predicted_classes = true_prototypes_labels[predicted_classes_inds]\n",
    "\n",
    "    # Calculate accuracy\n",
    "    acc_val = (predicted_classes == target_inds).float().mean()\n",
    "\n",
    "    # Calculate precision, recall, and F1 score for each class directly on GPU\n",
    "    precision_vals, recall_vals, f1_scores = [], [], []\n",
    "    for class_idx in range(n_way):\n",
    "        TP = ((predicted_classes == class_idx) & (target_inds == class_idx)).sum()\n",
    "        FP = ((predicted_classes == class_idx) & (target_inds != class_idx)).sum()\n",
    "        FN = ((predicted_classes != class_idx) & (target_inds == class_idx)).sum()\n",
    "\n",
    "        precision = TP.float() / (TP + FP) if TP + FP > 0 else torch.tensor(0.0, device=device)\n",
    "        recall = TP.float() / (TP + FN) if TP + FN > 0 else torch.tensor(0.0, device=device)\n",
    "        \n",
    "        precision_vals.append(precision)\n",
    "        recall_vals.append(recall)\n",
    "\n",
    "        f1_score = 2 * precision * recall / (precision + recall) if precision + recall > 0 else torch.tensor(0.0, device=device)\n",
    "        f1_scores.append(f1_score)\n",
    "    \n",
    "    # Check if remap_dict is Not Empty\n",
    "    if remap_dict:\n",
    "        remap_tensor = torch.tensor([remap_dict[i] for i in range(len(remap_dict))], device=device)\n",
    "        \n",
    "        #print(remap_tensor, predicted_classes)\n",
    "        # Convert predicted and target indices to original classes in a batched operation\n",
    "        predicted_classes_original = remap_tensor[predicted_classes]\n",
    "        target_inds_original = remap_tensor[target_inds]\n",
    "        \n",
    "        # Update class accuracy (ensure this method can handle tensor inputs)\n",
    "        episode_loader.update_class_accuracy(predicted_classes_original, target_inds_original)\n",
    "    \n",
    "    # Calculate macro precision, recall, and F1 score\n",
    "    macro_precision = torch.stack(precision_vals).mean().item()\n",
    "    macro_recall = torch.stack(recall_vals).mean().item()\n",
    "    macro_f1 = torch.stack(f1_scores).mean().item()\n",
    "\n",
    "    return acc_val.item(), macro_precision, macro_recall, macro_f1\n"
   ]
  },
  {
   "cell_type": "code",
   "execution_count": 13,
   "id": "0fe20f25-c4ca-443d-8137-b8a950d16f94",
   "metadata": {
    "tags": []
   },
   "outputs": [
    {
     "name": "stdout",
     "output_type": "stream",
     "text": [
      "Encoder Parameters: 447360\n",
      "Channel Attention Parameters: 2048\n",
      "Spatial Attention Parameters: 98\n"
     ]
    },
    {
     "data": {
      "text/plain": [
       "SiameseCNN(\n",
       "  (encoder): Sequential(\n",
       "    (0): Sequential(\n",
       "      (0): Conv2d(3, 128, kernel_size=(3, 3), stride=(1, 1), padding=(1, 1))\n",
       "      (1): BatchNorm2d(128, eps=1e-05, momentum=0.1, affine=True, track_running_stats=True)\n",
       "      (2): ReLU()\n",
       "      (3): MaxPool2d(kernel_size=2, stride=2, padding=0, dilation=1, ceil_mode=False)\n",
       "    )\n",
       "    (1): Sequential(\n",
       "      (0): Conv2d(128, 128, kernel_size=(3, 3), stride=(1, 1), padding=(1, 1))\n",
       "      (1): BatchNorm2d(128, eps=1e-05, momentum=0.1, affine=True, track_running_stats=True)\n",
       "      (2): ReLU()\n",
       "      (3): MaxPool2d(kernel_size=2, stride=2, padding=0, dilation=1, ceil_mode=False)\n",
       "    )\n",
       "    (2): Sequential(\n",
       "      (0): Conv2d(128, 128, kernel_size=(3, 3), stride=(1, 1), padding=(1, 1))\n",
       "      (1): BatchNorm2d(128, eps=1e-05, momentum=0.1, affine=True, track_running_stats=True)\n",
       "      (2): ReLU()\n",
       "      (3): MaxPool2d(kernel_size=2, stride=2, padding=0, dilation=1, ceil_mode=False)\n",
       "    )\n",
       "    (3): Sequential(\n",
       "      (0): Conv2d(128, 128, kernel_size=(3, 3), stride=(1, 1), padding=(1, 1))\n",
       "      (1): BatchNorm2d(128, eps=1e-05, momentum=0.1, affine=True, track_running_stats=True)\n",
       "      (2): ReLU()\n",
       "      (3): MaxPool2d(kernel_size=2, stride=2, padding=0, dilation=1, ceil_mode=False)\n",
       "    )\n",
       "  )\n",
       "  (channel_attention): ChannelAttention(\n",
       "    (avg_pool): AdaptiveAvgPool2d(output_size=1)\n",
       "    (max_pool): AdaptiveMaxPool2d(output_size=1)\n",
       "    (shared_MLP): Sequential(\n",
       "      (0): Conv2d(128, 8, kernel_size=(1, 1), stride=(1, 1), bias=False)\n",
       "      (1): ReLU()\n",
       "      (2): Dropout(p=0.2, inplace=False)\n",
       "      (3): Conv2d(8, 128, kernel_size=(1, 1), stride=(1, 1), bias=False)\n",
       "      (4): Dropout(p=0.2, inplace=False)\n",
       "    )\n",
       "    (sigmoid): Sigmoid()\n",
       "  )\n",
       "  (spatial_attention): SpatialAttention(\n",
       "    (conv1): Conv2d(2, 1, kernel_size=(7, 7), stride=(1, 1), padding=(3, 3), bias=False)\n",
       "    (sigmoid): Sigmoid()\n",
       "  )\n",
       ")"
      ]
     },
     "execution_count": 13,
     "metadata": {},
     "output_type": "execute_result"
    }
   ],
   "source": [
    "x_dim = (3, 256, 256)  # Example for RGB images of size 64x64\n",
    "hid_dim = 128\n",
    "z_dim = 128\n",
    "device = torch.device(\"cuda:0\" if torch.cuda.is_available() else \"cpu\")\n",
    "siamese_cnn = load_single_siamese(x_dim=x_dim, hid_dim=hid_dim, z_dim=z_dim)\n",
    "contrastive_loss = ContrastiveLoss(margin=1.0)\n",
    "\n",
    "# Move the model to the GPU if available\n",
    "siamese_cnn.to(device)"
   ]
  },
  {
   "cell_type": "code",
   "execution_count": 14,
   "id": "1e8ee60d-4979-492a-8db2-5a02c03237a5",
   "metadata": {
    "tags": []
   },
   "outputs": [],
   "source": [
    "def load_subfamily_data(family_path, n_way, k_shot, q_queries):\n",
    "    \"\"\"\n",
    "    Load data for a subfamily-focused episode.\n",
    "    \n",
    "    Parameters:\n",
    "    - family_path: Path to the selected family directory.\n",
    "    - n_way: Number of subfamilies (ways) to include in the episode.\n",
    "    - k_shot: Number of examples per subfamily in the support set.\n",
    "    - q_queries: Number of examples per subfamily in the query set.\n",
    "    \n",
    "    Returns:\n",
    "    - support_set, support_labels, query_set, query_labels: Data for the episode.\n",
    "    \"\"\"\n",
    "    X_train, y, c, f = loadimgs(family_path, 256, 256, 1)  # Load test data\n",
    "    episode_loader = EpisodeLoader(X_train, y, c, n_way, k_shot, q_queries)\n",
    "    support_set, support_labels, query_set, query_labels, _, _ = episode_loader.load_episode()\n",
    "\n",
    "    return support_set, support_labels, query_set, query_labels"
   ]
  },
  {
   "cell_type": "code",
   "execution_count": 15,
   "id": "6ae818c9-2ac1-4235-a6dd-79eeba69c58f",
   "metadata": {
    "tags": []
   },
   "outputs": [
    {
     "name": "stdout",
     "output_type": "stream",
     "text": [
      "[Info] Classes: 24\n",
      "[Info] Images: 1206\n"
     ]
    }
   ],
   "source": [
    "#train_folder = \"C:\\\\Users\\\\USER\\\\Documents\\\\VM-shared_177\\\\report_117\\\\extracted_report\\\\report177_original_img\\\\train4_aug\"\n",
    "#train_folder = \"C:\\\\Users\\\\USER\\\\Documents\\\\VM-shared_177\\\\SIMPLE_dataset\\\\virus_177_img\\\\train_aug\"\n",
    "#train_folder = \"C:\\\\Users\\\\USER\\\\Documents\\\\VM-shared_177\\\\SIMPLE_dataset\\\\virus_177_img\\\\train3_aug\"\n",
    "#train_folder = \"C:\\\\Users\\\\USER\\\\Documents\\\\VM-shared_177\\\\extracted_APIDMS\\\\APIDMS_img2\\\\train3_aug\"\n",
    "#train_folder = \"C:\\\\Users\\\\USER\\\\Documents\\\\VM-shared_177\\\\extracted_APIDMS\\\\APIDMS_img2\\\\train2_aug\"\n",
    "#train_folder = \"C:\\\\Users\\\\USER\\\\Documents\\\\VM-shared_177\\\\report_117\\\\extracted_report\\\\report177_split4_pixelshuffle4\\\\train\"\n",
    "#train_folder = \"C:\\\\Users\\\\USER\\\\Documents\\\\VM-shared_177\\\\report_117\\\\extracted_report\\\\report177_split4_norm_img\\\\train2_aug\"\n",
    "#train_folder = \"C:\\\\Users\\\\USER\\\\Documents\\\\VM-shared_177\\\\vs0177_full_split1\\\\train\"\n",
    "#train_folder = \"C:\\\\Users\\\\USER\\\\Documents\\\\VM-shared_177\\\\vs0177_full_split1\\\\train3_aug\"\n",
    "train_folder = \"train\"\n",
    "#train_folder = \"C:\\\\Users\\\\USER\\\\Documents\\\\VM-shared_177\\\\vs0177_full_split2\\\\train\"\n",
    "X_train, y, c, f = loadimgs(train_folder, 256, 256, 1)  # Load test data"
   ]
  },
  {
   "cell_type": "code",
   "execution_count": 16,
   "id": "bd44874e-de58-4f48-ab6d-b37bd8c977fb",
   "metadata": {
    "tags": []
   },
   "outputs": [
    {
     "name": "stdout",
     "output_type": "stream",
     "text": [
      "[Info] Classes: 5\n",
      "[Info] Images: 299\n"
     ]
    }
   ],
   "source": [
    "#val_folder = \"C:\\\\Users\\\\USER\\\\Documents\\\\VM-shared_177\\\\report_117\\\\extracted_report\\\\report177_split4_pixelshuffle4\\\\validate\"\n",
    "#val_folder = \"C:\\\\Users\\\\USER\\\\Documents\\\\VM-shared_177\\\\vs0177_full_split1\\\\validate\"\n",
    "\n",
    "val_folder = \"validate\"\n",
    "#val_folder = \"C:\\\\Users\\\\USER\\\\Documents\\\\VM-shared_177\\\\vs0177_full_split2\\\\validate\"\n",
    "X_val, y_val, c_val, f_val = loadimgs(val_folder, 256, 256, 1)  # Load test data"
   ]
  },
  {
   "cell_type": "code",
   "execution_count": 17,
   "id": "eb8de68d-998d-4258-96bd-c4197a38374b",
   "metadata": {
    "tags": []
   },
   "outputs": [],
   "source": [
    "# Training the second-training over sub-families\n",
    "second_folder = \"train_sub\"\n",
    "#second_folder = \"C:\\\\Users\\\\USER\\\\Documents\\\\VM-shared_177\\\\vs0177_full_split2\\\\train_sub_aug\""
   ]
  },
  {
   "cell_type": "code",
   "execution_count": 18,
   "id": "ed2eff6d",
   "metadata": {
    "scrolled": true,
    "tags": []
   },
   "outputs": [
    {
     "name": "stderr",
     "output_type": "stream",
     "text": [
      "Training Episodes:   0%|          | 1/1000 [00:53<14:49:14, 53.41s/it]"
     ]
    },
    {
     "name": "stdout",
     "output_type": "stream",
     "text": [
      "Episode 0, Training Loss: 0.6538344621658325, Training Accuracy: 0.3999999761581421\n",
      "Classification Accuracy on Validation (10 eps): 0.44399997889995574\n"
     ]
    },
    {
     "name": "stderr",
     "output_type": "stream",
     "text": [
      "Training Episodes:   5%|▌         | 50/1000 [05:30<1:27:41,  5.54s/it]"
     ]
    },
    {
     "name": "stdout",
     "output_type": "stream",
     "text": [
      "[Info] Classes: 8\n",
      "[Info] Images: 160\n"
     ]
    },
    {
     "name": "stderr",
     "output_type": "stream",
     "text": [
      "Training Episodes:  10%|█         | 100/1000 [10:09<1:22:12,  5.48s/it]"
     ]
    },
    {
     "name": "stdout",
     "output_type": "stream",
     "text": [
      "[Info] Classes: 22\n",
      "[Info] Images: 448\n"
     ]
    },
    {
     "name": "stderr",
     "output_type": "stream",
     "text": [
      "Training Episodes:  10%|█         | 101/1000 [10:52<4:14:23, 16.98s/it]"
     ]
    },
    {
     "name": "stdout",
     "output_type": "stream",
     "text": [
      "Episode 100, Training Loss: 0.2063702493906021, Training Accuracy: 0.9599999785423279\n",
      "Classification Accuracy on Validation (10 eps): 0.4079999938607216\n"
     ]
    },
    {
     "name": "stderr",
     "output_type": "stream",
     "text": [
      "Training Episodes:  15%|█▌        | 150/1000 [15:23<1:15:20,  5.32s/it]"
     ]
    },
    {
     "name": "stdout",
     "output_type": "stream",
     "text": [
      "[Info] Classes: 8\n",
      "[Info] Images: 160\n"
     ]
    },
    {
     "name": "stderr",
     "output_type": "stream",
     "text": [
      "Training Episodes:  20%|██        | 200/1000 [19:37<1:05:32,  4.92s/it]"
     ]
    },
    {
     "name": "stdout",
     "output_type": "stream",
     "text": [
      "[Info] Classes: 5\n",
      "[Info] Images: 111\n"
     ]
    },
    {
     "name": "stderr",
     "output_type": "stream",
     "text": [
      "Training Episodes:  20%|██        | 201/1000 [20:18<3:27:58, 15.62s/it]"
     ]
    },
    {
     "name": "stdout",
     "output_type": "stream",
     "text": [
      "Episode 200, Training Loss: 0.31410160660743713, Training Accuracy: 0.8399999737739563\n",
      "Classification Accuracy on Validation (10 eps): 0.41199999004602433\n"
     ]
    },
    {
     "name": "stderr",
     "output_type": "stream",
     "text": [
      "Training Episodes:  25%|██▌       | 250/1000 [24:29<1:02:05,  4.97s/it]"
     ]
    },
    {
     "name": "stdout",
     "output_type": "stream",
     "text": [
      "[Info] Classes: 24\n",
      "[Info] Images: 480\n"
     ]
    },
    {
     "name": "stderr",
     "output_type": "stream",
     "text": [
      "Training Episodes:  30%|███       | 300/1000 [28:44<58:40,  5.03s/it]  "
     ]
    },
    {
     "name": "stdout",
     "output_type": "stream",
     "text": [
      "[Info] Classes: 19\n",
      "[Info] Images: 396\n"
     ]
    },
    {
     "name": "stderr",
     "output_type": "stream",
     "text": [
      "Training Episodes:  30%|███       | 301/1000 [29:26<3:06:22, 16.00s/it]"
     ]
    },
    {
     "name": "stdout",
     "output_type": "stream",
     "text": [
      "Episode 300, Training Loss: 0.15297408401966095, Training Accuracy: 0.8799999952316284\n",
      "Classification Accuracy on Validation (10 eps): 0.43199998661875727\n"
     ]
    },
    {
     "name": "stderr",
     "output_type": "stream",
     "text": [
      "Training Episodes:  35%|███▌      | 350/1000 [33:36<54:28,  5.03s/it]  "
     ]
    },
    {
     "name": "stdout",
     "output_type": "stream",
     "text": [
      "[Info] Classes: 40\n",
      "[Info] Images: 800\n"
     ]
    },
    {
     "name": "stderr",
     "output_type": "stream",
     "text": [
      "Training Episodes:  40%|████      | 400/1000 [37:52<49:05,  4.91s/it]  "
     ]
    },
    {
     "name": "stdout",
     "output_type": "stream",
     "text": [
      "[Info] Classes: 9\n",
      "[Info] Images: 180\n"
     ]
    },
    {
     "name": "stderr",
     "output_type": "stream",
     "text": [
      "Training Episodes:  40%|████      | 401/1000 [38:33<2:36:32, 15.68s/it]"
     ]
    },
    {
     "name": "stdout",
     "output_type": "stream",
     "text": [
      "Episode 400, Training Loss: 0.13484974205493927, Training Accuracy: 1.0\n",
      "Classification Accuracy on Validation (10 eps): 0.4599999859929085\n"
     ]
    },
    {
     "name": "stderr",
     "output_type": "stream",
     "text": [
      "Training Episodes:  45%|████▌     | 450/1000 [42:38<44:50,  4.89s/it]  "
     ]
    },
    {
     "name": "stdout",
     "output_type": "stream",
     "text": [
      "[Info] Classes: 32\n",
      "[Info] Images: 640\n"
     ]
    },
    {
     "name": "stderr",
     "output_type": "stream",
     "text": [
      "Training Episodes:  50%|█████     | 500/1000 [46:48<41:00,  4.92s/it]"
     ]
    },
    {
     "name": "stdout",
     "output_type": "stream",
     "text": [
      "[Info] Classes: 22\n",
      "[Info] Images: 440\n"
     ]
    },
    {
     "name": "stderr",
     "output_type": "stream",
     "text": [
      "Training Episodes:  50%|█████     | 501/1000 [47:29<2:11:41, 15.83s/it]"
     ]
    },
    {
     "name": "stdout",
     "output_type": "stream",
     "text": [
      "Episode 500, Training Loss: 0.13211117684841156, Training Accuracy: 1.0\n",
      "Classification Accuracy on Validation (10 eps): 0.49599998295307157\n"
     ]
    },
    {
     "name": "stderr",
     "output_type": "stream",
     "text": [
      "Training Episodes:  55%|█████▌    | 550/1000 [51:40<37:04,  4.94s/it]  "
     ]
    },
    {
     "name": "stdout",
     "output_type": "stream",
     "text": [
      "[Info] Classes: 25\n",
      "[Info] Images: 500\n"
     ]
    },
    {
     "name": "stderr",
     "output_type": "stream",
     "text": [
      "Training Episodes:  60%|██████    | 600/1000 [55:54<33:20,  5.00s/it]"
     ]
    },
    {
     "name": "stdout",
     "output_type": "stream",
     "text": [
      "[Info] Classes: 17\n",
      "[Info] Images: 340\n"
     ]
    },
    {
     "name": "stderr",
     "output_type": "stream",
     "text": [
      "Training Episodes:  60%|██████    | 601/1000 [56:36<1:45:55, 15.93s/it]"
     ]
    },
    {
     "name": "stdout",
     "output_type": "stream",
     "text": [
      "Episode 600, Training Loss: 0.22035330533981323, Training Accuracy: 0.9599999785423279\n",
      "Classification Accuracy on Validation (10 eps): 0.4159999847412109\n"
     ]
    },
    {
     "name": "stderr",
     "output_type": "stream",
     "text": [
      "Training Episodes:  65%|██████▌   | 650/1000 [1:00:43<28:51,  4.95s/it]"
     ]
    },
    {
     "name": "stdout",
     "output_type": "stream",
     "text": [
      "[Info] Classes: 13\n",
      "[Info] Images: 260\n"
     ]
    },
    {
     "name": "stderr",
     "output_type": "stream",
     "text": [
      "Training Episodes:  70%|███████   | 700/1000 [1:04:55<24:22,  4.87s/it]"
     ]
    },
    {
     "name": "stdout",
     "output_type": "stream",
     "text": [
      "[Info] Classes: 10\n",
      "[Info] Images: 200\n"
     ]
    },
    {
     "name": "stderr",
     "output_type": "stream",
     "text": [
      "Training Episodes:  70%|███████   | 701/1000 [1:05:36<1:18:08, 15.68s/it]"
     ]
    },
    {
     "name": "stdout",
     "output_type": "stream",
     "text": [
      "Episode 700, Training Loss: 0.25673285126686096, Training Accuracy: 0.7999999523162842\n",
      "Classification Accuracy on Validation (10 eps): 0.41199999004602433\n"
     ]
    },
    {
     "name": "stderr",
     "output_type": "stream",
     "text": [
      "Training Episodes:  75%|███████▌  | 750/1000 [1:09:41<20:27,  4.91s/it]  "
     ]
    },
    {
     "name": "stdout",
     "output_type": "stream",
     "text": [
      "[Info] Classes: 13\n",
      "[Info] Images: 260\n"
     ]
    },
    {
     "name": "stderr",
     "output_type": "stream",
     "text": [
      "Training Episodes:  80%|████████  | 800/1000 [1:13:49<16:26,  4.93s/it]"
     ]
    },
    {
     "name": "stdout",
     "output_type": "stream",
     "text": [
      "[Info] Classes: 21\n",
      "[Info] Images: 420\n"
     ]
    },
    {
     "name": "stderr",
     "output_type": "stream",
     "text": [
      "Training Episodes:  80%|████████  | 801/1000 [1:14:31<52:43, 15.90s/it]"
     ]
    },
    {
     "name": "stdout",
     "output_type": "stream",
     "text": [
      "Episode 800, Training Loss: 0.1259337067604065, Training Accuracy: 0.8799999952316284\n",
      "Classification Accuracy on Validation (10 eps): 0.47199998795986176\n"
     ]
    },
    {
     "name": "stderr",
     "output_type": "stream",
     "text": [
      "Training Episodes:  85%|████████▌ | 850/1000 [1:18:35<12:12,  4.88s/it]"
     ]
    },
    {
     "name": "stdout",
     "output_type": "stream",
     "text": [
      "[Info] Classes: 15\n",
      "[Info] Images: 300\n"
     ]
    },
    {
     "name": "stderr",
     "output_type": "stream",
     "text": [
      "Training Episodes:  90%|█████████ | 900/1000 [1:22:43<08:07,  4.88s/it]"
     ]
    },
    {
     "name": "stdout",
     "output_type": "stream",
     "text": [
      "[Info] Classes: 11\n",
      "[Info] Images: 227\n"
     ]
    },
    {
     "name": "stderr",
     "output_type": "stream",
     "text": [
      "Training Episodes:  90%|█████████ | 901/1000 [1:23:24<25:45, 15.61s/it]"
     ]
    },
    {
     "name": "stdout",
     "output_type": "stream",
     "text": [
      "Episode 900, Training Loss: 0.17014822363853455, Training Accuracy: 0.7999999523162842\n",
      "Classification Accuracy on Validation (10 eps): 0.4159999877214432\n"
     ]
    },
    {
     "name": "stderr",
     "output_type": "stream",
     "text": [
      "Training Episodes:  95%|█████████▌| 950/1000 [1:27:29<04:04,  4.89s/it]"
     ]
    },
    {
     "name": "stdout",
     "output_type": "stream",
     "text": [
      "[Info] Classes: 20\n",
      "[Info] Images: 400\n"
     ]
    },
    {
     "name": "stderr",
     "output_type": "stream",
     "text": [
      "Training Episodes: 100%|██████████| 1000/1000 [1:31:37<00:00,  5.50s/it]"
     ]
    },
    {
     "name": "stdout",
     "output_type": "stream",
     "text": [
      "The best model[500]: with accuracy of 0.49599998295307157\n"
     ]
    },
    {
     "name": "stderr",
     "output_type": "stream",
     "text": [
      "\n"
     ]
    },
    {
     "data": {
      "image/png": "[encoded data removed]",
      "text/plain": [
       "<Figure size 1200x600 with 1 Axes>"
      ]
     },
     "metadata": {},
     "output_type": "display_data"
    }
   ],
   "source": [
    "### import os\n",
    "os.environ['CUDA_LAUNCH_BLOCKING'] = \"1\"\n",
    "\n",
    "batch_size = 32\n",
    "## Training the Prototypical model with episode training\n",
    "optimizer = torch.optim.Adam(siamese_cnn.parameters(), lr=1e-4, weight_decay=1e-5)\n",
    "num_episodes = 1000\n",
    "#num_val_episodes = int(num_episodes/10)\n",
    "num_val_episodes = 10\n",
    "n_way = 5\n",
    "k_shot = 5\n",
    "q_queries = 5\n",
    "\n",
    "t2n_nway = n_way\n",
    "\n",
    "episode_loader = EpisodeLoader(X_train, y, c, n_way, k_shot, q_queries)\n",
    "val_episode_loader = EpisodeLoader(X_val, y_val, c_val, n_way, k_shot, q_queries)\n",
    "best_val_accuracy = 0.0\n",
    "HNM_INTERVAL = 50000 # not use anymore\n",
    "T2_INTERVAL = 50\n",
    "best_episode = 0\n",
    "early_stopping_patience = 20  # Number of evaluations to wait for improvement before stopping\n",
    "\n",
    "family_list = os.listdir(second_folder)\n",
    "\n",
    "train_losses = []\n",
    "train_accuracies = []\n",
    "val_accuracies = []\n",
    "\n",
    "with tqdm(total=num_episodes, desc=\"Training Episodes\") as pbar:\n",
    "    for episode in range(num_episodes):\n",
    "        # Hard Negative and Hard Positive Mining logic\n",
    "        if episode % HNM_INTERVAL == 0 and episode != 0:\n",
    "            with torch.no_grad():\n",
    "                pair_losses = contrastive_loss(embedding1, embedding2, labels, reduction='none').squeeze()\n",
    "                loss_percentile = 80\n",
    "\n",
    "                # Hard Negative Mining\n",
    "                hard_negative_threshold = torch.quantile(pair_losses[labels == 0], loss_percentile / 100.0)\n",
    "                hard_negative_condition = (pair_losses > hard_negative_threshold) & (labels == 0)\n",
    "                hard_negative_indices_tuple = hard_negative_condition.nonzero(as_tuple=True)\n",
    "                hard_negative_indices = hard_negative_indices_tuple[0]\n",
    "\n",
    "                # Hard Positive Mining\n",
    "                hard_positive_threshold = torch.quantile(pair_losses[labels == 1], loss_percentile / 100.0)\n",
    "                hard_positive_condition = (pair_losses > hard_positive_threshold) & (labels == 1)\n",
    "                hard_positive_indices_tuple = hard_positive_condition.nonzero(as_tuple=True)\n",
    "                hard_positive_indices = hard_positive_indices_tuple[0]\n",
    "\n",
    "                # Selecting and storing actual tensor pairs for hard negatives\n",
    "                if hard_negative_indices.nelement() > 0:\n",
    "                    hard_negatives = [\n",
    "                        (left_imgs[hard_negative_indices].cpu(), right_imgs[hard_negative_indices].cpu())\n",
    "                    ] if hard_negative_indices.dim() == 0 else [\n",
    "                        (left_imgs[i].cpu(), right_imgs[i].cpu()) for i in hard_negative_indices\n",
    "                    ]\n",
    "                    pbar.write(f\"[{episode}] Hard negatives found: {len(hard_negatives)} pairs of {len(pair_losses)} pairs\")\n",
    "                else:\n",
    "                    hard_negatives = []\n",
    "\n",
    "                # Selecting and storing actual tensor pairs for hard positives\n",
    "                if hard_positive_indices.nelement() > 0:\n",
    "                    hard_positives = [\n",
    "                        (left_imgs[hard_positive_indices].cpu(), right_imgs[hard_positive_indices].cpu())\n",
    "                    ] if hard_positive_indices.dim() == 0 else [\n",
    "                        (left_imgs[i].cpu(), right_imgs[i].cpu()) for i in hard_positive_indices\n",
    "                    ]\n",
    "                    pbar.write(f\"Hard positives found: {len(hard_positives)} pairs\")\n",
    "                else:\n",
    "                    hard_positives = []\n",
    "        else:\n",
    "            hard_negatives = []\n",
    "            hard_positives = []\n",
    "\n",
    "        if episode % T2_INTERVAL == 0 and episode != 0:\n",
    "            episode_n_way = t2n_nway\n",
    "            class_accuracy = episode_loader.get_class_accuracy()\n",
    "            fam_indices = list(remap_dict.values())\n",
    "            accuracies = np.array([class_accuracy[fam] for fam in fam_indices])\n",
    "            inverse_accuracies = 1 - accuracies\n",
    "            if inverse_accuracies.sum() == 0:\n",
    "                selection_probabilities = None\n",
    "            else:\n",
    "                selection_probabilities = inverse_accuracies / inverse_accuracies.sum()\n",
    "\n",
    "            selected_fam_idx = np.random.choice(fam_indices, p=selection_probabilities)\n",
    "            selected_fam = f[selected_fam_idx]\n",
    "            selected_path = os.path.join(second_folder, selected_fam)\n",
    "\n",
    "            while len(os.listdir(selected_path)) < 2:\n",
    "                selected_fam_idx = np.random.choice(fam_indices, p=selection_probabilities)\n",
    "                selected_fam = f[selected_fam_idx]\n",
    "                selected_path = os.path.join(second_folder, selected_fam)\n",
    "\n",
    "            episode_n_way = t2n_nway\n",
    "            if len(os.listdir(selected_path)) < t2n_nway:\n",
    "                episode_n_way = len(os.listdir(selected_path))\n",
    "            support_set, support_labels, query_set, query_labels = load_subfamily_data(selected_path, episode_n_way, k_shot, q_queries)\n",
    "            remap_dict = {}\n",
    "\n",
    "            for name, param in siamese_cnn.named_parameters():\n",
    "                if 'encoder' in name:\n",
    "                    param.requires_grad = False\n",
    "                else:\n",
    "                    param.requires_grad = True\n",
    "\n",
    "            optimizer = torch.optim.Adam(filter(lambda p: p.requires_grad, siamese_cnn.parameters()), lr=1e-5, weight_decay=1e-5)\n",
    "\n",
    "        else:\n",
    "            episode_n_way = n_way\n",
    "            support_set, support_labels, query_set, query_labels, actual_query_labels, remap_dict = episode_loader.load_episode()\n",
    "\n",
    "            for param in siamese_cnn.parameters():\n",
    "                param.requires_grad = True\n",
    "\n",
    "            optimizer = torch.optim.Adam(siamese_cnn.parameters(), lr=1e-4, weight_decay=1e-5)\n",
    "\n",
    "        left_imgs, right_imgs, labels = generate_pairs(support_set, k_shot, episode_n_way, device, hard_negatives, hard_positives)\n",
    "\n",
    "        for i in range(0, left_imgs.size(0), batch_size):\n",
    "            left_batch = left_imgs[i:i + batch_size]\n",
    "            right_batch = right_imgs[i:i + batch_size]\n",
    "            labels_batch = labels[i:i + batch_size]\n",
    "\n",
    "            optimizer.zero_grad()\n",
    "            embedding1, embedding2 = siamese_cnn(left_batch, right_batch)\n",
    "            embedding1 = normalize_embeddings(embedding1)\n",
    "            embedding2 = normalize_embeddings(embedding2)\n",
    "            loss = contrastive_loss(embedding1, embedding2, labels_batch)\n",
    "            loss.backward()\n",
    "            optimizer.step()\n",
    "\n",
    "        if episode % 100 == 0:\n",
    "            siamese_cnn.eval()\n",
    "            with torch.no_grad():\n",
    "                accuracy, _, _, _ = evaluate_fewshot_f1(support_set, query_set, k_shot, q_queries, 0.2, episode_n_way, episode_loader, remap_dict)\n",
    "                train_losses.append(loss.item())\n",
    "                train_accuracies.append(accuracy)\n",
    "\n",
    "                val_accuracies_epoch = []\n",
    "                for _ in range(num_val_episodes):\n",
    "                    val_support_set, val_support_labels, val_query_set, val_query_labels, actual_query_labels, remap_dict = val_episode_loader.load_episode()\n",
    "                    val_output, _, _, _ = evaluate_fewshot_f1(val_support_set, val_query_set, k_shot, q_queries, 0.2, episode_n_way, val_episode_loader, remap_dict)\n",
    "                    val_accuracies_epoch.append(val_output)\n",
    "\n",
    "                avg_val_accuracy = sum(val_accuracies_epoch) / len(val_accuracies_epoch)\n",
    "                val_accuracies.append(avg_val_accuracy)\n",
    "                pbar.write(f\"Episode {episode}, Training Loss: {loss.item()}, Training Accuracy: {accuracy}\")\n",
    "                pbar.write(f\"Classification Accuracy on Validation ({num_val_episodes} eps): {avg_val_accuracy}\")\n",
    "\n",
    "                if avg_val_accuracy > best_val_accuracy:\n",
    "                    best_val_accuracy = avg_val_accuracy\n",
    "                    torch.save(siamese_cnn.state_dict(), 'best_siamese_cbam_'+str(n_way)+'way_sub_aug2.pth')\n",
    "                    no_improvement_count = 0\n",
    "                    best_episode = episode\n",
    "                else:\n",
    "                    no_improvement_count += 1\n",
    "                    if no_improvement_count >= early_stopping_patience:\n",
    "                        pbar.write(f\"No improvement for {early_stopping_patience} consecutive evaluations. Stopping training.\")\n",
    "                        break\n",
    "\n",
    "                siamese_cnn.train()\n",
    "\n",
    "        pbar.update(1)\n",
    "\n",
    "print(f\"The best model[{best_episode}]: with accuracy of {best_val_accuracy}\")\n",
    "\n",
    "# plot\n",
    "plt.figure(figsize=(12, 6))\n",
    "plt.plot(range(len(train_losses)), train_losses, label='Training Loss', color='blue')\n",
    "plt.plot(range(len(train_accuracies)), train_accuracies, label='Training Accuracy', color='green')\n",
    "plt.plot(range(len(val_accuracies)), val_accuracies, label='Validation Accuracy', color='red')\n",
    "\n",
    "plt.xlabel('Episodes')\n",
    "plt.ylabel('Value')\n",
    "plt.title('Training Loss, Training Accuracy, and Validation Accuracy')\n",
    "plt.legend()\n",
    "plt.grid(True)\n",
    "plt.show()"
   ]
  },
  {
   "cell_type": "code",
   "execution_count": 19,
   "id": "123f31c1-794e-4730-b4a3-7aabc5289f28",
   "metadata": {
    "tags": []
   },
   "outputs": [
    {
     "name": "stdout",
     "output_type": "stream",
     "text": [
      "The best model[800]: with accuracy of 0.5199999943375587\n"
     ]
    }
   ],
   "source": [
    "print(f\"The best model[{best_episode}]: with accuracy of {best_val_accuracy}\")"
   ]
  },
  {
   "cell_type": "code",
   "execution_count": 20,
   "id": "bbc69bf4-92ae-4960-9d49-14c7b45a5112",
   "metadata": {
    "tags": []
   },
   "outputs": [
    {
     "name": "stdout",
     "output_type": "stream",
     "text": [
      "Class Selection Frequency: {4: 206, 14: 206, 20: 206, 1: 205, 5: 205, 6: 205, 9: 205, 11: 205, 17: 205, 18: 205, 19: 205, 22: 205, 7: 204, 10: 204, 12: 204, 13: 204, 16: 204, 21: 204, 0: 203, 2: 203, 3: 203, 8: 203, 15: 203, 23: 203}\n"
     ]
    }
   ],
   "source": [
    "# After running some episodes (e.g., during or after training)\n",
    "class_frequency = episode_loader.get_class_frequency()\n",
    "print(\"Class Selection Frequency:\", class_frequency)"
   ]
  },
  {
   "cell_type": "code",
   "execution_count": 21,
   "id": "dbd5bce2-74b6-4e66-9e19-e045c2a3e5f6",
   "metadata": {
    "tags": []
   },
   "outputs": [
    {
     "name": "stdout",
     "output_type": "stream",
     "text": [
      "[Info] Classes: 5\n",
      "[Info] Images: 282\n"
     ]
    }
   ],
   "source": [
    "# Assuming you have test data prepared in a similar format to X_train\n",
    "#test_folder = \"C:\\\\Users\\\\USER\\\\Documents\\\\VM-shared_177\\\\report_117\\\\extracted_report\\\\report177_original_img\\\\test\"\n",
    "#test_folder = \"C:\\\\Users\\\\USER\\\\Documents\\\\VM-shared_177\\\\report_117\\\\extracted_report\\\\report177_split4_pixelshuffle4\\\\test\"\n",
    "#test_folder = \"C:\\\\Users\\\\USER\\\\Documents\\\\VM-shared_177\\\\report_117\\\\extracted_report\\\\report177_img2\\\\test\"\n",
    "\n",
    "test_folder = \"test\"\n",
    "#test_folder = \"C:\\\\Users\\\\USER\\\\Documents\\\\VM-shared_177\\\\mb2023_split1\\\\test\"\n",
    "n_way = 5\n",
    "k_shot = 5\n",
    "q_queries = 5\n",
    "X_test, y_test, c_test, f_test = loadimgs(test_folder, 256, 256, 1)  # Load test data"
   ]
  },
  {
   "cell_type": "code",
   "execution_count": 22,
   "id": "2f4f4038-11c7-4ec4-84d2-b6aceb2947ae",
   "metadata": {
    "tags": []
   },
   "outputs": [
    {
     "data": {
      "text/plain": [
       "SiameseCNN(\n",
       "  (encoder): Sequential(\n",
       "    (0): Sequential(\n",
       "      (0): Conv2d(3, 128, kernel_size=(3, 3), stride=(1, 1), padding=(1, 1))\n",
       "      (1): BatchNorm2d(128, eps=1e-05, momentum=0.1, affine=True, track_running_stats=True)\n",
       "      (2): ReLU()\n",
       "      (3): MaxPool2d(kernel_size=2, stride=2, padding=0, dilation=1, ceil_mode=False)\n",
       "    )\n",
       "    (1): Sequential(\n",
       "      (0): Conv2d(128, 128, kernel_size=(3, 3), stride=(1, 1), padding=(1, 1))\n",
       "      (1): BatchNorm2d(128, eps=1e-05, momentum=0.1, affine=True, track_running_stats=True)\n",
       "      (2): ReLU()\n",
       "      (3): MaxPool2d(kernel_size=2, stride=2, padding=0, dilation=1, ceil_mode=False)\n",
       "    )\n",
       "    (2): Sequential(\n",
       "      (0): Conv2d(128, 128, kernel_size=(3, 3), stride=(1, 1), padding=(1, 1))\n",
       "      (1): BatchNorm2d(128, eps=1e-05, momentum=0.1, affine=True, track_running_stats=True)\n",
       "      (2): ReLU()\n",
       "      (3): MaxPool2d(kernel_size=2, stride=2, padding=0, dilation=1, ceil_mode=False)\n",
       "    )\n",
       "    (3): Sequential(\n",
       "      (0): Conv2d(128, 128, kernel_size=(3, 3), stride=(1, 1), padding=(1, 1))\n",
       "      (1): BatchNorm2d(128, eps=1e-05, momentum=0.1, affine=True, track_running_stats=True)\n",
       "      (2): ReLU()\n",
       "      (3): MaxPool2d(kernel_size=2, stride=2, padding=0, dilation=1, ceil_mode=False)\n",
       "    )\n",
       "  )\n",
       "  (channel_attention): ChannelAttention(\n",
       "    (avg_pool): AdaptiveAvgPool2d(output_size=1)\n",
       "    (max_pool): AdaptiveMaxPool2d(output_size=1)\n",
       "    (shared_MLP): Sequential(\n",
       "      (0): Conv2d(128, 8, kernel_size=(1, 1), stride=(1, 1), bias=False)\n",
       "      (1): ReLU()\n",
       "      (2): Dropout(p=0.2, inplace=False)\n",
       "      (3): Conv2d(8, 128, kernel_size=(1, 1), stride=(1, 1), bias=False)\n",
       "      (4): Dropout(p=0.2, inplace=False)\n",
       "    )\n",
       "    (sigmoid): Sigmoid()\n",
       "  )\n",
       "  (spatial_attention): SpatialAttention(\n",
       "    (conv1): Conv2d(2, 1, kernel_size=(7, 7), stride=(1, 1), padding=(3, 3), bias=False)\n",
       "    (sigmoid): Sigmoid()\n",
       "  )\n",
       ")"
      ]
     },
     "execution_count": 22,
     "metadata": {},
     "output_type": "execute_result"
    }
   ],
   "source": [
    "# Load the best model\n",
    "best_model_path = 'best_siamese_cbam_'+str(n_way)+'way_sub_aug2.pth'\n",
    "siamese_cnn.load_state_dict(torch.load(best_model_path))\n",
    "siamese_cnn.to(device)\n",
    "siamese_cnn.eval() "
   ]
  },
  {
   "cell_type": "code",
   "execution_count": 23,
   "id": "c1d17254-c392-4858-b04e-c9a0a9bf307c",
   "metadata": {
    "tags": []
   },
   "outputs": [],
   "source": [
    "def evaluate_run(k_shot):\n",
    "    num_test_episodes = 100  # or the number of episodes you want to test on\n",
    "    \n",
    "    # Initialize metrics\n",
    "    total_precisions = []\n",
    "    total_recalls = []\n",
    "    total_f1s = []\n",
    "    episode_accuracies = []\n",
    "    test_episode_loader = EpisodeLoader(X_test, y_test, c_test, n_way, k_shot, q_queries)\n",
    "    \n",
    "    for episode in tqdm(range(num_test_episodes)):\n",
    "        # Load one episode\n",
    "        support_set, support_labels, query_set, query_labels, actual_query_labels, remap_dict = test_episode_loader.load_episode()\n",
    "        \n",
    "        # Forward pass and compute accuracy\n",
    "        with torch.no_grad():  # No need to track gradients during evaluation\n",
    "            acc_val, macro_precision, macro_recall, macro_f1 = evaluate_fewshot_f1(support_set, query_set, k_shot, q_queries, 0.2, n_way, test_episode_loader, remap_dict)\n",
    "            \n",
    "        episode_accuracies.append(acc_val)\n",
    "        total_precisions.append(macro_precision)\n",
    "        total_recalls.append(macro_recall)\n",
    "        total_f1s.append(macro_f1)\n",
    "        \n",
    "    # Calculate various statistics\n",
    "    average_accuracy = np.mean(episode_accuracies)\n",
    "    std_dev_accuracy = np.std(episode_accuracies)\n",
    "    confidence_interval = np.percentile(episode_accuracies, [2.5, 97.5])  # 95% confidence interval\n",
    "    min_accuracy = np.min(episode_accuracies)\n",
    "    max_accuracy = np.max(episode_accuracies)\n",
    "    median_accuracy = np.median(episode_accuracies)\n",
    "    \n",
    "    # Calculate averages of metrics\n",
    "    average_precision = np.mean(total_precisions)\n",
    "    average_recall = np.mean(total_recalls)\n",
    "    average_f1 = np.mean(total_f1s)\n",
    "    \n",
    "    # Calculate the 95% confidence interval for the mean\n",
    "    sample_size = len(episode_accuracies)\n",
    "    confidence_level = 0.95\n",
    "    alpha = 1 - confidence_level\n",
    "    z_score = stats.norm.ppf(1 - alpha/2)\n",
    "    margin_error = z_score * (std_dev_accuracy / np.sqrt(sample_size))\n",
    "    \n",
    "    # Display the results\n",
    "    print(f\"Case: {n_way}ways-{k_shot}shots\")\n",
    "    print(\"Class Selection Frequency:\", test_episode_loader.get_class_frequency())\n",
    "    # Print class-specific accuracy\n",
    "    class_accuracies = test_episode_loader.get_class_accuracy()\n",
    "    print(\"Class Accuracy:\", class_accuracies)\n",
    "    \n",
    "    print(f\"Average Test Accuracy: {average_accuracy:.4f}\")\n",
    "    print(f\"Standard Deviation of Test Accuracies: {std_dev_accuracy:.4f}\")\n",
    "    print(f\"Margin Error: {margin_error:.4f}\")\n",
    "    print(f\"95% Confidence Interval of Test Accuracies: [{confidence_interval[0]:.2f},{confidence_interval[1]:.2f}]\")\n",
    "    print(f\"Min Test Accuracy: {min_accuracy:.4f}\")\n",
    "    print(f\"Max Test Accuracy: {max_accuracy:.4f}\")\n",
    "    print(f\"Median Test Accuracy: {median_accuracy:.4f}\")\n",
    "    print(f\"Precision: {average_precision:.4f}\")\n",
    "    print(f\"Recall: {average_recall:.4f}\")\n",
    "    print(f\"F1-Score: {average_f1:.4f}\")\n",
    "    \n",
    "    print(f\"{average_accuracy:.4f} {std_dev_accuracy:.4f} {margin_error:.4f} {median_accuracy:.4f} {min_accuracy:.4f} {max_accuracy:.4f} [{confidence_interval[0]:.2f},{confidence_interval[1]:.2f}] {average_precision:.4f} {average_recall:.4f} {average_f1:.4f}\")"
   ]
  },
  {
   "cell_type": "code",
   "execution_count": 24,
   "id": "de40eab3-53b2-4191-b1fd-b0b8d90e851d",
   "metadata": {
    "tags": []
   },
   "outputs": [
    {
     "name": "stderr",
     "output_type": "stream",
     "text": [
      "100%|██████████| 100/100 [06:05<00:00,  3.66s/it]\n"
     ]
    },
    {
     "name": "stdout",
     "output_type": "stream",
     "text": [
      "Case: 5ways-5shots\n",
      "Class Selection Frequency: {0: 100, 1: 100, 2: 100, 3: 100, 4: 100}\n",
      "Class Accuracy: {0: 0.276, 1: 0.54, 2: 0.328, 3: 0.326, 4: 0.296}\n",
      "Average Test Accuracy: 0.3532\n",
      "Standard Deviation of Test Accuracies: 0.0860\n",
      "Margin Error: 0.0169\n",
      "95% Confidence Interval of Test Accuracies: [0.18,0.52]\n",
      "Min Test Accuracy: 0.1600\n",
      "Max Test Accuracy: 0.6000\n",
      "Median Test Accuracy: 0.3600\n",
      "Precision: 0.3631\n",
      "Recall: 0.3532\n",
      "F1-Score: 0.3393\n",
      "0.3532 0.0860 0.0169 0.3600 0.1600 0.6000 [0.18,0.52] 0.3631 0.3532 0.3393\n",
      "###################################\n"
     ]
    },
    {
     "name": "stderr",
     "output_type": "stream",
     "text": [
      "100%|██████████| 100/100 [06:41<00:00,  4.02s/it]"
     ]
    },
    {
     "name": "stdout",
     "output_type": "stream",
     "text": [
      "Case: 5ways-5shots\n",
      "Class Selection Frequency: {0: 100, 1: 100, 2: 100, 3: 100, 4: 100}\n",
      "Class Accuracy: {0: 0.24, 1: 0.594, 2: 0.348, 3: 0.336, 4: 0.326}\n",
      "Average Test Accuracy: 0.3688\n",
      "Standard Deviation of Test Accuracies: 0.1035\n",
      "Margin Error: 0.0203\n",
      "95% Confidence Interval of Test Accuracies: [0.18,0.56]\n",
      "Min Test Accuracy: 0.1600\n",
      "Max Test Accuracy: 0.6400\n",
      "Median Test Accuracy: 0.3600\n",
      "Precision: 0.3892\n",
      "Recall: 0.3688\n",
      "F1-Score: 0.3574\n",
      "0.3688 0.1035 0.0203 0.3600 0.1600 0.6400 [0.18,0.56] 0.3892 0.3688 0.3574\n",
      "###################################\n"
     ]
    },
    {
     "name": "stderr",
     "output_type": "stream",
     "text": [
      "\n"
     ]
    }
   ],
   "source": [
    "for shot in [5,5]:\n",
    "    evaluate_run(shot)\n",
    "    print(\"###################################\")"
   ]
  }
 ],
 "metadata": {
  "kernelspec": {
   "display_name": "Python 3",
   "language": "python",
   "name": "python3"
  },
  "language_info": {
   "codemirror_mode": {
    "name": "ipython",
    "version": 3
   },
   "file_extension": ".py",
   "mimetype": "text/x-python",
   "name": "python",
   "nbconvert_exporter": "python",
   "pygments_lexer": "ipython3",
   "version": "3.11.7"
  }
 },
 "nbformat": 4,
 "nbformat_minor": 5
}
