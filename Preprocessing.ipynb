{
 "cells": [
  {
   "cell_type": "code",
   "execution_count": 16,
   "metadata": {},
   "outputs": [],
   "source": [
    "# pip install scapy-ssl_tls\n",
    "\n",
    "# pip install scapy numpy matplotlib hilbertcurve"
   ]
  },
  {
   "cell_type": "code",
   "execution_count": 17,
   "metadata": {},
   "outputs": [
    {
     "name": "stderr",
     "output_type": "stream",
     "text": [
      "WARNING: PcapNg: TLS Key Log available, but the TLS layer is not loaded! Scapy won't be able to decrypt the packets.\n"
     ]
    },
    {
     "name": "stdout",
     "output_type": "stream",
     "text": [
      "Saved image for data\\PCAPS\\AGENTTESLA\\240610-m32w8agd2w.behavioral1.pcapng to Hilbert\\train\\AGENTTESLA\\240610-m32w8agd2w.behavioral1.pcapng.png\n"
     ]
    },
    {
     "name": "stderr",
     "output_type": "stream",
     "text": [
      "WARNING: PcapNg: TLS Key Log available, but the TLS layer is not loaded! Scapy won't be able to decrypt the packets.\n"
     ]
    },
    {
     "name": "stdout",
     "output_type": "stream",
     "text": [
      "Saved image for data\\PCAPS\\AGENTTESLA\\240610-m32w8agd2w.behavioral2.pcapng to Hilbert\\train\\AGENTTESLA\\240610-m32w8agd2w.behavioral2.pcapng.png\n"
     ]
    },
    {
     "name": "stderr",
     "output_type": "stream",
     "text": [
      "WARNING: more PcapNg: TLS Key Log available, but the TLS layer is not loaded! Scapy won't be able to decrypt the packets.\n"
     ]
    },
    {
     "name": "stdout",
     "output_type": "stream",
     "text": [
      "Saved image for data\\PCAPS\\AGENTTESLA\\240610-m4d7jsgh74.behavioral1.pcap to Hilbert\\train\\AGENTTESLA\\240610-m4d7jsgh74.behavioral1.pcap.png\n",
      "Saved image for data\\PCAPS\\AGENTTESLA\\240610-m4d7jsgh74.behavioral2.pcapng to Hilbert\\train\\AGENTTESLA\\240610-m4d7jsgh74.behavioral2.pcapng.png\n",
      "Saved image for data\\PCAPS\\AGENTTESLA\\240610-m4e4vagh76.behavioral1.pcapng to Hilbert\\train\\AGENTTESLA\\240610-m4e4vagh76.behavioral1.pcapng.png\n",
      "Saved image for data\\PCAPS\\AGENTTESLA\\240610-m4e4vagh76.behavioral2.pcapng to Hilbert\\train\\AGENTTESLA\\240610-m4e4vagh76.behavioral2.pcapng.png\n",
      "Saved image for data\\PCAPS\\AGENTTESLA\\240610-m4ehbagd3z.behavioral1.pcapng to Hilbert\\train\\AGENTTESLA\\240610-m4ehbagd3z.behavioral1.pcapng.png\n",
      "Saved image for data\\PCAPS\\AGENTTESLA\\240610-m4ehbagd3z.behavioral2.pcapng to Hilbert\\train\\AGENTTESLA\\240610-m4ehbagd3z.behavioral2.pcapng.png\n",
      "Saved image for data\\PCAPS\\AGENTTESLA\\240610-m4fqdagh82.behavioral1.pcapng to Hilbert\\train\\AGENTTESLA\\240610-m4fqdagh82.behavioral1.pcapng.png\n",
      "Saved image for data\\PCAPS\\AGENTTESLA\\240610-m4fqdagh82.behavioral2.pcapng to Hilbert\\train\\AGENTTESLA\\240610-m4fqdagh82.behavioral2.pcapng.png\n",
      "Saved image for data\\PCAPS\\AGENTTESLA\\240610-m4lxdsgd5t.behavioral1.pcapng to Hilbert\\train\\AGENTTESLA\\240610-m4lxdsgd5t.behavioral1.pcapng.png\n",
      "Saved image for data\\PCAPS\\AGENTTESLA\\240610-m4lxdsgd5t.behavioral2.pcapng to Hilbert\\train\\AGENTTESLA\\240610-m4lxdsgd5t.behavioral2.pcapng.png\n",
      "Saved image for data\\PCAPS\\AGENTTESLA\\240610-m5hlcsgd7v.behavioral1.pcapng to Hilbert\\train\\AGENTTESLA\\240610-m5hlcsgd7v.behavioral1.pcapng.png\n",
      "Saved image for data\\PCAPS\\AGENTTESLA\\240610-m5hlcsgd7v.behavioral2.pcapng to Hilbert\\train\\AGENTTESLA\\240610-m5hlcsgd7v.behavioral2.pcapng.png\n",
      "Saved image for data\\PCAPS\\AGENTTESLA\\240610-m5l9jsgd7z.behavioral1.pcapng to Hilbert\\train\\AGENTTESLA\\240610-m5l9jsgd7z.behavioral1.pcapng.png\n",
      "Saved image for data\\PCAPS\\AGENTTESLA\\240610-m5l9jsgd7z.behavioral2.pcapng to Hilbert\\train\\AGENTTESLA\\240610-m5l9jsgd7z.behavioral2.pcapng.png\n",
      "Saved image for data\\PCAPS\\AGENTTESLA\\240610-m5m6vagd8s.behavioral1.pcapng to Hilbert\\train\\AGENTTESLA\\240610-m5m6vagd8s.behavioral1.pcapng.png\n",
      "Saved image for data\\PCAPS\\AGENTTESLA\\240610-m5m6vagd8s.behavioral2.pcapng to Hilbert\\train\\AGENTTESLA\\240610-m5m6vagd8s.behavioral2.pcapng.png\n",
      "Skipping data\\PCAPS\\AGENTTESLA\\240610-n4r9vahh7x.behavioral1.pcapng as it is smaller than 2KB\n",
      "Saved image for data\\PCAPS\\AGENTTESLA\\240610-n4r9vahh7x.behavioral2.pcapng to Hilbert\\train\\AGENTTESLA\\240610-n4r9vahh7x.behavioral2.pcapng.png\n",
      "Skipping data\\PCAPS\\AGENTTESLA\\240610-n9masaab7x.behavioral1.pcapng as it is smaller than 2KB\n",
      "Saved image for data\\PCAPS\\AGENTTESLA\\240610-n9masaab7x.behavioral2.pcapng to Hilbert\\train\\AGENTTESLA\\240610-n9masaab7x.behavioral2.pcapng.png\n",
      "Saved image for data\\PCAPS\\AGENTTESLA\\240610-nb3vwagf4y.behavioral1.pcapng to Hilbert\\train\\AGENTTESLA\\240610-nb3vwagf4y.behavioral1.pcapng.png\n",
      "Saved image for data\\PCAPS\\AGENTTESLA\\240610-nb3vwagf4y.behavioral2.pcapng to Hilbert\\train\\AGENTTESLA\\240610-nb3vwagf4y.behavioral2.pcapng.png\n"
     ]
    },
    {
     "ename": "KeyboardInterrupt",
     "evalue": "",
     "output_type": "error",
     "traceback": [
      "\u001b[1;31m---------------------------------------------------------------------------\u001b[0m",
      "\u001b[1;31mKeyboardInterrupt\u001b[0m                         Traceback (most recent call last)",
      "Cell \u001b[1;32mIn[17], line 125\u001b[0m\n\u001b[0;32m    122\u001b[0m     process_all_pcaps(input_dir, output_dir)\n\u001b[0;32m    124\u001b[0m \u001b[38;5;28;01mif\u001b[39;00m \u001b[38;5;18m__name__\u001b[39m \u001b[38;5;241m==\u001b[39m \u001b[38;5;124m\"\u001b[39m\u001b[38;5;124m__main__\u001b[39m\u001b[38;5;124m\"\u001b[39m:\n\u001b[1;32m--> 125\u001b[0m     \u001b[43mmain\u001b[49m\u001b[43m(\u001b[49m\u001b[43m)\u001b[49m\n",
      "Cell \u001b[1;32mIn[17], line 122\u001b[0m, in \u001b[0;36mmain\u001b[1;34m()\u001b[0m\n\u001b[0;32m    120\u001b[0m output_dir \u001b[38;5;241m=\u001b[39m \u001b[38;5;124m'\u001b[39m\u001b[38;5;124mHilbert\u001b[39m\u001b[38;5;130;01m\\\\\u001b[39;00m\u001b[38;5;124mtrain\u001b[39m\u001b[38;5;124m'\u001b[39m\n\u001b[0;32m    121\u001b[0m os\u001b[38;5;241m.\u001b[39mmakedirs(output_dir, exist_ok\u001b[38;5;241m=\u001b[39m\u001b[38;5;28;01mTrue\u001b[39;00m)\n\u001b[1;32m--> 122\u001b[0m \u001b[43mprocess_all_pcaps\u001b[49m\u001b[43m(\u001b[49m\u001b[43minput_dir\u001b[49m\u001b[43m,\u001b[49m\u001b[43m \u001b[49m\u001b[43moutput_dir\u001b[49m\u001b[43m)\u001b[49m\n",
      "Cell \u001b[1;32mIn[17], line 115\u001b[0m, in \u001b[0;36mprocess_all_pcaps\u001b[1;34m(input_dir, output_dir)\u001b[0m\n\u001b[0;32m    113\u001b[0m output_subdir \u001b[38;5;241m=\u001b[39m os\u001b[38;5;241m.\u001b[39mpath\u001b[38;5;241m.\u001b[39mjoin(output_dir, relative_path)\n\u001b[0;32m    114\u001b[0m os\u001b[38;5;241m.\u001b[39mmakedirs(output_subdir, exist_ok\u001b[38;5;241m=\u001b[39m\u001b[38;5;28;01mTrue\u001b[39;00m)\n\u001b[1;32m--> 115\u001b[0m \u001b[43mprocess_pcap_file\u001b[49m\u001b[43m(\u001b[49m\u001b[43mfile_path\u001b[49m\u001b[43m,\u001b[49m\u001b[43m \u001b[49m\u001b[43moutput_subdir\u001b[49m\u001b[43m)\u001b[49m\n",
      "Cell \u001b[1;32mIn[17], line 41\u001b[0m, in \u001b[0;36mprocess_pcap_file\u001b[1;34m(file_path, output_dir)\u001b[0m\n\u001b[0;32m     40\u001b[0m \u001b[38;5;28;01mdef\u001b[39;00m \u001b[38;5;21mprocess_pcap_file\u001b[39m(file_path, output_dir):\n\u001b[1;32m---> 41\u001b[0m     packets \u001b[38;5;241m=\u001b[39m \u001b[43mrdpcap\u001b[49m\u001b[43m(\u001b[49m\u001b[43mfile_path\u001b[49m\u001b[43m)\u001b[49m\n\u001b[0;32m     42\u001b[0m     data \u001b[38;5;241m=\u001b[39m []\n\u001b[0;32m     44\u001b[0m     \u001b[38;5;28;01mfor\u001b[39;00m packet \u001b[38;5;129;01min\u001b[39;00m packets:\n",
      "File \u001b[1;32md:\\anaconda3\\Lib\\site-packages\\scapy\\utils.py:1145\u001b[0m, in \u001b[0;36mrdpcap\u001b[1;34m(filename, count)\u001b[0m\n\u001b[0;32m   1140\u001b[0m \u001b[38;5;66;03m# Rant: Our complicated use of metaclasses and especially the\u001b[39;00m\n\u001b[0;32m   1141\u001b[0m \u001b[38;5;66;03m# __call__ function is, of course, not supported by MyPy.\u001b[39;00m\n\u001b[0;32m   1142\u001b[0m \u001b[38;5;66;03m# One day we should simplify this mess and use a much simpler\u001b[39;00m\n\u001b[0;32m   1143\u001b[0m \u001b[38;5;66;03m# layout that will actually be supported and properly dissected.\u001b[39;00m\n\u001b[0;32m   1144\u001b[0m \u001b[38;5;28;01mwith\u001b[39;00m PcapReader(filename) \u001b[38;5;28;01mas\u001b[39;00m fdesc:  \u001b[38;5;66;03m# type: ignore\u001b[39;00m\n\u001b[1;32m-> 1145\u001b[0m     \u001b[38;5;28;01mreturn\u001b[39;00m \u001b[43mfdesc\u001b[49m\u001b[38;5;241;43m.\u001b[39;49m\u001b[43mread_all\u001b[49m\u001b[43m(\u001b[49m\u001b[43mcount\u001b[49m\u001b[38;5;241;43m=\u001b[39;49m\u001b[43mcount\u001b[49m\u001b[43m)\u001b[49m\n",
      "File \u001b[1;32md:\\anaconda3\\Lib\\site-packages\\scapy\\utils.py:1413\u001b[0m, in \u001b[0;36mPcapReader.read_all\u001b[1;34m(self, count)\u001b[0m\n\u001b[0;32m   1411\u001b[0m \u001b[38;5;28;01mdef\u001b[39;00m \u001b[38;5;21mread_all\u001b[39m(\u001b[38;5;28mself\u001b[39m, count\u001b[38;5;241m=\u001b[39m\u001b[38;5;241m-\u001b[39m\u001b[38;5;241m1\u001b[39m):\n\u001b[0;32m   1412\u001b[0m     \u001b[38;5;66;03m# type: (int) -> PacketList\u001b[39;00m\n\u001b[1;32m-> 1413\u001b[0m     res \u001b[38;5;241m=\u001b[39m \u001b[38;5;28;43mself\u001b[39;49m\u001b[38;5;241;43m.\u001b[39;49m\u001b[43m_read_all\u001b[49m\u001b[43m(\u001b[49m\u001b[43mcount\u001b[49m\u001b[43m)\u001b[49m\n\u001b[0;32m   1414\u001b[0m     \u001b[38;5;28;01mfrom\u001b[39;00m \u001b[38;5;21;01mscapy\u001b[39;00m \u001b[38;5;28;01mimport\u001b[39;00m plist\n\u001b[0;32m   1415\u001b[0m     \u001b[38;5;28;01mreturn\u001b[39;00m plist\u001b[38;5;241m.\u001b[39mPacketList(res, name\u001b[38;5;241m=\u001b[39mos\u001b[38;5;241m.\u001b[39mpath\u001b[38;5;241m.\u001b[39mbasename(\u001b[38;5;28mself\u001b[39m\u001b[38;5;241m.\u001b[39mfilename))\n",
      "File \u001b[1;32md:\\anaconda3\\Lib\\site-packages\\scapy\\utils.py:1323\u001b[0m, in \u001b[0;36mRawPcapReader._read_all\u001b[1;34m(self, count)\u001b[0m\n\u001b[0;32m   1321\u001b[0m count \u001b[38;5;241m-\u001b[39m\u001b[38;5;241m=\u001b[39m \u001b[38;5;241m1\u001b[39m\n\u001b[0;32m   1322\u001b[0m \u001b[38;5;28;01mtry\u001b[39;00m:\n\u001b[1;32m-> 1323\u001b[0m     p \u001b[38;5;241m=\u001b[39m \u001b[38;5;28;43mself\u001b[39;49m\u001b[38;5;241;43m.\u001b[39;49m\u001b[43mread_packet\u001b[49m\u001b[43m(\u001b[49m\u001b[43m)\u001b[49m  \u001b[38;5;66;03m# type: Packet\u001b[39;00m\n\u001b[0;32m   1324\u001b[0m \u001b[38;5;28;01mexcept\u001b[39;00m \u001b[38;5;167;01mEOFError\u001b[39;00m:\n\u001b[0;32m   1325\u001b[0m     \u001b[38;5;28;01mbreak\u001b[39;00m\n",
      "File \u001b[1;32md:\\anaconda3\\Lib\\site-packages\\scapy\\utils.py:1728\u001b[0m, in \u001b[0;36mPcapNgReader.read_packet\u001b[1;34m(self, size)\u001b[0m\n\u001b[0;32m   1726\u001b[0m \u001b[38;5;28;01mdef\u001b[39;00m \u001b[38;5;21mread_packet\u001b[39m(\u001b[38;5;28mself\u001b[39m, size\u001b[38;5;241m=\u001b[39mMTU):\n\u001b[0;32m   1727\u001b[0m     \u001b[38;5;66;03m# type: (int) -> Packet\u001b[39;00m\n\u001b[1;32m-> 1728\u001b[0m     rp \u001b[38;5;241m=\u001b[39m \u001b[38;5;28;43msuper\u001b[39;49m\u001b[43m(\u001b[49m\u001b[43mPcapNgReader\u001b[49m\u001b[43m,\u001b[49m\u001b[43m \u001b[49m\u001b[38;5;28;43mself\u001b[39;49m\u001b[43m)\u001b[49m\u001b[38;5;241;43m.\u001b[39;49m\u001b[43m_read_packet\u001b[49m\u001b[43m(\u001b[49m\u001b[43msize\u001b[49m\u001b[38;5;241;43m=\u001b[39;49m\u001b[43msize\u001b[49m\u001b[43m)\u001b[49m\n\u001b[0;32m   1729\u001b[0m     \u001b[38;5;28;01mif\u001b[39;00m rp \u001b[38;5;129;01mis\u001b[39;00m \u001b[38;5;28;01mNone\u001b[39;00m:\n\u001b[0;32m   1730\u001b[0m         \u001b[38;5;28;01mraise\u001b[39;00m \u001b[38;5;167;01mEOFError\u001b[39;00m\n",
      "File \u001b[1;32md:\\anaconda3\\Lib\\site-packages\\scapy\\utils.py:1526\u001b[0m, in \u001b[0;36mRawPcapNgReader._read_packet\u001b[1;34m(self, size)\u001b[0m\n\u001b[0;32m   1520\u001b[0m \u001b[38;5;250m\u001b[39m\u001b[38;5;124;03m\"\"\"Read blocks until it reaches either EOF or a packet, and\u001b[39;00m\n\u001b[0;32m   1521\u001b[0m \u001b[38;5;124;03mreturns None or (packet, (linktype, sec, usec, wirelen)),\u001b[39;00m\n\u001b[0;32m   1522\u001b[0m \u001b[38;5;124;03mwhere packet is a string.\u001b[39;00m\n\u001b[0;32m   1523\u001b[0m \n\u001b[0;32m   1524\u001b[0m \u001b[38;5;124;03m\"\"\"\u001b[39;00m\n\u001b[0;32m   1525\u001b[0m \u001b[38;5;28;01mwhile\u001b[39;00m \u001b[38;5;28;01mTrue\u001b[39;00m:\n\u001b[1;32m-> 1526\u001b[0m     res \u001b[38;5;241m=\u001b[39m \u001b[38;5;28;43mself\u001b[39;49m\u001b[38;5;241;43m.\u001b[39;49m\u001b[43m_read_block\u001b[49m\u001b[43m(\u001b[49m\u001b[43m)\u001b[49m\n\u001b[0;32m   1527\u001b[0m     \u001b[38;5;28;01mif\u001b[39;00m res \u001b[38;5;129;01mis\u001b[39;00m \u001b[38;5;129;01mnot\u001b[39;00m \u001b[38;5;28;01mNone\u001b[39;00m:\n\u001b[0;32m   1528\u001b[0m         \u001b[38;5;28;01mreturn\u001b[39;00m res\n",
      "File \u001b[1;32md:\\anaconda3\\Lib\\site-packages\\scapy\\utils.py:1478\u001b[0m, in \u001b[0;36mRawPcapNgReader._read_block\u001b[1;34m(self, size)\u001b[0m\n\u001b[0;32m   1476\u001b[0m     warning(\u001b[38;5;124m\"\u001b[39m\u001b[38;5;124mInvalid block length !\u001b[39m\u001b[38;5;124m\"\u001b[39m)\n\u001b[0;32m   1477\u001b[0m     \u001b[38;5;28;01mraise\u001b[39;00m \u001b[38;5;167;01mEOFError\u001b[39;00m\n\u001b[1;32m-> 1478\u001b[0m block \u001b[38;5;241m=\u001b[39m \u001b[38;5;28mself\u001b[39m\u001b[38;5;241m.\u001b[39mf\u001b[38;5;241m.\u001b[39mread(blocklen \u001b[38;5;241m-\u001b[39m \u001b[38;5;241m12\u001b[39m)\n\u001b[0;32m   1479\u001b[0m \u001b[38;5;28mself\u001b[39m\u001b[38;5;241m.\u001b[39m_read_block_tail(blocklen)\n\u001b[0;32m   1480\u001b[0m \u001b[38;5;28;01mreturn\u001b[39;00m \u001b[38;5;28mself\u001b[39m\u001b[38;5;241m.\u001b[39mblocktypes\u001b[38;5;241m.\u001b[39mget(\n\u001b[0;32m   1481\u001b[0m     blocktype,\n\u001b[0;32m   1482\u001b[0m     \u001b[38;5;28;01mlambda\u001b[39;00m block, size: \u001b[38;5;28;01mNone\u001b[39;00m\n\u001b[0;32m   1483\u001b[0m )(block, size)\n",
      "\u001b[1;31mKeyboardInterrupt\u001b[0m: "
     ]
    }
   ],
   "source": [
    "import os\n",
    "import numpy as np\n",
    "import matplotlib.pyplot as plt\n",
    "from scapy.all import rdpcap\n",
    "from hilbertcurve.hilbertcurve import HilbertCurve\n",
    "import ipaddress\n",
    "\n",
    "import warnings\n",
    "warnings.filterwarnings(\"ignore\", category=UserWarning, message=\"WARNING: PcapNg: TLS Key Log available, but the TLS layer is not loaded! Scapy won't be able to decrypt the packets.\")\n",
    "\n",
    "# Define a function to convert IP address to integer\n",
    "def ip_to_int(ip):\n",
    "    return int(ipaddress.ip_address(ip))\n",
    "\n",
    "# Define normalization function\n",
    "def normalize(value, min_val, max_val):\n",
    "    return int((value - min_val) / (max_val - min_val) * 255)\n",
    "\n",
    "# Define a function to identify protocol, including SSL\n",
    "def identify_protocol(packet):\n",
    "    if packet.haslayer(\"TCP\"):\n",
    "        return 6  # TCP\n",
    "    elif packet.haslayer(\"UDP\"):\n",
    "        return 17  # UDP\n",
    "    elif packet.haslayer(\"ICMP\"):\n",
    "        return 1  # ICMP\n",
    "    else:\n",
    "        return 0  # OTHER\n",
    "\n",
    "# Define a function to encode features into RGB channels\n",
    "def combine_features_to_pixel(src_ip, des_ip, src_port, des_port, protocol):\n",
    "    # Extracting the third byte from src_ip and des_ip\n",
    "    r = (src_ip >> 16) & 0xFF  # Get the high byte of the src_ip\n",
    "    g = (des_ip >> 16) & 0xFF  # Get the high byte of the des_ip\n",
    "    # Combine src_port, des_port, and protocol into the blue channel\n",
    "    b = ((src_port & 0xF0) >> 4) | (des_port & 0xF0) | (protocol & 0x0F)\n",
    "    return (r, g, b)\n",
    "\n",
    "# Function to process a single pcap file\n",
    "def process_pcap_file(file_path, output_dir):\n",
    "    packets = rdpcap(file_path)\n",
    "    data = []\n",
    "\n",
    "    for packet in packets:\n",
    "        if packet.haslayer(\"IP\"):\n",
    "            src_ip = ip_to_int(packet[\"IP\"].src)\n",
    "            des_ip = ip_to_int(packet[\"IP\"].dst)\n",
    "            protocol = identify_protocol(packet)\n",
    "\n",
    "            if packet.haslayer(\"TCP\"):\n",
    "                src_port = packet[\"TCP\"].sport\n",
    "                des_port = packet[\"TCP\"].dport\n",
    "            elif packet.haslayer(\"UDP\"):\n",
    "                src_port = packet[\"UDP\"].sport\n",
    "                des_port = packet[\"UDP\"].dport\n",
    "            else:\n",
    "                src_port = 0\n",
    "                des_port = 0\n",
    "            data.append((src_ip, des_ip, src_port, des_port, protocol))\n",
    "\n",
    "    if not data:\n",
    "        return\n",
    "\n",
    "    # Normalize feature values\n",
    "    src_ips = [item[0] for item in data]\n",
    "    des_ips = [item[1] for item in data]\n",
    "\n",
    "    min_ip = min(src_ips + des_ips)\n",
    "    max_ip = max(src_ips + des_ips)\n",
    "    min_port = 0\n",
    "    max_port = 65535\n",
    "    min_protocol = 0\n",
    "    max_protocol = 255\n",
    "\n",
    "    normalized_data = []\n",
    "    for src_ip, des_ip, src_port, des_port, protocol in data:\n",
    "        norm_src_ip = normalize(src_ip, min_ip, max_ip)\n",
    "        norm_des_ip = normalize(des_ip, min_ip, max_ip)\n",
    "        norm_src_port = normalize(src_port, min_port, max_port)\n",
    "        norm_des_port = normalize(des_port, min_port, max_port)\n",
    "        norm_protocol = normalize(protocol, min_protocol, max_protocol)\n",
    "        normalized_data.append((src_ip, des_ip, norm_src_port, norm_des_port, norm_protocol))\n",
    "\n",
    "    # Map data to image using Hilbert curve\n",
    "    order = 8  # Hilbert curve order, determines image size, 2^order * 2^order\n",
    "    hilbert_curve = HilbertCurve(order, 2)\n",
    "    image_size = 2**order\n",
    "    image = np.zeros((image_size, image_size, 3), dtype=np.uint8)\n",
    "\n",
    "    for i, (src_ip, des_ip, src_port, des_port, protocol) in enumerate(normalized_data):\n",
    "        if i >= hilbert_curve.max_h:\n",
    "            break\n",
    "        x, y = hilbert_curve.point_from_distance(i)\n",
    "        pixel = combine_features_to_pixel(src_ip, des_ip, src_port, des_port, protocol)\n",
    "        image[x, y] = pixel\n",
    "\n",
    "    # Save the image\n",
    "    output_file_path = os.path.join(output_dir, os.path.basename(file_path) + '.png')\n",
    "    plt.imsave(output_file_path, image)\n",
    "    print(f\"Saved image for {file_path} to {output_file_path}\")\n",
    "\n",
    "# Function to process all pcap files in a directory and its subdirectories\n",
    "def process_all_pcaps(input_dir, output_dir):\n",
    "    for root, dirs, files in os.walk(input_dir):\n",
    "        for file in files:\n",
    "            if file.endswith('.pcap') or file.endswith('.pcapng'):\n",
    "                file_path = os.path.join(root, file)\n",
    "                # Check file size\n",
    "                if os.path.getsize(file_path) < 2048:  # 2 KB = 2048 bytes\n",
    "                    print(f\"Skipping {file_path} as it is smaller than 2KB\")\n",
    "                    continue\n",
    "                relative_path = os.path.relpath(root, input_dir)\n",
    "                output_subdir = os.path.join(output_dir, relative_path)\n",
    "                os.makedirs(output_subdir, exist_ok=True)\n",
    "                process_pcap_file(file_path, output_subdir)\n",
    "\n",
    "# Main function\n",
    "def main():\n",
    "    input_dir = 'data\\\\PCAPS'\n",
    "    output_dir = 'Hilbert\\\\train'\n",
    "    os.makedirs(output_dir, exist_ok=True)\n",
    "    process_all_pcaps(input_dir, output_dir)\n",
    "\n",
    "if __name__ == \"__main__\":\n",
    "    main()\n"
   ]
  },
  {
   "cell_type": "code",
   "execution_count": null,
   "metadata": {},
   "outputs": [
    {
     "name": "stdout",
     "output_type": "stream",
     "text": [
      "Collecting bitstring\n",
      "  Downloading bitstring-4.2.3-py3-none-any.whl.metadata (5.0 kB)\n",
      "Collecting bitarray<3.0.0,>=2.9.0 (from bitstring)\n",
      "  Downloading bitarray-2.9.2-cp311-cp311-win_amd64.whl.metadata (35 kB)\n",
      "Downloading bitstring-4.2.3-py3-none-any.whl (71 kB)"
     ]
    },
    {
     "name": "stdout",
     "output_type": "stream",
     "text": [
      "\n",
      "   ---------------------------------------- 0.0/71.7 kB ? eta -:--:--\n",
      "   ---------------------------------------- 71.7/71.7 kB 3.8 MB/s eta 0:00:00\n",
      "Downloading bitarray-2.9.2-cp311-cp311-win_amd64.whl (126 kB)\n",
      "   ---------------------------------------- 0.0/126.0 kB ? eta -:--:--\n",
      "   ---------------------------------------- 126.0/126.0 kB 3.6 MB/s eta 0:00:00\n",
      "Installing collected packages: bitarray, bitstring\n",
      "Successfully installed bitarray-2.9.2 bitstring-4.2.3\n"
     ]
    }
   ],
   "source": [
    "# !pip install bitstring"
   ]
  },
  {
   "cell_type": "code",
   "execution_count": 19,
   "metadata": {},
   "outputs": [
    {
     "name": "stderr",
     "output_type": "stream",
     "text": [
      "WARNING: PcapNg: TLS Key Log available, but the TLS layer is not loaded! Scapy won't be able to decrypt the packets.\n"
     ]
    },
    {
     "name": "stdout",
     "output_type": "stream",
     "text": [
      "Saved image for data\\PCAPS\\AGENTTESLA\\240610-m32w8agd2w.behavioral1.pcapng to z-order\\train\\AGENTTESLA\\240610-m32w8agd2w.behavioral1.pcapng.png\n"
     ]
    },
    {
     "name": "stderr",
     "output_type": "stream",
     "text": [
      "WARNING: PcapNg: TLS Key Log available, but the TLS layer is not loaded! Scapy won't be able to decrypt the packets.\n"
     ]
    },
    {
     "name": "stdout",
     "output_type": "stream",
     "text": [
      "Saved image for data\\PCAPS\\AGENTTESLA\\240610-m32w8agd2w.behavioral2.pcapng to z-order\\train\\AGENTTESLA\\240610-m32w8agd2w.behavioral2.pcapng.png\n"
     ]
    },
    {
     "name": "stderr",
     "output_type": "stream",
     "text": [
      "WARNING: more PcapNg: TLS Key Log available, but the TLS layer is not loaded! Scapy won't be able to decrypt the packets.\n"
     ]
    },
    {
     "name": "stdout",
     "output_type": "stream",
     "text": [
      "Saved image for data\\PCAPS\\AGENTTESLA\\240610-m4d7jsgh74.behavioral1.pcap to z-order\\train\\AGENTTESLA\\240610-m4d7jsgh74.behavioral1.pcap.png\n",
      "Saved image for data\\PCAPS\\AGENTTESLA\\240610-m4d7jsgh74.behavioral2.pcapng to z-order\\train\\AGENTTESLA\\240610-m4d7jsgh74.behavioral2.pcapng.png\n",
      "Saved image for data\\PCAPS\\AGENTTESLA\\240610-m4e4vagh76.behavioral1.pcapng to z-order\\train\\AGENTTESLA\\240610-m4e4vagh76.behavioral1.pcapng.png\n",
      "Saved image for data\\PCAPS\\AGENTTESLA\\240610-m4e4vagh76.behavioral2.pcapng to z-order\\train\\AGENTTESLA\\240610-m4e4vagh76.behavioral2.pcapng.png\n",
      "Saved image for data\\PCAPS\\AGENTTESLA\\240610-m4ehbagd3z.behavioral1.pcapng to z-order\\train\\AGENTTESLA\\240610-m4ehbagd3z.behavioral1.pcapng.png\n",
      "Saved image for data\\PCAPS\\AGENTTESLA\\240610-m4ehbagd3z.behavioral2.pcapng to z-order\\train\\AGENTTESLA\\240610-m4ehbagd3z.behavioral2.pcapng.png\n",
      "Saved image for data\\PCAPS\\AGENTTESLA\\240610-m4fqdagh82.behavioral1.pcapng to z-order\\train\\AGENTTESLA\\240610-m4fqdagh82.behavioral1.pcapng.png\n",
      "Saved image for data\\PCAPS\\AGENTTESLA\\240610-m4fqdagh82.behavioral2.pcapng to z-order\\train\\AGENTTESLA\\240610-m4fqdagh82.behavioral2.pcapng.png\n",
      "Saved image for data\\PCAPS\\AGENTTESLA\\240610-m4lxdsgd5t.behavioral1.pcapng to z-order\\train\\AGENTTESLA\\240610-m4lxdsgd5t.behavioral1.pcapng.png\n",
      "Saved image for data\\PCAPS\\AGENTTESLA\\240610-m4lxdsgd5t.behavioral2.pcapng to z-order\\train\\AGENTTESLA\\240610-m4lxdsgd5t.behavioral2.pcapng.png\n",
      "Saved image for data\\PCAPS\\AGENTTESLA\\240610-m5hlcsgd7v.behavioral1.pcapng to z-order\\train\\AGENTTESLA\\240610-m5hlcsgd7v.behavioral1.pcapng.png\n",
      "Saved image for data\\PCAPS\\AGENTTESLA\\240610-m5hlcsgd7v.behavioral2.pcapng to z-order\\train\\AGENTTESLA\\240610-m5hlcsgd7v.behavioral2.pcapng.png\n",
      "Saved image for data\\PCAPS\\AGENTTESLA\\240610-m5l9jsgd7z.behavioral1.pcapng to z-order\\train\\AGENTTESLA\\240610-m5l9jsgd7z.behavioral1.pcapng.png\n",
      "Saved image for data\\PCAPS\\AGENTTESLA\\240610-m5l9jsgd7z.behavioral2.pcapng to z-order\\train\\AGENTTESLA\\240610-m5l9jsgd7z.behavioral2.pcapng.png\n",
      "Saved image for data\\PCAPS\\AGENTTESLA\\240610-m5m6vagd8s.behavioral1.pcapng to z-order\\train\\AGENTTESLA\\240610-m5m6vagd8s.behavioral1.pcapng.png\n",
      "Saved image for data\\PCAPS\\AGENTTESLA\\240610-m5m6vagd8s.behavioral2.pcapng to z-order\\train\\AGENTTESLA\\240610-m5m6vagd8s.behavioral2.pcapng.png\n",
      "Skipping data\\PCAPS\\AGENTTESLA\\240610-n4r9vahh7x.behavioral1.pcapng as it is smaller than 2KB\n",
      "Saved image for data\\PCAPS\\AGENTTESLA\\240610-n4r9vahh7x.behavioral2.pcapng to z-order\\train\\AGENTTESLA\\240610-n4r9vahh7x.behavioral2.pcapng.png\n",
      "Skipping data\\PCAPS\\AGENTTESLA\\240610-n9masaab7x.behavioral1.pcapng as it is smaller than 2KB\n",
      "Saved image for data\\PCAPS\\AGENTTESLA\\240610-n9masaab7x.behavioral2.pcapng to z-order\\train\\AGENTTESLA\\240610-n9masaab7x.behavioral2.pcapng.png\n",
      "Saved image for data\\PCAPS\\AGENTTESLA\\240610-nb3vwagf4y.behavioral1.pcapng to z-order\\train\\AGENTTESLA\\240610-nb3vwagf4y.behavioral1.pcapng.png\n",
      "Saved image for data\\PCAPS\\AGENTTESLA\\240610-nb3vwagf4y.behavioral2.pcapng to z-order\\train\\AGENTTESLA\\240610-nb3vwagf4y.behavioral2.pcapng.png\n",
      "Saved image for data\\PCAPS\\AGENTTESLA\\240610-nbmtnahb86.behavioral1.pcapng to z-order\\train\\AGENTTESLA\\240610-nbmtnahb86.behavioral1.pcapng.png\n",
      "Saved image for data\\PCAPS\\AGENTTESLA\\240610-ncy83shc47.behavioral1.pcapng to z-order\\train\\AGENTTESLA\\240610-ncy83shc47.behavioral1.pcapng.png\n"
     ]
    },
    {
     "name": "stderr",
     "output_type": "stream",
     "text": [
      "WARNING: PcapNg: TLS Key Log available, but the TLS layer is not loaded! Scapy won't be able to decrypt the packets.\n"
     ]
    },
    {
     "name": "stdout",
     "output_type": "stream",
     "text": [
      "Saved image for data\\PCAPS\\AGENTTESLA\\240610-nk13msha51.behavioral1.pcapng to z-order\\train\\AGENTTESLA\\240610-nk13msha51.behavioral1.pcapng.png\n"
     ]
    },
    {
     "name": "stderr",
     "output_type": "stream",
     "text": [
      "WARNING: PcapNg: TLS Key Log available, but the TLS layer is not loaded! Scapy won't be able to decrypt the packets.\n"
     ]
    },
    {
     "name": "stdout",
     "output_type": "stream",
     "text": [
      "Saved image for data\\PCAPS\\AGENTTESLA\\240610-nk13msha51.behavioral2.pcapng to z-order\\train\\AGENTTESLA\\240610-nk13msha51.behavioral2.pcapng.png\n"
     ]
    },
    {
     "name": "stderr",
     "output_type": "stream",
     "text": [
      "WARNING: more PcapNg: TLS Key Log available, but the TLS layer is not loaded! Scapy won't be able to decrypt the packets.\n"
     ]
    },
    {
     "name": "stdout",
     "output_type": "stream",
     "text": [
      "Saved image for data\\PCAPS\\AGENTTESLA\\240610-nk8gqahe94.behavioral1.pcapng to z-order\\train\\AGENTTESLA\\240610-nk8gqahe94.behavioral1.pcapng.png\n",
      "Saved image for data\\PCAPS\\AGENTTESLA\\240610-nk8gqahe94.behavioral2.pcapng to z-order\\train\\AGENTTESLA\\240610-nk8gqahe94.behavioral2.pcapng.png\n"
     ]
    },
    {
     "name": "stderr",
     "output_type": "stream",
     "text": [
      "WARNING: PcapNg: TLS Key Log available, but the TLS layer is not loaded! Scapy won't be able to decrypt the packets.\n"
     ]
    },
    {
     "name": "stdout",
     "output_type": "stream",
     "text": [
      "Saved image for data\\PCAPS\\AGENTTESLA\\240610-nkbgzsgh9z.behavioral1.pcapng to z-order\\train\\AGENTTESLA\\240610-nkbgzsgh9z.behavioral1.pcapng.png\n"
     ]
    },
    {
     "name": "stderr",
     "output_type": "stream",
     "text": [
      "WARNING: PcapNg: TLS Key Log available, but the TLS layer is not loaded! Scapy won't be able to decrypt the packets.\n"
     ]
    },
    {
     "name": "stdout",
     "output_type": "stream",
     "text": [
      "Saved image for data\\PCAPS\\AGENTTESLA\\240610-nkbgzsgh9z.behavioral2.pcapng to z-order\\train\\AGENTTESLA\\240610-nkbgzsgh9z.behavioral2.pcapng.png\n",
      "Skipping data\\PCAPS\\AGENTTESLA\\240610-nkqlxaha4x.behavioral1.pcapng as it is smaller than 2KB\n",
      "Skipping data\\PCAPS\\AGENTTESLA\\240610-nkqlxaha4x.behavioral2.pcapng as it is smaller than 2KB\n",
      "Skipping data\\PCAPS\\AGENTTESLA\\240610-nl9feahb3x.behavioral1.pcapng as it is smaller than 2KB\n",
      "Skipping data\\PCAPS\\AGENTTESLA\\240610-nl9feahb3x.behavioral2.pcapng as it is smaller than 2KB\n"
     ]
    },
    {
     "name": "stderr",
     "output_type": "stream",
     "text": [
      "WARNING: more PcapNg: TLS Key Log available, but the TLS layer is not loaded! Scapy won't be able to decrypt the packets.\n"
     ]
    },
    {
     "name": "stdout",
     "output_type": "stream",
     "text": [
      "Saved image for data\\PCAPS\\AGENTTESLA\\240610-nlgemahf25.behavioral1.pcapng to z-order\\train\\AGENTTESLA\\240610-nlgemahf25.behavioral1.pcapng.png\n",
      "Saved image for data\\PCAPS\\AGENTTESLA\\240610-nlgemahf25.behavioral2.pcapng to z-order\\train\\AGENTTESLA\\240610-nlgemahf25.behavioral2.pcapng.png\n",
      "Skipping data\\PCAPS\\AGENTTESLA\\240610-nlmxeaha8v.behavioral1.pcapng as it is smaller than 2KB\n",
      "Skipping data\\PCAPS\\AGENTTESLA\\240610-nlmxeaha8v.behavioral2.pcapng as it is smaller than 2KB\n"
     ]
    },
    {
     "name": "stderr",
     "output_type": "stream",
     "text": [
      "WARNING: PcapNg: TLS Key Log available, but the TLS layer is not loaded! Scapy won't be able to decrypt the packets.\n"
     ]
    },
    {
     "name": "stdout",
     "output_type": "stream",
     "text": [
      "Saved image for data\\PCAPS\\AGENTTESLA\\240610-nlynxahf49.behavioral1.pcapng to z-order\\train\\AGENTTESLA\\240610-nlynxahf49.behavioral1.pcapng.png\n"
     ]
    },
    {
     "name": "stderr",
     "output_type": "stream",
     "text": [
      "WARNING: PcapNg: TLS Key Log available, but the TLS layer is not loaded! Scapy won't be able to decrypt the packets.\n"
     ]
    },
    {
     "name": "stdout",
     "output_type": "stream",
     "text": [
      "Saved image for data\\PCAPS\\AGENTTESLA\\240610-nlynxahf49.behavioral2.pcapng to z-order\\train\\AGENTTESLA\\240610-nlynxahf49.behavioral2.pcapng.png\n"
     ]
    },
    {
     "name": "stderr",
     "output_type": "stream",
     "text": [
      "WARNING: more PcapNg: TLS Key Log available, but the TLS layer is not loaded! Scapy won't be able to decrypt the packets.\n"
     ]
    },
    {
     "name": "stdout",
     "output_type": "stream",
     "text": [
      "Saved image for data\\PCAPS\\AGENTTESLA\\240610-nqjqjshc61.behavioral1.pcapng to z-order\\train\\AGENTTESLA\\240610-nqjqjshc61.behavioral1.pcapng.png\n",
      "Saved image for data\\PCAPS\\AGENTTESLA\\240610-nqjqjshc61.behavioral2.pcapng to z-order\\train\\AGENTTESLA\\240610-nqjqjshc61.behavioral2.pcapng.png\n",
      "Skipping data\\PCAPS\\ASYNCRAT\\240608-1a82qage8x.behavioral1.pcapng as it is smaller than 2KB\n",
      "Saved image for data\\PCAPS\\ASYNCRAT\\240608-1a82qage8x.behavioral2.pcapng to z-order\\train\\ASYNCRAT\\240608-1a82qage8x.behavioral2.pcapng.png\n",
      "Skipping data\\PCAPS\\ASYNCRAT\\240608-1hf1xagg2t.behavioral1.pcapng as it is smaller than 2KB\n"
     ]
    },
    {
     "name": "stderr",
     "output_type": "stream",
     "text": [
      "WARNING: PcapNg: TLS Key Log available, but the TLS layer is not loaded! Scapy won't be able to decrypt the packets.\n"
     ]
    },
    {
     "name": "stdout",
     "output_type": "stream",
     "text": [
      "Saved image for data\\PCAPS\\ASYNCRAT\\240608-1hf1xagg2t.behavioral2.pcapng to z-order\\train\\ASYNCRAT\\240608-1hf1xagg2t.behavioral2.pcapng.png\n"
     ]
    },
    {
     "name": "stderr",
     "output_type": "stream",
     "text": [
      "WARNING: PcapNg: TLS Key Log available, but the TLS layer is not loaded! Scapy won't be able to decrypt the packets.\n"
     ]
    },
    {
     "name": "stdout",
     "output_type": "stream",
     "text": [
      "Saved image for data\\PCAPS\\ASYNCRAT\\240608-ahly2sfc99.behavioral1.pcapng to z-order\\train\\ASYNCRAT\\240608-ahly2sfc99.behavioral1.pcapng.png\n"
     ]
    },
    {
     "name": "stderr",
     "output_type": "stream",
     "text": [
      "WARNING: PcapNg: TLS Key Log available, but the TLS layer is not loaded! Scapy won't be able to decrypt the packets.\n"
     ]
    },
    {
     "name": "stdout",
     "output_type": "stream",
     "text": [
      "Saved image for data\\PCAPS\\ASYNCRAT\\240608-ahly2sfc99.behavioral2.pcapng to z-order\\train\\ASYNCRAT\\240608-ahly2sfc99.behavioral2.pcapng.png\n"
     ]
    },
    {
     "name": "stderr",
     "output_type": "stream",
     "text": [
      "WARNING: more PcapNg: TLS Key Log available, but the TLS layer is not loaded! Scapy won't be able to decrypt the packets.\n"
     ]
    },
    {
     "name": "stdout",
     "output_type": "stream",
     "text": [
      "Saved image for data\\PCAPS\\ASYNCRAT\\240608-ajddasfd25.behavioral1.pcapng to z-order\\train\\ASYNCRAT\\240608-ajddasfd25.behavioral1.pcapng.png\n",
      "Saved image for data\\PCAPS\\ASYNCRAT\\240608-ajddasfd25.behavioral2.pcapng to z-order\\train\\ASYNCRAT\\240608-ajddasfd25.behavioral2.pcapng.png\n",
      "Saved image for data\\PCAPS\\ASYNCRAT\\240608-aldf3sed5z.behavioral1.pcapng to z-order\\train\\ASYNCRAT\\240608-aldf3sed5z.behavioral1.pcapng.png\n",
      "Saved image for data\\PCAPS\\ASYNCRAT\\240608-aldf3sed5z.behavioral2.pcapng to z-order\\train\\ASYNCRAT\\240608-aldf3sed5z.behavioral2.pcapng.png\n",
      "Saved image for data\\PCAPS\\ASYNCRAT\\240608-asqd8afd79.behavioral1.pcapng to z-order\\train\\ASYNCRAT\\240608-asqd8afd79.behavioral1.pcapng.png\n",
      "Saved image for data\\PCAPS\\ASYNCRAT\\240608-asqd8afd79.behavioral2.pcapng to z-order\\train\\ASYNCRAT\\240608-asqd8afd79.behavioral2.pcapng.png\n",
      "Skipping data\\PCAPS\\ASYNCRAT\\240608-d7dwhsge4s.behavioral1.pcapng as it is smaller than 2KB\n",
      "Saved image for data\\PCAPS\\ASYNCRAT\\240608-d7dwhsge4s.behavioral2.pcapng to z-order\\train\\ASYNCRAT\\240608-d7dwhsge4s.behavioral2.pcapng.png\n",
      "Saved image for data\\PCAPS\\ASYNCRAT\\240608-e15lbsgh9x.behavioral1.pcapng to z-order\\train\\ASYNCRAT\\240608-e15lbsgh9x.behavioral1.pcapng.png\n",
      "Skipping data\\PCAPS\\ASYNCRAT\\240608-kvkxmabe42.behavioral1.pcapng as it is smaller than 2KB\n"
     ]
    },
    {
     "name": "stderr",
     "output_type": "stream",
     "text": [
      "WARNING: PcapNg: TLS Key Log available, but the TLS layer is not loaded! Scapy won't be able to decrypt the packets.\n"
     ]
    },
    {
     "name": "stdout",
     "output_type": "stream",
     "text": [
      "Saved image for data\\PCAPS\\ASYNCRAT\\240608-kvkxmabe42.behavioral2.pcapng to z-order\\train\\ASYNCRAT\\240608-kvkxmabe42.behavioral2.pcapng.png\n",
      "Skipping data\\PCAPS\\ASYNCRAT\\240608-lqklqsbf63.behavioral1.pcapng as it is smaller than 2KB\n"
     ]
    },
    {
     "name": "stderr",
     "output_type": "stream",
     "text": [
      "WARNING: PcapNg: TLS Key Log available, but the TLS layer is not loaded! Scapy won't be able to decrypt the packets.\n"
     ]
    },
    {
     "name": "stdout",
     "output_type": "stream",
     "text": [
      "Saved image for data\\PCAPS\\ASYNCRAT\\240608-lqklqsbf63.behavioral2.pcapng to z-order\\train\\ASYNCRAT\\240608-lqklqsbf63.behavioral2.pcapng.png\n",
      "Skipping data\\PCAPS\\ASYNCRAT\\240608-splkzacg9v.behavioral1.pcapng as it is smaller than 2KB\n"
     ]
    },
    {
     "name": "stderr",
     "output_type": "stream",
     "text": [
      "WARNING: more PcapNg: TLS Key Log available, but the TLS layer is not loaded! Scapy won't be able to decrypt the packets.\n"
     ]
    },
    {
     "name": "stdout",
     "output_type": "stream",
     "text": [
      "Saved image for data\\PCAPS\\ASYNCRAT\\240608-splkzacg9v.behavioral2.pcapng to z-order\\train\\ASYNCRAT\\240608-splkzacg9v.behavioral2.pcapng.png\n",
      "Saved image for data\\PCAPS\\ASYNCRAT\\240608-tf7mhsea34.behavioral1.pcapng to z-order\\train\\ASYNCRAT\\240608-tf7mhsea34.behavioral1.pcapng.png\n",
      "Saved image for data\\PCAPS\\ASYNCRAT\\240608-tf7mhsea34.behavioral2.pcapng to z-order\\train\\ASYNCRAT\\240608-tf7mhsea34.behavioral2.pcapng.png\n",
      "Skipping data\\PCAPS\\ASYNCRAT\\240608-ws439seb9v.behavioral1.pcapng as it is smaller than 2KB\n",
      "Saved image for data\\PCAPS\\ASYNCRAT\\240608-ws439seb9v.behavioral2.pcapng to z-order\\train\\ASYNCRAT\\240608-ws439seb9v.behavioral2.pcapng.png\n",
      "Skipping data\\PCAPS\\ASYNCRAT\\240608-ww7cssec5w.behavioral1.pcapng as it is smaller than 2KB\n",
      "Saved image for data\\PCAPS\\ASYNCRAT\\240608-ww7cssec5w.behavioral2.pcapng to z-order\\train\\ASYNCRAT\\240608-ww7cssec5w.behavioral2.pcapng.png\n",
      "Skipping data\\PCAPS\\ASYNCRAT\\240608-wyz2hafb42.behavioral1.pcapng as it is smaller than 2KB\n",
      "Saved image for data\\PCAPS\\ASYNCRAT\\240608-wyz2hafb42.behavioral2.pcapng to z-order\\train\\ASYNCRAT\\240608-wyz2hafb42.behavioral2.pcapng.png\n",
      "Skipping data\\PCAPS\\ASYNCRAT\\240609-b3rkpsbf8t.behavioral1.pcapng as it is smaller than 2KB\n",
      "Saved image for data\\PCAPS\\ASYNCRAT\\240609-b3rkpsbf8t.behavioral2.pcapng to z-order\\train\\ASYNCRAT\\240609-b3rkpsbf8t.behavioral2.pcapng.png\n",
      "Saved image for data\\PCAPS\\ASYNCRAT\\240609-bf9srsbb8y.behavioral1.pcapng to z-order\\train\\ASYNCRAT\\240609-bf9srsbb8y.behavioral1.pcapng.png\n",
      "Saved image for data\\PCAPS\\ASYNCRAT\\240609-bf9srsbb8y.behavioral2.pcapng to z-order\\train\\ASYNCRAT\\240609-bf9srsbb8y.behavioral2.pcapng.png\n",
      "Saved image for data\\PCAPS\\ASYNCRAT\\240609-h6tb2agc36.behavioral1.pcapng to z-order\\train\\ASYNCRAT\\240609-h6tb2agc36.behavioral1.pcapng.png\n"
     ]
    },
    {
     "name": "stderr",
     "output_type": "stream",
     "text": [
      "WARNING: PcapNg: TLS Key Log available, but the TLS layer is not loaded! Scapy won't be able to decrypt the packets.\n"
     ]
    },
    {
     "name": "stdout",
     "output_type": "stream",
     "text": [
      "Saved image for data\\PCAPS\\ASYNCRAT\\240609-h98wwsgc82.behavioral1.pcapng to z-order\\train\\ASYNCRAT\\240609-h98wwsgc82.behavioral1.pcapng.png\n"
     ]
    },
    {
     "name": "stderr",
     "output_type": "stream",
     "text": [
      "WARNING: PcapNg: TLS Key Log available, but the TLS layer is not loaded! Scapy won't be able to decrypt the packets.\n"
     ]
    },
    {
     "name": "stdout",
     "output_type": "stream",
     "text": [
      "Saved image for data\\PCAPS\\ASYNCRAT\\240609-h9s6fagc72.behavioral1.pcapng to z-order\\train\\ASYNCRAT\\240609-h9s6fagc72.behavioral1.pcapng.png\n"
     ]
    },
    {
     "name": "stderr",
     "output_type": "stream",
     "text": [
      "WARNING: PcapNg: TLS Key Log available, but the TLS layer is not loaded! Scapy won't be able to decrypt the packets.\n"
     ]
    },
    {
     "name": "stdout",
     "output_type": "stream",
     "text": [
      "Saved image for data\\PCAPS\\ASYNCRAT\\240609-h9s6fagc72.behavioral2.pcapng to z-order\\train\\ASYNCRAT\\240609-h9s6fagc72.behavioral2.pcapng.png\n"
     ]
    },
    {
     "name": "stderr",
     "output_type": "stream",
     "text": [
      "WARNING: more PcapNg: TLS Key Log available, but the TLS layer is not loaded! Scapy won't be able to decrypt the packets.\n"
     ]
    },
    {
     "name": "stdout",
     "output_type": "stream",
     "text": [
      "Saved image for data\\PCAPS\\ASYNCRAT\\240609-lzje2ahg49.behavioral1.pcapng to z-order\\train\\ASYNCRAT\\240609-lzje2ahg49.behavioral1.pcapng.png\n",
      "Saved image for data\\PCAPS\\ASYNCRAT\\240609-lzje2ahg49.behavioral2.pcapng to z-order\\train\\ASYNCRAT\\240609-lzje2ahg49.behavioral2.pcapng.png\n",
      "Skipping data\\PCAPS\\ASYNCRAT\\240609-mmlv3aab63.behavioral1.pcapng as it is smaller than 2KB\n",
      "Saved image for data\\PCAPS\\ASYNCRAT\\240609-mmlv3aab63.behavioral2.pcapng to z-order\\train\\ASYNCRAT\\240609-mmlv3aab63.behavioral2.pcapng.png\n",
      "Saved image for data\\PCAPS\\ASYNCRAT\\240609-n5rppsba35.behavioral1.pcapng to z-order\\train\\ASYNCRAT\\240609-n5rppsba35.behavioral1.pcapng.png\n",
      "Saved image for data\\PCAPS\\ASYNCRAT\\240609-shqlcace48.behavioral1.pcapng to z-order\\train\\ASYNCRAT\\240609-shqlcace48.behavioral1.pcapng.png\n",
      "Saved image for data\\PCAPS\\ASYNCRAT\\240609-shqlcace48.behavioral2.pcapng to z-order\\train\\ASYNCRAT\\240609-shqlcace48.behavioral2.pcapng.png\n",
      "Saved image for data\\PCAPS\\ASYNCRAT\\240609-tzgkfadb25.behavioral1.pcapng to z-order\\train\\ASYNCRAT\\240609-tzgkfadb25.behavioral1.pcapng.png\n",
      "Saved image for data\\PCAPS\\ASYNCRAT\\240609-tzgkfadb25.behavioral2.pcapng to z-order\\train\\ASYNCRAT\\240609-tzgkfadb25.behavioral2.pcapng.png\n"
     ]
    },
    {
     "name": "stderr",
     "output_type": "stream",
     "text": [
      "WARNING: PcapNg: TLS Key Log available, but the TLS layer is not loaded! Scapy won't be able to decrypt the packets.\n"
     ]
    },
    {
     "name": "stdout",
     "output_type": "stream",
     "text": [
      "Saved image for data\\PCAPS\\ASYNCRAT\\240609-w2qbgaeb64.behavioral1.pcapng to z-order\\train\\ASYNCRAT\\240609-w2qbgaeb64.behavioral1.pcapng.png\n"
     ]
    },
    {
     "name": "stderr",
     "output_type": "stream",
     "text": [
      "WARNING: PcapNg: TLS Key Log available, but the TLS layer is not loaded! Scapy won't be able to decrypt the packets.\n"
     ]
    },
    {
     "name": "stdout",
     "output_type": "stream",
     "text": [
      "Saved image for data\\PCAPS\\ASYNCRAT\\240609-wm3m9aea22.behavioral1.pcapng to z-order\\train\\ASYNCRAT\\240609-wm3m9aea22.behavioral1.pcapng.png\n"
     ]
    },
    {
     "name": "stderr",
     "output_type": "stream",
     "text": [
      "WARNING: more PcapNg: TLS Key Log available, but the TLS layer is not loaded! Scapy won't be able to decrypt the packets.\n"
     ]
    },
    {
     "name": "stdout",
     "output_type": "stream",
     "text": [
      "Saved image for data\\PCAPS\\ASYNCRAT\\240609-wm3m9aea22.behavioral2.pcapng to z-order\\train\\ASYNCRAT\\240609-wm3m9aea22.behavioral2.pcapng.png\n"
     ]
    },
    {
     "name": "stderr",
     "output_type": "stream",
     "text": [
      "WARNING: PcapNg: TLS Key Log available, but the TLS layer is not loaded! Scapy won't be able to decrypt the packets.\n"
     ]
    },
    {
     "name": "stdout",
     "output_type": "stream",
     "text": [
      "Saved image for data\\PCAPS\\ASYNCRAT\\240609-x1q22sef82.behavioral1.pcapng to z-order\\train\\ASYNCRAT\\240609-x1q22sef82.behavioral1.pcapng.png\n"
     ]
    },
    {
     "name": "stderr",
     "output_type": "stream",
     "text": [
      "WARNING: PcapNg: TLS Key Log available, but the TLS layer is not loaded! Scapy won't be able to decrypt the packets.\n"
     ]
    },
    {
     "name": "stdout",
     "output_type": "stream",
     "text": [
      "Saved image for data\\PCAPS\\ASYNCRAT\\240609-zadedafc97.behavioral1.pcapng to z-order\\train\\ASYNCRAT\\240609-zadedafc97.behavioral1.pcapng.png\n"
     ]
    },
    {
     "name": "stderr",
     "output_type": "stream",
     "text": [
      "WARNING: PcapNg: TLS Key Log available, but the TLS layer is not loaded! Scapy won't be able to decrypt the packets.\n"
     ]
    },
    {
     "name": "stdout",
     "output_type": "stream",
     "text": [
      "Saved image for data\\PCAPS\\ASYNCRAT\\240609-zgynwsfd67.behavioral1.pcapng to z-order\\train\\ASYNCRAT\\240609-zgynwsfd67.behavioral1.pcapng.png\n"
     ]
    },
    {
     "name": "stderr",
     "output_type": "stream",
     "text": [
      "WARNING: PcapNg: TLS Key Log available, but the TLS layer is not loaded! Scapy won't be able to decrypt the packets.\n"
     ]
    },
    {
     "name": "stdout",
     "output_type": "stream",
     "text": [
      "Saved image for data\\PCAPS\\ASYNCRAT\\240609-zgynwsfd67.behavioral2.pcapng to z-order\\train\\ASYNCRAT\\240609-zgynwsfd67.behavioral2.pcapng.png\n",
      "Skipping data\\PCAPS\\ASYNCRAT\\240610-fknhjscd2z.behavioral1.pcapng as it is smaller than 2KB\n"
     ]
    },
    {
     "name": "stderr",
     "output_type": "stream",
     "text": [
      "WARNING: more PcapNg: TLS Key Log available, but the TLS layer is not loaded! Scapy won't be able to decrypt the packets.\n"
     ]
    },
    {
     "name": "stdout",
     "output_type": "stream",
     "text": [
      "Saved image for data\\PCAPS\\ASYNCRAT\\240610-fknhjscd2z.behavioral2.pcapng to z-order\\train\\ASYNCRAT\\240610-fknhjscd2z.behavioral2.pcapng.png\n",
      "Saved image for data\\PCAPS\\ASYNCRAT\\240610-j461saec7z.behavioral1.pcapng to z-order\\train\\ASYNCRAT\\240610-j461saec7z.behavioral1.pcapng.png\n",
      "Saved image for data\\PCAPS\\ASYNCRAT\\240610-jpwlhaeg96.behavioral1.pcapng to z-order\\train\\ASYNCRAT\\240610-jpwlhaeg96.behavioral1.pcapng.png\n",
      "Saved image for data\\PCAPS\\ASYNCRAT\\240610-jpwlhaeg96.behavioral2.pcapng to z-order\\train\\ASYNCRAT\\240610-jpwlhaeg96.behavioral2.pcapng.png\n",
      "Saved image for data\\PCAPS\\ASYNCRAT\\240610-nk45asha6y.behavioral1.pcapng to z-order\\train\\ASYNCRAT\\240610-nk45asha6y.behavioral1.pcapng.png\n",
      "Saved image for data\\PCAPS\\ASYNCRAT\\240610-nk45asha6y.behavioral2.pcapng to z-order\\train\\ASYNCRAT\\240610-nk45asha6y.behavioral2.pcapng.png\n",
      "Skipping data\\PCAPS\\AZORULT\\240531-1zdbcafh74.behavioral1.pcapng as it is smaller than 2KB\n",
      "Saved image for data\\PCAPS\\AZORULT\\240531-1zdbcafh74.behavioral2.pcapng to z-order\\train\\AZORULT\\240531-1zdbcafh74.behavioral2.pcapng.png\n",
      "Skipping data\\PCAPS\\AZORULT\\240531-qdjacsad23.behavioral1.pcapng as it is smaller than 2KB\n",
      "Saved image for data\\PCAPS\\AZORULT\\240531-qdjacsad23.behavioral2.pcapng to z-order\\train\\AZORULT\\240531-qdjacsad23.behavioral2.pcapng.png\n"
     ]
    },
    {
     "name": "stderr",
     "output_type": "stream",
     "text": [
      "WARNING: PcapNg: TLS Key Log available, but the TLS layer is not loaded! Scapy won't be able to decrypt the packets.\n"
     ]
    },
    {
     "name": "stdout",
     "output_type": "stream",
     "text": [
      "Saved image for data\\PCAPS\\AZORULT\\240531-qf4n3sae22.behavioral1.pcapng to z-order\\train\\AZORULT\\240531-qf4n3sae22.behavioral1.pcapng.png\n"
     ]
    },
    {
     "name": "stderr",
     "output_type": "stream",
     "text": [
      "WARNING: PcapNg: TLS Key Log available, but the TLS layer is not loaded! Scapy won't be able to decrypt the packets.\n"
     ]
    },
    {
     "name": "stdout",
     "output_type": "stream",
     "text": [
      "Saved image for data\\PCAPS\\AZORULT\\240531-qf4n3sae22.behavioral2.pcapng to z-order\\train\\AZORULT\\240531-qf4n3sae22.behavioral2.pcapng.png\n",
      "Skipping data\\PCAPS\\AZORULT\\240531-rd2mdabe32.behavioral1.pcapng as it is smaller than 2KB\n"
     ]
    },
    {
     "name": "stderr",
     "output_type": "stream",
     "text": [
      "WARNING: more PcapNg: TLS Key Log available, but the TLS layer is not loaded! Scapy won't be able to decrypt the packets.\n"
     ]
    },
    {
     "name": "stdout",
     "output_type": "stream",
     "text": [
      "Saved image for data\\PCAPS\\AZORULT\\240531-rd2mdabe32.behavioral2.pcapng to z-order\\train\\AZORULT\\240531-rd2mdabe32.behavioral2.pcapng.png\n",
      "Skipping data\\PCAPS\\AZORULT\\240601-3lbayaah4y.behavioral1.pcapng as it is smaller than 2KB\n",
      "Saved image for data\\PCAPS\\AZORULT\\240601-3lbayaah4y.behavioral2.pcapng to z-order\\train\\AZORULT\\240601-3lbayaah4y.behavioral2.pcapng.png\n",
      "Skipping data\\PCAPS\\AZORULT\\240601-bz9l4sdb61.behavioral1.pcapng as it is smaller than 2KB\n",
      "Saved image for data\\PCAPS\\AZORULT\\240601-bz9l4sdb61.behavioral2.pcapng to z-order\\train\\AZORULT\\240601-bz9l4sdb61.behavioral2.pcapng.png\n",
      "Skipping data\\PCAPS\\AZORULT\\240601-hya6gsde5z.behavioral1.pcapng as it is smaller than 2KB\n",
      "Saved image for data\\PCAPS\\AZORULT\\240601-hya6gsde5z.behavioral2.pcapng to z-order\\train\\AZORULT\\240601-hya6gsde5z.behavioral2.pcapng.png\n",
      "Skipping data\\PCAPS\\AZORULT\\240601-k99jjagd8t.behavioral1.pcapng as it is smaller than 2KB\n",
      "Saved image for data\\PCAPS\\AZORULT\\240601-k99jjagd8t.behavioral2.pcapng to z-order\\train\\AZORULT\\240601-k99jjagd8t.behavioral2.pcapng.png\n",
      "Saved image for data\\PCAPS\\AZORULT\\240601-l5t4qahe4t.behavioral1.pcapng to z-order\\train\\AZORULT\\240601-l5t4qahe4t.behavioral1.pcapng.png\n",
      "Skipping data\\PCAPS\\AZORULT\\240601-mkkvzsaa4w.behavioral1.pcapng as it is smaller than 2KB\n",
      "Saved image for data\\PCAPS\\AZORULT\\240601-mkkvzsaa4w.behavioral2.pcapng to z-order\\train\\AZORULT\\240601-mkkvzsaa4w.behavioral2.pcapng.png\n",
      "Skipping data\\PCAPS\\AZORULT\\240601-swxltafe8s.behavioral1.pcapng as it is smaller than 2KB\n",
      "Saved image for data\\PCAPS\\AZORULT\\240601-swxltafe8s.behavioral2.pcapng to z-order\\train\\AZORULT\\240601-swxltafe8s.behavioral2.pcapng.png\n"
     ]
    },
    {
     "name": "stderr",
     "output_type": "stream",
     "text": [
      "WARNING: PcapNg: TLS Key Log available, but the TLS layer is not loaded! Scapy won't be able to decrypt the packets.\n"
     ]
    },
    {
     "name": "stdout",
     "output_type": "stream",
     "text": [
      "Saved image for data\\PCAPS\\AZORULT\\240601-td1fesgg43.behavioral1.pcapng to z-order\\train\\AZORULT\\240601-td1fesgg43.behavioral1.pcapng.png\n",
      "Skipping data\\PCAPS\\AZORULT\\240601-tttmtahb39.behavioral1.pcapng as it is smaller than 2KB\n"
     ]
    },
    {
     "name": "stderr",
     "output_type": "stream",
     "text": [
      "WARNING: PcapNg: TLS Key Log available, but the TLS layer is not loaded! Scapy won't be able to decrypt the packets.\n"
     ]
    },
    {
     "name": "stdout",
     "output_type": "stream",
     "text": [
      "Saved image for data\\PCAPS\\AZORULT\\240601-tttmtahb39.behavioral2.pcapng to z-order\\train\\AZORULT\\240601-tttmtahb39.behavioral2.pcapng.png\n",
      "Skipping data\\PCAPS\\AZORULT\\240601-wrsnvabc26.behavioral1.pcapng as it is smaller than 2KB\n"
     ]
    },
    {
     "name": "stderr",
     "output_type": "stream",
     "text": [
      "WARNING: more PcapNg: TLS Key Log available, but the TLS layer is not loaded! Scapy won't be able to decrypt the packets.\n"
     ]
    },
    {
     "name": "stdout",
     "output_type": "stream",
     "text": [
      "Saved image for data\\PCAPS\\AZORULT\\240601-wrsnvabc26.behavioral2.pcapng to z-order\\train\\AZORULT\\240601-wrsnvabc26.behavioral2.pcapng.png\n",
      "Saved image for data\\PCAPS\\AZORULT\\240602-cz3dgafh7s.behavioral1.pcapng to z-order\\train\\AZORULT\\240602-cz3dgafh7s.behavioral1.pcapng.png\n",
      "Saved image for data\\PCAPS\\AZORULT\\240602-cz3dgafh7s.behavioral2.pcapng to z-order\\train\\AZORULT\\240602-cz3dgafh7s.behavioral2.pcapng.png\n",
      "Skipping data\\PCAPS\\AZORULT\\240602-d9e7csac79.behavioral1.pcapng as it is smaller than 2KB\n",
      "Saved image for data\\PCAPS\\AZORULT\\240602-d9e7csac79.behavioral2.pcapng to z-order\\train\\AZORULT\\240602-d9e7csac79.behavioral2.pcapng.png\n",
      "Saved image for data\\PCAPS\\AZORULT\\240602-f5dtvada29.behavioral1.pcapng to z-order\\train\\AZORULT\\240602-f5dtvada29.behavioral1.pcapng.png\n",
      "Saved image for data\\PCAPS\\AZORULT\\240602-f5dtvada29.behavioral2.pcapng to z-order\\train\\AZORULT\\240602-f5dtvada29.behavioral2.pcapng.png\n",
      "Skipping data\\PCAPS\\AZORULT\\240602-hxr3lsed9s.behavioral1.pcapng as it is smaller than 2KB\n",
      "Saved image for data\\PCAPS\\AZORULT\\240602-hxr3lsed9s.behavioral2.pcapng to z-order\\train\\AZORULT\\240602-hxr3lsed9s.behavioral2.pcapng.png\n",
      "Saved image for data\\PCAPS\\AZORULT\\240602-w4hpeaaf6v.behavioral1.pcapng to z-order\\train\\AZORULT\\240602-w4hpeaaf6v.behavioral1.pcapng.png\n",
      "Saved image for data\\PCAPS\\AZORULT\\240602-w4hpeaaf6v.behavioral2.pcapng to z-order\\train\\AZORULT\\240602-w4hpeaaf6v.behavioral2.pcapng.png\n",
      "Skipping data\\PCAPS\\AZORULT\\240603-2wf4hach93.behavioral1.pcapng as it is smaller than 2KB\n",
      "Saved image for data\\PCAPS\\AZORULT\\240603-2wf4hach93.behavioral2.pcapng to z-order\\train\\AZORULT\\240603-2wf4hach93.behavioral2.pcapng.png\n",
      "Saved image for data\\PCAPS\\AZORULT\\240603-b9xejagd37.behavioral1.pcapng to z-order\\train\\AZORULT\\240603-b9xejagd37.behavioral1.pcapng.png\n",
      "Saved image for data\\PCAPS\\AZORULT\\240603-b9xejagd37.behavioral2.pcapng to z-order\\train\\AZORULT\\240603-b9xejagd37.behavioral2.pcapng.png\n",
      "Saved image for data\\PCAPS\\AZORULT\\240603-l1e41aag5t.behavioral1.pcapng to z-order\\train\\AZORULT\\240603-l1e41aag5t.behavioral1.pcapng.png\n",
      "Saved image for data\\PCAPS\\AZORULT\\240603-l1e41aag5t.behavioral2.pcapng to z-order\\train\\AZORULT\\240603-l1e41aag5t.behavioral2.pcapng.png\n",
      "Skipping data\\PCAPS\\AZORULT\\240603-p966mafc7t.behavioral1.pcapng as it is smaller than 2KB\n",
      "Saved image for data\\PCAPS\\AZORULT\\240603-p966mafc7t.behavioral2.pcapng to z-order\\train\\AZORULT\\240603-p966mafc7t.behavioral2.pcapng.png\n",
      "Skipping data\\PCAPS\\AZORULT\\240603-sdp41sac6w.behavioral1.pcapng as it is smaller than 2KB\n"
     ]
    },
    {
     "name": "stderr",
     "output_type": "stream",
     "text": [
      "WARNING: PcapNg: TLS Key Log available, but the TLS layer is not loaded! Scapy won't be able to decrypt the packets.\n"
     ]
    },
    {
     "name": "stdout",
     "output_type": "stream",
     "text": [
      "Saved image for data\\PCAPS\\AZORULT\\240603-sdp41sac6w.behavioral2.pcapng to z-order\\train\\AZORULT\\240603-sdp41sac6w.behavioral2.pcapng.png\n"
     ]
    },
    {
     "name": "stderr",
     "output_type": "stream",
     "text": [
      "WARNING: PcapNg: TLS Key Log available, but the TLS layer is not loaded! Scapy won't be able to decrypt the packets.\n"
     ]
    },
    {
     "name": "stdout",
     "output_type": "stream",
     "text": [
      "Saved image for data\\PCAPS\\AZORULT\\240603-vcz9pscg8y.behavioral1.pcapng to z-order\\train\\AZORULT\\240603-vcz9pscg8y.behavioral1.pcapng.png\n"
     ]
    },
    {
     "name": "stderr",
     "output_type": "stream",
     "text": [
      "WARNING: more PcapNg: TLS Key Log available, but the TLS layer is not loaded! Scapy won't be able to decrypt the packets.\n"
     ]
    },
    {
     "name": "stdout",
     "output_type": "stream",
     "text": [
      "Saved image for data\\PCAPS\\AZORULT\\240603-vcz9pscg8y.behavioral2.pcapng to z-order\\train\\AZORULT\\240603-vcz9pscg8y.behavioral2.pcapng.png\n",
      "Saved image for data\\PCAPS\\AZORULT\\240603-zw3amaac82.behavioral1.pcapng to z-order\\train\\AZORULT\\240603-zw3amaac82.behavioral1.pcapng.png\n",
      "Saved image for data\\PCAPS\\AZORULT\\240603-zw3amaac82.behavioral2.pcapng to z-order\\train\\AZORULT\\240603-zw3amaac82.behavioral2.pcapng.png\n",
      "Skipping data\\PCAPS\\AZORULT\\240604-b836pahh78.behavioral1.pcapng as it is smaller than 2KB\n",
      "Saved image for data\\PCAPS\\AZORULT\\240604-b836pahh78.behavioral2.pcapng to z-order\\train\\AZORULT\\240604-b836pahh78.behavioral2.pcapng.png\n",
      "Saved image for data\\PCAPS\\AZORULT\\240604-ngjn7aeh77.behavioral1.pcapng to z-order\\train\\AZORULT\\240604-ngjn7aeh77.behavioral1.pcapng.png\n",
      "Saved image for data\\PCAPS\\AZORULT\\240604-ngjn7aeh77.behavioral2.pcapng to z-order\\train\\AZORULT\\240604-ngjn7aeh77.behavioral2.pcapng.png\n"
     ]
    },
    {
     "name": "stderr",
     "output_type": "stream",
     "text": [
      "WARNING: PcapNg: TLS Key Log available, but the TLS layer is not loaded! Scapy won't be able to decrypt the packets.\n"
     ]
    },
    {
     "name": "stdout",
     "output_type": "stream",
     "text": [
      "Saved image for data\\PCAPS\\AZORULT\\240604-vzm8nadh6z.behavioral1.pcapng to z-order\\train\\AZORULT\\240604-vzm8nadh6z.behavioral1.pcapng.png\n"
     ]
    },
    {
     "name": "stderr",
     "output_type": "stream",
     "text": [
      "WARNING: PcapNg: TLS Key Log available, but the TLS layer is not loaded! Scapy won't be able to decrypt the packets.\n"
     ]
    },
    {
     "name": "stdout",
     "output_type": "stream",
     "text": [
      "Saved image for data\\PCAPS\\AZORULT\\240604-vzm8nadh6z.behavioral2.pcapng to z-order\\train\\AZORULT\\240604-vzm8nadh6z.behavioral2.pcapng.png\n"
     ]
    },
    {
     "name": "stderr",
     "output_type": "stream",
     "text": [
      "WARNING: more PcapNg: TLS Key Log available, but the TLS layer is not loaded! Scapy won't be able to decrypt the packets.\n"
     ]
    },
    {
     "name": "stdout",
     "output_type": "stream",
     "text": [
      "Saved image for data\\PCAPS\\AZORULT\\240604-w4depafd3w.behavioral1.pcapng to z-order\\train\\AZORULT\\240604-w4depafd3w.behavioral1.pcapng.png\n",
      "Saved image for data\\PCAPS\\AZORULT\\240604-w4depafd3w.behavioral2.pcapng to z-order\\train\\AZORULT\\240604-w4depafd3w.behavioral2.pcapng.png\n",
      "Skipping data\\PCAPS\\AZORULT\\240604-yzqkkaaa7t.behavioral1.pcapng as it is smaller than 2KB\n",
      "Saved image for data\\PCAPS\\AZORULT\\240604-yzqkkaaa7t.behavioral2.pcapng to z-order\\train\\AZORULT\\240604-yzqkkaaa7t.behavioral2.pcapng.png\n",
      "Saved image for data\\PCAPS\\AZORULT\\240604-zg6phaag5y.behavioral1.pcapng to z-order\\train\\AZORULT\\240604-zg6phaag5y.behavioral1.pcapng.png\n",
      "Saved image for data\\PCAPS\\AZORULT\\240604-zg6phaag5y.behavioral2.pcapng to z-order\\train\\AZORULT\\240604-zg6phaag5y.behavioral2.pcapng.png\n",
      "Skipping data\\PCAPS\\AZORULT\\240605-3zn4ysdb88.behavioral1.pcapng as it is smaller than 2KB\n",
      "Saved image for data\\PCAPS\\AZORULT\\240605-3zn4ysdb88.behavioral2.pcapng to z-order\\train\\AZORULT\\240605-3zn4ysdb88.behavioral2.pcapng.png\n",
      "Saved image for data\\PCAPS\\AZORULT\\240605-a1791agg9v.behavioral1.pcapng to z-order\\train\\AZORULT\\240605-a1791agg9v.behavioral1.pcapng.png\n",
      "Saved image for data\\PCAPS\\AZORULT\\240605-a1791agg9v.behavioral2.pcapng to z-order\\train\\AZORULT\\240605-a1791agg9v.behavioral2.pcapng.png\n",
      "Saved image for data\\PCAPS\\AZORULT\\240605-bb5cgshc5z.behavioral1.pcapng to z-order\\train\\AZORULT\\240605-bb5cgshc5z.behavioral1.pcapng.png\n",
      "Saved image for data\\PCAPS\\AZORULT\\240605-bb5cgshc5z.behavioral2.pcapng to z-order\\train\\AZORULT\\240605-bb5cgshc5z.behavioral2.pcapng.png\n",
      "Saved image for data\\PCAPS\\AZORULT\\240605-ncpdwaeg52.behavioral1.pcapng to z-order\\train\\AZORULT\\240605-ncpdwaeg52.behavioral1.pcapng.png\n",
      "Saved image for data\\PCAPS\\AZORULT\\240605-ncpdwaeg52.behavioral2.pcapng to z-order\\train\\AZORULT\\240605-ncpdwaeg52.behavioral2.pcapng.png\n",
      "Skipping data\\PCAPS\\AZORULT\\240605-pzvpvafg4x.behavioral1.pcapng as it is smaller than 2KB\n",
      "Saved image for data\\PCAPS\\AZORULT\\240605-pzvpvafg4x.behavioral2.pcapng to z-order\\train\\AZORULT\\240605-pzvpvafg4x.behavioral2.pcapng.png\n",
      "Saved image for data\\PCAPS\\AZORULT\\240605-rxbv3ahg6z.behavioral1.pcapng to z-order\\train\\AZORULT\\240605-rxbv3ahg6z.behavioral1.pcapng.png\n"
     ]
    },
    {
     "name": "stderr",
     "output_type": "stream",
     "text": [
      "WARNING: PcapNg: TLS Key Log available, but the TLS layer is not loaded! Scapy won't be able to decrypt the packets.\n"
     ]
    },
    {
     "name": "stdout",
     "output_type": "stream",
     "text": [
      "Saved image for data\\PCAPS\\AZORULT\\240605-rxbv3ahg6z.behavioral2.pcapng to z-order\\train\\AZORULT\\240605-rxbv3ahg6z.behavioral2.pcapng.png\n",
      "Skipping data\\PCAPS\\AZORULT\\240605-xwjr6sga59.behavioral1.pcapng as it is smaller than 2KB\n"
     ]
    },
    {
     "name": "stderr",
     "output_type": "stream",
     "text": [
      "WARNING: PcapNg: TLS Key Log available, but the TLS layer is not loaded! Scapy won't be able to decrypt the packets.\n"
     ]
    },
    {
     "name": "stdout",
     "output_type": "stream",
     "text": [
      "Saved image for data\\PCAPS\\AZORULT\\240605-xwjr6sga59.behavioral2.pcapng to z-order\\train\\AZORULT\\240605-xwjr6sga59.behavioral2.pcapng.png\n"
     ]
    },
    {
     "name": "stderr",
     "output_type": "stream",
     "text": [
      "WARNING: more PcapNg: TLS Key Log available, but the TLS layer is not loaded! Scapy won't be able to decrypt the packets.\n"
     ]
    },
    {
     "name": "stdout",
     "output_type": "stream",
     "text": [
      "Saved image for data\\PCAPS\\AZORULT\\240606-nlj6hsde4v.behavioral1.pcapng to z-order\\train\\AZORULT\\240606-nlj6hsde4v.behavioral1.pcapng.png\n",
      "Saved image for data\\PCAPS\\AZORULT\\240606-nlj6hsde4v.behavioral2.pcapng to z-order\\train\\AZORULT\\240606-nlj6hsde4v.behavioral2.pcapng.png\n"
     ]
    },
    {
     "name": "stderr",
     "output_type": "stream",
     "text": [
      "WARNING: PcapNg: TLS Key Log available, but the TLS layer is not loaded! Scapy won't be able to decrypt the packets.\n"
     ]
    },
    {
     "name": "stdout",
     "output_type": "stream",
     "text": [
      "Saved image for data\\PCAPS\\AZORULT\\240606-ygzqhsba9s.behavioral1.pcapng to z-order\\train\\AZORULT\\240606-ygzqhsba9s.behavioral1.pcapng.png\n"
     ]
    },
    {
     "name": "stderr",
     "output_type": "stream",
     "text": [
      "WARNING: PcapNg: TLS Key Log available, but the TLS layer is not loaded! Scapy won't be able to decrypt the packets.\n"
     ]
    },
    {
     "name": "stdout",
     "output_type": "stream",
     "text": [
      "Saved image for data\\PCAPS\\AZORULT\\240606-ygzqhsba9s.behavioral2.pcapng to z-order\\train\\AZORULT\\240606-ygzqhsba9s.behavioral2.pcapng.png\n"
     ]
    },
    {
     "name": "stderr",
     "output_type": "stream",
     "text": [
      "WARNING: more PcapNg: TLS Key Log available, but the TLS layer is not loaded! Scapy won't be able to decrypt the packets.\n"
     ]
    },
    {
     "name": "stdout",
     "output_type": "stream",
     "text": [
      "Saved image for data\\PCAPS\\AZORULT\\240607-c56cbahd67.behavioral1.pcapng to z-order\\train\\AZORULT\\240607-c56cbahd67.behavioral1.pcapng.png\n",
      "Saved image for data\\PCAPS\\AZORULT\\240607-c56cbahd67.behavioral2.pcapng to z-order\\train\\AZORULT\\240607-c56cbahd67.behavioral2.pcapng.png\n",
      "Saved image for data\\PCAPS\\AZORULT\\240607-ev7hqsaf29.behavioral1.pcapng to z-order\\train\\AZORULT\\240607-ev7hqsaf29.behavioral1.pcapng.png\n",
      "Saved image for data\\PCAPS\\AZORULT\\240607-ev7hqsaf29.behavioral2.pcapng to z-order\\train\\AZORULT\\240607-ev7hqsaf29.behavioral2.pcapng.png\n",
      "Saved image for data\\PCAPS\\AZORULT\\240608-v7854aeg42.behavioral1.pcapng to z-order\\train\\AZORULT\\240608-v7854aeg42.behavioral1.pcapng.png\n"
     ]
    },
    {
     "name": "stderr",
     "output_type": "stream",
     "text": [
      "WARNING: PcapNg: TLS Key Log available, but the TLS layer is not loaded! Scapy won't be able to decrypt the packets.\n"
     ]
    },
    {
     "name": "stdout",
     "output_type": "stream",
     "text": [
      "Saved image for data\\PCAPS\\AZORULT\\240608-xhzw8sef7w.behavioral1.pcapng to z-order\\train\\AZORULT\\240608-xhzw8sef7w.behavioral1.pcapng.png\n"
     ]
    },
    {
     "name": "stderr",
     "output_type": "stream",
     "text": [
      "WARNING: PcapNg: TLS Key Log available, but the TLS layer is not loaded! Scapy won't be able to decrypt the packets.\n"
     ]
    },
    {
     "name": "stdout",
     "output_type": "stream",
     "text": [
      "Saved image for data\\PCAPS\\AZORULT\\240608-xhzw8sef7w.behavioral2.pcapng to z-order\\train\\AZORULT\\240608-xhzw8sef7w.behavioral2.pcapng.png\n"
     ]
    },
    {
     "name": "stderr",
     "output_type": "stream",
     "text": [
      "WARNING: more PcapNg: TLS Key Log available, but the TLS layer is not loaded! Scapy won't be able to decrypt the packets.\n"
     ]
    },
    {
     "name": "stdout",
     "output_type": "stream",
     "text": [
      "Saved image for data\\PCAPS\\AZORULT\\240609-vm7rjadd73.behavioral1.pcapng to z-order\\train\\AZORULT\\240609-vm7rjadd73.behavioral1.pcapng.png\n",
      "Saved image for data\\PCAPS\\AZORULT\\240609-vm7rjadd73.behavioral2.pcapng to z-order\\train\\AZORULT\\240609-vm7rjadd73.behavioral2.pcapng.png\n",
      "Saved image for data\\PCAPS\\BAZARBACKDOOR\\230429-fx196shg87.behavioral1.pcapng to z-order\\train\\BAZARBACKDOOR\\230429-fx196shg87.behavioral1.pcapng.png\n"
     ]
    },
    {
     "name": "stderr",
     "output_type": "stream",
     "text": [
      "WARNING: PcapNg: TLS Key Log available, but the TLS layer is not loaded! Scapy won't be able to decrypt the packets.\n"
     ]
    },
    {
     "name": "stdout",
     "output_type": "stream",
     "text": [
      "Saved image for data\\PCAPS\\BAZARBACKDOOR\\230429-ytv8vsbh95.behavioral1.pcapng to z-order\\train\\BAZARBACKDOOR\\230429-ytv8vsbh95.behavioral1.pcapng.png\n"
     ]
    },
    {
     "name": "stderr",
     "output_type": "stream",
     "text": [
      "WARNING: PcapNg: TLS Key Log available, but the TLS layer is not loaded! Scapy won't be able to decrypt the packets.\n"
     ]
    },
    {
     "name": "stdout",
     "output_type": "stream",
     "text": [
      "Saved image for data\\PCAPS\\BAZARBACKDOOR\\230429-ytv8vsbh95.behavioral2.pcapng to z-order\\train\\BAZARBACKDOOR\\230429-ytv8vsbh95.behavioral2.pcapng.png\n"
     ]
    },
    {
     "name": "stderr",
     "output_type": "stream",
     "text": [
      "WARNING: PcapNg: TLS Key Log available, but the TLS layer is not loaded! Scapy won't be able to decrypt the packets.\n"
     ]
    },
    {
     "name": "stdout",
     "output_type": "stream",
     "text": [
      "Saved image for data\\PCAPS\\BAZARBACKDOOR\\230430-24xq8age63.behavioral1.pcapng to z-order\\train\\BAZARBACKDOOR\\230430-24xq8age63.behavioral1.pcapng.png\n"
     ]
    },
    {
     "name": "stderr",
     "output_type": "stream",
     "text": [
      "WARNING: PcapNg: TLS Key Log available, but the TLS layer is not loaded! Scapy won't be able to decrypt the packets.\n"
     ]
    },
    {
     "name": "stdout",
     "output_type": "stream",
     "text": [
      "Saved image for data\\PCAPS\\BAZARBACKDOOR\\230430-24xq8age63.behavioral2.pcapng to z-order\\train\\BAZARBACKDOOR\\230430-24xq8age63.behavioral2.pcapng.png\n"
     ]
    },
    {
     "name": "stderr",
     "output_type": "stream",
     "text": [
      "WARNING: PcapNg: TLS Key Log available, but the TLS layer is not loaded! Scapy won't be able to decrypt the packets.\n"
     ]
    },
    {
     "name": "stdout",
     "output_type": "stream",
     "text": [
      "Saved image for data\\PCAPS\\BAZARBACKDOOR\\230430-ln1vyahc87.behavioral1.pcapng to z-order\\train\\BAZARBACKDOOR\\230430-ln1vyahc87.behavioral1.pcapng.png\n"
     ]
    },
    {
     "name": "stderr",
     "output_type": "stream",
     "text": [
      "WARNING: PcapNg: TLS Key Log available, but the TLS layer is not loaded! Scapy won't be able to decrypt the packets.\n"
     ]
    },
    {
     "name": "stdout",
     "output_type": "stream",
     "text": [
      "Saved image for data\\PCAPS\\BAZARBACKDOOR\\230430-ln1vyahc87.behavioral2.pcapng to z-order\\train\\BAZARBACKDOOR\\230430-ln1vyahc87.behavioral2.pcapng.png\n"
     ]
    },
    {
     "name": "stderr",
     "output_type": "stream",
     "text": [
      "WARNING: PcapNg: TLS Key Log available, but the TLS layer is not loaded! Scapy won't be able to decrypt the packets.\n"
     ]
    },
    {
     "name": "stdout",
     "output_type": "stream",
     "text": [
      "Saved image for data\\PCAPS\\BAZARBACKDOOR\\230430-ng5xeshe74.behavioral1.pcapng to z-order\\train\\BAZARBACKDOOR\\230430-ng5xeshe74.behavioral1.pcapng.png\n",
      "Skipping data\\PCAPS\\BAZARBACKDOOR\\230430-vjs4zaad38.behavioral1.pcapng as it is smaller than 2KB\n"
     ]
    },
    {
     "name": "stderr",
     "output_type": "stream",
     "text": [
      "WARNING: PcapNg: TLS Key Log available, but the TLS layer is not loaded! Scapy won't be able to decrypt the packets.\n"
     ]
    },
    {
     "name": "stdout",
     "output_type": "stream",
     "text": [
      "Saved image for data\\PCAPS\\BAZARBACKDOOR\\230430-vjs4zaad38.behavioral2.pcapng to z-order\\train\\BAZARBACKDOOR\\230430-vjs4zaad38.behavioral2.pcapng.png\n"
     ]
    },
    {
     "name": "stderr",
     "output_type": "stream",
     "text": [
      "WARNING: PcapNg: TLS Key Log available, but the TLS layer is not loaded! Scapy won't be able to decrypt the packets.\n"
     ]
    },
    {
     "name": "stdout",
     "output_type": "stream",
     "text": [
      "Saved image for data\\PCAPS\\BAZARBACKDOOR\\230501-gvgnesge7y.behavioral1.pcapng to z-order\\train\\BAZARBACKDOOR\\230501-gvgnesge7y.behavioral1.pcapng.png\n"
     ]
    },
    {
     "name": "stderr",
     "output_type": "stream",
     "text": [
      "WARNING: PcapNg: TLS Key Log available, but the TLS layer is not loaded! Scapy won't be able to decrypt the packets.\n"
     ]
    },
    {
     "name": "stdout",
     "output_type": "stream",
     "text": [
      "Saved image for data\\PCAPS\\BAZARBACKDOOR\\230501-gvgnesge7y.behavioral2.pcapng to z-order\\train\\BAZARBACKDOOR\\230501-gvgnesge7y.behavioral2.pcapng.png\n"
     ]
    },
    {
     "name": "stderr",
     "output_type": "stream",
     "text": [
      "WARNING: PcapNg: TLS Key Log available, but the TLS layer is not loaded! Scapy won't be able to decrypt the packets.\n"
     ]
    },
    {
     "name": "stdout",
     "output_type": "stream",
     "text": [
      "Saved image for data\\PCAPS\\BAZARBACKDOOR\\230501-mdgjzsfb49.behavioral1.pcapng to z-order\\train\\BAZARBACKDOOR\\230501-mdgjzsfb49.behavioral1.pcapng.png\n"
     ]
    },
    {
     "name": "stderr",
     "output_type": "stream",
     "text": [
      "WARNING: PcapNg: TLS Key Log available, but the TLS layer is not loaded! Scapy won't be able to decrypt the packets.\n"
     ]
    },
    {
     "name": "stdout",
     "output_type": "stream",
     "text": [
      "Saved image for data\\PCAPS\\BAZARBACKDOOR\\230501-mdgjzsfb49.behavioral2.pcapng to z-order\\train\\BAZARBACKDOOR\\230501-mdgjzsfb49.behavioral2.pcapng.png\n"
     ]
    },
    {
     "name": "stderr",
     "output_type": "stream",
     "text": [
      "WARNING: PcapNg: TLS Key Log available, but the TLS layer is not loaded! Scapy won't be able to decrypt the packets.\n"
     ]
    },
    {
     "name": "stdout",
     "output_type": "stream",
     "text": [
      "Saved image for data\\PCAPS\\BAZARBACKDOOR\\230502-c327wahe35.behavioral1.pcapng to z-order\\train\\BAZARBACKDOOR\\230502-c327wahe35.behavioral1.pcapng.png\n"
     ]
    },
    {
     "name": "stderr",
     "output_type": "stream",
     "text": [
      "WARNING: PcapNg: TLS Key Log available, but the TLS layer is not loaded! Scapy won't be able to decrypt the packets.\n"
     ]
    },
    {
     "name": "stdout",
     "output_type": "stream",
     "text": [
      "Saved image for data\\PCAPS\\BAZARBACKDOOR\\230502-c327wahe35.behavioral2.pcapng to z-order\\train\\BAZARBACKDOOR\\230502-c327wahe35.behavioral2.pcapng.png\n"
     ]
    },
    {
     "name": "stderr",
     "output_type": "stream",
     "text": [
      "WARNING: PcapNg: TLS Key Log available, but the TLS layer is not loaded! Scapy won't be able to decrypt the packets.\n"
     ]
    },
    {
     "name": "stdout",
     "output_type": "stream",
     "text": [
      "Saved image for data\\PCAPS\\BAZARBACKDOOR\\230502-gd82cahg67.behavioral1.pcapng to z-order\\train\\BAZARBACKDOOR\\230502-gd82cahg67.behavioral1.pcapng.png\n"
     ]
    },
    {
     "name": "stderr",
     "output_type": "stream",
     "text": [
      "WARNING: PcapNg: TLS Key Log available, but the TLS layer is not loaded! Scapy won't be able to decrypt the packets.\n"
     ]
    },
    {
     "name": "stdout",
     "output_type": "stream",
     "text": [
      "Saved image for data\\PCAPS\\BAZARBACKDOOR\\230502-gd82cahg67.behavioral2.pcapng to z-order\\train\\BAZARBACKDOOR\\230502-gd82cahg67.behavioral2.pcapng.png\n"
     ]
    },
    {
     "name": "stderr",
     "output_type": "stream",
     "text": [
      "WARNING: PcapNg: TLS Key Log available, but the TLS layer is not loaded! Scapy won't be able to decrypt the packets.\n"
     ]
    },
    {
     "name": "stdout",
     "output_type": "stream",
     "text": [
      "Saved image for data\\PCAPS\\BAZARBACKDOOR\\230502-glwe8ahg98.behavioral1.pcapng to z-order\\train\\BAZARBACKDOOR\\230502-glwe8ahg98.behavioral1.pcapng.png\n"
     ]
    },
    {
     "name": "stderr",
     "output_type": "stream",
     "text": [
      "WARNING: PcapNg: TLS Key Log available, but the TLS layer is not loaded! Scapy won't be able to decrypt the packets.\n"
     ]
    },
    {
     "name": "stdout",
     "output_type": "stream",
     "text": [
      "Saved image for data\\PCAPS\\BAZARBACKDOOR\\230502-glwe8ahg98.behavioral2.pcapng to z-order\\train\\BAZARBACKDOOR\\230502-glwe8ahg98.behavioral2.pcapng.png\n"
     ]
    },
    {
     "name": "stderr",
     "output_type": "stream",
     "text": [
      "WARNING: PcapNg: TLS Key Log available, but the TLS layer is not loaded! Scapy won't be able to decrypt the packets.\n"
     ]
    },
    {
     "name": "stdout",
     "output_type": "stream",
     "text": [
      "Saved image for data\\PCAPS\\BAZARBACKDOOR\\230502-tx8adade4w.behavioral1.pcapng to z-order\\train\\BAZARBACKDOOR\\230502-tx8adade4w.behavioral1.pcapng.png\n"
     ]
    },
    {
     "name": "stderr",
     "output_type": "stream",
     "text": [
      "WARNING: PcapNg: TLS Key Log available, but the TLS layer is not loaded! Scapy won't be able to decrypt the packets.\n"
     ]
    },
    {
     "name": "stdout",
     "output_type": "stream",
     "text": [
      "Saved image for data\\PCAPS\\BAZARBACKDOOR\\230502-tx8adade4w.behavioral2.pcapng to z-order\\train\\BAZARBACKDOOR\\230502-tx8adade4w.behavioral2.pcapng.png\n"
     ]
    },
    {
     "name": "stderr",
     "output_type": "stream",
     "text": [
      "WARNING: PcapNg: TLS Key Log available, but the TLS layer is not loaded! Scapy won't be able to decrypt the packets.\n"
     ]
    },
    {
     "name": "stdout",
     "output_type": "stream",
     "text": [
      "Saved image for data\\PCAPS\\BAZARBACKDOOR\\230502-zjyfxace29.behavioral1.pcapng to z-order\\train\\BAZARBACKDOOR\\230502-zjyfxace29.behavioral1.pcapng.png\n"
     ]
    },
    {
     "name": "stderr",
     "output_type": "stream",
     "text": [
      "WARNING: PcapNg: TLS Key Log available, but the TLS layer is not loaded! Scapy won't be able to decrypt the packets.\n"
     ]
    },
    {
     "name": "stdout",
     "output_type": "stream",
     "text": [
      "Saved image for data\\PCAPS\\BAZARBACKDOOR\\230503-azl1daeh6v.behavioral1.pcapng to z-order\\train\\BAZARBACKDOOR\\230503-azl1daeh6v.behavioral1.pcapng.png\n"
     ]
    },
    {
     "name": "stderr",
     "output_type": "stream",
     "text": [
      "WARNING: PcapNg: TLS Key Log available, but the TLS layer is not loaded! Scapy won't be able to decrypt the packets.\n"
     ]
    },
    {
     "name": "stdout",
     "output_type": "stream",
     "text": [
      "Saved image for data\\PCAPS\\BAZARBACKDOOR\\230503-azl1daeh6v.behavioral2.pcapng to z-order\\train\\BAZARBACKDOOR\\230503-azl1daeh6v.behavioral2.pcapng.png\n",
      "Skipping data\\PCAPS\\BAZARBACKDOOR\\230503-ccf7qadc89.behavioral1.pcapng as it is smaller than 2KB\n"
     ]
    },
    {
     "name": "stderr",
     "output_type": "stream",
     "text": [
      "WARNING: PcapNg: TLS Key Log available, but the TLS layer is not loaded! Scapy won't be able to decrypt the packets.\n"
     ]
    },
    {
     "name": "stdout",
     "output_type": "stream",
     "text": [
      "Saved image for data\\PCAPS\\BAZARBACKDOOR\\230503-ccf7qadc89.behavioral2.pcapng to z-order\\train\\BAZARBACKDOOR\\230503-ccf7qadc89.behavioral2.pcapng.png\n"
     ]
    },
    {
     "name": "stderr",
     "output_type": "stream",
     "text": [
      "WARNING: more PcapNg: TLS Key Log available, but the TLS layer is not loaded! Scapy won't be able to decrypt the packets.\n"
     ]
    },
    {
     "name": "stdout",
     "output_type": "stream",
     "text": [
      "Saved image for data\\PCAPS\\BAZARBACKDOOR\\230503-hlye9adh28.behavioral1.pcapng to z-order\\train\\BAZARBACKDOOR\\230503-hlye9adh28.behavioral1.pcapng.png\n"
     ]
    },
    {
     "name": "stderr",
     "output_type": "stream",
     "text": [
      "WARNING: PcapNg: TLS Key Log available, but the TLS layer is not loaded! Scapy won't be able to decrypt the packets.\n"
     ]
    },
    {
     "name": "stdout",
     "output_type": "stream",
     "text": [
      "Saved image for data\\PCAPS\\BAZARBACKDOOR\\230503-hlye9adh28.behavioral2.pcapng to z-order\\train\\BAZARBACKDOOR\\230503-hlye9adh28.behavioral2.pcapng.png\n"
     ]
    },
    {
     "name": "stderr",
     "output_type": "stream",
     "text": [
      "WARNING: PcapNg: TLS Key Log available, but the TLS layer is not loaded! Scapy won't be able to decrypt the packets.\n"
     ]
    },
    {
     "name": "stdout",
     "output_type": "stream",
     "text": [
      "Saved image for data\\PCAPS\\BAZARBACKDOOR\\230823-139hyshd3w.behavioral1.pcapng to z-order\\train\\BAZARBACKDOOR\\230823-139hyshd3w.behavioral1.pcapng.png\n"
     ]
    },
    {
     "name": "stderr",
     "output_type": "stream",
     "text": [
      "WARNING: more PcapNg: TLS Key Log available, but the TLS layer is not loaded! Scapy won't be able to decrypt the packets.\n"
     ]
    },
    {
     "name": "stdout",
     "output_type": "stream",
     "text": [
      "Saved image for data\\PCAPS\\BAZARBACKDOOR\\230823-139hyshd3w.behavioral2.pcapng to z-order\\train\\BAZARBACKDOOR\\230823-139hyshd3w.behavioral2.pcapng.png\n",
      "Saved image for data\\PCAPS\\BAZARBACKDOOR\\230823-13ctzshd2y.behavioral1.pcapng to z-order\\train\\BAZARBACKDOOR\\230823-13ctzshd2y.behavioral1.pcapng.png\n",
      "Saved image for data\\PCAPS\\BAZARBACKDOOR\\230823-13ctzshd2y.behavioral2.pcapng to z-order\\train\\BAZARBACKDOOR\\230823-13ctzshd2y.behavioral2.pcapng.png\n",
      "Saved image for data\\PCAPS\\BAZARBACKDOOR\\230920-rl8qnagg4s.behavioral1.pcapng to z-order\\train\\BAZARBACKDOOR\\230920-rl8qnagg4s.behavioral1.pcapng.png\n"
     ]
    },
    {
     "name": "stderr",
     "output_type": "stream",
     "text": [
      "WARNING: PcapNg: TLS Key Log available, but the TLS layer is not loaded! Scapy won't be able to decrypt the packets.\n"
     ]
    },
    {
     "name": "stdout",
     "output_type": "stream",
     "text": [
      "Saved image for data\\PCAPS\\BAZARBACKDOOR\\230920-rl8qnagg4s.behavioral2.pcapng to z-order\\train\\BAZARBACKDOOR\\230920-rl8qnagg4s.behavioral2.pcapng.png\n"
     ]
    },
    {
     "name": "stderr",
     "output_type": "stream",
     "text": [
      "WARNING: PcapNg: TLS Key Log available, but the TLS layer is not loaded! Scapy won't be able to decrypt the packets.\n"
     ]
    },
    {
     "name": "stdout",
     "output_type": "stream",
     "text": [
      "Saved image for data\\PCAPS\\BAZARBACKDOOR\\231012-q1ynkaee78.behavioral1.pcapng to z-order\\train\\BAZARBACKDOOR\\231012-q1ynkaee78.behavioral1.pcapng.png\n"
     ]
    },
    {
     "name": "stderr",
     "output_type": "stream",
     "text": [
      "WARNING: more PcapNg: TLS Key Log available, but the TLS layer is not loaded! Scapy won't be able to decrypt the packets.\n"
     ]
    },
    {
     "name": "stdout",
     "output_type": "stream",
     "text": [
      "Saved image for data\\PCAPS\\BAZARBACKDOOR\\231012-q1ynkaee78.behavioral2.pcapng to z-order\\train\\BAZARBACKDOOR\\231012-q1ynkaee78.behavioral2.pcapng.png\n",
      "Saved image for data\\PCAPS\\BAZARBACKDOOR\\231013-1hjf2abh4w.behavioral1.pcapng to z-order\\train\\BAZARBACKDOOR\\231013-1hjf2abh4w.behavioral1.pcapng.png\n",
      "Saved image for data\\PCAPS\\BAZARBACKDOOR\\231024-xkm1fsgg8z.behavioral1.pcapng to z-order\\train\\BAZARBACKDOOR\\231024-xkm1fsgg8z.behavioral1.pcapng.png\n",
      "Saved image for data\\PCAPS\\BAZARBACKDOOR\\231024-xkm1fsgg8z.behavioral2.pcapng to z-order\\train\\BAZARBACKDOOR\\231024-xkm1fsgg8z.behavioral2.pcapng.png\n",
      "Saved image for data\\PCAPS\\BAZARBACKDOOR\\231031-ttf2qaba4t.behavioral1.pcapng to z-order\\train\\BAZARBACKDOOR\\231031-ttf2qaba4t.behavioral1.pcapng.png\n",
      "Saved image for data\\PCAPS\\BAZARBACKDOOR\\231031-ttf2qaba4t.behavioral2.pcapng to z-order\\train\\BAZARBACKDOOR\\231031-ttf2qaba4t.behavioral2.pcapng.png\n"
     ]
    },
    {
     "name": "stderr",
     "output_type": "stream",
     "text": [
      "WARNING: PcapNg: TLS Key Log available, but the TLS layer is not loaded! Scapy won't be able to decrypt the packets.\n"
     ]
    },
    {
     "name": "stdout",
     "output_type": "stream",
     "text": [
      "Saved image for data\\PCAPS\\BAZARBACKDOOR\\240302-pbjyfadb7y.behavioral1.pcapng to z-order\\train\\BAZARBACKDOOR\\240302-pbjyfadb7y.behavioral1.pcapng.png\n"
     ]
    },
    {
     "name": "stderr",
     "output_type": "stream",
     "text": [
      "WARNING: PcapNg: TLS Key Log available, but the TLS layer is not loaded! Scapy won't be able to decrypt the packets.\n"
     ]
    },
    {
     "name": "stdout",
     "output_type": "stream",
     "text": [
      "Saved image for data\\PCAPS\\BAZARBACKDOOR\\240311-yl4v2acf8z.behavioral1.pcapng to z-order\\train\\BAZARBACKDOOR\\240311-yl4v2acf8z.behavioral1.pcapng.png\n",
      "Skipping data\\PCAPS\\COBALTSTRIKE\\240610-m42b3sgh99.behavioral1.pcapng as it is smaller than 2KB\n"
     ]
    },
    {
     "name": "stderr",
     "output_type": "stream",
     "text": [
      "WARNING: PcapNg: TLS Key Log available, but the TLS layer is not loaded! Scapy won't be able to decrypt the packets.\n"
     ]
    },
    {
     "name": "stdout",
     "output_type": "stream",
     "text": [
      "Saved image for data\\PCAPS\\COBALTSTRIKE\\240610-m42b3sgh99.behavioral2.pcapng to z-order\\train\\COBALTSTRIKE\\240610-m42b3sgh99.behavioral2.pcapng.png\n",
      "Skipping data\\PCAPS\\COBALTSTRIKE\\240610-m7dp7age4t.behavioral1.pcapng as it is smaller than 2KB\n"
     ]
    },
    {
     "name": "stderr",
     "output_type": "stream",
     "text": [
      "WARNING: more PcapNg: TLS Key Log available, but the TLS layer is not loaded! Scapy won't be able to decrypt the packets.\n"
     ]
    },
    {
     "name": "stdout",
     "output_type": "stream",
     "text": [
      "Saved image for data\\PCAPS\\COBALTSTRIKE\\240610-m7dp7age4t.behavioral2.pcapng to z-order\\train\\COBALTSTRIKE\\240610-m7dp7age4t.behavioral2.pcapng.png\n",
      "Saved image for data\\PCAPS\\COBALTSTRIKE\\240610-m81lcage8w.behavioral1.pcapng to z-order\\train\\COBALTSTRIKE\\240610-m81lcage8w.behavioral1.pcapng.png\n",
      "Saved image for data\\PCAPS\\COBALTSTRIKE\\240610-m81lcage8w.behavioral2.pcapng to z-order\\train\\COBALTSTRIKE\\240610-m81lcage8w.behavioral2.pcapng.png\n",
      "Saved image for data\\PCAPS\\COBALTSTRIKE\\240610-m8apxshb43.behavioral1.pcapng to z-order\\train\\COBALTSTRIKE\\240610-m8apxshb43.behavioral1.pcapng.png\n",
      "Saved image for data\\PCAPS\\COBALTSTRIKE\\240610-m8apxshb43.behavioral2.pcapng to z-order\\train\\COBALTSTRIKE\\240610-m8apxshb43.behavioral2.pcapng.png\n",
      "Saved image for data\\PCAPS\\COBALTSTRIKE\\240610-mjhz1afh2w.behavioral1.pcapng to z-order\\train\\COBALTSTRIKE\\240610-mjhz1afh2w.behavioral1.pcapng.png\n",
      "Saved image for data\\PCAPS\\COBALTSTRIKE\\240610-mjhz1afh2w.behavioral2.pcapng to z-order\\train\\COBALTSTRIKE\\240610-mjhz1afh2w.behavioral2.pcapng.png\n",
      "Saved image for data\\PCAPS\\COBALTSTRIKE\\240610-mjhz1afh2x.behavioral1.pcapng to z-order\\train\\COBALTSTRIKE\\240610-mjhz1afh2x.behavioral1.pcapng.png\n",
      "Saved image for data\\PCAPS\\COBALTSTRIKE\\240610-mjhz1afh2x.behavioral2.pcapng to z-order\\train\\COBALTSTRIKE\\240610-mjhz1afh2x.behavioral2.pcapng.png\n",
      "Skipping data\\PCAPS\\COBALTSTRIKE\\240610-mjm9qafh3x.behavioral1.pcapng as it is smaller than 2KB\n",
      "Saved image for data\\PCAPS\\COBALTSTRIKE\\240610-mjm9qafh3x.behavioral2.pcapng to z-order\\train\\COBALTSTRIKE\\240610-mjm9qafh3x.behavioral2.pcapng.png\n",
      "Skipping data\\PCAPS\\COBALTSTRIKE\\240610-mjnkgsfh3z.behavioral1.pcapng as it is smaller than 2KB\n",
      "Saved image for data\\PCAPS\\COBALTSTRIKE\\240610-mjnkgsfh3z.behavioral2.pcapng to z-order\\train\\COBALTSTRIKE\\240610-mjnkgsfh3z.behavioral2.pcapng.png\n",
      "Saved image for data\\PCAPS\\COBALTSTRIKE\\240610-mp5e7aga6x.behavioral1.pcapng to z-order\\train\\COBALTSTRIKE\\240610-mp5e7aga6x.behavioral1.pcapng.png\n",
      "Saved image for data\\PCAPS\\COBALTSTRIKE\\240610-mp5e7aga6x.behavioral2.pcapng to z-order\\train\\COBALTSTRIKE\\240610-mp5e7aga6x.behavioral2.pcapng.png\n",
      "Saved image for data\\PCAPS\\COBALTSTRIKE\\240610-mpql2aga5v.behavioral1.pcapng to z-order\\train\\COBALTSTRIKE\\240610-mpql2aga5v.behavioral1.pcapng.png\n",
      "Saved image for data\\PCAPS\\COBALTSTRIKE\\240610-mpql2aga5v.behavioral2.pcapng to z-order\\train\\COBALTSTRIKE\\240610-mpql2aga5v.behavioral2.pcapng.png\n",
      "Saved image for data\\PCAPS\\COBALTSTRIKE\\240610-msdfwagb2z.behavioral1.pcapng to z-order\\train\\COBALTSTRIKE\\240610-msdfwagb2z.behavioral1.pcapng.png\n",
      "Saved image for data\\PCAPS\\COBALTSTRIKE\\240610-msdfwagb2z.behavioral2.pcapng to z-order\\train\\COBALTSTRIKE\\240610-msdfwagb2z.behavioral2.pcapng.png\n",
      "Saved image for data\\PCAPS\\COBALTSTRIKE\\240610-mz1jzsgc7w.behavioral1.pcapng to z-order\\train\\COBALTSTRIKE\\240610-mz1jzsgc7w.behavioral1.pcapng.png\n",
      "Saved image for data\\PCAPS\\COBALTSTRIKE\\240610-mz1jzsgc7w.behavioral2.pcapng to z-order\\train\\COBALTSTRIKE\\240610-mz1jzsgc7w.behavioral2.pcapng.png\n",
      "Skipping data\\PCAPS\\COBALTSTRIKE\\240610-n2wjgsad79.behavioral1.pcapng as it is smaller than 2KB\n",
      "Saved image for data\\PCAPS\\COBALTSTRIKE\\240610-n2wjgsad79.behavioral2.pcapng to z-order\\train\\COBALTSTRIKE\\240610-n2wjgsad79.behavioral2.pcapng.png\n",
      "Saved image for data\\PCAPS\\COBALTSTRIKE\\240610-n7bfhaab2z.behavioral1.pcapng to z-order\\train\\COBALTSTRIKE\\240610-n7bfhaab2z.behavioral1.pcapng.png\n",
      "Saved image for data\\PCAPS\\COBALTSTRIKE\\240610-n7bfhaab2z.behavioral2.pcapng to z-order\\train\\COBALTSTRIKE\\240610-n7bfhaab2z.behavioral2.pcapng.png\n",
      "Saved image for data\\PCAPS\\COBALTSTRIKE\\240610-ngeegahd48.behavioral1.pcapng to z-order\\train\\COBALTSTRIKE\\240610-ngeegahd48.behavioral1.pcapng.png\n",
      "Saved image for data\\PCAPS\\COBALTSTRIKE\\240610-ngeegahd48.behavioral2.pcapng to z-order\\train\\COBALTSTRIKE\\240610-ngeegahd48.behavioral2.pcapng.png\n",
      "Saved image for data\\PCAPS\\COBALTSTRIKE\\240610-njn2pahe35.behavioral1.pcapng to z-order\\train\\COBALTSTRIKE\\240610-njn2pahe35.behavioral1.pcapng.png\n",
      "Saved image for data\\PCAPS\\COBALTSTRIKE\\240610-njn2pahe35.behavioral2.pcapng to z-order\\train\\COBALTSTRIKE\\240610-njn2pahe35.behavioral2.pcapng.png\n",
      "Saved image for data\\PCAPS\\COBALTSTRIKE\\240610-nk2n6sha6t.behavioral1.pcapng to z-order\\train\\COBALTSTRIKE\\240610-nk2n6sha6t.behavioral1.pcapng.png\n",
      "Saved image for data\\PCAPS\\COBALTSTRIKE\\240610-nk2n6sha6t.behavioral2.pcapng to z-order\\train\\COBALTSTRIKE\\240610-nk2n6sha6t.behavioral2.pcapng.png\n",
      "Saved image for data\\PCAPS\\COBALTSTRIKE\\240610-nlmlmshf34.behavioral1.pcapng to z-order\\train\\COBALTSTRIKE\\240610-nlmlmshf34.behavioral1.pcapng.png\n",
      "Saved image for data\\PCAPS\\COBALTSTRIKE\\240610-nlmlmshf34.behavioral2.pcapng to z-order\\train\\COBALTSTRIKE\\240610-nlmlmshf34.behavioral2.pcapng.png\n",
      "Skipping data\\PCAPS\\COBALTSTRIKE\\240610-nmg3jshf67.behavioral1.pcapng as it is smaller than 2KB\n",
      "Saved image for data\\PCAPS\\COBALTSTRIKE\\240610-nmg3jshf67.behavioral2.pcapng to z-order\\train\\COBALTSTRIKE\\240610-nmg3jshf67.behavioral2.pcapng.png\n",
      "Saved image for data\\PCAPS\\COBALTSTRIKE\\240610-nnbbdshf98.behavioral1.pcapng to z-order\\train\\COBALTSTRIKE\\240610-nnbbdshf98.behavioral1.pcapng.png\n",
      "Saved image for data\\PCAPS\\COBALTSTRIKE\\240610-nnbbdshf98.behavioral2.pcapng to z-order\\train\\COBALTSTRIKE\\240610-nnbbdshf98.behavioral2.pcapng.png\n",
      "Skipping data\\PCAPS\\COBALTSTRIKE\\240610-p32bsswbpe.behavioral1.pcapng as it is smaller than 2KB\n",
      "Saved image for data\\PCAPS\\COBALTSTRIKE\\240610-p32bsswbpe.behavioral2.pcapng to z-order\\train\\COBALTSTRIKE\\240610-p32bsswbpe.behavioral2.pcapng.png\n",
      "Saved image for data\\PCAPS\\COBALTSTRIKE\\240610-pnb4csvdkd.behavioral1.pcapng to z-order\\train\\COBALTSTRIKE\\240610-pnb4csvdkd.behavioral1.pcapng.png\n",
      "Saved image for data\\PCAPS\\COBALTSTRIKE\\240610-pnb4csvdkd.behavioral2.pcapng to z-order\\train\\COBALTSTRIKE\\240610-pnb4csvdkd.behavioral2.pcapng.png\n",
      "Skipping data\\PCAPS\\DARKCOMET\\240529-bt6m9scg3v.behavioral1.pcapng as it is smaller than 2KB\n",
      "Saved image for data\\PCAPS\\DARKCOMET\\240529-bt6m9scg3v.behavioral2.pcapng to z-order\\train\\DARKCOMET\\240529-bt6m9scg3v.behavioral2.pcapng.png\n",
      "Saved image for data\\PCAPS\\DARKCOMET\\240529-dj115sgg89.behavioral1.pcapng to z-order\\train\\DARKCOMET\\240529-dj115sgg89.behavioral1.pcapng.png\n"
     ]
    },
    {
     "name": "stderr",
     "output_type": "stream",
     "text": [
      "WARNING: PcapNg: TLS Key Log available, but the TLS layer is not loaded! Scapy won't be able to decrypt the packets.\n"
     ]
    },
    {
     "name": "stdout",
     "output_type": "stream",
     "text": [
      "Saved image for data\\PCAPS\\DARKCOMET\\240529-ft7yjsbe3x.behavioral1.pcapng to z-order\\train\\DARKCOMET\\240529-ft7yjsbe3x.behavioral1.pcapng.png\n"
     ]
    },
    {
     "name": "stderr",
     "output_type": "stream",
     "text": [
      "WARNING: PcapNg: TLS Key Log available, but the TLS layer is not loaded! Scapy won't be able to decrypt the packets.\n"
     ]
    },
    {
     "name": "stdout",
     "output_type": "stream",
     "text": [
      "Saved image for data\\PCAPS\\DARKCOMET\\240529-jbbn6sfa4x.behavioral1.pcapng to z-order\\train\\DARKCOMET\\240529-jbbn6sfa4x.behavioral1.pcapng.png\n"
     ]
    },
    {
     "name": "stderr",
     "output_type": "stream",
     "text": [
      "WARNING: PcapNg: TLS Key Log available, but the TLS layer is not loaded! Scapy won't be able to decrypt the packets.\n"
     ]
    },
    {
     "name": "stdout",
     "output_type": "stream",
     "text": [
      "Saved image for data\\PCAPS\\DARKCOMET\\240529-jbbn6sfa4x.behavioral2.pcapng to z-order\\train\\DARKCOMET\\240529-jbbn6sfa4x.behavioral2.pcapng.png\n"
     ]
    },
    {
     "name": "stderr",
     "output_type": "stream",
     "text": [
      "WARNING: more PcapNg: TLS Key Log available, but the TLS layer is not loaded! Scapy won't be able to decrypt the packets.\n"
     ]
    },
    {
     "name": "stdout",
     "output_type": "stream",
     "text": [
      "Saved image for data\\PCAPS\\DARKCOMET\\240529-jmgpkagc39.behavioral1.pcapng to z-order\\train\\DARKCOMET\\240529-jmgpkagc39.behavioral1.pcapng.png\n",
      "Saved image for data\\PCAPS\\DARKCOMET\\240529-jmgpkagc39.behavioral2.pcapng to z-order\\train\\DARKCOMET\\240529-jmgpkagc39.behavioral2.pcapng.png\n",
      "Skipping data\\PCAPS\\DARKCOMET\\240530-znffwsah89.behavioral1.pcapng as it is smaller than 2KB\n",
      "Saved image for data\\PCAPS\\DARKCOMET\\240609-h9s6fagc72.behavioral1.pcapng to z-order\\train\\DARKCOMET\\240609-h9s6fagc72.behavioral1.pcapng.png\n",
      "Saved image for data\\PCAPS\\DARKCOMET\\240609-sc86hacd95.behavioral1.pcapng to z-order\\train\\DARKCOMET\\240609-sc86hacd95.behavioral1.pcapng.png\n",
      "Skipping data\\PCAPS\\DARKCOMET\\240610-nhfzpagh4t.behavioral1.pcapng as it is smaller than 2KB\n",
      "Saved image for data\\PCAPS\\DARKCOMET\\240610-nhfzpagh4t.behavioral2.pcapng to z-order\\train\\DARKCOMET\\240610-nhfzpagh4t.behavioral2.pcapng.png\n",
      "Skipping data\\PCAPS\\DRIDEX\\240524-cxc1ssaa82.behavioral1.pcapng as it is smaller than 2KB\n",
      "Saved image for data\\PCAPS\\DRIDEX\\240524-cxc1ssaa82.behavioral2.pcapng to z-order\\train\\DRIDEX\\240524-cxc1ssaa82.behavioral2.pcapng.png\n",
      "Skipping data\\PCAPS\\DRIDEX\\240524-dsxebabb5w.behavioral1.pcapng as it is smaller than 2KB\n",
      "Saved image for data\\PCAPS\\DRIDEX\\240524-dsxebabb5w.behavioral2.pcapng to z-order\\train\\DRIDEX\\240524-dsxebabb5w.behavioral2.pcapng.png\n",
      "Saved image for data\\PCAPS\\DRIDEX\\240524-q2bkesga3z.behavioral1.pcapng to z-order\\train\\DRIDEX\\240524-q2bkesga3z.behavioral1.pcapng.png\n",
      "Skipping data\\PCAPS\\DRIDEX\\240524-thedrabg36.behavioral1.pcapng as it is smaller than 2KB\n"
     ]
    },
    {
     "name": "stderr",
     "output_type": "stream",
     "text": [
      "WARNING: PcapNg: TLS Key Log available, but the TLS layer is not loaded! Scapy won't be able to decrypt the packets.\n"
     ]
    },
    {
     "name": "stdout",
     "output_type": "stream",
     "text": [
      "Saved image for data\\PCAPS\\DRIDEX\\240524-thedrabg36.behavioral2.pcapng to z-order\\train\\DRIDEX\\240524-thedrabg36.behavioral2.pcapng.png\n",
      "Skipping data\\PCAPS\\DRIDEX\\240525-113mmacb4x.behavioral1.pcapng as it is smaller than 2KB\n"
     ]
    },
    {
     "name": "stderr",
     "output_type": "stream",
     "text": [
      "WARNING: PcapNg: TLS Key Log available, but the TLS layer is not loaded! Scapy won't be able to decrypt the packets.\n"
     ]
    },
    {
     "name": "stdout",
     "output_type": "stream",
     "text": [
      "Saved image for data\\PCAPS\\DRIDEX\\240525-113mmacb4x.behavioral2.pcapng to z-order\\train\\DRIDEX\\240525-113mmacb4x.behavioral2.pcapng.png\n",
      "Skipping data\\PCAPS\\DRIDEX\\240525-1m63wsbe9x.behavioral1.pcapng as it is smaller than 2KB\n"
     ]
    },
    {
     "name": "stderr",
     "output_type": "stream",
     "text": [
      "WARNING: more PcapNg: TLS Key Log available, but the TLS layer is not loaded! Scapy won't be able to decrypt the packets.\n"
     ]
    },
    {
     "name": "stdout",
     "output_type": "stream",
     "text": [
      "Saved image for data\\PCAPS\\DRIDEX\\240525-1m63wsbe9x.behavioral2.pcapng to z-order\\train\\DRIDEX\\240525-1m63wsbe9x.behavioral2.pcapng.png\n",
      "Skipping data\\PCAPS\\DRIDEX\\240525-293jnaeg74.behavioral1.pcapng as it is smaller than 2KB\n",
      "Saved image for data\\PCAPS\\DRIDEX\\240525-293jnaeg74.behavioral2.pcapng to z-order\\train\\DRIDEX\\240525-293jnaeg74.behavioral2.pcapng.png\n",
      "Skipping data\\PCAPS\\DRIDEX\\240525-fv871afe56.behavioral1.pcapng as it is smaller than 2KB\n",
      "Saved image for data\\PCAPS\\DRIDEX\\240525-fv871afe56.behavioral2.pcapng to z-order\\train\\DRIDEX\\240525-fv871afe56.behavioral2.pcapng.png\n",
      "Skipping data\\PCAPS\\DRIDEX\\240525-jabmsaad9w.behavioral1.pcapng as it is smaller than 2KB\n",
      "Saved image for data\\PCAPS\\DRIDEX\\240525-jabmsaad9w.behavioral2.pcapng to z-order\\train\\DRIDEX\\240525-jabmsaad9w.behavioral2.pcapng.png\n",
      "Skipping data\\PCAPS\\DRIDEX\\240525-l3qzaade97.behavioral1.pcapng as it is smaller than 2KB\n",
      "Saved image for data\\PCAPS\\DRIDEX\\240525-l3qzaade97.behavioral2.pcapng to z-order\\train\\DRIDEX\\240525-l3qzaade97.behavioral2.pcapng.png\n",
      "Skipping data\\PCAPS\\DRIDEX\\240525-nem9laee3z.behavioral1.pcapng as it is smaller than 2KB\n",
      "Saved image for data\\PCAPS\\DRIDEX\\240525-nem9laee3z.behavioral2.pcapng to z-order\\train\\DRIDEX\\240525-nem9laee3z.behavioral2.pcapng.png\n",
      "Skipping data\\PCAPS\\DRIDEX\\240525-rn4vgsfe7z.behavioral1.pcapng as it is smaller than 2KB\n"
     ]
    },
    {
     "name": "stderr",
     "output_type": "stream",
     "text": [
      "WARNING: PcapNg: TLS Key Log available, but the TLS layer is not loaded! Scapy won't be able to decrypt the packets.\n"
     ]
    },
    {
     "name": "stdout",
     "output_type": "stream",
     "text": [
      "Saved image for data\\PCAPS\\DRIDEX\\240525-rn4vgsfe7z.behavioral2.pcapng to z-order\\train\\DRIDEX\\240525-rn4vgsfe7z.behavioral2.pcapng.png\n",
      "Skipping data\\PCAPS\\DRIDEX\\240525-slb75ahb56.behavioral1.pcapng as it is smaller than 2KB\n"
     ]
    },
    {
     "name": "stderr",
     "output_type": "stream",
     "text": [
      "WARNING: PcapNg: TLS Key Log available, but the TLS layer is not loaded! Scapy won't be able to decrypt the packets.\n"
     ]
    },
    {
     "name": "stdout",
     "output_type": "stream",
     "text": [
      "Saved image for data\\PCAPS\\DRIDEX\\240525-slb75ahb56.behavioral2.pcapng to z-order\\train\\DRIDEX\\240525-slb75ahb56.behavioral2.pcapng.png\n",
      "Skipping data\\PCAPS\\DRIDEX\\240525-x7bkyafd9w.behavioral1.pcapng as it is smaller than 2KB\n"
     ]
    },
    {
     "name": "stderr",
     "output_type": "stream",
     "text": [
      "WARNING: more PcapNg: TLS Key Log available, but the TLS layer is not loaded! Scapy won't be able to decrypt the packets.\n"
     ]
    },
    {
     "name": "stdout",
     "output_type": "stream",
     "text": [
      "Saved image for data\\PCAPS\\DRIDEX\\240525-x7bkyafd9w.behavioral2.pcapng to z-order\\train\\DRIDEX\\240525-x7bkyafd9w.behavioral2.pcapng.png\n",
      "Skipping data\\PCAPS\\DRIDEX\\240526-lchj8aec62.behavioral1.pcapng as it is smaller than 2KB\n",
      "Saved image for data\\PCAPS\\DRIDEX\\240526-lchj8aec62.behavioral2.pcapng to z-order\\train\\DRIDEX\\240526-lchj8aec62.behavioral2.pcapng.png\n",
      "Skipping data\\PCAPS\\DRIDEX\\240526-qg4qgaff5w.behavioral1.pcapng as it is smaller than 2KB\n",
      "Saved image for data\\PCAPS\\DRIDEX\\240526-qg4qgaff5w.behavioral2.pcapng to z-order\\train\\DRIDEX\\240526-qg4qgaff5w.behavioral2.pcapng.png\n",
      "Skipping data\\PCAPS\\DRIDEX\\240526-y1vkxabe87.behavioral1.pcapng as it is smaller than 2KB\n",
      "Saved image for data\\PCAPS\\DRIDEX\\240526-y1vkxabe87.behavioral2.pcapng to z-order\\train\\DRIDEX\\240526-y1vkxabe87.behavioral2.pcapng.png\n",
      "Skipping data\\PCAPS\\DRIDEX\\240527-b3zw3scf93.behavioral1.pcapng as it is smaller than 2KB\n",
      "Saved image for data\\PCAPS\\DRIDEX\\240527-b3zw3scf93.behavioral2.pcapng to z-order\\train\\DRIDEX\\240527-b3zw3scf93.behavioral2.pcapng.png\n",
      "Skipping data\\PCAPS\\DRIDEX\\240527-pdl6ksbc7w.behavioral1.pcapng as it is smaller than 2KB\n",
      "Saved image for data\\PCAPS\\DRIDEX\\240527-pdl6ksbc7w.behavioral2.pcapng to z-order\\train\\DRIDEX\\240527-pdl6ksbc7w.behavioral2.pcapng.png\n",
      "Skipping data\\PCAPS\\DRIDEX\\240528-23j4qshc29.behavioral1.pcapng as it is smaller than 2KB\n",
      "Saved image for data\\PCAPS\\DRIDEX\\240528-23j4qshc29.behavioral2.pcapng to z-order\\train\\DRIDEX\\240528-23j4qshc29.behavioral2.pcapng.png\n",
      "Skipping data\\PCAPS\\DRIDEX\\240528-3pht7aad38.behavioral1.pcapng as it is smaller than 2KB\n",
      "Saved image for data\\PCAPS\\DRIDEX\\240528-3pht7aad38.behavioral2.pcapng to z-order\\train\\DRIDEX\\240528-3pht7aad38.behavioral2.pcapng.png\n",
      "Skipping data\\PCAPS\\DRIDEX\\240528-akgr4sfc9z.behavioral1.pcapng as it is smaller than 2KB\n",
      "Saved image for data\\PCAPS\\DRIDEX\\240528-akgr4sfc9z.behavioral2.pcapng to z-order\\train\\DRIDEX\\240528-akgr4sfc9z.behavioral2.pcapng.png\n",
      "Skipping data\\PCAPS\\DRIDEX\\240528-hdfkgahe5s.behavioral1.pcapng as it is smaller than 2KB\n",
      "Saved image for data\\PCAPS\\DRIDEX\\240528-hdfkgahe5s.behavioral2.pcapng to z-order\\train\\DRIDEX\\240528-hdfkgahe5s.behavioral2.pcapng.png\n",
      "Skipping data\\PCAPS\\DRIDEX\\240528-nldnqsab86.behavioral1.pcapng as it is smaller than 2KB\n",
      "Saved image for data\\PCAPS\\DRIDEX\\240528-nldnqsab86.behavioral2.pcapng to z-order\\train\\DRIDEX\\240528-nldnqsab86.behavioral2.pcapng.png\n",
      "Skipping data\\PCAPS\\DRIDEX\\240528-q962ashd26.behavioral1.pcapng as it is smaller than 2KB\n"
     ]
    },
    {
     "name": "stderr",
     "output_type": "stream",
     "text": [
      "WARNING: PcapNg: TLS Key Log available, but the TLS layer is not loaded! Scapy won't be able to decrypt the packets.\n"
     ]
    },
    {
     "name": "stdout",
     "output_type": "stream",
     "text": [
      "Saved image for data\\PCAPS\\DRIDEX\\240528-q962ashd26.behavioral2.pcapng to z-order\\train\\DRIDEX\\240528-q962ashd26.behavioral2.pcapng.png\n",
      "Skipping data\\PCAPS\\DRIDEX\\240529-k3f9eahe9y.behavioral1.pcapng as it is smaller than 2KB\n"
     ]
    },
    {
     "name": "stderr",
     "output_type": "stream",
     "text": [
      "WARNING: PcapNg: TLS Key Log available, but the TLS layer is not loaded! Scapy won't be able to decrypt the packets.\n"
     ]
    },
    {
     "name": "stdout",
     "output_type": "stream",
     "text": [
      "Saved image for data\\PCAPS\\DRIDEX\\240529-k3f9eahe9y.behavioral2.pcapng to z-order\\train\\DRIDEX\\240529-k3f9eahe9y.behavioral2.pcapng.png\n",
      "Skipping data\\PCAPS\\DRIDEX\\240529-kbbjvage4w.behavioral1.pcapng as it is smaller than 2KB\n"
     ]
    },
    {
     "name": "stderr",
     "output_type": "stream",
     "text": [
      "WARNING: more PcapNg: TLS Key Log available, but the TLS layer is not loaded! Scapy won't be able to decrypt the packets.\n"
     ]
    },
    {
     "name": "stdout",
     "output_type": "stream",
     "text": [
      "Saved image for data\\PCAPS\\DRIDEX\\240529-kbbjvage4w.behavioral2.pcapng to z-order\\train\\DRIDEX\\240529-kbbjvage4w.behavioral2.pcapng.png\n",
      "Skipping data\\PCAPS\\DRIDEX\\240529-l5bblsah9t.behavioral1.pcapng as it is smaller than 2KB\n",
      "Saved image for data\\PCAPS\\DRIDEX\\240529-l5bblsah9t.behavioral2.pcapng to z-order\\train\\DRIDEX\\240529-l5bblsah9t.behavioral2.pcapng.png\n",
      "Skipping data\\PCAPS\\DRIDEX\\240529-xnpcpaeb6z.behavioral1.pcapng as it is smaller than 2KB\n",
      "Saved image for data\\PCAPS\\DRIDEX\\240529-xnpcpaeb6z.behavioral2.pcapng to z-order\\train\\DRIDEX\\240529-xnpcpaeb6z.behavioral2.pcapng.png\n",
      "Skipping data\\PCAPS\\DRIDEX\\240530-29d63adf7x.behavioral1.pcapng as it is smaller than 2KB\n",
      "Saved image for data\\PCAPS\\DRIDEX\\240530-29d63adf7x.behavioral2.pcapng to z-order\\train\\DRIDEX\\240530-29d63adf7x.behavioral2.pcapng.png\n",
      "Skipping data\\PCAPS\\DRIDEX\\240531-2xzbgagf7s.behavioral1.pcapng as it is smaller than 2KB\n",
      "Saved image for data\\PCAPS\\DRIDEX\\240531-2xzbgagf7s.behavioral2.pcapng to z-order\\train\\DRIDEX\\240531-2xzbgagf7s.behavioral2.pcapng.png\n",
      "Skipping data\\PCAPS\\DRIDEX\\240531-3ne2xaae52.behavioral1.pcapng as it is smaller than 2KB\n",
      "Saved image for data\\PCAPS\\DRIDEX\\240531-3ne2xaae52.behavioral2.pcapng to z-order\\train\\DRIDEX\\240531-3ne2xaae52.behavioral2.pcapng.png\n",
      "Skipping data\\PCAPS\\DRIDEX\\240531-ffy4gsfe9s.behavioral1.pcapng as it is smaller than 2KB\n",
      "Saved image for data\\PCAPS\\DRIDEX\\240531-ffy4gsfe9s.behavioral2.pcapng to z-order\\train\\DRIDEX\\240531-ffy4gsfe9s.behavioral2.pcapng.png\n",
      "Skipping data\\PCAPS\\DRIDEX\\240531-g1mrmaae64.behavioral1.pcapng as it is smaller than 2KB\n",
      "Saved image for data\\PCAPS\\DRIDEX\\240531-g1mrmaae64.behavioral2.pcapng to z-order\\train\\DRIDEX\\240531-g1mrmaae64.behavioral2.pcapng.png\n",
      "Skipping data\\PCAPS\\DRIDEX\\240531-raadqaag3y.behavioral1.pcapng as it is smaller than 2KB\n",
      "Saved image for data\\PCAPS\\DRIDEX\\240531-raadqaag3y.behavioral2.pcapng to z-order\\train\\DRIDEX\\240531-raadqaag3y.behavioral2.pcapng.png\n",
      "Skipping data\\PCAPS\\DRIDEX\\240531-v2xj4sga39.behavioral1.pcapng as it is smaller than 2KB\n",
      "Saved image for data\\PCAPS\\DRIDEX\\240531-v2xj4sga39.behavioral2.pcapng to z-order\\train\\DRIDEX\\240531-v2xj4sga39.behavioral2.pcapng.png\n",
      "Skipping data\\PCAPS\\DRIDEX\\240601-av3sbsca22.behavioral1.pcapng as it is smaller than 2KB\n",
      "Saved image for data\\PCAPS\\DRIDEX\\240601-av3sbsca22.behavioral2.pcapng to z-order\\train\\DRIDEX\\240601-av3sbsca22.behavioral2.pcapng.png\n",
      "Skipping data\\PCAPS\\DRIDEX\\240601-b6ds1sdd91.behavioral1.pcapng as it is smaller than 2KB\n",
      "Saved image for data\\PCAPS\\DRIDEX\\240601-b6ds1sdd91.behavioral2.pcapng to z-order\\train\\DRIDEX\\240601-b6ds1sdd91.behavioral2.pcapng.png\n",
      "Skipping data\\PCAPS\\DRIDEX\\240601-jrpwqsfd59.behavioral1.pcapng as it is smaller than 2KB\n",
      "Saved image for data\\PCAPS\\DRIDEX\\240601-jrpwqsfd59.behavioral2.pcapng to z-order\\train\\DRIDEX\\240601-jrpwqsfd59.behavioral2.pcapng.png\n",
      "Skipping data\\PCAPS\\DRIDEX\\240602-fgqhqsbf51.behavioral1.pcapng as it is smaller than 2KB\n",
      "Saved image for data\\PCAPS\\DRIDEX\\240602-fgqhqsbf51.behavioral2.pcapng to z-order\\train\\DRIDEX\\240602-fgqhqsbf51.behavioral2.pcapng.png\n",
      "Skipping data\\PCAPS\\DRIDEX\\240602-tdyxlaga7y.behavioral1.pcapng as it is smaller than 2KB\n",
      "Saved image for data\\PCAPS\\DRIDEX\\240602-tdyxlaga7y.behavioral2.pcapng to z-order\\train\\DRIDEX\\240602-tdyxlaga7y.behavioral2.pcapng.png\n",
      "Skipping data\\PCAPS\\DRIDEX\\240603-fpfcqsdf32.behavioral1.pcapng as it is smaller than 2KB\n",
      "Saved image for data\\PCAPS\\DRIDEX\\240603-fpfcqsdf32.behavioral2.pcapng to z-order\\train\\DRIDEX\\240603-fpfcqsdf32.behavioral2.pcapng.png\n",
      "Skipping data\\PCAPS\\DRIDEX\\240603-g8sylsfh42.behavioral1.pcapng as it is smaller than 2KB\n",
      "Saved image for data\\PCAPS\\DRIDEX\\240603-g8sylsfh42.behavioral2.pcapng to z-order\\train\\DRIDEX\\240603-g8sylsfh42.behavioral2.pcapng.png\n",
      "Skipping data\\PCAPS\\DRIDEX\\240604-nrkn8sfc99.behavioral1.pcapng as it is smaller than 2KB\n",
      "Saved image for data\\PCAPS\\DRIDEX\\240604-nrkn8sfc99.behavioral2.pcapng to z-order\\train\\DRIDEX\\240604-nrkn8sfc99.behavioral2.pcapng.png\n",
      "Skipping data\\PCAPS\\DRIDEX\\240604-wsg9haeh4s.behavioral1.pcapng as it is smaller than 2KB\n",
      "Saved image for data\\PCAPS\\DRIDEX\\240604-wsg9haeh4s.behavioral2.pcapng to z-order\\train\\DRIDEX\\240604-wsg9haeh4s.behavioral2.pcapng.png\n",
      "Skipping data\\PCAPS\\DRIDEX\\240605-agcc8aga7z.behavioral1.pcapng as it is smaller than 2KB\n",
      "Saved image for data\\PCAPS\\DRIDEX\\240605-agcc8aga7z.behavioral2.pcapng to z-order\\train\\DRIDEX\\240605-agcc8aga7z.behavioral2.pcapng.png\n",
      "Skipping data\\PCAPS\\DRIDEX\\240605-akhpeaha36.behavioral1.pcapng as it is smaller than 2KB\n"
     ]
    },
    {
     "name": "stderr",
     "output_type": "stream",
     "text": [
      "WARNING: PcapNg: TLS Key Log available, but the TLS layer is not loaded! Scapy won't be able to decrypt the packets.\n"
     ]
    },
    {
     "name": "stdout",
     "output_type": "stream",
     "text": [
      "Saved image for data\\PCAPS\\DRIDEX\\240605-akhpeaha36.behavioral2.pcapng to z-order\\train\\DRIDEX\\240605-akhpeaha36.behavioral2.pcapng.png\n",
      "Skipping data\\PCAPS\\DRIDEX\\240605-qe4yfsgc51.behavioral1.pcapng as it is smaller than 2KB\n"
     ]
    },
    {
     "name": "stderr",
     "output_type": "stream",
     "text": [
      "WARNING: PcapNg: TLS Key Log available, but the TLS layer is not loaded! Scapy won't be able to decrypt the packets.\n"
     ]
    },
    {
     "name": "stdout",
     "output_type": "stream",
     "text": [
      "Saved image for data\\PCAPS\\DRIDEX\\240605-qe4yfsgc51.behavioral2.pcapng to z-order\\train\\DRIDEX\\240605-qe4yfsgc51.behavioral2.pcapng.png\n",
      "Skipping data\\PCAPS\\DRIDEX\\240606-dj1qdagc25.behavioral1.pcapng as it is smaller than 2KB\n"
     ]
    },
    {
     "name": "stderr",
     "output_type": "stream",
     "text": [
      "WARNING: more PcapNg: TLS Key Log available, but the TLS layer is not loaded! Scapy won't be able to decrypt the packets.\n"
     ]
    },
    {
     "name": "stdout",
     "output_type": "stream",
     "text": [
      "Saved image for data\\PCAPS\\DRIDEX\\240606-dj1qdagc25.behavioral2.pcapng to z-order\\train\\DRIDEX\\240606-dj1qdagc25.behavioral2.pcapng.png\n",
      "Saved image for data\\PCAPS\\DRIDEX\\240609-vm7rjadd73.behavioral1.pcapng to z-order\\train\\DRIDEX\\240609-vm7rjadd73.behavioral1.pcapng.png\n",
      "Saved image for data\\PCAPS\\DRIDEX\\240609-vm7rjadd73.behavioral2.pcapng to z-order\\train\\DRIDEX\\240609-vm7rjadd73.behavioral2.pcapng.png\n",
      "Saved image for data\\PCAPS\\EMOTET\\240605-1hmhpaaa3y.behavioral1.pcapng to z-order\\train\\EMOTET\\240605-1hmhpaaa3y.behavioral1.pcapng.png\n",
      "Saved image for data\\PCAPS\\EMOTET\\240605-1hmhpaaa3y.behavioral2.pcapng to z-order\\train\\EMOTET\\240605-1hmhpaaa3y.behavioral2.pcapng.png\n",
      "Saved image for data\\PCAPS\\EMOTET\\240605-2at38saf7t.behavioral1.pcapng to z-order\\train\\EMOTET\\240605-2at38saf7t.behavioral1.pcapng.png\n",
      "Saved image for data\\PCAPS\\EMOTET\\240605-2at38saf7t.behavioral2.pcapng to z-order\\train\\EMOTET\\240605-2at38saf7t.behavioral2.pcapng.png\n",
      "Saved image for data\\PCAPS\\EMOTET\\240605-3dxtzacf39.behavioral1.pcapng to z-order\\train\\EMOTET\\240605-3dxtzacf39.behavioral1.pcapng.png\n",
      "Saved image for data\\PCAPS\\EMOTET\\240605-3dxtzacf39.behavioral2.pcapng to z-order\\train\\EMOTET\\240605-3dxtzacf39.behavioral2.pcapng.png\n",
      "Saved image for data\\PCAPS\\EMOTET\\240605-zldvaaaa44.behavioral1.pcapng to z-order\\train\\EMOTET\\240605-zldvaaaa44.behavioral1.pcapng.png\n",
      "Saved image for data\\PCAPS\\EMOTET\\240605-zldvaaaa44.behavioral2.pcapng to z-order\\train\\EMOTET\\240605-zldvaaaa44.behavioral2.pcapng.png\n",
      "Saved image for data\\PCAPS\\EMOTET\\240605-znejlahb6w.behavioral1.pcapng to z-order\\train\\EMOTET\\240605-znejlahb6w.behavioral1.pcapng.png\n",
      "Saved image for data\\PCAPS\\EMOTET\\240605-znejlahb6w.behavioral2.pcapng to z-order\\train\\EMOTET\\240605-znejlahb6w.behavioral2.pcapng.png\n",
      "Saved image for data\\PCAPS\\EMOTET\\240606-a442rada7v.behavioral1.pcapng to z-order\\train\\EMOTET\\240606-a442rada7v.behavioral1.pcapng.png\n",
      "Saved image for data\\PCAPS\\EMOTET\\240606-a442rada7v.behavioral2.pcapng to z-order\\train\\EMOTET\\240606-a442rada7v.behavioral2.pcapng.png\n",
      "Saved image for data\\PCAPS\\EMOTET\\240606-ak3pksdd27.behavioral1.pcapng to z-order\\train\\EMOTET\\240606-ak3pksdd27.behavioral1.pcapng.png\n",
      "Saved image for data\\PCAPS\\EMOTET\\240606-ak3pksdd27.behavioral2.pcapng to z-order\\train\\EMOTET\\240606-ak3pksdd27.behavioral2.pcapng.png\n",
      "Saved image for data\\PCAPS\\EMOTET\\240606-b47nbaeh99.behavioral1.pcapng to z-order\\train\\EMOTET\\240606-b47nbaeh99.behavioral1.pcapng.png\n",
      "Saved image for data\\PCAPS\\EMOTET\\240606-b47nbaeh99.behavioral2.pcapng to z-order\\train\\EMOTET\\240606-b47nbaeh99.behavioral2.pcapng.png\n",
      "Saved image for data\\PCAPS\\EMOTET\\240606-bpq21sde6w.behavioral1.pcapng to z-order\\train\\EMOTET\\240606-bpq21sde6w.behavioral1.pcapng.png\n"
     ]
    },
    {
     "name": "stderr",
     "output_type": "stream",
     "text": [
      "WARNING: PcapNg: TLS Key Log available, but the TLS layer is not loaded! Scapy won't be able to decrypt the packets.\n"
     ]
    },
    {
     "name": "stdout",
     "output_type": "stream",
     "text": [
      "Saved image for data\\PCAPS\\EMOTET\\240606-bpq21sde6w.behavioral2.pcapng to z-order\\train\\EMOTET\\240606-bpq21sde6w.behavioral2.pcapng.png\n"
     ]
    },
    {
     "name": "stderr",
     "output_type": "stream",
     "text": [
      "WARNING: PcapNg: TLS Key Log available, but the TLS layer is not loaded! Scapy won't be able to decrypt the packets.\n"
     ]
    },
    {
     "name": "stdout",
     "output_type": "stream",
     "text": [
      "Saved image for data\\PCAPS\\EMOTET\\240606-brszdsdf3y.behavioral1.pcapng to z-order\\train\\EMOTET\\240606-brszdsdf3y.behavioral1.pcapng.png\n"
     ]
    },
    {
     "name": "stderr",
     "output_type": "stream",
     "text": [
      "WARNING: more PcapNg: TLS Key Log available, but the TLS layer is not loaded! Scapy won't be able to decrypt the packets.\n"
     ]
    },
    {
     "name": "stdout",
     "output_type": "stream",
     "text": [
      "Saved image for data\\PCAPS\\EMOTET\\240606-brszdsdf3y.behavioral2.pcapng to z-order\\train\\EMOTET\\240606-brszdsdf3y.behavioral2.pcapng.png\n",
      "Saved image for data\\PCAPS\\EMOTET\\240606-byrpxadh2s.behavioral1.pcapng to z-order\\train\\EMOTET\\240606-byrpxadh2s.behavioral1.pcapng.png\n",
      "Saved image for data\\PCAPS\\EMOTET\\240606-byrpxadh2s.behavioral2.pcapng to z-order\\train\\EMOTET\\240606-byrpxadh2s.behavioral2.pcapng.png\n",
      "Saved image for data\\PCAPS\\EMOTET\\240606-c2ep7aeh8x.behavioral1.pcapng to z-order\\train\\EMOTET\\240606-c2ep7aeh8x.behavioral1.pcapng.png\n",
      "Saved image for data\\PCAPS\\EMOTET\\240606-c2ep7aeh8x.behavioral2.pcapng to z-order\\train\\EMOTET\\240606-c2ep7aeh8x.behavioral2.pcapng.png\n",
      "Saved image for data\\PCAPS\\EMOTET\\240606-dbah8aga66.behavioral1.pcapng to z-order\\train\\EMOTET\\240606-dbah8aga66.behavioral1.pcapng.png\n",
      "Saved image for data\\PCAPS\\EMOTET\\240606-dbah8aga66.behavioral2.pcapng to z-order\\train\\EMOTET\\240606-dbah8aga66.behavioral2.pcapng.png\n",
      "Saved image for data\\PCAPS\\EMOTET\\240606-e9e22ahf83.behavioral1.pcapng to z-order\\train\\EMOTET\\240606-e9e22ahf83.behavioral1.pcapng.png\n",
      "Saved image for data\\PCAPS\\EMOTET\\240606-e9e22ahf83.behavioral2.pcapng to z-order\\train\\EMOTET\\240606-e9e22ahf83.behavioral2.pcapng.png\n",
      "Saved image for data\\PCAPS\\EMOTET\\240606-fbb36agh21.behavioral1.pcapng to z-order\\train\\EMOTET\\240606-fbb36agh21.behavioral1.pcapng.png\n",
      "Saved image for data\\PCAPS\\EMOTET\\240606-fbb36agh21.behavioral2.pcapng to z-order\\train\\EMOTET\\240606-fbb36agh21.behavioral2.pcapng.png\n",
      "Saved image for data\\PCAPS\\EMOTET\\240606-gd2bhahg6s.behavioral1.pcapng to z-order\\train\\EMOTET\\240606-gd2bhahg6s.behavioral1.pcapng.png\n",
      "Saved image for data\\PCAPS\\EMOTET\\240606-gd2bhahg6s.behavioral2.pcapng to z-order\\train\\EMOTET\\240606-gd2bhahg6s.behavioral2.pcapng.png\n",
      "Saved image for data\\PCAPS\\EMOTET\\240606-gfaassaf92.behavioral1.pcapng to z-order\\train\\EMOTET\\240606-gfaassaf92.behavioral1.pcapng.png\n",
      "Saved image for data\\PCAPS\\EMOTET\\240606-gfaassaf92.behavioral2.pcapng to z-order\\train\\EMOTET\\240606-gfaassaf92.behavioral2.pcapng.png\n",
      "Saved image for data\\PCAPS\\EMOTET\\240606-gymc3sac3z.behavioral1.pcapng to z-order\\train\\EMOTET\\240606-gymc3sac3z.behavioral1.pcapng.png\n",
      "Saved image for data\\PCAPS\\EMOTET\\240606-gymc3sac3z.behavioral2.pcapng to z-order\\train\\EMOTET\\240606-gymc3sac3z.behavioral2.pcapng.png\n"
     ]
    },
    {
     "name": "stderr",
     "output_type": "stream",
     "text": [
      "WARNING: PcapNg: TLS Key Log available, but the TLS layer is not loaded! Scapy won't be able to decrypt the packets.\n"
     ]
    },
    {
     "name": "stdout",
     "output_type": "stream",
     "text": [
      "Saved image for data\\PCAPS\\EMOTET\\240607-by19cafd2x.behavioral1.pcapng to z-order\\train\\EMOTET\\240607-by19cafd2x.behavioral1.pcapng.png\n"
     ]
    },
    {
     "name": "stderr",
     "output_type": "stream",
     "text": [
      "WARNING: PcapNg: TLS Key Log available, but the TLS layer is not loaded! Scapy won't be able to decrypt the packets.\n"
     ]
    },
    {
     "name": "stdout",
     "output_type": "stream",
     "text": [
      "Saved image for data\\PCAPS\\EMOTET\\240607-by19cafd2x.behavioral2.pcapng to z-order\\train\\EMOTET\\240607-by19cafd2x.behavioral2.pcapng.png\n"
     ]
    },
    {
     "name": "stderr",
     "output_type": "stream",
     "text": [
      "WARNING: more PcapNg: TLS Key Log available, but the TLS layer is not loaded! Scapy won't be able to decrypt the packets.\n"
     ]
    },
    {
     "name": "stdout",
     "output_type": "stream",
     "text": [
      "Saved image for data\\PCAPS\\EMOTET\\240607-c6v8qshd76.behavioral1.pcapng to z-order\\train\\EMOTET\\240607-c6v8qshd76.behavioral1.pcapng.png\n",
      "Saved image for data\\PCAPS\\EMOTET\\240607-c6v8qshd76.behavioral2.pcapng to z-order\\train\\EMOTET\\240607-c6v8qshd76.behavioral2.pcapng.png\n",
      "Saved image for data\\PCAPS\\EMOTET\\240609-24nhjsgb8t.behavioral1.pcapng to z-order\\train\\EMOTET\\240609-24nhjsgb8t.behavioral1.pcapng.png\n",
      "Saved image for data\\PCAPS\\EMOTET\\240609-24nhjsgb8t.behavioral2.pcapng to z-order\\train\\EMOTET\\240609-24nhjsgb8t.behavioral2.pcapng.png\n",
      "Saved image for data\\PCAPS\\EMOTET\\240610-gg8jzscg9s.behavioral1.pcapng to z-order\\train\\EMOTET\\240610-gg8jzscg9s.behavioral1.pcapng.png\n",
      "Saved image for data\\PCAPS\\EMOTET\\240610-gg8jzscg9s.behavioral2.pcapng to z-order\\train\\EMOTET\\240610-gg8jzscg9s.behavioral2.pcapng.png\n",
      "Saved image for data\\PCAPS\\EMOTET\\240610-nnf7mshb8v.behavioral1.pcapng to z-order\\train\\EMOTET\\240610-nnf7mshb8v.behavioral1.pcapng.png\n",
      "Saved image for data\\PCAPS\\EMOTET\\240610-nnf7mshb8v.behavioral2.pcapng to z-order\\train\\EMOTET\\240610-nnf7mshb8v.behavioral2.pcapng.png\n",
      "Saved image for data\\PCAPS\\EMOTET\\240610-nv1jvsab35.behavioral1.pcapng to z-order\\train\\EMOTET\\240610-nv1jvsab35.behavioral1.pcapng.png\n",
      "Saved image for data\\PCAPS\\EMOTET\\240610-nv1jvsab35.behavioral2.pcapng to z-order\\train\\EMOTET\\240610-nv1jvsab35.behavioral2.pcapng.png\n",
      "Saved image for data\\PCAPS\\EMOTET\\240610-nvbkqshe31.behavioral1.pcapng to z-order\\train\\EMOTET\\240610-nvbkqshe31.behavioral1.pcapng.png\n",
      "Saved image for data\\PCAPS\\EMOTET\\240610-nvbkqshe31.behavioral2.pcapng to z-order\\train\\EMOTET\\240610-nvbkqshe31.behavioral2.pcapng.png\n",
      "Saved image for data\\PCAPS\\EMOTET\\240610-pb5j5sah58.behavioral1.pcapng to z-order\\train\\EMOTET\\240610-pb5j5sah58.behavioral1.pcapng.png\n",
      "Saved image for data\\PCAPS\\EMOTET\\240610-pb5j5sah58.behavioral2.pcapng to z-order\\train\\EMOTET\\240610-pb5j5sah58.behavioral2.pcapng.png\n",
      "Saved image for data\\PCAPS\\EMOTET\\240610-pkdg1svgqj.behavioral1.pcapng to z-order\\train\\EMOTET\\240610-pkdg1svgqj.behavioral1.pcapng.png\n",
      "Saved image for data\\PCAPS\\EMOTET\\240610-pkdg1svgqj.behavioral2.pcapng to z-order\\train\\EMOTET\\240610-pkdg1svgqj.behavioral2.pcapng.png\n",
      "Saved image for data\\PCAPS\\EMOTET\\240610-pl6vysvcpd.behavioral1.pcapng to z-order\\train\\EMOTET\\240610-pl6vysvcpd.behavioral1.pcapng.png\n",
      "Saved image for data\\PCAPS\\EMOTET\\240610-pl6vysvcpd.behavioral2.pcapng to z-order\\train\\EMOTET\\240610-pl6vysvcpd.behavioral2.pcapng.png\n",
      "Saved image for data\\PCAPS\\EMOTET\\240610-pp5gasveke.behavioral1.pcapng to z-order\\train\\EMOTET\\240610-pp5gasveke.behavioral1.pcapng.png\n",
      "Saved image for data\\PCAPS\\EMOTET\\240610-pp5gasveke.behavioral2.pcapng to z-order\\train\\EMOTET\\240610-pp5gasveke.behavioral2.pcapng.png\n",
      "Saved image for data\\PCAPS\\FORMBOOK\\240606-1n4n6adf45.behavioral1.pcapng to z-order\\train\\FORMBOOK\\240606-1n4n6adf45.behavioral1.pcapng.png\n",
      "Saved image for data\\PCAPS\\FORMBOOK\\240606-1n4n6adf45.behavioral2.pcapng to z-order\\train\\FORMBOOK\\240606-1n4n6adf45.behavioral2.pcapng.png\n",
      "Saved image for data\\PCAPS\\FORMBOOK\\240606-1z8r9acf4s.behavioral1.pcapng to z-order\\train\\FORMBOOK\\240606-1z8r9acf4s.behavioral1.pcapng.png\n",
      "Saved image for data\\PCAPS\\FORMBOOK\\240606-m8jmtsec56.behavioral1.pcapng to z-order\\train\\FORMBOOK\\240606-m8jmtsec56.behavioral1.pcapng.png\n",
      "Saved image for data\\PCAPS\\FORMBOOK\\240606-m8jmtsec56.behavioral2.pcapng to z-order\\train\\FORMBOOK\\240606-m8jmtsec56.behavioral2.pcapng.png\n",
      "Saved image for data\\PCAPS\\FORMBOOK\\240606-q4qgcsfh48.behavioral1.pcapng to z-order\\train\\FORMBOOK\\240606-q4qgcsfh48.behavioral1.pcapng.png\n",
      "Saved image for data\\PCAPS\\FORMBOOK\\240606-q4qgcsfh48.behavioral2.pcapng to z-order\\train\\FORMBOOK\\240606-q4qgcsfh48.behavioral2.pcapng.png\n",
      "Skipping data\\PCAPS\\FORMBOOK\\240606-r8agdaff4t.behavioral1.pcapng as it is smaller than 2KB\n",
      "Saved image for data\\PCAPS\\FORMBOOK\\240606-r8agdaff4t.behavioral2.pcapng to z-order\\train\\FORMBOOK\\240606-r8agdaff4t.behavioral2.pcapng.png\n",
      "Saved image for data\\PCAPS\\FORMBOOK\\240606-rge8jsgb23.behavioral1.pcapng to z-order\\train\\FORMBOOK\\240606-rge8jsgb23.behavioral1.pcapng.png\n",
      "Saved image for data\\PCAPS\\FORMBOOK\\240606-rge8jsgb23.behavioral2.pcapng to z-order\\train\\FORMBOOK\\240606-rge8jsgb23.behavioral2.pcapng.png\n",
      "Saved image for data\\PCAPS\\FORMBOOK\\240606-rgj7hagb24.behavioral1.pcapng to z-order\\train\\FORMBOOK\\240606-rgj7hagb24.behavioral1.pcapng.png\n",
      "Saved image for data\\PCAPS\\FORMBOOK\\240606-rgj7hagb24.behavioral2.pcapng to z-order\\train\\FORMBOOK\\240606-rgj7hagb24.behavioral2.pcapng.png\n",
      "Skipping data\\PCAPS\\FORMBOOK\\240606-rt2mbafd5y.behavioral1.pcapng as it is smaller than 2KB\n",
      "Saved image for data\\PCAPS\\FORMBOOK\\240606-rt2mbafd5y.behavioral2.pcapng to z-order\\train\\FORMBOOK\\240606-rt2mbafd5y.behavioral2.pcapng.png\n"
     ]
    },
    {
     "name": "stderr",
     "output_type": "stream",
     "text": [
      "WARNING: PcapNg: TLS Key Log available, but the TLS layer is not loaded! Scapy won't be able to decrypt the packets.\n"
     ]
    },
    {
     "name": "stdout",
     "output_type": "stream",
     "text": [
      "Saved image for data\\PCAPS\\FORMBOOK\\240606-rx229agd96.behavioral1.pcapng to z-order\\train\\FORMBOOK\\240606-rx229agd96.behavioral1.pcapng.png\n"
     ]
    },
    {
     "name": "stderr",
     "output_type": "stream",
     "text": [
      "WARNING: PcapNg: TLS Key Log available, but the TLS layer is not loaded! Scapy won't be able to decrypt the packets.\n"
     ]
    },
    {
     "name": "stdout",
     "output_type": "stream",
     "text": [
      "Saved image for data\\PCAPS\\FORMBOOK\\240606-rx229agd96.behavioral2.pcapng to z-order\\train\\FORMBOOK\\240606-rx229agd96.behavioral2.pcapng.png\n"
     ]
    },
    {
     "name": "stderr",
     "output_type": "stream",
     "text": [
      "WARNING: more PcapNg: TLS Key Log available, but the TLS layer is not loaded! Scapy won't be able to decrypt the packets.\n"
     ]
    },
    {
     "name": "stdout",
     "output_type": "stream",
     "text": [
      "Saved image for data\\PCAPS\\FORMBOOK\\240606-sn3g4afg61.behavioral1.pcapng to z-order\\train\\FORMBOOK\\240606-sn3g4afg61.behavioral1.pcapng.png\n",
      "Saved image for data\\PCAPS\\FORMBOOK\\240606-sn3g4afg61.behavioral2.pcapng to z-order\\train\\FORMBOOK\\240606-sn3g4afg61.behavioral2.pcapng.png\n",
      "Saved image for data\\PCAPS\\FORMBOOK\\240606-sn3g4agg86.behavioral1.pcapng to z-order\\train\\FORMBOOK\\240606-sn3g4agg86.behavioral1.pcapng.png\n",
      "Saved image for data\\PCAPS\\FORMBOOK\\240606-sn3g4agg86.behavioral2.pcapng to z-order\\train\\FORMBOOK\\240606-sn3g4agg86.behavioral2.pcapng.png\n",
      "Skipping data\\PCAPS\\FORMBOOK\\240606-sp8eqsgg98.behavioral1.pcapng as it is smaller than 2KB\n",
      "Saved image for data\\PCAPS\\FORMBOOK\\240606-sp8eqsgg98.behavioral2.pcapng to z-order\\train\\FORMBOOK\\240606-sp8eqsgg98.behavioral2.pcapng.png\n",
      "Skipping data\\PCAPS\\FORMBOOK\\240606-t1mg3shf62.behavioral1.pcapng as it is smaller than 2KB\n",
      "Saved image for data\\PCAPS\\FORMBOOK\\240606-t1mg3shf62.behavioral2.pcapng to z-order\\train\\FORMBOOK\\240606-t1mg3shf62.behavioral2.pcapng.png\n",
      "Skipping data\\PCAPS\\FORMBOOK\\240606-wa8zhaad82.behavioral1.pcapng as it is smaller than 2KB\n",
      "Saved image for data\\PCAPS\\FORMBOOK\\240606-wa8zhaad82.behavioral2.pcapng to z-order\\train\\FORMBOOK\\240606-wa8zhaad82.behavioral2.pcapng.png\n",
      "Skipping data\\PCAPS\\FORMBOOK\\240607-aqz6msfd84.behavioral1.pcapng as it is smaller than 2KB\n",
      "Saved image for data\\PCAPS\\FORMBOOK\\240607-aqz6msfd84.behavioral2.pcapng to z-order\\train\\FORMBOOK\\240607-aqz6msfd84.behavioral2.pcapng.png\n",
      "Skipping data\\PCAPS\\FORMBOOK\\240607-b6xacsfe9y.behavioral1.pcapng as it is smaller than 2KB\n",
      "Saved image for data\\PCAPS\\FORMBOOK\\240607-b6xacsfe9y.behavioral2.pcapng to z-order\\train\\FORMBOOK\\240607-b6xacsfe9y.behavioral2.pcapng.png\n",
      "Saved image for data\\PCAPS\\FORMBOOK\\240607-b8n2rsgg49.behavioral1.pcapng to z-order\\train\\FORMBOOK\\240607-b8n2rsgg49.behavioral1.pcapng.png\n",
      "Saved image for data\\PCAPS\\FORMBOOK\\240607-b8n2rsgg49.behavioral2.pcapng to z-order\\train\\FORMBOOK\\240607-b8n2rsgg49.behavioral2.pcapng.png\n",
      "Saved image for data\\PCAPS\\FORMBOOK\\240607-bq1ylsfb3w.behavioral1.pcapng to z-order\\train\\FORMBOOK\\240607-bq1ylsfb3w.behavioral1.pcapng.png\n",
      "Saved image for data\\PCAPS\\FORMBOOK\\240607-bq1ylsfb3w.behavioral2.pcapng to z-order\\train\\FORMBOOK\\240607-bq1ylsfb3w.behavioral2.pcapng.png\n",
      "Saved image for data\\PCAPS\\FORMBOOK\\240607-c2tt4sgc3s.behavioral1.pcapng to z-order\\train\\FORMBOOK\\240607-c2tt4sgc3s.behavioral1.pcapng.png\n",
      "Saved image for data\\PCAPS\\FORMBOOK\\240607-c2tt4sgc3s.behavioral2.pcapng to z-order\\train\\FORMBOOK\\240607-c2tt4sgc3s.behavioral2.pcapng.png\n"
     ]
    },
    {
     "name": "stderr",
     "output_type": "stream",
     "text": [
      "WARNING: PcapNg: TLS Key Log available, but the TLS layer is not loaded! Scapy won't be able to decrypt the packets.\n"
     ]
    },
    {
     "name": "stdout",
     "output_type": "stream",
     "text": [
      "Saved image for data\\PCAPS\\FORMBOOK\\240607-c96hwahe68.behavioral1.pcapng to z-order\\train\\FORMBOOK\\240607-c96hwahe68.behavioral1.pcapng.png\n"
     ]
    },
    {
     "name": "stderr",
     "output_type": "stream",
     "text": [
      "WARNING: PcapNg: TLS Key Log available, but the TLS layer is not loaded! Scapy won't be able to decrypt the packets.\n"
     ]
    },
    {
     "name": "stdout",
     "output_type": "stream",
     "text": [
      "Saved image for data\\PCAPS\\FORMBOOK\\240607-c96hwahe68.behavioral2.pcapng to z-order\\train\\FORMBOOK\\240607-c96hwahe68.behavioral2.pcapng.png\n",
      "Skipping data\\PCAPS\\FORMBOOK\\240607-cjhn5afh21.behavioral1.pcapng as it is smaller than 2KB\n"
     ]
    },
    {
     "name": "stderr",
     "output_type": "stream",
     "text": [
      "WARNING: more PcapNg: TLS Key Log available, but the TLS layer is not loaded! Scapy won't be able to decrypt the packets.\n"
     ]
    },
    {
     "name": "stdout",
     "output_type": "stream",
     "text": [
      "Saved image for data\\PCAPS\\FORMBOOK\\240607-cjhn5afh21.behavioral2.pcapng to z-order\\train\\FORMBOOK\\240607-cjhn5afh21.behavioral2.pcapng.png\n",
      "Skipping data\\PCAPS\\FORMBOOK\\240607-cvr2yahc23.behavioral1.pcapng as it is smaller than 2KB\n",
      "Saved image for data\\PCAPS\\FORMBOOK\\240607-cvr2yahc23.behavioral2.pcapng to z-order\\train\\FORMBOOK\\240607-cvr2yahc23.behavioral2.pcapng.png\n",
      "Saved image for data\\PCAPS\\FORMBOOK\\240607-ghphhabe95.behavioral1.pcapng to z-order\\train\\FORMBOOK\\240607-ghphhabe95.behavioral1.pcapng.png\n",
      "Saved image for data\\PCAPS\\FORMBOOK\\240607-ghphhabe95.behavioral2.pcapng to z-order\\train\\FORMBOOK\\240607-ghphhabe95.behavioral2.pcapng.png\n",
      "Skipping data\\PCAPS\\FORMBOOK\\240607-he7qcacf23.behavioral1.pcapng as it is smaller than 2KB\n",
      "Saved image for data\\PCAPS\\FORMBOOK\\240607-he7qcacf23.behavioral2.pcapng to z-order\\train\\FORMBOOK\\240607-he7qcacf23.behavioral2.pcapng.png\n",
      "Skipping data\\PCAPS\\FORMBOOK\\240607-nxaffsgf37.behavioral1.pcapng as it is smaller than 2KB\n",
      "Saved image for data\\PCAPS\\FORMBOOK\\240607-nxaffsgf37.behavioral2.pcapng to z-order\\train\\FORMBOOK\\240607-nxaffsgf37.behavioral2.pcapng.png\n",
      "Skipping data\\PCAPS\\FORMBOOK\\240607-txrydsba6v.behavioral1.pcapng as it is smaller than 2KB\n",
      "Saved image for data\\PCAPS\\FORMBOOK\\240607-txrydsba6v.behavioral2.pcapng to z-order\\train\\FORMBOOK\\240607-txrydsba6v.behavioral2.pcapng.png\n",
      "Saved image for data\\PCAPS\\FORMBOOK\\240608-bq8cpafa5y.behavioral1.pcapng to z-order\\train\\FORMBOOK\\240608-bq8cpafa5y.behavioral1.pcapng.png\n",
      "Saved image for data\\PCAPS\\FORMBOOK\\240608-bq8cpafa5y.behavioral2.pcapng to z-order\\train\\FORMBOOK\\240608-bq8cpafa5y.behavioral2.pcapng.png\n",
      "Skipping data\\PCAPS\\FORMBOOK\\240608-brlkbafh99.behavioral1.pcapng as it is smaller than 2KB\n",
      "Saved image for data\\PCAPS\\FORMBOOK\\240608-brlkbafh99.behavioral2.pcapng to z-order\\train\\FORMBOOK\\240608-brlkbafh99.behavioral2.pcapng.png\n",
      "Skipping data\\PCAPS\\FORMBOOK\\240608-dbzhcagg52.behavioral1.pcapng as it is smaller than 2KB\n",
      "Saved image for data\\PCAPS\\FORMBOOK\\240608-dbzhcagg52.behavioral2.pcapng to z-order\\train\\FORMBOOK\\240608-dbzhcagg52.behavioral2.pcapng.png\n",
      "Saved image for data\\PCAPS\\FORMBOOK\\240608-dfyfvaga5t.behavioral1.pcapng to z-order\\train\\FORMBOOK\\240608-dfyfvaga5t.behavioral1.pcapng.png\n",
      "Saved image for data\\PCAPS\\FORMBOOK\\240608-dfyfvaga5t.behavioral2.pcapng to z-order\\train\\FORMBOOK\\240608-dfyfvaga5t.behavioral2.pcapng.png\n",
      "Skipping data\\PCAPS\\FORMBOOK\\240608-dylj1agc7w.behavioral1.pcapng as it is smaller than 2KB\n",
      "Saved image for data\\PCAPS\\FORMBOOK\\240608-dylj1agc7w.behavioral2.pcapng to z-order\\train\\FORMBOOK\\240608-dylj1agc7w.behavioral2.pcapng.png\n",
      "Skipping data\\PCAPS\\FORMBOOK\\240608-j6favaad6y.behavioral1.pcapng as it is smaller than 2KB\n",
      "Saved image for data\\PCAPS\\FORMBOOK\\240608-j6favaad6y.behavioral2.pcapng to z-order\\train\\FORMBOOK\\240608-j6favaad6y.behavioral2.pcapng.png\n",
      "Saved image for data\\PCAPS\\FORMBOOK\\240608-j8er4abd26.behavioral1.pcapng to z-order\\train\\FORMBOOK\\240608-j8er4abd26.behavioral1.pcapng.png\n",
      "Saved image for data\\PCAPS\\FORMBOOK\\240608-j8er4abd26.behavioral2.pcapng to z-order\\train\\FORMBOOK\\240608-j8er4abd26.behavioral2.pcapng.png\n",
      "Skipping data\\PCAPS\\FORMBOOK\\240609-bmvmesbd3w.behavioral1.pcapng as it is smaller than 2KB\n",
      "Saved image for data\\PCAPS\\FORMBOOK\\240609-bmvmesbd3w.behavioral2.pcapng to z-order\\train\\FORMBOOK\\240609-bmvmesbd3w.behavioral2.pcapng.png\n",
      "Skipping data\\PCAPS\\FORMBOOK\\240609-eqkheadd8s.behavioral1.pcapng as it is smaller than 2KB\n",
      "Saved image for data\\PCAPS\\FORMBOOK\\240609-eqkheadd8s.behavioral2.pcapng to z-order\\train\\FORMBOOK\\240609-eqkheadd8s.behavioral2.pcapng.png\n",
      "Skipping data\\PCAPS\\FORMBOOK\\240609-lm39nsgg9s.behavioral1.pcapng as it is smaller than 2KB\n",
      "Saved image for data\\PCAPS\\FORMBOOK\\240609-lm39nsgg9s.behavioral2.pcapng to z-order\\train\\FORMBOOK\\240609-lm39nsgg9s.behavioral2.pcapng.png\n",
      "Saved image for data\\PCAPS\\FORMBOOK\\240609-vm7rjadd73.behavioral1.pcapng to z-order\\train\\FORMBOOK\\240609-vm7rjadd73.behavioral1.pcapng.png\n",
      "Saved image for data\\PCAPS\\FORMBOOK\\240609-vm7rjadd73.behavioral2.pcapng to z-order\\train\\FORMBOOK\\240609-vm7rjadd73.behavioral2.pcapng.png\n",
      "Skipping data\\PCAPS\\FORMBOOK\\240610-k85h7aff75.behavioral1.pcapng as it is smaller than 2KB\n",
      "Saved image for data\\PCAPS\\FORMBOOK\\240610-k85h7aff75.behavioral2.pcapng to z-order\\train\\FORMBOOK\\240610-k85h7aff75.behavioral2.pcapng.png\n",
      "Skipping data\\PCAPS\\FORMBOOK\\240610-m4felsgh79.behavioral1.pcapng as it is smaller than 2KB\n",
      "Saved image for data\\PCAPS\\FORMBOOK\\240610-m4felsgh79.behavioral2.pcapng to z-order\\train\\FORMBOOK\\240610-m4felsgh79.behavioral2.pcapng.png\n",
      "Skipping data\\PCAPS\\GOZI_IFSB\\221027-ab1hvsabc2.behavioral1.pcapng as it is smaller than 2KB\n",
      "Saved image for data\\PCAPS\\GOZI_IFSB\\221027-ab1hvsabc2.behavioral2.pcapng to z-order\\train\\GOZI_IFSB\\221027-ab1hvsabc2.behavioral2.pcapng.png\n",
      "Skipping data\\PCAPS\\GOZI_IFSB\\221027-aec7qsabc8.behavioral1.pcapng as it is smaller than 2KB\n",
      "Saved image for data\\PCAPS\\GOZI_IFSB\\221027-aec7qsabc8.behavioral2.pcapng to z-order\\train\\GOZI_IFSB\\221027-aec7qsabc8.behavioral2.pcapng.png\n",
      "Skipping data\\PCAPS\\GOZI_IFSB\\221027-aed42aabd3.behavioral1.pcapng as it is smaller than 2KB\n",
      "Saved image for data\\PCAPS\\GOZI_IFSB\\221027-aed42aabd3.behavioral2.pcapng to z-order\\train\\GOZI_IFSB\\221027-aed42aabd3.behavioral2.pcapng.png\n",
      "Skipping data\\PCAPS\\GOZI_IFSB\\221027-aedhhaabc9.behavioral1.pcapng as it is smaller than 2KB\n",
      "Saved image for data\\PCAPS\\GOZI_IFSB\\221027-aedhhaabc9.behavioral2.pcapng to z-order\\train\\GOZI_IFSB\\221027-aedhhaabc9.behavioral2.pcapng.png\n",
      "Skipping data\\PCAPS\\GOZI_IFSB\\221027-aeds9sabd2.behavioral1.pcapng as it is smaller than 2KB\n",
      "Saved image for data\\PCAPS\\GOZI_IFSB\\221027-aeds9sabd2.behavioral2.pcapng to z-order\\train\\GOZI_IFSB\\221027-aeds9sabd2.behavioral2.pcapng.png\n",
      "Skipping data\\PCAPS\\GOZI_IFSB\\221027-aeeessabd4.behavioral1.pcapng as it is smaller than 2KB\n",
      "Saved image for data\\PCAPS\\GOZI_IFSB\\221027-aeeessabd4.behavioral2.pcapng to z-order\\train\\GOZI_IFSB\\221027-aeeessabd4.behavioral2.pcapng.png\n",
      "Saved image for data\\PCAPS\\GOZI_IFSB\\221027-aeeqkaabd5.behavioral1.pcapng to z-order\\train\\GOZI_IFSB\\221027-aeeqkaabd5.behavioral1.pcapng.png\n",
      "Saved image for data\\PCAPS\\GOZI_IFSB\\221027-aeeqkaabd5.behavioral2.pcapng to z-order\\train\\GOZI_IFSB\\221027-aeeqkaabd5.behavioral2.pcapng.png\n",
      "Skipping data\\PCAPS\\GOZI_IFSB\\221027-aefb4aabd6.behavioral1.pcapng as it is smaller than 2KB\n",
      "Saved image for data\\PCAPS\\GOZI_IFSB\\221027-aefb4aabd6.behavioral2.pcapng to z-order\\train\\GOZI_IFSB\\221027-aefb4aabd6.behavioral2.pcapng.png\n",
      "Skipping data\\PCAPS\\GOZI_IFSB\\221027-aefmvsabd7.behavioral1.pcapng as it is smaller than 2KB\n",
      "Saved image for data\\PCAPS\\GOZI_IFSB\\221027-aefmvsabd7.behavioral2.pcapng to z-order\\train\\GOZI_IFSB\\221027-aefmvsabd7.behavioral2.pcapng.png\n",
      "Skipping data\\PCAPS\\GOZI_IFSB\\221027-aegj6aabd8.behavioral1.pcapng as it is smaller than 2KB\n",
      "Saved image for data\\PCAPS\\GOZI_IFSB\\221027-aegj6aabd8.behavioral2.pcapng to z-order\\train\\GOZI_IFSB\\221027-aegj6aabd8.behavioral2.pcapng.png\n",
      "Skipping data\\PCAPS\\GOZI_IFSB\\221027-aegj6aabd9.behavioral1.pcapng as it is smaller than 2KB\n",
      "Saved image for data\\PCAPS\\GOZI_IFSB\\221027-aegj6aabd9.behavioral2.pcapng to z-order\\train\\GOZI_IFSB\\221027-aegj6aabd9.behavioral2.pcapng.png\n",
      "Skipping data\\PCAPS\\GOZI_IFSB\\221027-aeh3zsabem.behavioral1.pcapng as it is smaller than 2KB\n",
      "Saved image for data\\PCAPS\\GOZI_IFSB\\221027-aeh3zsabem.behavioral2.pcapng to z-order\\train\\GOZI_IFSB\\221027-aeh3zsabem.behavioral2.pcapng.png\n",
      "Skipping data\\PCAPS\\GOZI_IFSB\\221027-aehgfsabek.behavioral1.pcapng as it is smaller than 2KB\n",
      "Saved image for data\\PCAPS\\GOZI_IFSB\\221027-aehgfsabek.behavioral2.pcapng to z-order\\train\\GOZI_IFSB\\221027-aehgfsabek.behavioral2.pcapng.png\n",
      "Saved image for data\\PCAPS\\GOZI_IFSB\\221027-aehr8aabe2.behavioral1.pcapng to z-order\\train\\GOZI_IFSB\\221027-aehr8aabe2.behavioral1.pcapng.png\n",
      "Saved image for data\\PCAPS\\GOZI_IFSB\\221027-aehr8aabe2.behavioral2.pcapng to z-order\\train\\GOZI_IFSB\\221027-aehr8aabe2.behavioral2.pcapng.png\n",
      "Skipping data\\PCAPS\\GOZI_IFSB\\221027-aej1aaabep.behavioral1.pcapng as it is smaller than 2KB\n",
      "Saved image for data\\PCAPS\\GOZI_IFSB\\221027-aej1aaabep.behavioral2.pcapng to z-order\\train\\GOZI_IFSB\\221027-aej1aaabep.behavioral2.pcapng.png\n",
      "Skipping data\\PCAPS\\GOZI_IFSB\\221027-aej1aaabeq.behavioral1.pcapng as it is smaller than 2KB\n",
      "Saved image for data\\PCAPS\\GOZI_IFSB\\221027-aej1aaabeq.behavioral2.pcapng to z-order\\train\\GOZI_IFSB\\221027-aej1aaabeq.behavioral2.pcapng.png\n",
      "Skipping data\\PCAPS\\GOZI_IFSB\\221027-aejdraaben.behavioral1.pcapng as it is smaller than 2KB\n",
      "Saved image for data\\PCAPS\\GOZI_IFSB\\221027-aejdraaben.behavioral2.pcapng to z-order\\train\\GOZI_IFSB\\221027-aejdraaben.behavioral2.pcapng.png\n",
      "Skipping data\\PCAPS\\GOZI_IFSB\\221027-aejphsabe3.behavioral1.pcapng as it is smaller than 2KB\n",
      "Saved image for data\\PCAPS\\GOZI_IFSB\\221027-aejphsabe3.behavioral2.pcapng to z-order\\train\\GOZI_IFSB\\221027-aejphsabe3.behavioral2.pcapng.png\n",
      "Skipping data\\PCAPS\\GOZI_IFSB\\221027-aeka2sabe4.behavioral1.pcapng as it is smaller than 2KB\n",
      "Saved image for data\\PCAPS\\GOZI_IFSB\\221027-aeka2sabe4.behavioral2.pcapng to z-order\\train\\GOZI_IFSB\\221027-aeka2sabe4.behavioral2.pcapng.png\n",
      "Skipping data\\PCAPS\\GOZI_IFSB\\221027-drq6xaadcn.behavioral1.pcapng as it is smaller than 2KB\n",
      "Saved image for data\\PCAPS\\GOZI_IFSB\\221027-drq6xaadcn.behavioral2.pcapng to z-order\\train\\GOZI_IFSB\\221027-drq6xaadcn.behavioral2.pcapng.png\n",
      "Skipping data\\PCAPS\\GOZI_IFSB\\221027-drrgnsadc8.behavioral1.pcapng as it is smaller than 2KB\n",
      "Saved image for data\\PCAPS\\GOZI_IFSB\\221027-drrgnsadc8.behavioral2.pcapng to z-order\\train\\GOZI_IFSB\\221027-drrgnsadc8.behavioral2.pcapng.png\n",
      "Skipping data\\PCAPS\\GOZI_IFSB\\221027-ev9cbsaeg7.behavioral1.pcapng as it is smaller than 2KB\n",
      "Saved image for data\\PCAPS\\GOZI_IFSB\\221027-ev9cbsaeg7.behavioral2.pcapng to z-order\\train\\GOZI_IFSB\\221027-ev9cbsaeg7.behavioral2.pcapng.png\n",
      "Skipping data\\PCAPS\\GOZI_IFSB\\221027-ev9m4aaefr.behavioral1.pcapng as it is smaller than 2KB\n",
      "Saved image for data\\PCAPS\\GOZI_IFSB\\221027-ev9m4aaefr.behavioral2.pcapng to z-order\\train\\GOZI_IFSB\\221027-ev9m4aaefr.behavioral2.pcapng.png\n",
      "Skipping data\\PCAPS\\GOZI_IFSB\\221027-f8m7pabab3.behavioral1.pcapng as it is smaller than 2KB\n",
      "Saved image for data\\PCAPS\\GOZI_IFSB\\221027-f8m7pabab3.behavioral2.pcapng to z-order\\train\\GOZI_IFSB\\221027-f8m7pabab3.behavioral2.pcapng.png\n",
      "Skipping data\\PCAPS\\GOZI_IFSB\\221027-gefq7abad2.behavioral1.pcapng as it is smaller than 2KB\n",
      "Saved image for data\\PCAPS\\GOZI_IFSB\\221027-gefq7abad2.behavioral2.pcapng to z-order\\train\\GOZI_IFSB\\221027-gefq7abad2.behavioral2.pcapng.png\n",
      "Saved image for data\\PCAPS\\HAWKEYE\\240509-wz1pesbb39.behavioral1.pcapng to z-order\\train\\HAWKEYE\\240509-wz1pesbb39.behavioral1.pcapng.png\n",
      "Saved image for data\\PCAPS\\HAWKEYE\\240509-wz1pesbb39.behavioral2.pcapng to z-order\\train\\HAWKEYE\\240509-wz1pesbb39.behavioral2.pcapng.png\n",
      "Skipping data\\PCAPS\\HAWKEYE\\240510-tw1h5shh47.behavioral1.pcapng as it is smaller than 2KB\n",
      "Saved image for data\\PCAPS\\HAWKEYE\\240510-tw1h5shh47.behavioral2.pcapng to z-order\\train\\HAWKEYE\\240510-tw1h5shh47.behavioral2.pcapng.png\n",
      "Skipping data\\PCAPS\\HAWKEYE\\240510-y9fhcabb92.behavioral1.pcapng as it is smaller than 2KB\n",
      "Saved image for data\\PCAPS\\HAWKEYE\\240510-y9fhcabb92.behavioral2.pcapng to z-order\\train\\HAWKEYE\\240510-y9fhcabb92.behavioral2.pcapng.png\n",
      "Saved image for data\\PCAPS\\HAWKEYE\\240511-2jxkqafa98.behavioral1.pcapng to z-order\\train\\HAWKEYE\\240511-2jxkqafa98.behavioral1.pcapng.png\n",
      "Saved image for data\\PCAPS\\HAWKEYE\\240511-2jxkqafa98.behavioral2.pcapng to z-order\\train\\HAWKEYE\\240511-2jxkqafa98.behavioral2.pcapng.png\n",
      "Saved image for data\\PCAPS\\HAWKEYE\\240511-b18q7sea3v.behavioral1.pcapng to z-order\\train\\HAWKEYE\\240511-b18q7sea3v.behavioral1.pcapng.png\n",
      "Saved image for data\\PCAPS\\HAWKEYE\\240511-b18q7sea3v.behavioral2.pcapng to z-order\\train\\HAWKEYE\\240511-b18q7sea3v.behavioral2.pcapng.png\n"
     ]
    },
    {
     "name": "stderr",
     "output_type": "stream",
     "text": [
      "WARNING: PcapNg: TLS Key Log available, but the TLS layer is not loaded! Scapy won't be able to decrypt the packets.\n"
     ]
    },
    {
     "name": "stdout",
     "output_type": "stream",
     "text": [
      "Saved image for data\\PCAPS\\HAWKEYE\\240511-tdsetaed7z.behavioral1.pcapng to z-order\\train\\HAWKEYE\\240511-tdsetaed7z.behavioral1.pcapng.png\n"
     ]
    },
    {
     "name": "stderr",
     "output_type": "stream",
     "text": [
      "WARNING: PcapNg: TLS Key Log available, but the TLS layer is not loaded! Scapy won't be able to decrypt the packets.\n"
     ]
    },
    {
     "name": "stdout",
     "output_type": "stream",
     "text": [
      "Saved image for data\\PCAPS\\HAWKEYE\\240511-tdsetaed7z.behavioral2.pcapng to z-order\\train\\HAWKEYE\\240511-tdsetaed7z.behavioral2.pcapng.png\n"
     ]
    },
    {
     "name": "stderr",
     "output_type": "stream",
     "text": [
      "WARNING: more PcapNg: TLS Key Log available, but the TLS layer is not loaded! Scapy won't be able to decrypt the packets.\n"
     ]
    },
    {
     "name": "stdout",
     "output_type": "stream",
     "text": [
      "Saved image for data\\PCAPS\\HAWKEYE\\240512-bctx5sgh8v.behavioral1.pcapng to z-order\\train\\HAWKEYE\\240512-bctx5sgh8v.behavioral1.pcapng.png\n",
      "Saved image for data\\PCAPS\\HAWKEYE\\240512-bctx5sgh8v.behavioral2.pcapng to z-order\\train\\HAWKEYE\\240512-bctx5sgh8v.behavioral2.pcapng.png\n",
      "Saved image for data\\PCAPS\\HAWKEYE\\240512-mpv7hsef58.behavioral1.pcapng to z-order\\train\\HAWKEYE\\240512-mpv7hsef58.behavioral1.pcapng.png\n",
      "Saved image for data\\PCAPS\\HAWKEYE\\240512-mpv7hsef58.behavioral2.pcapng to z-order\\train\\HAWKEYE\\240512-mpv7hsef58.behavioral2.pcapng.png\n",
      "Saved image for data\\PCAPS\\HAWKEYE\\240514-bg5v7sde57.behavioral1.pcapng to z-order\\train\\HAWKEYE\\240514-bg5v7sde57.behavioral1.pcapng.png\n",
      "Saved image for data\\PCAPS\\HAWKEYE\\240514-bg5v7sde57.behavioral2.pcapng to z-order\\train\\HAWKEYE\\240514-bg5v7sde57.behavioral2.pcapng.png\n",
      "Saved image for data\\PCAPS\\HAWKEYE\\240516-26t34sde2z.behavioral1.pcapng to z-order\\train\\HAWKEYE\\240516-26t34sde2z.behavioral1.pcapng.png\n",
      "Saved image for data\\PCAPS\\HAWKEYE\\240516-26t34sde2z.behavioral2.pcapng to z-order\\train\\HAWKEYE\\240516-26t34sde2z.behavioral2.pcapng.png\n",
      "Saved image for data\\PCAPS\\HAWKEYE\\240516-pr8lqscg3w.behavioral1.pcapng to z-order\\train\\HAWKEYE\\240516-pr8lqscg3w.behavioral1.pcapng.png\n",
      "Saved image for data\\PCAPS\\HAWKEYE\\240516-pr8lqscg3w.behavioral2.pcapng to z-order\\train\\HAWKEYE\\240516-pr8lqscg3w.behavioral2.pcapng.png\n",
      "Saved image for data\\PCAPS\\HAWKEYE\\240517-b72w8sca32.behavioral1.pcapng to z-order\\train\\HAWKEYE\\240517-b72w8sca32.behavioral1.pcapng.png\n",
      "Skipping data\\PCAPS\\HAWKEYE\\240517-b72w8sca32.behavioral2.pcapng as it is smaller than 2KB\n",
      "Saved image for data\\PCAPS\\HAWKEYE\\240517-x3lkcaeh27.behavioral1.pcapng to z-order\\train\\HAWKEYE\\240517-x3lkcaeh27.behavioral1.pcapng.png\n",
      "Saved image for data\\PCAPS\\HAWKEYE\\240517-x3lkcaeh27.behavioral2.pcapng to z-order\\train\\HAWKEYE\\240517-x3lkcaeh27.behavioral2.pcapng.png\n",
      "Saved image for data\\PCAPS\\HAWKEYE\\240517-yhmscaff8t.behavioral1.pcapng to z-order\\train\\HAWKEYE\\240517-yhmscaff8t.behavioral1.pcapng.png\n"
     ]
    },
    {
     "name": "stderr",
     "output_type": "stream",
     "text": [
      "WARNING: PcapNg: TLS Key Log available, but the TLS layer is not loaded! Scapy won't be able to decrypt the packets.\n"
     ]
    },
    {
     "name": "stdout",
     "output_type": "stream",
     "text": [
      "Saved image for data\\PCAPS\\HAWKEYE\\240517-ykrjbaga59.behavioral1.pcapng to z-order\\train\\HAWKEYE\\240517-ykrjbaga59.behavioral1.pcapng.png\n"
     ]
    },
    {
     "name": "stderr",
     "output_type": "stream",
     "text": [
      "WARNING: PcapNg: TLS Key Log available, but the TLS layer is not loaded! Scapy won't be able to decrypt the packets.\n"
     ]
    },
    {
     "name": "stdout",
     "output_type": "stream",
     "text": [
      "Saved image for data\\PCAPS\\HAWKEYE\\240518-1ctptagf5s.behavioral1.pcapng to z-order\\train\\HAWKEYE\\240518-1ctptagf5s.behavioral1.pcapng.png\n"
     ]
    },
    {
     "name": "stderr",
     "output_type": "stream",
     "text": [
      "WARNING: more PcapNg: TLS Key Log available, but the TLS layer is not loaded! Scapy won't be able to decrypt the packets.\n"
     ]
    },
    {
     "name": "stdout",
     "output_type": "stream",
     "text": [
      "Saved image for data\\PCAPS\\HAWKEYE\\240518-1ctptagf5s.behavioral2.pcapng to z-order\\train\\HAWKEYE\\240518-1ctptagf5s.behavioral2.pcapng.png\n",
      "Saved image for data\\PCAPS\\HAWKEYE\\240518-fsrj6sdb7w.behavioral1.pcapng to z-order\\train\\HAWKEYE\\240518-fsrj6sdb7w.behavioral1.pcapng.png\n",
      "Saved image for data\\PCAPS\\HAWKEYE\\240518-fsrj6sdb7w.behavioral2.pcapng to z-order\\train\\HAWKEYE\\240518-fsrj6sdb7w.behavioral2.pcapng.png\n",
      "Saved image for data\\PCAPS\\HAWKEYE\\240518-js2a6aaf51.behavioral1.pcapng to z-order\\train\\HAWKEYE\\240518-js2a6aaf51.behavioral1.pcapng.png\n"
     ]
    },
    {
     "name": "stderr",
     "output_type": "stream",
     "text": [
      "WARNING: PcapNg: TLS Key Log available, but the TLS layer is not loaded! Scapy won't be able to decrypt the packets.\n"
     ]
    },
    {
     "name": "stdout",
     "output_type": "stream",
     "text": [
      "Saved image for data\\PCAPS\\HAWKEYE\\240519-2h3qcaee4s.behavioral1.pcapng to z-order\\train\\HAWKEYE\\240519-2h3qcaee4s.behavioral1.pcapng.png\n"
     ]
    },
    {
     "name": "stderr",
     "output_type": "stream",
     "text": [
      "WARNING: PcapNg: TLS Key Log available, but the TLS layer is not loaded! Scapy won't be able to decrypt the packets.\n"
     ]
    },
    {
     "name": "stdout",
     "output_type": "stream",
     "text": [
      "Saved image for data\\PCAPS\\HAWKEYE\\240519-2h3qcaee4s.behavioral2.pcapng to z-order\\train\\HAWKEYE\\240519-2h3qcaee4s.behavioral2.pcapng.png\n"
     ]
    },
    {
     "name": "stderr",
     "output_type": "stream",
     "text": [
      "WARNING: more PcapNg: TLS Key Log available, but the TLS layer is not loaded! Scapy won't be able to decrypt the packets.\n"
     ]
    },
    {
     "name": "stdout",
     "output_type": "stream",
     "text": [
      "Saved image for data\\PCAPS\\HAWKEYE\\240519-l245hsdc31.behavioral1.pcapng to z-order\\train\\HAWKEYE\\240519-l245hsdc31.behavioral1.pcapng.png\n",
      "Saved image for data\\PCAPS\\HAWKEYE\\240519-l245hsdc31.behavioral2.pcapng to z-order\\train\\HAWKEYE\\240519-l245hsdc31.behavioral2.pcapng.png\n",
      "Saved image for data\\PCAPS\\HAWKEYE\\240519-pya9tahf8z.behavioral1.pcapng to z-order\\train\\HAWKEYE\\240519-pya9tahf8z.behavioral1.pcapng.png\n"
     ]
    },
    {
     "name": "stderr",
     "output_type": "stream",
     "text": [
      "WARNING: PcapNg: TLS Key Log available, but the TLS layer is not loaded! Scapy won't be able to decrypt the packets.\n"
     ]
    },
    {
     "name": "stdout",
     "output_type": "stream",
     "text": [
      "Saved image for data\\PCAPS\\HAWKEYE\\240519-tx7nvafe3z.behavioral1.pcapng to z-order\\train\\HAWKEYE\\240519-tx7nvafe3z.behavioral1.pcapng.png\n"
     ]
    },
    {
     "name": "stderr",
     "output_type": "stream",
     "text": [
      "WARNING: PcapNg: TLS Key Log available, but the TLS layer is not loaded! Scapy won't be able to decrypt the packets.\n"
     ]
    },
    {
     "name": "stdout",
     "output_type": "stream",
     "text": [
      "Saved image for data\\PCAPS\\HAWKEYE\\240519-tx7nvafe3z.behavioral2.pcapng to z-order\\train\\HAWKEYE\\240519-tx7nvafe3z.behavioral2.pcapng.png\n"
     ]
    },
    {
     "name": "stderr",
     "output_type": "stream",
     "text": [
      "WARNING: more PcapNg: TLS Key Log available, but the TLS layer is not loaded! Scapy won't be able to decrypt the packets.\n"
     ]
    },
    {
     "name": "stdout",
     "output_type": "stream",
     "text": [
      "Saved image for data\\PCAPS\\HAWKEYE\\240519-ymd11aeh69.behavioral1.pcapng to z-order\\train\\HAWKEYE\\240519-ymd11aeh69.behavioral1.pcapng.png\n",
      "Saved image for data\\PCAPS\\HAWKEYE\\240519-ymd11aeh69.behavioral2.pcapng to z-order\\train\\HAWKEYE\\240519-ymd11aeh69.behavioral2.pcapng.png\n",
      "Saved image for data\\PCAPS\\HAWKEYE\\240521-fl5hfshh44.behavioral1.pcapng to z-order\\train\\HAWKEYE\\240521-fl5hfshh44.behavioral1.pcapng.png\n",
      "Saved image for data\\PCAPS\\HAWKEYE\\240521-fl5hfshh44.behavioral2.pcapng to z-order\\train\\HAWKEYE\\240521-fl5hfshh44.behavioral2.pcapng.png\n",
      "Saved image for data\\PCAPS\\HAWKEYE\\240521-fr5qeaaa87.behavioral1.pcapng to z-order\\train\\HAWKEYE\\240521-fr5qeaaa87.behavioral1.pcapng.png\n",
      "Saved image for data\\PCAPS\\HAWKEYE\\240521-fr5qeaaa87.behavioral2.pcapng to z-order\\train\\HAWKEYE\\240521-fr5qeaaa87.behavioral2.pcapng.png\n",
      "Saved image for data\\PCAPS\\HAWKEYE\\240521-p1bncsed5y.behavioral1.pcapng to z-order\\train\\HAWKEYE\\240521-p1bncsed5y.behavioral1.pcapng.png\n",
      "Saved image for data\\PCAPS\\HAWKEYE\\240521-p1bncsed5y.behavioral2.pcapng to z-order\\train\\HAWKEYE\\240521-p1bncsed5y.behavioral2.pcapng.png\n",
      "Skipping data\\PCAPS\\HAWKEYE\\240522-3v6hfadh46.behavioral1.pcapng as it is smaller than 2KB\n",
      "Saved image for data\\PCAPS\\HAWKEYE\\240522-3v6hfadh46.behavioral2.pcapng to z-order\\train\\HAWKEYE\\240522-3v6hfadh46.behavioral2.pcapng.png\n",
      "Saved image for data\\PCAPS\\HAWKEYE\\240522-cabt8agg5z.behavioral1.pcapng to z-order\\train\\HAWKEYE\\240522-cabt8agg5z.behavioral1.pcapng.png\n",
      "Saved image for data\\PCAPS\\HAWKEYE\\240522-cabt8agg5z.behavioral2.pcapng to z-order\\train\\HAWKEYE\\240522-cabt8agg5z.behavioral2.pcapng.png\n"
     ]
    },
    {
     "name": "stderr",
     "output_type": "stream",
     "text": [
      "WARNING: PcapNg: TLS Key Log available, but the TLS layer is not loaded! Scapy won't be able to decrypt the packets.\n"
     ]
    },
    {
     "name": "stdout",
     "output_type": "stream",
     "text": [
      "Saved image for data\\PCAPS\\HAWKEYE\\240522-csjb1shd5z.behavioral1.pcapng to z-order\\train\\HAWKEYE\\240522-csjb1shd5z.behavioral1.pcapng.png\n"
     ]
    },
    {
     "name": "stderr",
     "output_type": "stream",
     "text": [
      "WARNING: PcapNg: TLS Key Log available, but the TLS layer is not loaded! Scapy won't be able to decrypt the packets.\n"
     ]
    },
    {
     "name": "stdout",
     "output_type": "stream",
     "text": [
      "Saved image for data\\PCAPS\\HAWKEYE\\240522-csjb1shd5z.behavioral2.pcapng to z-order\\train\\HAWKEYE\\240522-csjb1shd5z.behavioral2.pcapng.png\n"
     ]
    },
    {
     "name": "stderr",
     "output_type": "stream",
     "text": [
      "WARNING: more PcapNg: TLS Key Log available, but the TLS layer is not loaded! Scapy won't be able to decrypt the packets.\n"
     ]
    },
    {
     "name": "stdout",
     "output_type": "stream",
     "text": [
      "Saved image for data\\PCAPS\\HAWKEYE\\240523-asfj1seh56.behavioral1.pcapng to z-order\\train\\HAWKEYE\\240523-asfj1seh56.behavioral1.pcapng.png\n",
      "Saved image for data\\PCAPS\\HAWKEYE\\240523-asfj1seh56.behavioral2.pcapng to z-order\\train\\HAWKEYE\\240523-asfj1seh56.behavioral2.pcapng.png\n",
      "Saved image for data\\PCAPS\\HAWKEYE\\240523-ast3eaeh73.behavioral1.pcapng to z-order\\train\\HAWKEYE\\240523-ast3eaeh73.behavioral1.pcapng.png\n",
      "Saved image for data\\PCAPS\\HAWKEYE\\240523-ast3eaeh73.behavioral2.pcapng to z-order\\train\\HAWKEYE\\240523-ast3eaeh73.behavioral2.pcapng.png\n",
      "Saved image for data\\PCAPS\\HAWKEYE\\240524-bkdk5aga26.behavioral1.pcapng to z-order\\train\\HAWKEYE\\240524-bkdk5aga26.behavioral1.pcapng.png\n",
      "Saved image for data\\PCAPS\\HAWKEYE\\240524-rs4qaahb5s.behavioral1.pcapng to z-order\\train\\HAWKEYE\\240524-rs4qaahb5s.behavioral1.pcapng.png\n",
      "Saved image for data\\PCAPS\\HAWKEYE\\240524-rs4qaahb5s.behavioral2.pcapng to z-order\\train\\HAWKEYE\\240524-rs4qaahb5s.behavioral2.pcapng.png\n",
      "Saved image for data\\PCAPS\\HAWKEYE\\240525-rnj53sfe51.behavioral1.pcapng to z-order\\train\\HAWKEYE\\240525-rnj53sfe51.behavioral1.pcapng.png\n",
      "Saved image for data\\PCAPS\\HAWKEYE\\240525-rnj53sfe51.behavioral2.pcapng to z-order\\train\\HAWKEYE\\240525-rnj53sfe51.behavioral2.pcapng.png\n",
      "Saved image for data\\PCAPS\\HAWKEYE\\240526-av9kwagb6t.behavioral1.pcapng to z-order\\train\\HAWKEYE\\240526-av9kwagb6t.behavioral1.pcapng.png\n",
      "Saved image for data\\PCAPS\\HAWKEYE\\240526-av9kwagb6t.behavioral2.pcapng to z-order\\train\\HAWKEYE\\240526-av9kwagb6t.behavioral2.pcapng.png\n",
      "Saved image for data\\PCAPS\\HAWKEYE\\240527-1ln6pabb5t.behavioral1.pcapng to z-order\\train\\HAWKEYE\\240527-1ln6pabb5t.behavioral1.pcapng.png\n",
      "Saved image for data\\PCAPS\\HAWKEYE\\240527-1ln6pabb5t.behavioral2.pcapng to z-order\\train\\HAWKEYE\\240527-1ln6pabb5t.behavioral2.pcapng.png\n",
      "Saved image for data\\PCAPS\\HAWKEYE\\240527-jjwdjsdf45.behavioral1.pcapng to z-order\\train\\HAWKEYE\\240527-jjwdjsdf45.behavioral1.pcapng.png\n",
      "Saved image for data\\PCAPS\\HAWKEYE\\240527-jjwdjsdf45.behavioral2.pcapng to z-order\\train\\HAWKEYE\\240527-jjwdjsdf45.behavioral2.pcapng.png\n",
      "Skipping data\\PCAPS\\HAWKEYE\\240527-ngtt6ahe8v.behavioral1.pcapng as it is smaller than 2KB\n",
      "Saved image for data\\PCAPS\\HAWKEYE\\240527-ngtt6ahe8v.behavioral2.pcapng to z-order\\train\\HAWKEYE\\240527-ngtt6ahe8v.behavioral2.pcapng.png\n",
      "Saved image for data\\PCAPS\\HAWKEYE\\240528-23lmkahc32.behavioral1.pcapng to z-order\\train\\HAWKEYE\\240528-23lmkahc32.behavioral1.pcapng.png\n",
      "Saved image for data\\PCAPS\\HAWKEYE\\240528-23lmkahc32.behavioral2.pcapng to z-order\\train\\HAWKEYE\\240528-23lmkahc32.behavioral2.pcapng.png\n"
     ]
    },
    {
     "name": "stderr",
     "output_type": "stream",
     "text": [
      "WARNING: PcapNg: TLS Key Log available, but the TLS layer is not loaded! Scapy won't be able to decrypt the packets.\n"
     ]
    },
    {
     "name": "stdout",
     "output_type": "stream",
     "text": [
      "Saved image for data\\PCAPS\\HAWKEYE\\240528-a2rcwaga6y.behavioral1.pcapng to z-order\\train\\HAWKEYE\\240528-a2rcwaga6y.behavioral1.pcapng.png\n"
     ]
    },
    {
     "name": "stderr",
     "output_type": "stream",
     "text": [
      "WARNING: PcapNg: TLS Key Log available, but the TLS layer is not loaded! Scapy won't be able to decrypt the packets.\n"
     ]
    },
    {
     "name": "stdout",
     "output_type": "stream",
     "text": [
      "Saved image for data\\PCAPS\\HAWKEYE\\240528-a2rcwaga6y.behavioral2.pcapng to z-order\\train\\HAWKEYE\\240528-a2rcwaga6y.behavioral2.pcapng.png\n"
     ]
    },
    {
     "name": "stderr",
     "output_type": "stream",
     "text": [
      "WARNING: more PcapNg: TLS Key Log available, but the TLS layer is not loaded! Scapy won't be able to decrypt the packets.\n"
     ]
    },
    {
     "name": "stdout",
     "output_type": "stream",
     "text": [
      "Saved image for data\\PCAPS\\HAWKEYE\\240529-cs71daeg2x.behavioral1.pcapng to z-order\\train\\HAWKEYE\\240529-cs71daeg2x.behavioral1.pcapng.png\n",
      "Saved image for data\\PCAPS\\HAWKEYE\\240529-cs71daeg2x.behavioral2.pcapng to z-order\\train\\HAWKEYE\\240529-cs71daeg2x.behavioral2.pcapng.png\n",
      "Saved image for data\\PCAPS\\HAWKEYE\\240529-seygsaaf96.behavioral1.pcapng to z-order\\train\\HAWKEYE\\240529-seygsaaf96.behavioral1.pcapng.png\n",
      "Saved image for data\\PCAPS\\HAWKEYE\\240529-seygsaaf96.behavioral2.pcapng to z-order\\train\\HAWKEYE\\240529-seygsaaf96.behavioral2.pcapng.png\n",
      "Saved image for data\\PCAPS\\HAWKEYE\\240529-v53kjaca81.behavioral1.pcapng to z-order\\train\\HAWKEYE\\240529-v53kjaca81.behavioral1.pcapng.png\n",
      "Saved image for data\\PCAPS\\HAWKEYE\\240529-v53kjaca81.behavioral2.pcapng to z-order\\train\\HAWKEYE\\240529-v53kjaca81.behavioral2.pcapng.png\n",
      "Saved image for data\\PCAPS\\HAWKEYE\\240602-neebpacb85.behavioral1.pcapng to z-order\\train\\HAWKEYE\\240602-neebpacb85.behavioral1.pcapng.png\n",
      "Saved image for data\\PCAPS\\HAWKEYE\\240602-neebpacb85.behavioral2.pcapng to z-order\\train\\HAWKEYE\\240602-neebpacb85.behavioral2.pcapng.png\n",
      "Saved image for data\\PCAPS\\HAWKEYE\\240603-hey37sfa5v.behavioral1.pcapng to z-order\\train\\HAWKEYE\\240603-hey37sfa5v.behavioral1.pcapng.png\n",
      "Saved image for data\\PCAPS\\HAWKEYE\\240603-hey37sfa5v.behavioral2.pcapng to z-order\\train\\HAWKEYE\\240603-hey37sfa5v.behavioral2.pcapng.png\n",
      "Saved image for data\\PCAPS\\HAWKEYE\\240603-l1e41aag5t.behavioral1.pcapng to z-order\\train\\HAWKEYE\\240603-l1e41aag5t.behavioral1.pcapng.png\n",
      "Saved image for data\\PCAPS\\HAWKEYE\\240603-l1e41aag5t.behavioral2.pcapng to z-order\\train\\HAWKEYE\\240603-l1e41aag5t.behavioral2.pcapng.png\n",
      "Saved image for data\\PCAPS\\HAWKEYE\\240604-2hnanadg4s.behavioral1.pcapng to z-order\\train\\HAWKEYE\\240604-2hnanadg4s.behavioral1.pcapng.png\n",
      "Saved image for data\\PCAPS\\HAWKEYE\\240604-2hnanadg4s.behavioral2.pcapng to z-order\\train\\HAWKEYE\\240604-2hnanadg4s.behavioral2.pcapng.png\n",
      "Saved image for data\\PCAPS\\HAWKEYE\\240604-me3hvadb5z.behavioral1.pcapng to z-order\\train\\HAWKEYE\\240604-me3hvadb5z.behavioral1.pcapng.png\n",
      "Saved image for data\\PCAPS\\HAWKEYE\\240604-me3hvadb5z.behavioral2.pcapng to z-order\\train\\HAWKEYE\\240604-me3hvadb5z.behavioral2.pcapng.png\n",
      "Saved image for data\\PCAPS\\HAWKEYE\\240604-qqa5hshe67.behavioral1.pcapng to z-order\\train\\HAWKEYE\\240604-qqa5hshe67.behavioral1.pcapng.png\n",
      "Saved image for data\\PCAPS\\HAWKEYE\\240604-qqa5hshe67.behavioral2.pcapng to z-order\\train\\HAWKEYE\\240604-qqa5hshe67.behavioral2.pcapng.png\n"
     ]
    },
    {
     "name": "stderr",
     "output_type": "stream",
     "text": [
      "WARNING: PcapNg: TLS Key Log available, but the TLS layer is not loaded! Scapy won't be able to decrypt the packets.\n"
     ]
    },
    {
     "name": "stdout",
     "output_type": "stream",
     "text": [
      "Saved image for data\\PCAPS\\HAWKEYE\\240605-kg2yzsba2v.behavioral1.pcapng to z-order\\train\\HAWKEYE\\240605-kg2yzsba2v.behavioral1.pcapng.png\n"
     ]
    },
    {
     "name": "stderr",
     "output_type": "stream",
     "text": [
      "WARNING: PcapNg: TLS Key Log available, but the TLS layer is not loaded! Scapy won't be able to decrypt the packets.\n"
     ]
    },
    {
     "name": "stdout",
     "output_type": "stream",
     "text": [
      "Saved image for data\\PCAPS\\HAWKEYE\\240605-kg2yzsba2v.behavioral2.pcapng to z-order\\train\\HAWKEYE\\240605-kg2yzsba2v.behavioral2.pcapng.png\n",
      "Skipping data\\PCAPS\\HAWKEYE_REBORN\\240518-tp7c4sca72.behavioral1.pcapng as it is smaller than 2KB\n"
     ]
    },
    {
     "name": "stderr",
     "output_type": "stream",
     "text": [
      "WARNING: more PcapNg: TLS Key Log available, but the TLS layer is not loaded! Scapy won't be able to decrypt the packets.\n"
     ]
    },
    {
     "name": "stdout",
     "output_type": "stream",
     "text": [
      "Saved image for data\\PCAPS\\HAWKEYE_REBORN\\240518-tp7c4sca72.behavioral2.pcapng to z-order\\train\\HAWKEYE_REBORN\\240518-tp7c4sca72.behavioral2.pcapng.png\n",
      "Skipping data\\PCAPS\\HAWKEYE_REBORN\\240518-x28cqabc6x.behavioral1.pcapng as it is smaller than 2KB\n",
      "Saved image for data\\PCAPS\\HAWKEYE_REBORN\\240518-x28cqabc6x.behavioral2.pcapng to z-order\\train\\HAWKEYE_REBORN\\240518-x28cqabc6x.behavioral2.pcapng.png\n",
      "Saved image for data\\PCAPS\\HAWKEYE_REBORN\\240518-z7241agg45.behavioral1.pcapng to z-order\\train\\HAWKEYE_REBORN\\240518-z7241agg45.behavioral1.pcapng.png\n",
      "Saved image for data\\PCAPS\\HAWKEYE_REBORN\\240518-z7241agg45.behavioral2.pcapng to z-order\\train\\HAWKEYE_REBORN\\240518-z7241agg45.behavioral2.pcapng.png\n",
      "Skipping data\\PCAPS\\HAWKEYE_REBORN\\240519-24lc7agb7w.behavioral1.pcapng as it is smaller than 2KB\n",
      "Saved image for data\\PCAPS\\HAWKEYE_REBORN\\240519-24lc7agb7w.behavioral2.pcapng to z-order\\train\\HAWKEYE_REBORN\\240519-24lc7agb7w.behavioral2.pcapng.png\n",
      "Skipping data\\PCAPS\\HAWKEYE_REBORN\\240519-lfr8tsbh9v.behavioral1.pcapng as it is smaller than 2KB\n",
      "Saved image for data\\PCAPS\\HAWKEYE_REBORN\\240519-lfr8tsbh9v.behavioral2.pcapng to z-order\\train\\HAWKEYE_REBORN\\240519-lfr8tsbh9v.behavioral2.pcapng.png\n",
      "Saved image for data\\PCAPS\\HAWKEYE_REBORN\\240519-mwmhyseg4x.behavioral1.pcapng to z-order\\train\\HAWKEYE_REBORN\\240519-mwmhyseg4x.behavioral1.pcapng.png\n",
      "Saved image for data\\PCAPS\\HAWKEYE_REBORN\\240519-mwmhyseg4x.behavioral2.pcapng to z-order\\train\\HAWKEYE_REBORN\\240519-mwmhyseg4x.behavioral2.pcapng.png\n",
      "Skipping data\\PCAPS\\HAWKEYE_REBORN\\240519-t4qnxaff74.behavioral1.pcapng as it is smaller than 2KB\n",
      "Saved image for data\\PCAPS\\HAWKEYE_REBORN\\240519-t4qnxaff74.behavioral2.pcapng to z-order\\train\\HAWKEYE_REBORN\\240519-t4qnxaff74.behavioral2.pcapng.png\n",
      "Skipping data\\PCAPS\\HAWKEYE_REBORN\\240520-ehleqsae88.behavioral1.pcapng as it is smaller than 2KB\n",
      "Saved image for data\\PCAPS\\HAWKEYE_REBORN\\240520-ehleqsae88.behavioral2.pcapng to z-order\\train\\HAWKEYE_REBORN\\240520-ehleqsae88.behavioral2.pcapng.png\n",
      "Skipping data\\PCAPS\\HAWKEYE_REBORN\\240520-r3hwkaeb48.behavioral1.pcapng as it is smaller than 2KB\n"
     ]
    },
    {
     "name": "stderr",
     "output_type": "stream",
     "text": [
      "WARNING: PcapNg: TLS Key Log available, but the TLS layer is not loaded! Scapy won't be able to decrypt the packets.\n"
     ]
    },
    {
     "name": "stdout",
     "output_type": "stream",
     "text": [
      "Saved image for data\\PCAPS\\HAWKEYE_REBORN\\240520-r3hwkaeb48.behavioral2.pcapng to z-order\\train\\HAWKEYE_REBORN\\240520-r3hwkaeb48.behavioral2.pcapng.png\n",
      "Skipping data\\PCAPS\\HAWKEYE_REBORN\\240520-s51d3agf5y.behavioral1.pcapng as it is smaller than 2KB\n"
     ]
    },
    {
     "name": "stderr",
     "output_type": "stream",
     "text": [
      "WARNING: PcapNg: TLS Key Log available, but the TLS layer is not loaded! Scapy won't be able to decrypt the packets.\n"
     ]
    },
    {
     "name": "stdout",
     "output_type": "stream",
     "text": [
      "Saved image for data\\PCAPS\\HAWKEYE_REBORN\\240520-s51d3agf5y.behavioral2.pcapng to z-order\\train\\HAWKEYE_REBORN\\240520-s51d3agf5y.behavioral2.pcapng.png\n",
      "Skipping data\\PCAPS\\HAWKEYE_REBORN\\240520-tp2gvshd6w.behavioral1.pcapng as it is smaller than 2KB\n"
     ]
    },
    {
     "name": "stderr",
     "output_type": "stream",
     "text": [
      "WARNING: more PcapNg: TLS Key Log available, but the TLS layer is not loaded! Scapy won't be able to decrypt the packets.\n"
     ]
    },
    {
     "name": "stdout",
     "output_type": "stream",
     "text": [
      "Saved image for data\\PCAPS\\HAWKEYE_REBORN\\240520-tp2gvshd6w.behavioral2.pcapng to z-order\\train\\HAWKEYE_REBORN\\240520-tp2gvshd6w.behavioral2.pcapng.png\n",
      "Skipping data\\PCAPS\\HAWKEYE_REBORN\\240521-3b6n4add82.behavioral1.pcapng as it is smaller than 2KB\n",
      "Saved image for data\\PCAPS\\HAWKEYE_REBORN\\240521-3b6n4add82.behavioral2.pcapng to z-order\\train\\HAWKEYE_REBORN\\240521-3b6n4add82.behavioral2.pcapng.png\n",
      "Skipping data\\PCAPS\\HAWKEYE_REBORN\\240521-ky4h5sfe59.behavioral1.pcapng as it is smaller than 2KB\n",
      "Saved image for data\\PCAPS\\HAWKEYE_REBORN\\240521-ky4h5sfe59.behavioral2.pcapng to z-order\\train\\HAWKEYE_REBORN\\240521-ky4h5sfe59.behavioral2.pcapng.png\n",
      "Skipping data\\PCAPS\\HAWKEYE_REBORN\\240521-mjst7sab55.behavioral1.pcapng as it is smaller than 2KB\n",
      "Saved image for data\\PCAPS\\HAWKEYE_REBORN\\240521-mjst7sab55.behavioral2.pcapng to z-order\\train\\HAWKEYE_REBORN\\240521-mjst7sab55.behavioral2.pcapng.png\n",
      "Skipping data\\PCAPS\\HAWKEYE_REBORN\\240522-dy7r8saf32.behavioral1.pcapng as it is smaller than 2KB\n",
      "Saved image for data\\PCAPS\\HAWKEYE_REBORN\\240522-dy7r8saf32.behavioral2.pcapng to z-order\\train\\HAWKEYE_REBORN\\240522-dy7r8saf32.behavioral2.pcapng.png\n",
      "Skipping data\\PCAPS\\HAWKEYE_REBORN\\240523-2a4bxabb65.behavioral1.pcapng as it is smaller than 2KB\n",
      "Saved image for data\\PCAPS\\HAWKEYE_REBORN\\240523-2a4bxabb65.behavioral2.pcapng to z-order\\train\\HAWKEYE_REBORN\\240523-2a4bxabb65.behavioral2.pcapng.png\n",
      "Skipping data\\PCAPS\\HAWKEYE_REBORN\\240523-rrslmaed24.behavioral1.pcapng as it is smaller than 2KB\n",
      "Saved image for data\\PCAPS\\HAWKEYE_REBORN\\240523-rrslmaed24.behavioral2.pcapng to z-order\\train\\HAWKEYE_REBORN\\240523-rrslmaed24.behavioral2.pcapng.png\n",
      "Skipping data\\PCAPS\\HAWKEYE_REBORN\\240524-dw6r6abc4z.behavioral1.pcapng as it is smaller than 2KB\n",
      "Saved image for data\\PCAPS\\HAWKEYE_REBORN\\240524-dw6r6abc4z.behavioral2.pcapng to z-order\\train\\HAWKEYE_REBORN\\240524-dw6r6abc4z.behavioral2.pcapng.png\n",
      "Skipping data\\PCAPS\\HAWKEYE_REBORN\\240524-f92rgafb92.behavioral1.pcapng as it is smaller than 2KB\n",
      "Saved image for data\\PCAPS\\HAWKEYE_REBORN\\240524-f92rgafb92.behavioral2.pcapng to z-order\\train\\HAWKEYE_REBORN\\240524-f92rgafb92.behavioral2.pcapng.png\n",
      "Skipping data\\PCAPS\\HAWKEYE_REBORN\\240524-k4zgdacb84.behavioral1.pcapng as it is smaller than 2KB\n",
      "Saved image for data\\PCAPS\\HAWKEYE_REBORN\\240524-k4zgdacb84.behavioral2.pcapng to z-order\\train\\HAWKEYE_REBORN\\240524-k4zgdacb84.behavioral2.pcapng.png\n",
      "Skipping data\\PCAPS\\HAWKEYE_REBORN\\240524-me9bdsdf85.behavioral1.pcapng as it is smaller than 2KB\n"
     ]
    },
    {
     "name": "stderr",
     "output_type": "stream",
     "text": [
      "WARNING: PcapNg: TLS Key Log available, but the TLS layer is not loaded! Scapy won't be able to decrypt the packets.\n"
     ]
    },
    {
     "name": "stdout",
     "output_type": "stream",
     "text": [
      "Saved image for data\\PCAPS\\HAWKEYE_REBORN\\240524-me9bdsdf85.behavioral2.pcapng to z-order\\train\\HAWKEYE_REBORN\\240524-me9bdsdf85.behavioral2.pcapng.png\n",
      "Skipping data\\PCAPS\\HAWKEYE_REBORN\\240524-nn49gafc96.behavioral1.pcapng as it is smaller than 2KB\n"
     ]
    },
    {
     "name": "stderr",
     "output_type": "stream",
     "text": [
      "WARNING: PcapNg: TLS Key Log available, but the TLS layer is not loaded! Scapy won't be able to decrypt the packets.\n"
     ]
    },
    {
     "name": "stdout",
     "output_type": "stream",
     "text": [
      "Saved image for data\\PCAPS\\HAWKEYE_REBORN\\240524-nn49gafc96.behavioral2.pcapng to z-order\\train\\HAWKEYE_REBORN\\240524-nn49gafc96.behavioral2.pcapng.png\n",
      "Skipping data\\PCAPS\\HAWKEYE_REBORN\\240524-vee2jsce7v.behavioral1.pcapng as it is smaller than 2KB\n"
     ]
    },
    {
     "name": "stderr",
     "output_type": "stream",
     "text": [
      "WARNING: more PcapNg: TLS Key Log available, but the TLS layer is not loaded! Scapy won't be able to decrypt the packets.\n"
     ]
    },
    {
     "name": "stdout",
     "output_type": "stream",
     "text": [
      "Saved image for data\\PCAPS\\HAWKEYE_REBORN\\240524-vee2jsce7v.behavioral2.pcapng to z-order\\train\\HAWKEYE_REBORN\\240524-vee2jsce7v.behavioral2.pcapng.png\n",
      "Skipping data\\PCAPS\\HAWKEYE_REBORN\\240525-3pxy4sfe35.behavioral1.pcapng as it is smaller than 2KB\n",
      "Saved image for data\\PCAPS\\HAWKEYE_REBORN\\240525-3pxy4sfe35.behavioral2.pcapng to z-order\\train\\HAWKEYE_REBORN\\240525-3pxy4sfe35.behavioral2.pcapng.png\n",
      "Skipping data\\PCAPS\\HAWKEYE_REBORN\\240526-3jb5fsgb2x.behavioral1.pcapng as it is smaller than 2KB\n",
      "Saved image for data\\PCAPS\\HAWKEYE_REBORN\\240526-3jb5fsgb2x.behavioral2.pcapng to z-order\\train\\HAWKEYE_REBORN\\240526-3jb5fsgb2x.behavioral2.pcapng.png\n",
      "Skipping data\\PCAPS\\HAWKEYE_REBORN\\240526-qb3wzsfh68.behavioral1.pcapng as it is smaller than 2KB\n",
      "Saved image for data\\PCAPS\\HAWKEYE_REBORN\\240526-qb3wzsfh68.behavioral2.pcapng to z-order\\train\\HAWKEYE_REBORN\\240526-qb3wzsfh68.behavioral2.pcapng.png\n",
      "Skipping data\\PCAPS\\HAWKEYE_REBORN\\240527-dxjn1sfd95.behavioral1.pcapng as it is smaller than 2KB\n",
      "Saved image for data\\PCAPS\\HAWKEYE_REBORN\\240527-dxjn1sfd95.behavioral2.pcapng to z-order\\train\\HAWKEYE_REBORN\\240527-dxjn1sfd95.behavioral2.pcapng.png\n",
      "Skipping data\\PCAPS\\HAWKEYE_REBORN\\240527-qt2rmsec2y.behavioral1.pcapng as it is smaller than 2KB\n",
      "Saved image for data\\PCAPS\\HAWKEYE_REBORN\\240527-qt2rmsec2y.behavioral2.pcapng to z-order\\train\\HAWKEYE_REBORN\\240527-qt2rmsec2y.behavioral2.pcapng.png\n",
      "Skipping data\\PCAPS\\HAWKEYE_REBORN\\240528-1w181aea8y.behavioral1.pcapng as it is smaller than 2KB\n",
      "Saved image for data\\PCAPS\\HAWKEYE_REBORN\\240528-1w181aea8y.behavioral2.pcapng to z-order\\train\\HAWKEYE_REBORN\\240528-1w181aea8y.behavioral2.pcapng.png\n",
      "Skipping data\\PCAPS\\HAWKEYE_REBORN\\240528-r45fysad93.behavioral1.pcapng as it is smaller than 2KB\n",
      "Saved image for data\\PCAPS\\HAWKEYE_REBORN\\240528-r45fysad93.behavioral2.pcapng to z-order\\train\\HAWKEYE_REBORN\\240528-r45fysad93.behavioral2.pcapng.png\n",
      "Skipping data\\PCAPS\\HAWKEYE_REBORN\\240529-b79l3sde9v.behavioral1.pcapng as it is smaller than 2KB\n",
      "Saved image for data\\PCAPS\\HAWKEYE_REBORN\\240529-b79l3sde9v.behavioral2.pcapng to z-order\\train\\HAWKEYE_REBORN\\240529-b79l3sde9v.behavioral2.pcapng.png\n",
      "Skipping data\\PCAPS\\HAWKEYE_REBORN\\240529-e8wndsaf61.behavioral1.pcapng as it is smaller than 2KB\n",
      "Saved image for data\\PCAPS\\HAWKEYE_REBORN\\240529-e8wndsaf61.behavioral2.pcapng to z-order\\train\\HAWKEYE_REBORN\\240529-e8wndsaf61.behavioral2.pcapng.png\n",
      "Skipping data\\PCAPS\\HAWKEYE_REBORN\\240529-pgz7lseg74.behavioral1.pcapng as it is smaller than 2KB\n",
      "Saved image for data\\PCAPS\\HAWKEYE_REBORN\\240529-pgz7lseg74.behavioral2.pcapng to z-order\\train\\HAWKEYE_REBORN\\240529-pgz7lseg74.behavioral2.pcapng.png\n",
      "Skipping data\\PCAPS\\HAWKEYE_REBORN\\240530-12mmsscd37.behavioral1.pcapng as it is smaller than 2KB\n",
      "Saved image for data\\PCAPS\\HAWKEYE_REBORN\\240530-12mmsscd37.behavioral2.pcapng to z-order\\train\\HAWKEYE_REBORN\\240530-12mmsscd37.behavioral2.pcapng.png\n",
      "Skipping data\\PCAPS\\HAWKEYE_REBORN\\240530-21e21adb51.behavioral1.pcapng as it is smaller than 2KB\n",
      "Saved image for data\\PCAPS\\HAWKEYE_REBORN\\240530-21e21adb51.behavioral2.pcapng to z-order\\train\\HAWKEYE_REBORN\\240530-21e21adb51.behavioral2.pcapng.png\n",
      "Skipping data\\PCAPS\\HAWKEYE_REBORN\\240531-eced8sfb62.behavioral1.pcapng as it is smaller than 2KB\n",
      "Saved image for data\\PCAPS\\HAWKEYE_REBORN\\240531-eced8sfb62.behavioral2.pcapng to z-order\\train\\HAWKEYE_REBORN\\240531-eced8sfb62.behavioral2.pcapng.png\n",
      "Skipping data\\PCAPS\\HAWKEYE_REBORN\\240531-erfwlsff73.behavioral1.pcapng as it is smaller than 2KB\n",
      "Saved image for data\\PCAPS\\HAWKEYE_REBORN\\240531-erfwlsff73.behavioral2.pcapng to z-order\\train\\HAWKEYE_REBORN\\240531-erfwlsff73.behavioral2.pcapng.png\n",
      "Skipping data\\PCAPS\\HAWKEYE_REBORN\\240531-vjjkjaef8w.behavioral1.pcapng as it is smaller than 2KB\n"
     ]
    },
    {
     "name": "stderr",
     "output_type": "stream",
     "text": [
      "WARNING: PcapNg: TLS Key Log available, but the TLS layer is not loaded! Scapy won't be able to decrypt the packets.\n"
     ]
    },
    {
     "name": "stdout",
     "output_type": "stream",
     "text": [
      "Saved image for data\\PCAPS\\HAWKEYE_REBORN\\240531-vjjkjaef8w.behavioral2.pcapng to z-order\\train\\HAWKEYE_REBORN\\240531-vjjkjaef8w.behavioral2.pcapng.png\n",
      "Skipping data\\PCAPS\\HAWKEYE_REBORN\\240531-vqqx7aff88.behavioral1.pcapng as it is smaller than 2KB\n"
     ]
    },
    {
     "name": "stderr",
     "output_type": "stream",
     "text": [
      "WARNING: PcapNg: TLS Key Log available, but the TLS layer is not loaded! Scapy won't be able to decrypt the packets.\n"
     ]
    },
    {
     "name": "stdout",
     "output_type": "stream",
     "text": [
      "Saved image for data\\PCAPS\\HAWKEYE_REBORN\\240531-vqqx7aff88.behavioral2.pcapng to z-order\\train\\HAWKEYE_REBORN\\240531-vqqx7aff88.behavioral2.pcapng.png\n",
      "Skipping data\\PCAPS\\HAWKEYE_REBORN\\240531-vz2q2sfb4s.behavioral1.pcapng as it is smaller than 2KB\n"
     ]
    },
    {
     "name": "stderr",
     "output_type": "stream",
     "text": [
      "WARNING: more PcapNg: TLS Key Log available, but the TLS layer is not loaded! Scapy won't be able to decrypt the packets.\n"
     ]
    },
    {
     "name": "stdout",
     "output_type": "stream",
     "text": [
      "Saved image for data\\PCAPS\\HAWKEYE_REBORN\\240531-vz2q2sfb4s.behavioral2.pcapng to z-order\\train\\HAWKEYE_REBORN\\240531-vz2q2sfb4s.behavioral2.pcapng.png\n",
      "Skipping data\\PCAPS\\HAWKEYE_REBORN\\240602-kxbrqsgf4y.behavioral1.pcapng as it is smaller than 2KB\n",
      "Saved image for data\\PCAPS\\HAWKEYE_REBORN\\240602-kxbrqsgf4y.behavioral2.pcapng to z-order\\train\\HAWKEYE_REBORN\\240602-kxbrqsgf4y.behavioral2.pcapng.png\n",
      "Skipping data\\PCAPS\\HAWKEYE_REBORN\\240602-z5k3psgd93.behavioral1.pcapng as it is smaller than 2KB\n",
      "Saved image for data\\PCAPS\\HAWKEYE_REBORN\\240602-z5k3psgd93.behavioral2.pcapng to z-order\\train\\HAWKEYE_REBORN\\240602-z5k3psgd93.behavioral2.pcapng.png\n",
      "Skipping data\\PCAPS\\HAWKEYE_REBORN\\240603-elqhvsaf3x.behavioral1.pcapng as it is smaller than 2KB\n",
      "Saved image for data\\PCAPS\\HAWKEYE_REBORN\\240603-elqhvsaf3x.behavioral2.pcapng to z-order\\train\\HAWKEYE_REBORN\\240603-elqhvsaf3x.behavioral2.pcapng.png\n",
      "Skipping data\\PCAPS\\HAWKEYE_REBORN\\240604-ppdzcaga5s.behavioral1.pcapng as it is smaller than 2KB\n",
      "Saved image for data\\PCAPS\\HAWKEYE_REBORN\\240604-ppdzcaga5s.behavioral2.pcapng to z-order\\train\\HAWKEYE_REBORN\\240604-ppdzcaga5s.behavioral2.pcapng.png\n",
      "Skipping data\\PCAPS\\HAWKEYE_REBORN\\240604-rdv5laac83.behavioral1.pcapng as it is smaller than 2KB\n",
      "Saved image for data\\PCAPS\\HAWKEYE_REBORN\\240604-rdv5laac83.behavioral2.pcapng to z-order\\train\\HAWKEYE_REBORN\\240604-rdv5laac83.behavioral2.pcapng.png\n",
      "Skipping data\\PCAPS\\HAWKEYE_REBORN\\240605-e99xeaed6v.behavioral1.pcapng as it is smaller than 2KB\n",
      "Saved image for data\\PCAPS\\HAWKEYE_REBORN\\240605-e99xeaed6v.behavioral2.pcapng to z-order\\train\\HAWKEYE_REBORN\\240605-e99xeaed6v.behavioral2.pcapng.png\n",
      "Skipping data\\PCAPS\\HAWKEYE_REBORN\\240605-l8wfysdf54.behavioral1.pcapng as it is smaller than 2KB\n",
      "Saved image for data\\PCAPS\\HAWKEYE_REBORN\\240605-l8wfysdf54.behavioral2.pcapng to z-order\\train\\HAWKEYE_REBORN\\240605-l8wfysdf54.behavioral2.pcapng.png\n",
      "Skipping data\\PCAPS\\HAWKEYE_REBORN\\240605-lsd7qscc5w.behavioral1.pcapng as it is smaller than 2KB\n",
      "Saved image for data\\PCAPS\\HAWKEYE_REBORN\\240605-lsd7qscc5w.behavioral2.pcapng to z-order\\train\\HAWKEYE_REBORN\\240605-lsd7qscc5w.behavioral2.pcapng.png\n",
      "Skipping data\\PCAPS\\HAWKEYE_REBORN\\240610-pejf3sae2x.behavioral1.pcapng as it is smaller than 2KB\n",
      "Saved image for data\\PCAPS\\HAWKEYE_REBORN\\240610-pejf3sae2x.behavioral2.pcapng to z-order\\train\\HAWKEYE_REBORN\\240610-pejf3sae2x.behavioral2.pcapng.png\n",
      "Saved image for data\\PCAPS\\ICEDID\\240516-y6n1baeh37.behavioral1.pcapng to z-order\\train\\ICEDID\\240516-y6n1baeh37.behavioral1.pcapng.png\n",
      "Saved image for data\\PCAPS\\ICEDID\\240516-y6n1baeh37.behavioral2.pcapng to z-order\\train\\ICEDID\\240516-y6n1baeh37.behavioral2.pcapng.png\n",
      "Skipping data\\PCAPS\\ICEDID\\240518-ar6d2sba9z.behavioral1.pcapng as it is smaller than 2KB\n",
      "Saved image for data\\PCAPS\\ICEDID\\240518-ar6d2sba9z.behavioral2.pcapng to z-order\\train\\ICEDID\\240518-ar6d2sba9z.behavioral2.pcapng.png\n",
      "Saved image for data\\PCAPS\\ICEDID\\240518-tt9zsscc76.behavioral1.pcapng to z-order\\train\\ICEDID\\240518-tt9zsscc76.behavioral1.pcapng.png\n",
      "Saved image for data\\PCAPS\\ICEDID\\240518-tt9zsscc76.behavioral2.pcapng to z-order\\train\\ICEDID\\240518-tt9zsscc76.behavioral2.pcapng.png\n",
      "Skipping data\\PCAPS\\ICEDID\\240518-zetbdsed8t.behavioral1.pcapng as it is smaller than 2KB\n"
     ]
    },
    {
     "name": "stderr",
     "output_type": "stream",
     "text": [
      "WARNING: PcapNg: TLS Key Log available, but the TLS layer is not loaded! Scapy won't be able to decrypt the packets.\n"
     ]
    },
    {
     "name": "stdout",
     "output_type": "stream",
     "text": [
      "Saved image for data\\PCAPS\\ICEDID\\240518-zetbdsed8t.behavioral2.pcapng to z-order\\train\\ICEDID\\240518-zetbdsed8t.behavioral2.pcapng.png\n"
     ]
    },
    {
     "name": "stderr",
     "output_type": "stream",
     "text": [
      "WARNING: PcapNg: TLS Key Log available, but the TLS layer is not loaded! Scapy won't be able to decrypt the packets.\n"
     ]
    },
    {
     "name": "stdout",
     "output_type": "stream",
     "text": [
      "Saved image for data\\PCAPS\\ICEDID\\240519-c7nv2see98.behavioral1.pcapng to z-order\\train\\ICEDID\\240519-c7nv2see98.behavioral1.pcapng.png\n"
     ]
    },
    {
     "name": "stderr",
     "output_type": "stream",
     "text": [
      "WARNING: more PcapNg: TLS Key Log available, but the TLS layer is not loaded! Scapy won't be able to decrypt the packets.\n"
     ]
    },
    {
     "name": "stdout",
     "output_type": "stream",
     "text": [
      "Saved image for data\\PCAPS\\ICEDID\\240519-c7nv2see98.behavioral2.pcapng to z-order\\train\\ICEDID\\240519-c7nv2see98.behavioral2.pcapng.png\n",
      "Saved image for data\\PCAPS\\ICEDID\\240519-lfvnysbh9x.behavioral1.pcapng to z-order\\train\\ICEDID\\240519-lfvnysbh9x.behavioral1.pcapng.png\n",
      "Saved image for data\\PCAPS\\ICEDID\\240519-lfvnysbh9x.behavioral2.pcapng to z-order\\train\\ICEDID\\240519-lfvnysbh9x.behavioral2.pcapng.png\n",
      "Saved image for data\\PCAPS\\ICEDID\\240520-2gft7ahh32.behavioral1.pcapng to z-order\\train\\ICEDID\\240520-2gft7ahh32.behavioral1.pcapng.png\n",
      "Saved image for data\\PCAPS\\ICEDID\\240520-2gft7ahh32.behavioral2.pcapng to z-order\\train\\ICEDID\\240520-2gft7ahh32.behavioral2.pcapng.png\n"
     ]
    },
    {
     "name": "stderr",
     "output_type": "stream",
     "text": [
      "WARNING: PcapNg: TLS Key Log available, but the TLS layer is not loaded! Scapy won't be able to decrypt the packets.\n"
     ]
    },
    {
     "name": "stdout",
     "output_type": "stream",
     "text": [
      "Saved image for data\\PCAPS\\ICEDID\\240520-gjlg8seh7x.behavioral1.pcapng to z-order\\train\\ICEDID\\240520-gjlg8seh7x.behavioral1.pcapng.png\n"
     ]
    },
    {
     "name": "stderr",
     "output_type": "stream",
     "text": [
      "WARNING: PcapNg: TLS Key Log available, but the TLS layer is not loaded! Scapy won't be able to decrypt the packets.\n"
     ]
    },
    {
     "name": "stdout",
     "output_type": "stream",
     "text": [
      "Saved image for data\\PCAPS\\ICEDID\\240520-gjlg8seh7x.behavioral2.pcapng to z-order\\train\\ICEDID\\240520-gjlg8seh7x.behavioral2.pcapng.png\n"
     ]
    },
    {
     "name": "stderr",
     "output_type": "stream",
     "text": [
      "WARNING: more PcapNg: TLS Key Log available, but the TLS layer is not loaded! Scapy won't be able to decrypt the packets.\n"
     ]
    },
    {
     "name": "stdout",
     "output_type": "stream",
     "text": [
      "Saved image for data\\PCAPS\\ICEDID\\240520-pf3w4sbc5s.behavioral1.pcapng to z-order\\train\\ICEDID\\240520-pf3w4sbc5s.behavioral1.pcapng.png\n",
      "Saved image for data\\PCAPS\\ICEDID\\240520-pf3w4sbc5s.behavioral2.pcapng to z-order\\train\\ICEDID\\240520-pf3w4sbc5s.behavioral2.pcapng.png\n",
      "Saved image for data\\PCAPS\\ICEDID\\240520-scyd1afd51.behavioral1.pcapng to z-order\\train\\ICEDID\\240520-scyd1afd51.behavioral1.pcapng.png\n",
      "Saved image for data\\PCAPS\\ICEDID\\240520-scyd1afd51.behavioral2.pcapng to z-order\\train\\ICEDID\\240520-scyd1afd51.behavioral2.pcapng.png\n"
     ]
    },
    {
     "name": "stderr",
     "output_type": "stream",
     "text": [
      "WARNING: PcapNg: TLS Key Log available, but the TLS layer is not loaded! Scapy won't be able to decrypt the packets.\n"
     ]
    },
    {
     "name": "stdout",
     "output_type": "stream",
     "text": [
      "Saved image for data\\PCAPS\\ICEDID\\240524-qbyx2aef99.behavioral1.pcapng to z-order\\train\\ICEDID\\240524-qbyx2aef99.behavioral1.pcapng.png\n"
     ]
    },
    {
     "name": "stderr",
     "output_type": "stream",
     "text": [
      "WARNING: PcapNg: TLS Key Log available, but the TLS layer is not loaded! Scapy won't be able to decrypt the packets.\n"
     ]
    },
    {
     "name": "stdout",
     "output_type": "stream",
     "text": [
      "Saved image for data\\PCAPS\\ICEDID\\240524-qbyx2aef99.behavioral2.pcapng to z-order\\train\\ICEDID\\240524-qbyx2aef99.behavioral2.pcapng.png\n"
     ]
    },
    {
     "name": "stderr",
     "output_type": "stream",
     "text": [
      "WARNING: more PcapNg: TLS Key Log available, but the TLS layer is not loaded! Scapy won't be able to decrypt the packets.\n"
     ]
    },
    {
     "name": "stdout",
     "output_type": "stream",
     "text": [
      "Saved image for data\\PCAPS\\ICEDID\\240525-eeh57sde5x.behavioral1.pcapng to z-order\\train\\ICEDID\\240525-eeh57sde5x.behavioral1.pcapng.png\n",
      "Saved image for data\\PCAPS\\ICEDID\\240525-eeh57sde5x.behavioral2.pcapng to z-order\\train\\ICEDID\\240525-eeh57sde5x.behavioral2.pcapng.png\n",
      "Skipping data\\PCAPS\\ICEDID\\240527-daxmcsee93.behavioral1.pcapng as it is smaller than 2KB\n",
      "Saved image for data\\PCAPS\\ICEDID\\240527-daxmcsee93.behavioral2.pcapng to z-order\\train\\ICEDID\\240527-daxmcsee93.behavioral2.pcapng.png\n",
      "Saved image for data\\PCAPS\\ICEDID\\240527-hnnzlace34.behavioral1.pcapng to z-order\\train\\ICEDID\\240527-hnnzlace34.behavioral1.pcapng.png\n",
      "Saved image for data\\PCAPS\\ICEDID\\240527-hnnzlace34.behavioral2.pcapng to z-order\\train\\ICEDID\\240527-hnnzlace34.behavioral2.pcapng.png\n",
      "Saved image for data\\PCAPS\\ICEDID\\240527-z9jqfabf77.behavioral1.pcapng to z-order\\train\\ICEDID\\240527-z9jqfabf77.behavioral1.pcapng.png\n",
      "Saved image for data\\PCAPS\\ICEDID\\240527-z9jqfabf77.behavioral2.pcapng to z-order\\train\\ICEDID\\240527-z9jqfabf77.behavioral2.pcapng.png\n",
      "Saved image for data\\PCAPS\\ICEDID\\240528-d1zveaec27.behavioral1.pcapng to z-order\\train\\ICEDID\\240528-d1zveaec27.behavioral1.pcapng.png\n",
      "Saved image for data\\PCAPS\\ICEDID\\240528-d1zveaec27.behavioral2.pcapng to z-order\\train\\ICEDID\\240528-d1zveaec27.behavioral2.pcapng.png\n",
      "Saved image for data\\PCAPS\\ICEDID\\240528-wldbzafd43.behavioral1.pcapng to z-order\\train\\ICEDID\\240528-wldbzafd43.behavioral1.pcapng.png\n",
      "Saved image for data\\PCAPS\\ICEDID\\240528-wldbzafd43.behavioral2.pcapng to z-order\\train\\ICEDID\\240528-wldbzafd43.behavioral2.pcapng.png\n"
     ]
    },
    {
     "name": "stderr",
     "output_type": "stream",
     "text": [
      "WARNING: PcapNg: TLS Key Log available, but the TLS layer is not loaded! Scapy won't be able to decrypt the packets.\n"
     ]
    },
    {
     "name": "stdout",
     "output_type": "stream",
     "text": [
      "Saved image for data\\PCAPS\\ICEDID\\240528-wp9vcaff29.behavioral1.pcapng to z-order\\train\\ICEDID\\240528-wp9vcaff29.behavioral1.pcapng.png\n"
     ]
    },
    {
     "name": "stderr",
     "output_type": "stream",
     "text": [
      "WARNING: PcapNg: TLS Key Log available, but the TLS layer is not loaded! Scapy won't be able to decrypt the packets.\n"
     ]
    },
    {
     "name": "stdout",
     "output_type": "stream",
     "text": [
      "Saved image for data\\PCAPS\\ICEDID\\240528-wp9vcaff29.behavioral2.pcapng to z-order\\train\\ICEDID\\240528-wp9vcaff29.behavioral2.pcapng.png\n"
     ]
    },
    {
     "name": "stderr",
     "output_type": "stream",
     "text": [
      "WARNING: more PcapNg: TLS Key Log available, but the TLS layer is not loaded! Scapy won't be able to decrypt the packets.\n"
     ]
    },
    {
     "name": "stdout",
     "output_type": "stream",
     "text": [
      "Saved image for data\\PCAPS\\ICEDID\\240530-b3zlbaah92.behavioral1.pcapng to z-order\\train\\ICEDID\\240530-b3zlbaah92.behavioral1.pcapng.png\n",
      "Saved image for data\\PCAPS\\ICEDID\\240530-b3zlbaah92.behavioral2.pcapng to z-order\\train\\ICEDID\\240530-b3zlbaah92.behavioral2.pcapng.png\n",
      "Saved image for data\\PCAPS\\ICEDID\\240531-f3t32shd48.behavioral1.pcapng to z-order\\train\\ICEDID\\240531-f3t32shd48.behavioral1.pcapng.png\n",
      "Saved image for data\\PCAPS\\ICEDID\\240531-f3t32shd48.behavioral2.pcapng to z-order\\train\\ICEDID\\240531-f3t32shd48.behavioral2.pcapng.png\n",
      "Skipping data\\PCAPS\\ICEDID\\240531-fkz7cafg5z.behavioral1.pcapng as it is smaller than 2KB\n"
     ]
    },
    {
     "name": "stderr",
     "output_type": "stream",
     "text": [
      "WARNING: PcapNg: TLS Key Log available, but the TLS layer is not loaded! Scapy won't be able to decrypt the packets.\n"
     ]
    },
    {
     "name": "stdout",
     "output_type": "stream",
     "text": [
      "Saved image for data\\PCAPS\\ICEDID\\240531-fkz7cafg5z.behavioral2.pcapng to z-order\\train\\ICEDID\\240531-fkz7cafg5z.behavioral2.pcapng.png\n"
     ]
    },
    {
     "name": "stderr",
     "output_type": "stream",
     "text": [
      "WARNING: PcapNg: TLS Key Log available, but the TLS layer is not loaded! Scapy won't be able to decrypt the packets.\n"
     ]
    },
    {
     "name": "stdout",
     "output_type": "stream",
     "text": [
      "Saved image for data\\PCAPS\\ICEDID\\240531-hn3gzsbd23.behavioral1.pcapng to z-order\\train\\ICEDID\\240531-hn3gzsbd23.behavioral1.pcapng.png\n"
     ]
    },
    {
     "name": "stderr",
     "output_type": "stream",
     "text": [
      "WARNING: more PcapNg: TLS Key Log available, but the TLS layer is not loaded! Scapy won't be able to decrypt the packets.\n"
     ]
    },
    {
     "name": "stdout",
     "output_type": "stream",
     "text": [
      "Saved image for data\\PCAPS\\ICEDID\\240531-hn3gzsbd23.behavioral2.pcapng to z-order\\train\\ICEDID\\240531-hn3gzsbd23.behavioral2.pcapng.png\n",
      "Saved image for data\\PCAPS\\ICEDID\\240601-er3qdaaa94.behavioral1.pcapng to z-order\\train\\ICEDID\\240601-er3qdaaa94.behavioral1.pcapng.png\n",
      "Saved image for data\\PCAPS\\ICEDID\\240601-er3qdaaa94.behavioral2.pcapng to z-order\\train\\ICEDID\\240601-er3qdaaa94.behavioral2.pcapng.png\n",
      "Saved image for data\\PCAPS\\ICEDID\\240603-qy28zahg39.behavioral1.pcapng to z-order\\train\\ICEDID\\240603-qy28zahg39.behavioral1.pcapng.png\n",
      "Saved image for data\\PCAPS\\ICEDID\\240603-qy28zahg39.behavioral2.pcapng to z-order\\train\\ICEDID\\240603-qy28zahg39.behavioral2.pcapng.png\n",
      "Saved image for data\\PCAPS\\ICEDID\\240604-jaslashe2x.behavioral1.pcapng to z-order\\train\\ICEDID\\240604-jaslashe2x.behavioral1.pcapng.png\n",
      "Saved image for data\\PCAPS\\ICEDID\\240604-jaslashe2x.behavioral2.pcapng to z-order\\train\\ICEDID\\240604-jaslashe2x.behavioral2.pcapng.png\n"
     ]
    },
    {
     "name": "stderr",
     "output_type": "stream",
     "text": [
      "WARNING: PcapNg: TLS Key Log available, but the TLS layer is not loaded! Scapy won't be able to decrypt the packets.\n"
     ]
    },
    {
     "name": "stdout",
     "output_type": "stream",
     "text": [
      "Saved image for data\\PCAPS\\ICEDID\\240604-v67wmseg84.behavioral1.pcapng to z-order\\train\\ICEDID\\240604-v67wmseg84.behavioral1.pcapng.png\n"
     ]
    },
    {
     "name": "stderr",
     "output_type": "stream",
     "text": [
      "WARNING: PcapNg: TLS Key Log available, but the TLS layer is not loaded! Scapy won't be able to decrypt the packets.\n"
     ]
    },
    {
     "name": "stdout",
     "output_type": "stream",
     "text": [
      "Saved image for data\\PCAPS\\ICEDID\\240604-v67wmseg84.behavioral2.pcapng to z-order\\train\\ICEDID\\240604-v67wmseg84.behavioral2.pcapng.png\n",
      "Skipping data\\PCAPS\\ICEDID\\240605-x85keagd73.behavioral1.pcapng as it is smaller than 2KB\n"
     ]
    },
    {
     "name": "stderr",
     "output_type": "stream",
     "text": [
      "WARNING: more PcapNg: TLS Key Log available, but the TLS layer is not loaded! Scapy won't be able to decrypt the packets.\n"
     ]
    },
    {
     "name": "stdout",
     "output_type": "stream",
     "text": [
      "Saved image for data\\PCAPS\\ICEDID\\240605-x85keagd73.behavioral2.pcapng to z-order\\train\\ICEDID\\240605-x85keagd73.behavioral2.pcapng.png\n",
      "Skipping data\\PCAPS\\ICEDID\\240605-x8tsxafd8y.behavioral1.pcapng as it is smaller than 2KB\n",
      "Saved image for data\\PCAPS\\ICEDID\\240605-x8tsxafd8y.behavioral2.pcapng to z-order\\train\\ICEDID\\240605-x8tsxafd8y.behavioral2.pcapng.png\n",
      "Saved image for data\\PCAPS\\ICEDID\\240605-y61n4she35.behavioral1.pcapng to z-order\\train\\ICEDID\\240605-y61n4she35.behavioral1.pcapng.png\n",
      "Saved image for data\\PCAPS\\ICEDID\\240605-y61n4she35.behavioral2.pcapng to z-order\\train\\ICEDID\\240605-y61n4she35.behavioral2.pcapng.png\n",
      "Skipping data\\PCAPS\\ICEDID\\240605-ya4e5afe4x.behavioral1.pcapng as it is smaller than 2KB\n",
      "Saved image for data\\PCAPS\\ICEDID\\240605-ya4e5afe4x.behavioral2.pcapng to z-order\\train\\ICEDID\\240605-ya4e5afe4x.behavioral2.pcapng.png\n",
      "Skipping data\\PCAPS\\ICEDID\\240605-yd4v3aff3w.behavioral1.pcapng as it is smaller than 2KB\n",
      "Saved image for data\\PCAPS\\ICEDID\\240605-yd4v3aff3w.behavioral2.pcapng to z-order\\train\\ICEDID\\240605-yd4v3aff3w.behavioral2.pcapng.png\n",
      "Saved image for data\\PCAPS\\ICEDID\\240605-ydgersff2s.behavioral1.pcapng to z-order\\train\\ICEDID\\240605-ydgersff2s.behavioral1.pcapng.png\n",
      "Saved image for data\\PCAPS\\ICEDID\\240605-ydgersff2s.behavioral2.pcapng to z-order\\train\\ICEDID\\240605-ydgersff2s.behavioral2.pcapng.png\n",
      "Skipping data\\PCAPS\\ICEDID\\240605-yftg4sgf58.behavioral1.pcapng as it is smaller than 2KB\n",
      "Saved image for data\\PCAPS\\ICEDID\\240605-yftg4sgf58.behavioral2.pcapng to z-order\\train\\ICEDID\\240605-yftg4sgf58.behavioral2.pcapng.png\n",
      "Skipping data\\PCAPS\\ICEDID\\240605-yh42magg29.behavioral1.pcapng as it is smaller than 2KB\n",
      "Saved image for data\\PCAPS\\ICEDID\\240605-yh42magg29.behavioral2.pcapng to z-order\\train\\ICEDID\\240605-yh42magg29.behavioral2.pcapng.png\n",
      "Skipping data\\PCAPS\\ICEDID\\240605-yhhhmafg3z.behavioral1.pcapng as it is smaller than 2KB\n",
      "Saved image for data\\PCAPS\\ICEDID\\240605-yhhhmafg3z.behavioral2.pcapng to z-order\\train\\ICEDID\\240605-yhhhmafg3z.behavioral2.pcapng.png\n",
      "Skipping data\\PCAPS\\ICEDID\\240605-ylvmcsgh24.behavioral1.pcapng as it is smaller than 2KB\n",
      "Saved image for data\\PCAPS\\ICEDID\\240605-ylvmcsgh24.behavioral2.pcapng to z-order\\train\\ICEDID\\240605-ylvmcsgh24.behavioral2.pcapng.png\n",
      "Skipping data\\PCAPS\\ICEDID\\240605-ytcfraha92.behavioral1.pcapng as it is smaller than 2KB\n",
      "Saved image for data\\PCAPS\\ICEDID\\240605-ytcfraha92.behavioral2.pcapng to z-order\\train\\ICEDID\\240605-ytcfraha92.behavioral2.pcapng.png\n",
      "Saved image for data\\PCAPS\\ICEDID\\240605-ytfheagb8s.behavioral1.pcapng to z-order\\train\\ICEDID\\240605-ytfheagb8s.behavioral1.pcapng.png\n",
      "Saved image for data\\PCAPS\\ICEDID\\240605-ytfheagb8s.behavioral2.pcapng to z-order\\train\\ICEDID\\240605-ytfheagb8s.behavioral2.pcapng.png\n"
     ]
    },
    {
     "name": "stderr",
     "output_type": "stream",
     "text": [
      "WARNING: PcapNg: TLS Key Log available, but the TLS layer is not loaded! Scapy won't be able to decrypt the packets.\n"
     ]
    },
    {
     "name": "stdout",
     "output_type": "stream",
     "text": [
      "Saved image for data\\PCAPS\\ICEDID\\240605-z8jn2saf69.behavioral1.pcapng to z-order\\train\\ICEDID\\240605-z8jn2saf69.behavioral1.pcapng.png\n"
     ]
    },
    {
     "name": "stderr",
     "output_type": "stream",
     "text": [
      "WARNING: PcapNg: TLS Key Log available, but the TLS layer is not loaded! Scapy won't be able to decrypt the packets.\n"
     ]
    },
    {
     "name": "stdout",
     "output_type": "stream",
     "text": [
      "Saved image for data\\PCAPS\\ICEDID\\240605-z8jn2saf69.behavioral2.pcapng to z-order\\train\\ICEDID\\240605-z8jn2saf69.behavioral2.pcapng.png\n"
     ]
    },
    {
     "name": "stderr",
     "output_type": "stream",
     "text": [
      "WARNING: more PcapNg: TLS Key Log available, but the TLS layer is not loaded! Scapy won't be able to decrypt the packets.\n"
     ]
    },
    {
     "name": "stdout",
     "output_type": "stream",
     "text": [
      "Saved image for data\\PCAPS\\ICEDID\\240607-ay379sfe89.behavioral1.pcapng to z-order\\train\\ICEDID\\240607-ay379sfe89.behavioral1.pcapng.png\n",
      "Saved image for data\\PCAPS\\ICEDID\\240607-ay379sfe89.behavioral2.pcapng to z-order\\train\\ICEDID\\240607-ay379sfe89.behavioral2.pcapng.png\n",
      "Saved image for data\\PCAPS\\ICEDID\\240607-dew7dshf69.behavioral1.pcapng to z-order\\train\\ICEDID\\240607-dew7dshf69.behavioral1.pcapng.png\n",
      "Saved image for data\\PCAPS\\ICEDID\\240607-dew7dshf69.behavioral2.pcapng to z-order\\train\\ICEDID\\240607-dew7dshf69.behavioral2.pcapng.png\n",
      "Skipping data\\PCAPS\\ICEDID\\240609-h6yazsgc37.behavioral1.pcapng as it is smaller than 2KB\n"
     ]
    },
    {
     "name": "stderr",
     "output_type": "stream",
     "text": [
      "WARNING: PcapNg: TLS Key Log available, but the TLS layer is not loaded! Scapy won't be able to decrypt the packets.\n"
     ]
    },
    {
     "name": "stdout",
     "output_type": "stream",
     "text": [
      "Saved image for data\\PCAPS\\ICEDID\\240609-h6yazsgc37.behavioral2.pcapng to z-order\\train\\ICEDID\\240609-h6yazsgc37.behavioral2.pcapng.png\n"
     ]
    },
    {
     "name": "stderr",
     "output_type": "stream",
     "text": [
      "WARNING: PcapNg: TLS Key Log available, but the TLS layer is not loaded! Scapy won't be able to decrypt the packets.\n"
     ]
    },
    {
     "name": "stdout",
     "output_type": "stream",
     "text": [
      "Saved image for data\\PCAPS\\ICEDID\\240610-h6xpfsdg4s.behavioral1.pcapng to z-order\\train\\ICEDID\\240610-h6xpfsdg4s.behavioral1.pcapng.png\n"
     ]
    },
    {
     "name": "stderr",
     "output_type": "stream",
     "text": [
      "WARNING: more PcapNg: TLS Key Log available, but the TLS layer is not loaded! Scapy won't be able to decrypt the packets.\n"
     ]
    },
    {
     "name": "stdout",
     "output_type": "stream",
     "text": [
      "Saved image for data\\PCAPS\\ICEDID\\240610-h6xpfsdg4s.behavioral2.pcapng to z-order\\train\\ICEDID\\240610-h6xpfsdg4s.behavioral2.pcapng.png\n",
      "Skipping data\\PCAPS\\LOKIBOT\\240604-3ct2paeh4s.behavioral1.pcapng as it is smaller than 2KB\n",
      "Saved image for data\\PCAPS\\LOKIBOT\\240604-3ct2paeh4s.behavioral2.pcapng to z-order\\train\\LOKIBOT\\240604-3ct2paeh4s.behavioral2.pcapng.png\n",
      "Saved image for data\\PCAPS\\LOKIBOT\\240604-3pegrsgb84.behavioral1.pcapng to z-order\\train\\LOKIBOT\\240604-3pegrsgb84.behavioral1.pcapng.png\n",
      "Saved image for data\\PCAPS\\LOKIBOT\\240604-3pegrsgb84.behavioral2.pcapng to z-order\\train\\LOKIBOT\\240604-3pegrsgb84.behavioral2.pcapng.png\n",
      "Saved image for data\\PCAPS\\LOKIBOT\\240604-bybcxshd39.behavioral1.pcapng to z-order\\train\\LOKIBOT\\240604-bybcxshd39.behavioral1.pcapng.png\n",
      "Saved image for data\\PCAPS\\LOKIBOT\\240604-bybcxshd39.behavioral2.pcapng to z-order\\train\\LOKIBOT\\240604-bybcxshd39.behavioral2.pcapng.png\n",
      "Saved image for data\\PCAPS\\LOKIBOT\\240604-cm8dyshh4v.behavioral1.pcapng to z-order\\train\\LOKIBOT\\240604-cm8dyshh4v.behavioral1.pcapng.png\n",
      "Saved image for data\\PCAPS\\LOKIBOT\\240604-cm8dyshh4v.behavioral2.pcapng to z-order\\train\\LOKIBOT\\240604-cm8dyshh4v.behavioral2.pcapng.png\n",
      "Skipping data\\PCAPS\\LOKIBOT\\240604-kbr7laag6w.behavioral1.pcapng as it is smaller than 2KB\n",
      "Saved image for data\\PCAPS\\LOKIBOT\\240604-kbr7laag6w.behavioral2.pcapng to z-order\\train\\LOKIBOT\\240604-kbr7laag6w.behavioral2.pcapng.png\n",
      "Saved image for data\\PCAPS\\LOKIBOT\\240604-kjr7kaba5t.behavioral1.pcapng to z-order\\train\\LOKIBOT\\240604-kjr7kaba5t.behavioral1.pcapng.png\n",
      "Saved image for data\\PCAPS\\LOKIBOT\\240604-kjr7kaba5t.behavioral2.pcapng to z-order\\train\\LOKIBOT\\240604-kjr7kaba5t.behavioral2.pcapng.png\n",
      "Skipping data\\PCAPS\\LOKIBOT\\240604-nlf4vsfb43.behavioral1.pcapng as it is smaller than 2KB\n",
      "Saved image for data\\PCAPS\\LOKIBOT\\240604-nlf4vsfb43.behavioral2.pcapng to z-order\\train\\LOKIBOT\\240604-nlf4vsfb43.behavioral2.pcapng.png\n",
      "Saved image for data\\PCAPS\\LOKIBOT\\240604-qa1p8sgf4x.behavioral1.pcapng to z-order\\train\\LOKIBOT\\240604-qa1p8sgf4x.behavioral1.pcapng.png\n",
      "Skipping data\\PCAPS\\LOKIBOT\\240604-s2barscc86.behavioral1.pcapng as it is smaller than 2KB\n"
     ]
    },
    {
     "name": "stderr",
     "output_type": "stream",
     "text": [
      "WARNING: PcapNg: TLS Key Log available, but the TLS layer is not loaded! Scapy won't be able to decrypt the packets.\n"
     ]
    },
    {
     "name": "stdout",
     "output_type": "stream",
     "text": [
      "Saved image for data\\PCAPS\\LOKIBOT\\240604-s2barscc86.behavioral2.pcapng to z-order\\train\\LOKIBOT\\240604-s2barscc86.behavioral2.pcapng.png\n"
     ]
    },
    {
     "name": "stderr",
     "output_type": "stream",
     "text": [
      "WARNING: PcapNg: TLS Key Log available, but the TLS layer is not loaded! Scapy won't be able to decrypt the packets.\n"
     ]
    },
    {
     "name": "stdout",
     "output_type": "stream",
     "text": [
      "Saved image for data\\PCAPS\\LOKIBOT\\240604-sawgmaah2t.behavioral1.pcapng to z-order\\train\\LOKIBOT\\240604-sawgmaah2t.behavioral1.pcapng.png\n"
     ]
    },
    {
     "name": "stderr",
     "output_type": "stream",
     "text": [
      "WARNING: more PcapNg: TLS Key Log available, but the TLS layer is not loaded! Scapy won't be able to decrypt the packets.\n"
     ]
    },
    {
     "name": "stdout",
     "output_type": "stream",
     "text": [
      "Saved image for data\\PCAPS\\LOKIBOT\\240604-sawgmaah2t.behavioral2.pcapng to z-order\\train\\LOKIBOT\\240604-sawgmaah2t.behavioral2.pcapng.png\n",
      "Saved image for data\\PCAPS\\LOKIBOT\\240604-skb6qsbb6s.behavioral1.pcapng to z-order\\train\\LOKIBOT\\240604-skb6qsbb6s.behavioral1.pcapng.png\n",
      "Saved image for data\\PCAPS\\LOKIBOT\\240604-skb6qsbb6s.behavioral2.pcapng to z-order\\train\\LOKIBOT\\240604-skb6qsbb6s.behavioral2.pcapng.png\n",
      "Skipping data\\PCAPS\\LOKIBOT\\240604-tqkwhace51.behavioral1.pcapng as it is smaller than 2KB\n",
      "Saved image for data\\PCAPS\\LOKIBOT\\240604-tqkwhace51.behavioral2.pcapng to z-order\\train\\LOKIBOT\\240604-tqkwhace51.behavioral2.pcapng.png\n",
      "Skipping data\\PCAPS\\LOKIBOT\\240605-19lqgaaf3s.behavioral1.pcapng as it is smaller than 2KB\n",
      "Saved image for data\\PCAPS\\LOKIBOT\\240605-19lqgaaf3s.behavioral2.pcapng to z-order\\train\\LOKIBOT\\240605-19lqgaaf3s.behavioral2.pcapng.png\n",
      "Skipping data\\PCAPS\\LOKIBOT\\240605-1rqlpsac2t.behavioral1.pcapng as it is smaller than 2KB\n",
      "Saved image for data\\PCAPS\\LOKIBOT\\240605-1rqlpsac2t.behavioral2.pcapng to z-order\\train\\LOKIBOT\\240605-1rqlpsac2t.behavioral2.pcapng.png\n"
     ]
    },
    {
     "name": "stderr",
     "output_type": "stream",
     "text": [
      "WARNING: PcapNg: TLS Key Log available, but the TLS layer is not loaded! Scapy won't be able to decrypt the packets.\n"
     ]
    },
    {
     "name": "stdout",
     "output_type": "stream",
     "text": [
      "Saved image for data\\PCAPS\\LOKIBOT\\240605-bex3ksac47.behavioral1.pcapng to z-order\\train\\LOKIBOT\\240605-bex3ksac47.behavioral1.pcapng.png\n"
     ]
    },
    {
     "name": "stderr",
     "output_type": "stream",
     "text": [
      "WARNING: PcapNg: TLS Key Log available, but the TLS layer is not loaded! Scapy won't be able to decrypt the packets.\n"
     ]
    },
    {
     "name": "stdout",
     "output_type": "stream",
     "text": [
      "Saved image for data\\PCAPS\\LOKIBOT\\240605-bex3ksac47.behavioral2.pcapng to z-order\\train\\LOKIBOT\\240605-bex3ksac47.behavioral2.pcapng.png\n"
     ]
    },
    {
     "name": "stderr",
     "output_type": "stream",
     "text": [
      "WARNING: more PcapNg: TLS Key Log available, but the TLS layer is not loaded! Scapy won't be able to decrypt the packets.\n"
     ]
    },
    {
     "name": "stdout",
     "output_type": "stream",
     "text": [
      "Saved image for data\\PCAPS\\LOKIBOT\\240605-cfjr1sba4y.behavioral1.pcapng to z-order\\train\\LOKIBOT\\240605-cfjr1sba4y.behavioral1.pcapng.png\n",
      "Saved image for data\\PCAPS\\LOKIBOT\\240605-cfjr1sba4y.behavioral2.pcapng to z-order\\train\\LOKIBOT\\240605-cfjr1sba4y.behavioral2.pcapng.png\n",
      "Skipping data\\PCAPS\\LOKIBOT\\240605-dc52hsch94.behavioral1.pcapng as it is smaller than 2KB\n",
      "Saved image for data\\PCAPS\\LOKIBOT\\240605-dc52hsch94.behavioral2.pcapng to z-order\\train\\LOKIBOT\\240605-dc52hsch94.behavioral2.pcapng.png\n",
      "Skipping data\\PCAPS\\LOKIBOT\\240605-exdy7sdh8t.behavioral1.pcapng as it is smaller than 2KB\n",
      "Saved image for data\\PCAPS\\LOKIBOT\\240605-exdy7sdh8t.behavioral2.pcapng to z-order\\train\\LOKIBOT\\240605-exdy7sdh8t.behavioral2.pcapng.png\n",
      "Saved image for data\\PCAPS\\LOKIBOT\\240605-jw9rpsbb47.behavioral1.pcapng to z-order\\train\\LOKIBOT\\240605-jw9rpsbb47.behavioral1.pcapng.png\n",
      "Saved image for data\\PCAPS\\LOKIBOT\\240605-jw9rpsbb47.behavioral2.pcapng to z-order\\train\\LOKIBOT\\240605-jw9rpsbb47.behavioral2.pcapng.png\n",
      "Skipping data\\PCAPS\\LOKIBOT\\240605-k42xhacd86.behavioral1.pcapng as it is smaller than 2KB\n",
      "Saved image for data\\PCAPS\\LOKIBOT\\240605-k42xhacd86.behavioral2.pcapng to z-order\\train\\LOKIBOT\\240605-k42xhacd86.behavioral2.pcapng.png\n",
      "Skipping data\\PCAPS\\LOKIBOT\\240605-k8f6lace72.behavioral1.pcapng as it is smaller than 2KB\n",
      "Saved image for data\\PCAPS\\LOKIBOT\\240605-k8f6lace72.behavioral2.pcapng to z-order\\train\\LOKIBOT\\240605-k8f6lace72.behavioral2.pcapng.png\n",
      "Saved image for data\\PCAPS\\LOKIBOT\\240605-kwq52acc42.behavioral1.pcapng to z-order\\train\\LOKIBOT\\240605-kwq52acc42.behavioral1.pcapng.png\n",
      "Saved image for data\\PCAPS\\LOKIBOT\\240605-kwq52acc42.behavioral2.pcapng to z-order\\train\\LOKIBOT\\240605-kwq52acc42.behavioral2.pcapng.png\n",
      "Saved image for data\\PCAPS\\LOKIBOT\\240605-lj5nbsca9t.behavioral1.pcapng to z-order\\train\\LOKIBOT\\240605-lj5nbsca9t.behavioral1.pcapng.png\n",
      "Saved image for data\\PCAPS\\LOKIBOT\\240605-lj5nbsca9t.behavioral2.pcapng to z-order\\train\\LOKIBOT\\240605-lj5nbsca9t.behavioral2.pcapng.png\n",
      "Skipping data\\PCAPS\\LOKIBOT\\240605-pyhznaff9x.behavioral1.pcapng as it is smaller than 2KB\n",
      "Saved image for data\\PCAPS\\LOKIBOT\\240605-pyhznaff9x.behavioral2.pcapng to z-order\\train\\LOKIBOT\\240605-pyhznaff9x.behavioral2.pcapng.png\n",
      "Skipping data\\PCAPS\\LOKIBOT\\240605-rfewdshc9w.behavioral1.pcapng as it is smaller than 2KB\n",
      "Saved image for data\\PCAPS\\LOKIBOT\\240605-rfewdshc9w.behavioral2.pcapng to z-order\\train\\LOKIBOT\\240605-rfewdshc9w.behavioral2.pcapng.png\n",
      "Saved image for data\\PCAPS\\LOKIBOT\\240605-sz9qjsbg86.behavioral1.pcapng to z-order\\train\\LOKIBOT\\240605-sz9qjsbg86.behavioral1.pcapng.png\n",
      "Saved image for data\\PCAPS\\LOKIBOT\\240605-sz9qjsbg86.behavioral2.pcapng to z-order\\train\\LOKIBOT\\240605-sz9qjsbg86.behavioral2.pcapng.png\n",
      "Saved image for data\\PCAPS\\LOKIBOT\\240606-beq92adc5v.behavioral1.pcapng to z-order\\train\\LOKIBOT\\240606-beq92adc5v.behavioral1.pcapng.png\n",
      "Saved image for data\\PCAPS\\LOKIBOT\\240606-beq92adc5v.behavioral2.pcapng to z-order\\train\\LOKIBOT\\240606-beq92adc5v.behavioral2.pcapng.png\n",
      "Saved image for data\\PCAPS\\LOKIBOT\\240606-bkpy6aed22.behavioral1.pcapng to z-order\\train\\LOKIBOT\\240606-bkpy6aed22.behavioral1.pcapng.png\n",
      "Saved image for data\\PCAPS\\LOKIBOT\\240606-bkpy6aed22.behavioral2.pcapng to z-order\\train\\LOKIBOT\\240606-bkpy6aed22.behavioral2.pcapng.png\n",
      "Saved image for data\\PCAPS\\LOKIBOT\\240606-h8ld7sbc5x.behavioral1.pcapng to z-order\\train\\LOKIBOT\\240606-h8ld7sbc5x.behavioral1.pcapng.png\n",
      "Saved image for data\\PCAPS\\LOKIBOT\\240606-h8ld7sbc5x.behavioral2.pcapng to z-order\\train\\LOKIBOT\\240606-h8ld7sbc5x.behavioral2.pcapng.png\n"
     ]
    },
    {
     "name": "stderr",
     "output_type": "stream",
     "text": [
      "WARNING: PcapNg: TLS Key Log available, but the TLS layer is not loaded! Scapy won't be able to decrypt the packets.\n"
     ]
    },
    {
     "name": "stdout",
     "output_type": "stream",
     "text": [
      "Saved image for data\\PCAPS\\LOKIBOT\\240606-jbs88acc44.behavioral1.pcapng to z-order\\train\\LOKIBOT\\240606-jbs88acc44.behavioral1.pcapng.png\n"
     ]
    },
    {
     "name": "stderr",
     "output_type": "stream",
     "text": [
      "WARNING: PcapNg: TLS Key Log available, but the TLS layer is not loaded! Scapy won't be able to decrypt the packets.\n"
     ]
    },
    {
     "name": "stdout",
     "output_type": "stream",
     "text": [
      "Saved image for data\\PCAPS\\LOKIBOT\\240606-jbs88acc44.behavioral2.pcapng to z-order\\train\\LOKIBOT\\240606-jbs88acc44.behavioral2.pcapng.png\n"
     ]
    },
    {
     "name": "stderr",
     "output_type": "stream",
     "text": [
      "WARNING: more PcapNg: TLS Key Log available, but the TLS layer is not loaded! Scapy won't be able to decrypt the packets.\n"
     ]
    },
    {
     "name": "stdout",
     "output_type": "stream",
     "text": [
      "Saved image for data\\PCAPS\\LOKIBOT\\240606-rt11safd5x.behavioral1.pcapng to z-order\\train\\LOKIBOT\\240606-rt11safd5x.behavioral1.pcapng.png\n",
      "Saved image for data\\PCAPS\\LOKIBOT\\240606-rt11safd5x.behavioral2.pcapng to z-order\\train\\LOKIBOT\\240606-rt11safd5x.behavioral2.pcapng.png\n",
      "Saved image for data\\PCAPS\\LOKIBOT\\240606-sn3g4afg6z.behavioral1.pcapng to z-order\\train\\LOKIBOT\\240606-sn3g4afg6z.behavioral1.pcapng.png\n",
      "Saved image for data\\PCAPS\\LOKIBOT\\240606-sn3g4afg6z.behavioral2.pcapng to z-order\\train\\LOKIBOT\\240606-sn3g4afg6z.behavioral2.pcapng.png\n",
      "Saved image for data\\PCAPS\\LOKIBOT\\240606-sn3svsgg88.behavioral1.pcapng to z-order\\train\\LOKIBOT\\240606-sn3svsgg88.behavioral1.pcapng.png\n",
      "Saved image for data\\PCAPS\\LOKIBOT\\240606-sn3svsgg88.behavioral2.pcapng to z-order\\train\\LOKIBOT\\240606-sn3svsgg88.behavioral2.pcapng.png\n",
      "Skipping data\\PCAPS\\LOKIBOT\\240606-tfdz7shc86.behavioral1.pcapng as it is smaller than 2KB\n",
      "Saved image for data\\PCAPS\\LOKIBOT\\240606-tfdz7shc86.behavioral2.pcapng to z-order\\train\\LOKIBOT\\240606-tfdz7shc86.behavioral2.pcapng.png\n",
      "Skipping data\\PCAPS\\LOKIBOT\\240606-tl2cpagd2v.behavioral1.pcapng as it is smaller than 2KB\n",
      "Saved image for data\\PCAPS\\LOKIBOT\\240606-tl2cpagd2v.behavioral2.pcapng to z-order\\train\\LOKIBOT\\240606-tl2cpagd2v.behavioral2.pcapng.png\n",
      "Skipping data\\PCAPS\\LOKIBOT\\240606-tvdmzshe62.behavioral1.pcapng as it is smaller than 2KB\n",
      "Saved image for data\\PCAPS\\LOKIBOT\\240606-tvdmzshe62.behavioral2.pcapng to z-order\\train\\LOKIBOT\\240606-tvdmzshe62.behavioral2.pcapng.png\n",
      "Skipping data\\PCAPS\\LOKIBOT\\240606-wlymxaaf36.behavioral1.pcapng as it is smaller than 2KB\n"
     ]
    },
    {
     "name": "stderr",
     "output_type": "stream",
     "text": [
      "WARNING: PcapNg: TLS Key Log available, but the TLS layer is not loaded! Scapy won't be able to decrypt the packets.\n"
     ]
    },
    {
     "name": "stdout",
     "output_type": "stream",
     "text": [
      "Saved image for data\\PCAPS\\LOKIBOT\\240606-wlymxaaf36.behavioral2.pcapng to z-order\\train\\LOKIBOT\\240606-wlymxaaf36.behavioral2.pcapng.png\n"
     ]
    },
    {
     "name": "stderr",
     "output_type": "stream",
     "text": [
      "WARNING: PcapNg: TLS Key Log available, but the TLS layer is not loaded! Scapy won't be able to decrypt the packets.\n"
     ]
    },
    {
     "name": "stdout",
     "output_type": "stream",
     "text": [
      "Saved image for data\\PCAPS\\LOKIBOT\\240607-b5sksagf74.behavioral1.pcapng to z-order\\train\\LOKIBOT\\240607-b5sksagf74.behavioral1.pcapng.png\n"
     ]
    },
    {
     "name": "stderr",
     "output_type": "stream",
     "text": [
      "WARNING: more PcapNg: TLS Key Log available, but the TLS layer is not loaded! Scapy won't be able to decrypt the packets.\n"
     ]
    },
    {
     "name": "stdout",
     "output_type": "stream",
     "text": [
      "Saved image for data\\PCAPS\\LOKIBOT\\240607-b5sksagf74.behavioral2.pcapng to z-order\\train\\LOKIBOT\\240607-b5sksagf74.behavioral2.pcapng.png\n",
      "Skipping data\\PCAPS\\LOKIBOT\\240607-bdjhsseg9v.behavioral1.pcapng as it is smaller than 2KB\n",
      "Saved image for data\\PCAPS\\LOKIBOT\\240607-bdjhsseg9v.behavioral2.pcapng to z-order\\train\\LOKIBOT\\240607-bdjhsseg9v.behavioral2.pcapng.png\n",
      "Saved image for data\\PCAPS\\LOKIBOT\\240607-cm42jafh9s.behavioral1.pcapng to z-order\\train\\LOKIBOT\\240607-cm42jafh9s.behavioral1.pcapng.png\n",
      "Saved image for data\\PCAPS\\LOKIBOT\\240607-cm42jafh9s.behavioral2.pcapng to z-order\\train\\LOKIBOT\\240607-cm42jafh9s.behavioral2.pcapng.png\n",
      "Saved image for data\\PCAPS\\LOKIBOT\\240607-dnrm9shg82.behavioral1.pcapng to z-order\\train\\LOKIBOT\\240607-dnrm9shg82.behavioral1.pcapng.png\n",
      "Saved image for data\\PCAPS\\LOKIBOT\\240607-dnrm9shg82.behavioral2.pcapng to z-order\\train\\LOKIBOT\\240607-dnrm9shg82.behavioral2.pcapng.png\n",
      "Skipping data\\PCAPS\\LOKIBOT\\240607-spm4ssac8t.behavioral1.pcapng as it is smaller than 2KB\n",
      "Saved image for data\\PCAPS\\LOKIBOT\\240607-spm4ssac8t.behavioral2.pcapng to z-order\\train\\LOKIBOT\\240607-spm4ssac8t.behavioral2.pcapng.png\n",
      "Saved image for data\\PCAPS\\LOKIBOT\\240608-bhjdlafg83.behavioral1.pcapng to z-order\\train\\LOKIBOT\\240608-bhjdlafg83.behavioral1.pcapng.png\n",
      "Saved image for data\\PCAPS\\LOKIBOT\\240608-bhjdlafg83.behavioral2.pcapng to z-order\\train\\LOKIBOT\\240608-bhjdlafg83.behavioral2.pcapng.png\n",
      "Saved image for data\\PCAPS\\LOKIBOT\\240608-dypawshb77.behavioral1.pcapng to z-order\\train\\LOKIBOT\\240608-dypawshb77.behavioral1.pcapng.png\n",
      "Saved image for data\\PCAPS\\LOKIBOT\\240608-dypawshb77.behavioral2.pcapng to z-order\\train\\LOKIBOT\\240608-dypawshb77.behavioral2.pcapng.png\n",
      "Saved image for data\\PCAPS\\LOKIBOT\\240608-e23s5ahh53.behavioral1.pcapng to z-order\\train\\LOKIBOT\\240608-e23s5ahh53.behavioral1.pcapng.png\n",
      "Saved image for data\\PCAPS\\LOKIBOT\\240608-e23s5ahh53.behavioral2.pcapng to z-order\\train\\LOKIBOT\\240608-e23s5ahh53.behavioral2.pcapng.png\n",
      "Saved image for data\\PCAPS\\LOKIBOT\\240609-p7mn7sbe36.behavioral1.pcapng to z-order\\train\\LOKIBOT\\240609-p7mn7sbe36.behavioral1.pcapng.png\n",
      "Saved image for data\\PCAPS\\LOKIBOT\\240609-p7mn7sbe36.behavioral2.pcapng to z-order\\train\\LOKIBOT\\240609-p7mn7sbe36.behavioral2.pcapng.png\n",
      "Saved image for data\\PCAPS\\LOKIBOT\\240610-hx5cyaec86.behavioral1.pcapng to z-order\\train\\LOKIBOT\\240610-hx5cyaec86.behavioral1.pcapng.png\n",
      "Saved image for data\\PCAPS\\LOKIBOT\\240610-hx5cyaec86.behavioral2.pcapng to z-order\\train\\LOKIBOT\\240610-hx5cyaec86.behavioral2.pcapng.png\n"
     ]
    },
    {
     "name": "stderr",
     "output_type": "stream",
     "text": [
      "WARNING: PcapNg: TLS Key Log available, but the TLS layer is not loaded! Scapy won't be able to decrypt the packets.\n"
     ]
    },
    {
     "name": "stdout",
     "output_type": "stream",
     "text": [
      "Saved image for data\\PCAPS\\LOKIBOT\\240610-jb73daee96.behavioral1.pcapng to z-order\\train\\LOKIBOT\\240610-jb73daee96.behavioral1.pcapng.png\n"
     ]
    },
    {
     "name": "stderr",
     "output_type": "stream",
     "text": [
      "WARNING: PcapNg: TLS Key Log available, but the TLS layer is not loaded! Scapy won't be able to decrypt the packets.\n"
     ]
    },
    {
     "name": "stdout",
     "output_type": "stream",
     "text": [
      "Saved image for data\\PCAPS\\LOKIBOT\\240610-jb73daee96.behavioral2.pcapng to z-order\\train\\LOKIBOT\\240610-jb73daee96.behavioral2.pcapng.png\n"
     ]
    },
    {
     "name": "stderr",
     "output_type": "stream",
     "text": [
      "WARNING: more PcapNg: TLS Key Log available, but the TLS layer is not loaded! Scapy won't be able to decrypt the packets.\n"
     ]
    },
    {
     "name": "stdout",
     "output_type": "stream",
     "text": [
      "Saved image for data\\PCAPS\\LOKIBOT\\240610-k7crsaff53.behavioral1.pcapng to z-order\\train\\LOKIBOT\\240610-k7crsaff53.behavioral1.pcapng.png\n",
      "Saved image for data\\PCAPS\\LOKIBOT\\240610-k7crsaff53.behavioral2.pcapng to z-order\\train\\LOKIBOT\\240610-k7crsaff53.behavioral2.pcapng.png\n",
      "Saved image for data\\PCAPS\\MASSLOGGER\\240513-v6qblafe3y.behavioral1.pcapng to z-order\\train\\MASSLOGGER\\240513-v6qblafe3y.behavioral1.pcapng.png\n",
      "Saved image for data\\PCAPS\\MASSLOGGER\\240513-v6qblafe3y.behavioral2.pcapng to z-order\\train\\MASSLOGGER\\240513-v6qblafe3y.behavioral2.pcapng.png\n",
      "Saved image for data\\PCAPS\\MASSLOGGER\\240514-y2gqfaed81.behavioral1.pcapng to z-order\\train\\MASSLOGGER\\240514-y2gqfaed81.behavioral1.pcapng.png\n",
      "Saved image for data\\PCAPS\\MASSLOGGER\\240514-y2gqfaed81.behavioral2.pcapng to z-order\\train\\MASSLOGGER\\240514-y2gqfaed81.behavioral2.pcapng.png\n",
      "Skipping data\\PCAPS\\MASSLOGGER\\240514-z1tjaahb62.behavioral1.pcapng as it is smaller than 2KB\n",
      "Saved image for data\\PCAPS\\MASSLOGGER\\240514-z1tjaahb62.behavioral2.pcapng to z-order\\train\\MASSLOGGER\\240514-z1tjaahb62.behavioral2.pcapng.png\n",
      "Saved image for data\\PCAPS\\MASSLOGGER\\240515-waafyabh6z.behavioral1.pcapng to z-order\\train\\MASSLOGGER\\240515-waafyabh6z.behavioral1.pcapng.png\n",
      "Saved image for data\\PCAPS\\MASSLOGGER\\240515-waafyabh6z.behavioral2.pcapng to z-order\\train\\MASSLOGGER\\240515-waafyabh6z.behavioral2.pcapng.png\n",
      "Skipping data\\PCAPS\\MASSLOGGER\\240516-npnccaba45.behavioral1.pcapng as it is smaller than 2KB\n",
      "Saved image for data\\PCAPS\\MASSLOGGER\\240516-npnccaba45.behavioral2.pcapng to z-order\\train\\MASSLOGGER\\240516-npnccaba45.behavioral2.pcapng.png\n",
      "Skipping data\\PCAPS\\MASSLOGGER\\240516-zyjlasgd61.behavioral1.pcapng as it is smaller than 2KB\n",
      "Saved image for data\\PCAPS\\MASSLOGGER\\240516-zyjlasgd61.behavioral2.pcapng to z-order\\train\\MASSLOGGER\\240516-zyjlasgd61.behavioral2.pcapng.png\n",
      "Skipping data\\PCAPS\\MASSLOGGER\\240517-epnhnsgf7v.behavioral1.pcapng as it is smaller than 2KB\n",
      "Skipping data\\PCAPS\\MASSLOGGER\\240517-epnhnsgf7v.behavioral2.pcapng as it is smaller than 2KB\n",
      "Skipping data\\PCAPS\\MASSLOGGER\\240517-m54htsfb64.behavioral1.pcapng as it is smaller than 2KB\n",
      "Saved image for data\\PCAPS\\MASSLOGGER\\240517-m54htsfb64.behavioral2.pcapng to z-order\\train\\MASSLOGGER\\240517-m54htsfb64.behavioral2.pcapng.png\n",
      "Saved image for data\\PCAPS\\MASSLOGGER\\240517-r2we9scd73.behavioral1.pcapng to z-order\\train\\MASSLOGGER\\240517-r2we9scd73.behavioral1.pcapng.png\n",
      "Saved image for data\\PCAPS\\MASSLOGGER\\240517-r2we9scd73.behavioral2.pcapng to z-order\\train\\MASSLOGGER\\240517-r2we9scd73.behavioral2.pcapng.png\n",
      "Skipping data\\PCAPS\\MASSLOGGER\\240518-ndk3vagg9z.behavioral1.pcapng as it is smaller than 2KB\n",
      "Saved image for data\\PCAPS\\MASSLOGGER\\240518-ndk3vagg9z.behavioral2.pcapng to z-order\\train\\MASSLOGGER\\240518-ndk3vagg9z.behavioral2.pcapng.png\n",
      "Skipping data\\PCAPS\\MASSLOGGER\\240518-pfkqjaba91.behavioral1.pcapng as it is smaller than 2KB\n"
     ]
    },
    {
     "name": "stderr",
     "output_type": "stream",
     "text": [
      "WARNING: PcapNg: TLS Key Log available, but the TLS layer is not loaded! Scapy won't be able to decrypt the packets.\n"
     ]
    },
    {
     "name": "stdout",
     "output_type": "stream",
     "text": [
      "Saved image for data\\PCAPS\\MASSLOGGER\\240518-pfkqjaba91.behavioral2.pcapng to z-order\\train\\MASSLOGGER\\240518-pfkqjaba91.behavioral2.pcapng.png\n"
     ]
    },
    {
     "name": "stderr",
     "output_type": "stream",
     "text": [
      "WARNING: PcapNg: TLS Key Log available, but the TLS layer is not loaded! Scapy won't be able to decrypt the packets.\n"
     ]
    },
    {
     "name": "stdout",
     "output_type": "stream",
     "text": [
      "Saved image for data\\PCAPS\\MASSLOGGER\\240518-sn58zshg37.behavioral1.pcapng to z-order\\train\\MASSLOGGER\\240518-sn58zshg37.behavioral1.pcapng.png\n"
     ]
    },
    {
     "name": "stderr",
     "output_type": "stream",
     "text": [
      "WARNING: more PcapNg: TLS Key Log available, but the TLS layer is not loaded! Scapy won't be able to decrypt the packets.\n"
     ]
    },
    {
     "name": "stdout",
     "output_type": "stream",
     "text": [
      "Saved image for data\\PCAPS\\MASSLOGGER\\240518-sn58zshg37.behavioral2.pcapng to z-order\\train\\MASSLOGGER\\240518-sn58zshg37.behavioral2.pcapng.png\n",
      "Skipping data\\PCAPS\\MASSLOGGER\\240519-1r76rabh8t.behavioral1.pcapng as it is smaller than 2KB\n",
      "Saved image for data\\PCAPS\\MASSLOGGER\\240519-1r76rabh8t.behavioral2.pcapng to z-order\\train\\MASSLOGGER\\240519-1r76rabh8t.behavioral2.pcapng.png\n",
      "Skipping data\\PCAPS\\MASSLOGGER\\240521-h9xtmada6s.behavioral1.pcapng as it is smaller than 2KB\n",
      "Saved image for data\\PCAPS\\MASSLOGGER\\240521-h9xtmada6s.behavioral2.pcapng to z-order\\train\\MASSLOGGER\\240521-h9xtmada6s.behavioral2.pcapng.png\n",
      "Skipping data\\PCAPS\\MASSLOGGER\\240521-jhrzqsdd2x.behavioral1.pcapng as it is smaller than 2KB\n",
      "Saved image for data\\PCAPS\\MASSLOGGER\\240521-jhrzqsdd2x.behavioral2.pcapng to z-order\\train\\MASSLOGGER\\240521-jhrzqsdd2x.behavioral2.pcapng.png\n",
      "Skipping data\\PCAPS\\MASSLOGGER\\240522-y3zmmsfc34.behavioral1.pcapng as it is smaller than 2KB\n",
      "Saved image for data\\PCAPS\\MASSLOGGER\\240522-y3zmmsfc34.behavioral2.pcapng to z-order\\train\\MASSLOGGER\\240522-y3zmmsfc34.behavioral2.pcapng.png\n",
      "Saved image for data\\PCAPS\\MASSLOGGER\\240523-3m1l8ade5w.behavioral1.pcapng to z-order\\train\\MASSLOGGER\\240523-3m1l8ade5w.behavioral1.pcapng.png\n",
      "Skipping data\\PCAPS\\MASSLOGGER\\240523-eddt4ada67.behavioral1.pcapng as it is smaller than 2KB\n"
     ]
    },
    {
     "name": "stderr",
     "output_type": "stream",
     "text": [
      "WARNING: PcapNg: TLS Key Log available, but the TLS layer is not loaded! Scapy won't be able to decrypt the packets.\n"
     ]
    },
    {
     "name": "stdout",
     "output_type": "stream",
     "text": [
      "Saved image for data\\PCAPS\\MASSLOGGER\\240523-eddt4ada67.behavioral2.pcapng to z-order\\train\\MASSLOGGER\\240523-eddt4ada67.behavioral2.pcapng.png\n",
      "Skipping data\\PCAPS\\MASSLOGGER\\240523-lmamcscb58.behavioral1.pcapng as it is smaller than 2KB\n"
     ]
    },
    {
     "name": "stderr",
     "output_type": "stream",
     "text": [
      "WARNING: PcapNg: TLS Key Log available, but the TLS layer is not loaded! Scapy won't be able to decrypt the packets.\n"
     ]
    },
    {
     "name": "stdout",
     "output_type": "stream",
     "text": [
      "Saved image for data\\PCAPS\\MASSLOGGER\\240523-lmamcscb58.behavioral2.pcapng to z-order\\train\\MASSLOGGER\\240523-lmamcscb58.behavioral2.pcapng.png\n"
     ]
    },
    {
     "name": "stderr",
     "output_type": "stream",
     "text": [
      "WARNING: more PcapNg: TLS Key Log available, but the TLS layer is not loaded! Scapy won't be able to decrypt the packets.\n"
     ]
    },
    {
     "name": "stdout",
     "output_type": "stream",
     "text": [
      "Saved image for data\\PCAPS\\MASSLOGGER\\240524-2w77zsed58.behavioral1.pcapng to z-order\\train\\MASSLOGGER\\240524-2w77zsed58.behavioral1.pcapng.png\n"
     ]
    },
    {
     "name": "stderr",
     "output_type": "stream",
     "text": [
      "WARNING: PcapNg: TLS Key Log available, but the TLS layer is not loaded! Scapy won't be able to decrypt the packets.\n"
     ]
    },
    {
     "name": "stdout",
     "output_type": "stream",
     "text": [
      "Saved image for data\\PCAPS\\MASSLOGGER\\240524-3blnxseh97.behavioral1.pcapng to z-order\\train\\MASSLOGGER\\240524-3blnxseh97.behavioral1.pcapng.png\n",
      "Skipping data\\PCAPS\\MASSLOGGER\\240524-fme9ysec71.behavioral1.pcapng as it is smaller than 2KB\n"
     ]
    },
    {
     "name": "stderr",
     "output_type": "stream",
     "text": [
      "WARNING: PcapNg: TLS Key Log available, but the TLS layer is not loaded! Scapy won't be able to decrypt the packets.\n"
     ]
    },
    {
     "name": "stdout",
     "output_type": "stream",
     "text": [
      "Saved image for data\\PCAPS\\MASSLOGGER\\240524-fme9ysec71.behavioral2.pcapng to z-order\\train\\MASSLOGGER\\240524-fme9ysec71.behavioral2.pcapng.png\n",
      "Skipping data\\PCAPS\\MASSLOGGER\\240524-m27fbaee95.behavioral1.pcapng as it is smaller than 2KB\n"
     ]
    },
    {
     "name": "stderr",
     "output_type": "stream",
     "text": [
      "WARNING: PcapNg: TLS Key Log available, but the TLS layer is not loaded! Scapy won't be able to decrypt the packets.\n"
     ]
    },
    {
     "name": "stdout",
     "output_type": "stream",
     "text": [
      "Saved image for data\\PCAPS\\MASSLOGGER\\240524-m27fbaee95.behavioral2.pcapng to z-order\\train\\MASSLOGGER\\240524-m27fbaee95.behavioral2.pcapng.png\n"
     ]
    },
    {
     "name": "stderr",
     "output_type": "stream",
     "text": [
      "WARNING: more PcapNg: TLS Key Log available, but the TLS layer is not loaded! Scapy won't be able to decrypt the packets.\n"
     ]
    },
    {
     "name": "stdout",
     "output_type": "stream",
     "text": [
      "Saved image for data\\PCAPS\\MASSLOGGER\\240524-mjbwpadf8y.behavioral1.pcapng to z-order\\train\\MASSLOGGER\\240524-mjbwpadf8y.behavioral1.pcapng.png\n",
      "Skipping data\\PCAPS\\MASSLOGGER\\240524-ny3hmagc99.behavioral1.pcapng as it is smaller than 2KB\n"
     ]
    },
    {
     "name": "stderr",
     "output_type": "stream",
     "text": [
      "WARNING: PcapNg: TLS Key Log available, but the TLS layer is not loaded! Scapy won't be able to decrypt the packets.\n"
     ]
    },
    {
     "name": "stdout",
     "output_type": "stream",
     "text": [
      "Saved image for data\\PCAPS\\MASSLOGGER\\240524-ny3hmagc99.behavioral2.pcapng to z-order\\train\\MASSLOGGER\\240524-ny3hmagc99.behavioral2.pcapng.png\n"
     ]
    },
    {
     "name": "stderr",
     "output_type": "stream",
     "text": [
      "WARNING: PcapNg: TLS Key Log available, but the TLS layer is not loaded! Scapy won't be able to decrypt the packets.\n"
     ]
    },
    {
     "name": "stdout",
     "output_type": "stream",
     "text": [
      "Saved image for data\\PCAPS\\MASSLOGGER\\240524-srkrfsag35.behavioral1.pcapng to z-order\\train\\MASSLOGGER\\240524-srkrfsag35.behavioral1.pcapng.png\n"
     ]
    },
    {
     "name": "stderr",
     "output_type": "stream",
     "text": [
      "WARNING: PcapNg: TLS Key Log available, but the TLS layer is not loaded! Scapy won't be able to decrypt the packets.\n"
     ]
    },
    {
     "name": "stdout",
     "output_type": "stream",
     "text": [
      "Saved image for data\\PCAPS\\MASSLOGGER\\240524-t9rs6acc8w.behavioral1.pcapng to z-order\\train\\MASSLOGGER\\240524-t9rs6acc8w.behavioral1.pcapng.png\n"
     ]
    },
    {
     "name": "stderr",
     "output_type": "stream",
     "text": [
      "WARNING: PcapNg: TLS Key Log available, but the TLS layer is not loaded! Scapy won't be able to decrypt the packets.\n"
     ]
    },
    {
     "name": "stdout",
     "output_type": "stream",
     "text": [
      "Saved image for data\\PCAPS\\MASSLOGGER\\240524-trgv8sbf4z.behavioral1.pcapng to z-order\\train\\MASSLOGGER\\240524-trgv8sbf4z.behavioral1.pcapng.png\n"
     ]
    },
    {
     "name": "stderr",
     "output_type": "stream",
     "text": [
      "WARNING: PcapNg: TLS Key Log available, but the TLS layer is not loaded! Scapy won't be able to decrypt the packets.\n"
     ]
    },
    {
     "name": "stdout",
     "output_type": "stream",
     "text": [
      "Saved image for data\\PCAPS\\MASSLOGGER\\240524-v56besde3z.behavioral1.pcapng to z-order\\train\\MASSLOGGER\\240524-v56besde3z.behavioral1.pcapng.png\n"
     ]
    },
    {
     "name": "stderr",
     "output_type": "stream",
     "text": [
      "WARNING: PcapNg: TLS Key Log available, but the TLS layer is not loaded! Scapy won't be able to decrypt the packets.\n"
     ]
    },
    {
     "name": "stdout",
     "output_type": "stream",
     "text": [
      "Saved image for data\\PCAPS\\MASSLOGGER\\240524-wqj1baee99.behavioral1.pcapng to z-order\\train\\MASSLOGGER\\240524-wqj1baee99.behavioral1.pcapng.png\n"
     ]
    },
    {
     "name": "stderr",
     "output_type": "stream",
     "text": [
      "WARNING: PcapNg: TLS Key Log available, but the TLS layer is not loaded! Scapy won't be able to decrypt the packets.\n"
     ]
    },
    {
     "name": "stdout",
     "output_type": "stream",
     "text": [
      "Saved image for data\\PCAPS\\MASSLOGGER\\240524-x7mcfagd5y.behavioral1.pcapng to z-order\\train\\MASSLOGGER\\240524-x7mcfagd5y.behavioral1.pcapng.png\n"
     ]
    },
    {
     "name": "stderr",
     "output_type": "stream",
     "text": [
      "WARNING: PcapNg: TLS Key Log available, but the TLS layer is not loaded! Scapy won't be able to decrypt the packets.\n"
     ]
    },
    {
     "name": "stdout",
     "output_type": "stream",
     "text": [
      "Saved image for data\\PCAPS\\MASSLOGGER\\240524-zg6dqsad71.behavioral1.pcapng to z-order\\train\\MASSLOGGER\\240524-zg6dqsad71.behavioral1.pcapng.png\n"
     ]
    },
    {
     "name": "stderr",
     "output_type": "stream",
     "text": [
      "WARNING: PcapNg: TLS Key Log available, but the TLS layer is not loaded! Scapy won't be able to decrypt the packets.\n"
     ]
    },
    {
     "name": "stdout",
     "output_type": "stream",
     "text": [
      "Saved image for data\\PCAPS\\MASSLOGGER\\240525-m55qwseb8s.behavioral1.pcapng to z-order\\train\\MASSLOGGER\\240525-m55qwseb8s.behavioral1.pcapng.png\n",
      "Skipping data\\PCAPS\\MASSLOGGER\\240526-2jcwbaee91.behavioral1.pcapng as it is smaller than 2KB\n"
     ]
    },
    {
     "name": "stderr",
     "output_type": "stream",
     "text": [
      "WARNING: PcapNg: TLS Key Log available, but the TLS layer is not loaded! Scapy won't be able to decrypt the packets.\n"
     ]
    },
    {
     "name": "stdout",
     "output_type": "stream",
     "text": [
      "Saved image for data\\PCAPS\\MASSLOGGER\\240526-2jcwbaee91.behavioral2.pcapng to z-order\\train\\MASSLOGGER\\240526-2jcwbaee91.behavioral2.pcapng.png\n",
      "Skipping data\\PCAPS\\MASSLOGGER\\240526-2zfl5sgb69.behavioral1.pcapng as it is smaller than 2KB\n"
     ]
    },
    {
     "name": "stderr",
     "output_type": "stream",
     "text": [
      "WARNING: PcapNg: TLS Key Log available, but the TLS layer is not loaded! Scapy won't be able to decrypt the packets.\n"
     ]
    },
    {
     "name": "stdout",
     "output_type": "stream",
     "text": [
      "Saved image for data\\PCAPS\\MASSLOGGER\\240526-2zfl5sgb69.behavioral2.pcapng to z-order\\train\\MASSLOGGER\\240526-2zfl5sgb69.behavioral2.pcapng.png\n",
      "Skipping data\\PCAPS\\MASSLOGGER\\240526-az7l3sgd21.behavioral1.pcapng as it is smaller than 2KB\n"
     ]
    },
    {
     "name": "stderr",
     "output_type": "stream",
     "text": [
      "WARNING: more PcapNg: TLS Key Log available, but the TLS layer is not loaded! Scapy won't be able to decrypt the packets.\n"
     ]
    },
    {
     "name": "stdout",
     "output_type": "stream",
     "text": [
      "Saved image for data\\PCAPS\\MASSLOGGER\\240526-az7l3sgd21.behavioral2.pcapng to z-order\\train\\MASSLOGGER\\240526-az7l3sgd21.behavioral2.pcapng.png\n",
      "Skipping data\\PCAPS\\MASSLOGGER\\240527-e724sahd35.behavioral1.pcapng as it is smaller than 2KB\n",
      "Saved image for data\\PCAPS\\MASSLOGGER\\240527-e724sahd35.behavioral2.pcapng to z-order\\train\\MASSLOGGER\\240527-e724sahd35.behavioral2.pcapng.png\n",
      "Skipping data\\PCAPS\\MASSLOGGER\\240528-x5gdeaaa93.behavioral1.pcapng as it is smaller than 2KB\n",
      "Saved image for data\\PCAPS\\MASSLOGGER\\240528-x5gdeaaa93.behavioral2.pcapng to z-order\\train\\MASSLOGGER\\240528-x5gdeaaa93.behavioral2.pcapng.png\n",
      "Saved image for data\\PCAPS\\MASSLOGGER\\240531-3jn41sac95.behavioral1.pcapng to z-order\\train\\MASSLOGGER\\240531-3jn41sac95.behavioral1.pcapng.png\n",
      "Saved image for data\\PCAPS\\MASSLOGGER\\240531-3jn41sac95.behavioral2.pcapng to z-order\\train\\MASSLOGGER\\240531-3jn41sac95.behavioral2.pcapng.png\n",
      "Skipping data\\PCAPS\\MASSLOGGER\\240531-lvrkvadh6v.behavioral1.pcapng as it is smaller than 2KB\n",
      "Saved image for data\\PCAPS\\MASSLOGGER\\240531-lvrkvadh6v.behavioral2.pcapng to z-order\\train\\MASSLOGGER\\240531-lvrkvadh6v.behavioral2.pcapng.png\n",
      "Skipping data\\PCAPS\\MASSLOGGER\\240602-jbh39afe95.behavioral1.pcapng as it is smaller than 2KB\n",
      "Saved image for data\\PCAPS\\MASSLOGGER\\240602-jbh39afe95.behavioral2.pcapng to z-order\\train\\MASSLOGGER\\240602-jbh39afe95.behavioral2.pcapng.png\n",
      "Skipping data\\PCAPS\\MASSLOGGER\\240604-c5cp1aae8w.behavioral1.pcapng as it is smaller than 2KB\n",
      "Saved image for data\\PCAPS\\MASSLOGGER\\240604-c5cp1aae8w.behavioral2.pcapng to z-order\\train\\MASSLOGGER\\240604-c5cp1aae8w.behavioral2.pcapng.png\n",
      "Saved image for data\\PCAPS\\MASSLOGGER\\240604-s8y1eace87.behavioral1.pcapng to z-order\\train\\MASSLOGGER\\240604-s8y1eace87.behavioral1.pcapng.png\n",
      "Saved image for data\\PCAPS\\MASSLOGGER\\240604-s8y1eace87.behavioral2.pcapng to z-order\\train\\MASSLOGGER\\240604-s8y1eace87.behavioral2.pcapng.png\n",
      "Skipping data\\PCAPS\\MASSLOGGER\\240605-q418vshg85.behavioral1.pcapng as it is smaller than 2KB\n"
     ]
    },
    {
     "name": "stderr",
     "output_type": "stream",
     "text": [
      "WARNING: PcapNg: TLS Key Log available, but the TLS layer is not loaded! Scapy won't be able to decrypt the packets.\n"
     ]
    },
    {
     "name": "stdout",
     "output_type": "stream",
     "text": [
      "Saved image for data\\PCAPS\\MASSLOGGER\\240605-q418vshg85.behavioral2.pcapng to z-order\\train\\MASSLOGGER\\240605-q418vshg85.behavioral2.pcapng.png\n"
     ]
    },
    {
     "name": "stderr",
     "output_type": "stream",
     "text": [
      "WARNING: PcapNg: TLS Key Log available, but the TLS layer is not loaded! Scapy won't be able to decrypt the packets.\n"
     ]
    },
    {
     "name": "stdout",
     "output_type": "stream",
     "text": [
      "Saved image for data\\PCAPS\\MASSLOGGER\\240609-vm7rjadd73.behavioral1.pcapng to z-order\\train\\MASSLOGGER\\240609-vm7rjadd73.behavioral1.pcapng.png\n"
     ]
    },
    {
     "name": "stderr",
     "output_type": "stream",
     "text": [
      "WARNING: more PcapNg: TLS Key Log available, but the TLS layer is not loaded! Scapy won't be able to decrypt the packets.\n"
     ]
    },
    {
     "name": "stdout",
     "output_type": "stream",
     "text": [
      "Saved image for data\\PCAPS\\MASSLOGGER\\240609-vm7rjadd73.behavioral2.pcapng to z-order\\train\\MASSLOGGER\\240609-vm7rjadd73.behavioral2.pcapng.png\n",
      "Skipping data\\PCAPS\\MASSLOGGER\\240610-phmb5svfpr.behavioral1.pcapng as it is smaller than 2KB\n",
      "Saved image for data\\PCAPS\\MASSLOGGER\\240610-phmb5svfpr.behavioral2.pcapng to z-order\\train\\MASSLOGGER\\240610-phmb5svfpr.behavioral2.pcapng.png\n",
      "Saved image for data\\PCAPS\\MATIEX\\240323-bnxheaeb4s.behavioral1.pcapng to z-order\\train\\MATIEX\\240323-bnxheaeb4s.behavioral1.pcapng.png\n",
      "Saved image for data\\PCAPS\\MATIEX\\240323-bpxjsseb5v.behavioral1.pcapng to z-order\\train\\MATIEX\\240323-bpxjsseb5v.behavioral1.pcapng.png\n"
     ]
    },
    {
     "name": "stderr",
     "output_type": "stream",
     "text": [
      "WARNING: PcapNg: TLS Key Log available, but the TLS layer is not loaded! Scapy won't be able to decrypt the packets.\n"
     ]
    },
    {
     "name": "stdout",
     "output_type": "stream",
     "text": [
      "Saved image for data\\PCAPS\\MATIEX\\240323-brmglsbe62.behavioral1.pcapng to z-order\\train\\MATIEX\\240323-brmglsbe62.behavioral1.pcapng.png\n",
      "Skipping data\\PCAPS\\MATIEX\\240324-d6c8labh2t.behavioral1.pcapng as it is smaller than 2KB\n"
     ]
    },
    {
     "name": "stderr",
     "output_type": "stream",
     "text": [
      "WARNING: PcapNg: TLS Key Log available, but the TLS layer is not loaded! Scapy won't be able to decrypt the packets.\n"
     ]
    },
    {
     "name": "stdout",
     "output_type": "stream",
     "text": [
      "Saved image for data\\PCAPS\\MATIEX\\240324-d6c8labh2t.behavioral2.pcapng to z-order\\train\\MATIEX\\240324-d6c8labh2t.behavioral2.pcapng.png\n",
      "Skipping data\\PCAPS\\MATIEX\\240324-d6v4eahc35.behavioral1.pcapng as it is smaller than 2KB\n"
     ]
    },
    {
     "name": "stderr",
     "output_type": "stream",
     "text": [
      "WARNING: more PcapNg: TLS Key Log available, but the TLS layer is not loaded! Scapy won't be able to decrypt the packets.\n"
     ]
    },
    {
     "name": "stdout",
     "output_type": "stream",
     "text": [
      "Saved image for data\\PCAPS\\MATIEX\\240324-d6v4eahc35.behavioral2.pcapng to z-order\\train\\MATIEX\\240324-d6v4eahc35.behavioral2.pcapng.png\n",
      "Skipping data\\PCAPS\\MATIEX\\240325-bhncjseg5x.behavioral1.pcapng as it is smaller than 2KB\n",
      "Saved image for data\\PCAPS\\MATIEX\\240325-bhncjseg5x.behavioral2.pcapng to z-order\\train\\MATIEX\\240325-bhncjseg5x.behavioral2.pcapng.png\n",
      "Skipping data\\PCAPS\\MATIEX\\240325-rrwchsaf75.behavioral1.pcapng as it is smaller than 2KB\n",
      "Saved image for data\\PCAPS\\MATIEX\\240325-rrwchsaf75.behavioral2.pcapng to z-order\\train\\MATIEX\\240325-rrwchsaf75.behavioral2.pcapng.png\n",
      "Skipping data\\PCAPS\\MATIEX\\240328-brxycace8t.behavioral1.pcapng as it is smaller than 2KB\n",
      "Saved image for data\\PCAPS\\MATIEX\\240328-brxycace8t.behavioral2.pcapng to z-order\\train\\MATIEX\\240328-brxycace8t.behavioral2.pcapng.png\n",
      "Saved image for data\\PCAPS\\MATIEX\\240401-fakc5sdf9t.behavioral1.pcapng to z-order\\train\\MATIEX\\240401-fakc5sdf9t.behavioral1.pcapng.png\n",
      "Saved image for data\\PCAPS\\MATIEX\\240401-fakc5sdf9t.behavioral2.pcapng to z-order\\train\\MATIEX\\240401-fakc5sdf9t.behavioral2.pcapng.png\n",
      "Saved image for data\\PCAPS\\MATIEX\\240403-3exklaga71.behavioral1.pcapng to z-order\\train\\MATIEX\\240403-3exklaga71.behavioral1.pcapng.png\n",
      "Saved image for data\\PCAPS\\MATIEX\\240403-3exklaga71.behavioral2.pcapng to z-order\\train\\MATIEX\\240403-3exklaga71.behavioral2.pcapng.png\n",
      "Saved image for data\\PCAPS\\MATIEX\\240404-b81qkabg34.behavioral1.pcapng to z-order\\train\\MATIEX\\240404-b81qkabg34.behavioral1.pcapng.png\n",
      "Saved image for data\\PCAPS\\MATIEX\\240404-b81qkabg34.behavioral2.pcapng to z-order\\train\\MATIEX\\240404-b81qkabg34.behavioral2.pcapng.png\n",
      "Skipping data\\PCAPS\\MATIEX\\240406-zm6xfsaf3z.behavioral1.pcapng as it is smaller than 2KB\n",
      "Saved image for data\\PCAPS\\MATIEX\\240406-zm6xfsaf3z.behavioral2.pcapng to z-order\\train\\MATIEX\\240406-zm6xfsaf3z.behavioral2.pcapng.png\n",
      "Saved image for data\\PCAPS\\MATIEX\\240407-klg5dahe96.behavioral1.pcapng to z-order\\train\\MATIEX\\240407-klg5dahe96.behavioral1.pcapng.png\n",
      "Saved image for data\\PCAPS\\MATIEX\\240407-klg5dahe96.behavioral2.pcapng to z-order\\train\\MATIEX\\240407-klg5dahe96.behavioral2.pcapng.png\n",
      "Skipping data\\PCAPS\\MATIEX\\240410-tn4wlagg3y.behavioral1.pcapng as it is smaller than 2KB\n",
      "Saved image for data\\PCAPS\\MATIEX\\240410-tn4wlagg3y.behavioral2.pcapng to z-order\\train\\MATIEX\\240410-tn4wlagg3y.behavioral2.pcapng.png\n",
      "Saved image for data\\PCAPS\\MATIEX\\240411-wfpstagf64.behavioral1.pcapng to z-order\\train\\MATIEX\\240411-wfpstagf64.behavioral1.pcapng.png\n",
      "Saved image for data\\PCAPS\\MATIEX\\240411-wfpstagf64.behavioral2.pcapng to z-order\\train\\MATIEX\\240411-wfpstagf64.behavioral2.pcapng.png\n",
      "Saved image for data\\PCAPS\\MATIEX\\240417-fjrtksfg71.behavioral1.pcapng to z-order\\train\\MATIEX\\240417-fjrtksfg71.behavioral1.pcapng.png\n",
      "Saved image for data\\PCAPS\\MATIEX\\240417-fjrtksfg71.behavioral2.pcapng to z-order\\train\\MATIEX\\240417-fjrtksfg71.behavioral2.pcapng.png\n",
      "Saved image for data\\PCAPS\\MATIEX\\240418-r6rb4sgb22.behavioral1.pcapng to z-order\\train\\MATIEX\\240418-r6rb4sgb22.behavioral1.pcapng.png\n",
      "Skipping data\\PCAPS\\MATIEX\\240430-1dsh5sgb5w.behavioral1.pcapng as it is smaller than 2KB\n"
     ]
    },
    {
     "name": "stderr",
     "output_type": "stream",
     "text": [
      "WARNING: PcapNg: TLS Key Log available, but the TLS layer is not loaded! Scapy won't be able to decrypt the packets.\n"
     ]
    },
    {
     "name": "stdout",
     "output_type": "stream",
     "text": [
      "Saved image for data\\PCAPS\\MATIEX\\240430-1dsh5sgb5w.behavioral2.pcapng to z-order\\train\\MATIEX\\240430-1dsh5sgb5w.behavioral2.pcapng.png\n",
      "Skipping data\\PCAPS\\MATIEX\\240430-y9v8ssha94.behavioral1.pcapng as it is smaller than 2KB\n"
     ]
    },
    {
     "name": "stderr",
     "output_type": "stream",
     "text": [
      "WARNING: PcapNg: TLS Key Log available, but the TLS layer is not loaded! Scapy won't be able to decrypt the packets.\n"
     ]
    },
    {
     "name": "stdout",
     "output_type": "stream",
     "text": [
      "Saved image for data\\PCAPS\\MATIEX\\240501-hql8sace77.behavioral1.pcapng to z-order\\train\\MATIEX\\240501-hql8sace77.behavioral1.pcapng.png\n"
     ]
    },
    {
     "name": "stderr",
     "output_type": "stream",
     "text": [
      "WARNING: more PcapNg: TLS Key Log available, but the TLS layer is not loaded! Scapy won't be able to decrypt the packets.\n"
     ]
    },
    {
     "name": "stdout",
     "output_type": "stream",
     "text": [
      "Saved image for data\\PCAPS\\MATIEX\\240501-hql8sace77.behavioral2.pcapng to z-order\\train\\MATIEX\\240501-hql8sace77.behavioral2.pcapng.png\n",
      "Saved image for data\\PCAPS\\MATIEX\\240502-g25ntsdd34.behavioral1.pcapng to z-order\\train\\MATIEX\\240502-g25ntsdd34.behavioral1.pcapng.png\n",
      "Saved image for data\\PCAPS\\MATIEX\\240502-g25ntsdd34.behavioral2.pcapng to z-order\\train\\MATIEX\\240502-g25ntsdd34.behavioral2.pcapng.png\n",
      "Skipping data\\PCAPS\\MATIEX\\240510-sern8sbg4x.behavioral1.pcapng as it is smaller than 2KB\n",
      "Saved image for data\\PCAPS\\MATIEX\\240510-sern8sbg4x.behavioral2.pcapng to z-order\\train\\MATIEX\\240510-sern8sbg4x.behavioral2.pcapng.png\n",
      "Saved image for data\\PCAPS\\MATIEX\\240514-jddasaff58.behavioral1.pcapng to z-order\\train\\MATIEX\\240514-jddasaff58.behavioral1.pcapng.png\n",
      "Saved image for data\\PCAPS\\MATIEX\\240514-jddasaff58.behavioral2.pcapng to z-order\\train\\MATIEX\\240514-jddasaff58.behavioral2.pcapng.png\n",
      "Skipping data\\PCAPS\\MATIEX\\240525-bfmy1ahc96.behavioral1.pcapng as it is smaller than 2KB\n"
     ]
    },
    {
     "name": "stderr",
     "output_type": "stream",
     "text": [
      "WARNING: PcapNg: TLS Key Log available, but the TLS layer is not loaded! Scapy won't be able to decrypt the packets.\n"
     ]
    },
    {
     "name": "stdout",
     "output_type": "stream",
     "text": [
      "Saved image for data\\PCAPS\\MATIEX\\240525-bfmy1ahc96.behavioral2.pcapng to z-order\\train\\MATIEX\\240525-bfmy1ahc96.behavioral2.pcapng.png\n"
     ]
    },
    {
     "name": "stderr",
     "output_type": "stream",
     "text": [
      "WARNING: PcapNg: TLS Key Log available, but the TLS layer is not loaded! Scapy won't be able to decrypt the packets.\n"
     ]
    },
    {
     "name": "stdout",
     "output_type": "stream",
     "text": [
      "Saved image for data\\PCAPS\\MATIEX\\240529-3vjzfafe83.behavioral1.pcapng to z-order\\train\\MATIEX\\240529-3vjzfafe83.behavioral1.pcapng.png\n"
     ]
    },
    {
     "name": "stderr",
     "output_type": "stream",
     "text": [
      "WARNING: more PcapNg: TLS Key Log available, but the TLS layer is not loaded! Scapy won't be able to decrypt the packets.\n"
     ]
    },
    {
     "name": "stdout",
     "output_type": "stream",
     "text": [
      "Saved image for data\\PCAPS\\MATIEX\\240529-3vjzfafe83.behavioral2.pcapng to z-order\\train\\MATIEX\\240529-3vjzfafe83.behavioral2.pcapng.png\n",
      "Saved image for data\\PCAPS\\MATIEX\\240530-29z4jaef79.behavioral1.pcapng to z-order\\train\\MATIEX\\240530-29z4jaef79.behavioral1.pcapng.png\n",
      "Saved image for data\\PCAPS\\MATIEX\\240530-29z4jaef79.behavioral2.pcapng to z-order\\train\\MATIEX\\240530-29z4jaef79.behavioral2.pcapng.png\n",
      "Saved image for data\\PCAPS\\MATIEX\\240604-me3hvadb5z.behavioral1.pcapng to z-order\\train\\MATIEX\\240604-me3hvadb5z.behavioral1.pcapng.png\n",
      "Saved image for data\\PCAPS\\MATIEX\\240604-me3hvadb5z.behavioral2.pcapng to z-order\\train\\MATIEX\\240604-me3hvadb5z.behavioral2.pcapng.png\n",
      "Saved image for data\\PCAPS\\METASPLOIT\\240607-lwxhgsee5t.behavioral1.pcapng to z-order\\train\\METASPLOIT\\240607-lwxhgsee5t.behavioral1.pcapng.png\n",
      "Saved image for data\\PCAPS\\METASPLOIT\\240607-lwxhgsee5t.behavioral2.pcapng to z-order\\train\\METASPLOIT\\240607-lwxhgsee5t.behavioral2.pcapng.png\n",
      "Skipping data\\PCAPS\\METASPLOIT\\240607-nl6dragd84.behavioral1.pcapng as it is smaller than 2KB\n",
      "Saved image for data\\PCAPS\\METASPLOIT\\240607-nl6dragd84.behavioral2.pcapng to z-order\\train\\METASPLOIT\\240607-nl6dragd84.behavioral2.pcapng.png\n",
      "Saved image for data\\PCAPS\\METASPLOIT\\240607-r14p9ahg7z.behavioral1.pcapng to z-order\\train\\METASPLOIT\\240607-r14p9ahg7z.behavioral1.pcapng.png\n",
      "Saved image for data\\PCAPS\\METASPLOIT\\240607-r14p9ahg7z.behavioral2.pcapng to z-order\\train\\METASPLOIT\\240607-r14p9ahg7z.behavioral2.pcapng.png\n",
      "Skipping data\\PCAPS\\METASPLOIT\\240607-t2mt8scb24.behavioral1.pcapng as it is smaller than 2KB\n",
      "Saved image for data\\PCAPS\\METASPLOIT\\240607-t2mt8scb24.behavioral2.pcapng to z-order\\train\\METASPLOIT\\240607-t2mt8scb24.behavioral2.pcapng.png\n",
      "Saved image for data\\PCAPS\\METASPLOIT\\240607-ttlxzabh96.behavioral1.pcapng to z-order\\train\\METASPLOIT\\240607-ttlxzabh96.behavioral1.pcapng.png\n",
      "Saved image for data\\PCAPS\\METASPLOIT\\240607-ttlxzabh96.behavioral2.pcapng to z-order\\train\\METASPLOIT\\240607-ttlxzabh96.behavioral2.pcapng.png\n",
      "Saved image for data\\PCAPS\\METASPLOIT\\240607-vkg34acd47.behavioral1.pcapng to z-order\\train\\METASPLOIT\\240607-vkg34acd47.behavioral1.pcapng.png\n",
      "Saved image for data\\PCAPS\\METASPLOIT\\240607-vkg34acd47.behavioral2.pcapng to z-order\\train\\METASPLOIT\\240607-vkg34acd47.behavioral2.pcapng.png\n",
      "Saved image for data\\PCAPS\\METASPLOIT\\240608-3b6zvshh4v.behavioral1.pcapng to z-order\\train\\METASPLOIT\\240608-3b6zvshh4v.behavioral1.pcapng.png\n",
      "Saved image for data\\PCAPS\\METASPLOIT\\240608-3b6zvshh4v.behavioral2.pcapng to z-order\\train\\METASPLOIT\\240608-3b6zvshh4v.behavioral2.pcapng.png\n",
      "Skipping data\\PCAPS\\METASPLOIT\\240608-deacmagg87.behavioral1.pcapng as it is smaller than 2KB\n",
      "Saved image for data\\PCAPS\\METASPLOIT\\240608-deacmagg87.behavioral2.pcapng to z-order\\train\\METASPLOIT\\240608-deacmagg87.behavioral2.pcapng.png\n",
      "Saved image for data\\PCAPS\\METASPLOIT\\240608-nmbwjabb7v.behavioral1.pcapng to z-order\\train\\METASPLOIT\\240608-nmbwjabb7v.behavioral1.pcapng.png\n",
      "Saved image for data\\PCAPS\\METASPLOIT\\240608-nmbwjabb7v.behavioral2.pcapng to z-order\\train\\METASPLOIT\\240608-nmbwjabb7v.behavioral2.pcapng.png\n",
      "Skipping data\\PCAPS\\METASPLOIT\\240608-wfqecaeg82.behavioral1.pcapng as it is smaller than 2KB\n",
      "Saved image for data\\PCAPS\\METASPLOIT\\240608-wfqecaeg82.behavioral2.pcapng to z-order\\train\\METASPLOIT\\240608-wfqecaeg82.behavioral2.pcapng.png\n",
      "Skipping data\\PCAPS\\METASPLOIT\\240608-wfqp4sea3t.behavioral1.pcapng as it is smaller than 2KB\n",
      "Saved image for data\\PCAPS\\METASPLOIT\\240608-wfqp4sea3t.behavioral2.pcapng to z-order\\train\\METASPLOIT\\240608-wfqp4sea3t.behavioral2.pcapng.png\n",
      "Saved image for data\\PCAPS\\METASPLOIT\\240608-xyw6aafg45.behavioral1.pcapng to z-order\\train\\METASPLOIT\\240608-xyw6aafg45.behavioral1.pcapng.png\n",
      "Saved image for data\\PCAPS\\METASPLOIT\\240608-xyw6aafg45.behavioral2.pcapng to z-order\\train\\METASPLOIT\\240608-xyw6aafg45.behavioral2.pcapng.png\n",
      "Skipping data\\PCAPS\\METASPLOIT\\240608-ywcjjaff21.behavioral1.pcapng as it is smaller than 2KB\n",
      "Saved image for data\\PCAPS\\METASPLOIT\\240608-ywcjjaff21.behavioral2.pcapng to z-order\\train\\METASPLOIT\\240608-ywcjjaff21.behavioral2.pcapng.png\n",
      "Saved image for data\\PCAPS\\METASPLOIT\\240609-agetcaae91.behavioral1.pcapng to z-order\\train\\METASPLOIT\\240609-agetcaae91.behavioral1.pcapng.png\n",
      "Saved image for data\\PCAPS\\METASPLOIT\\240609-agetcaae91.behavioral2.pcapng to z-order\\train\\METASPLOIT\\240609-agetcaae91.behavioral2.pcapng.png\n",
      "Saved image for data\\PCAPS\\METASPLOIT\\240609-azt1zsah5z.behavioral1.pcapng to z-order\\train\\METASPLOIT\\240609-azt1zsah5z.behavioral1.pcapng.png\n"
     ]
    },
    {
     "name": "stderr",
     "output_type": "stream",
     "text": [
      "WARNING: PcapNg: TLS Key Log available, but the TLS layer is not loaded! Scapy won't be able to decrypt the packets.\n"
     ]
    },
    {
     "name": "stdout",
     "output_type": "stream",
     "text": [
      "Saved image for data\\PCAPS\\METASPLOIT\\240609-azt1zsah5z.behavioral2.pcapng to z-order\\train\\METASPLOIT\\240609-azt1zsah5z.behavioral2.pcapng.png\n",
      "Skipping data\\PCAPS\\METASPLOIT\\240609-d2d94adg28.behavioral1.pcapng as it is smaller than 2KB\n"
     ]
    },
    {
     "name": "stderr",
     "output_type": "stream",
     "text": [
      "WARNING: PcapNg: TLS Key Log available, but the TLS layer is not loaded! Scapy won't be able to decrypt the packets.\n"
     ]
    },
    {
     "name": "stdout",
     "output_type": "stream",
     "text": [
      "Saved image for data\\PCAPS\\METASPLOIT\\240609-d2d94adg28.behavioral2.pcapng to z-order\\train\\METASPLOIT\\240609-d2d94adg28.behavioral2.pcapng.png\n",
      "Skipping data\\PCAPS\\METASPLOIT\\240609-e8hrjaee68.behavioral1.pcapng as it is smaller than 2KB\n"
     ]
    },
    {
     "name": "stderr",
     "output_type": "stream",
     "text": [
      "WARNING: more PcapNg: TLS Key Log available, but the TLS layer is not loaded! Scapy won't be able to decrypt the packets.\n"
     ]
    },
    {
     "name": "stdout",
     "output_type": "stream",
     "text": [
      "Saved image for data\\PCAPS\\METASPLOIT\\240609-e8hrjaee68.behavioral2.pcapng to z-order\\train\\METASPLOIT\\240609-e8hrjaee68.behavioral2.pcapng.png\n",
      "Skipping data\\PCAPS\\METASPLOIT\\240609-fh6lcadh5z.behavioral1.pcapng as it is smaller than 2KB\n",
      "Saved image for data\\PCAPS\\METASPLOIT\\240609-fh6lcadh5z.behavioral2.pcapng to z-order\\train\\METASPLOIT\\240609-fh6lcadh5z.behavioral2.pcapng.png\n",
      "Skipping data\\PCAPS\\METASPLOIT\\240609-g65jmaff58.behavioral1.pcapng as it is smaller than 2KB\n",
      "Saved image for data\\PCAPS\\METASPLOIT\\240609-g65jmaff58.behavioral2.pcapng to z-order\\train\\METASPLOIT\\240609-g65jmaff58.behavioral2.pcapng.png\n",
      "Saved image for data\\PCAPS\\METASPLOIT\\240609-ge8f7sfc46.behavioral1.pcapng to z-order\\train\\METASPLOIT\\240609-ge8f7sfc46.behavioral1.pcapng.png\n",
      "Saved image for data\\PCAPS\\METASPLOIT\\240609-ge8f7sfc46.behavioral2.pcapng to z-order\\train\\METASPLOIT\\240609-ge8f7sfc46.behavioral2.pcapng.png\n",
      "Skipping data\\PCAPS\\METASPLOIT\\240609-hygy2agb42.behavioral1.pcapng as it is smaller than 2KB\n",
      "Saved image for data\\PCAPS\\METASPLOIT\\240609-hygy2agb42.behavioral2.pcapng to z-order\\train\\METASPLOIT\\240609-hygy2agb42.behavioral2.pcapng.png\n",
      "Skipping data\\PCAPS\\METASPLOIT\\240609-jmcqlsfg6z.behavioral1.pcapng as it is smaller than 2KB\n",
      "Saved image for data\\PCAPS\\METASPLOIT\\240609-jmcqlsfg6z.behavioral2.pcapng to z-order\\train\\METASPLOIT\\240609-jmcqlsfg6z.behavioral2.pcapng.png\n",
      "Saved image for data\\PCAPS\\METASPLOIT\\240609-jptrxafg8x.behavioral1.pcapng to z-order\\train\\METASPLOIT\\240609-jptrxafg8x.behavioral1.pcapng.png\n",
      "Saved image for data\\PCAPS\\METASPLOIT\\240609-k7q96shc75.behavioral1.pcapng to z-order\\train\\METASPLOIT\\240609-k7q96shc75.behavioral1.pcapng.png\n",
      "Saved image for data\\PCAPS\\METASPLOIT\\240609-k7q96shc75.behavioral2.pcapng to z-order\\train\\METASPLOIT\\240609-k7q96shc75.behavioral2.pcapng.png\n",
      "Skipping data\\PCAPS\\METASPLOIT\\240609-lb4fasgf3v.behavioral1.pcapng as it is smaller than 2KB\n",
      "Saved image for data\\PCAPS\\METASPLOIT\\240609-lb4fasgf3v.behavioral2.pcapng to z-order\\train\\METASPLOIT\\240609-lb4fasgf3v.behavioral2.pcapng.png\n",
      "Skipping data\\PCAPS\\METASPLOIT\\240609-qrgnpabf83.behavioral1.pcapng as it is smaller than 2KB\n",
      "Saved image for data\\PCAPS\\METASPLOIT\\240609-qrgnpabf83.behavioral2.pcapng to z-order\\train\\METASPLOIT\\240609-qrgnpabf83.behavioral2.pcapng.png\n",
      "Saved image for data\\PCAPS\\METASPLOIT\\240609-smc6tace62.behavioral1.pcapng to z-order\\train\\METASPLOIT\\240609-smc6tace62.behavioral1.pcapng.png\n"
     ]
    },
    {
     "name": "stderr",
     "output_type": "stream",
     "text": [
      "WARNING: PcapNg: TLS Key Log available, but the TLS layer is not loaded! Scapy won't be able to decrypt the packets.\n"
     ]
    },
    {
     "name": "stdout",
     "output_type": "stream",
     "text": [
      "Saved image for data\\PCAPS\\METASPLOIT\\240609-smc6tace62.behavioral2.pcapng to z-order\\train\\METASPLOIT\\240609-smc6tace62.behavioral2.pcapng.png\n"
     ]
    },
    {
     "name": "stderr",
     "output_type": "stream",
     "text": [
      "WARNING: PcapNg: TLS Key Log available, but the TLS layer is not loaded! Scapy won't be able to decrypt the packets.\n"
     ]
    },
    {
     "name": "stdout",
     "output_type": "stream",
     "text": [
      "Saved image for data\\PCAPS\\METASPLOIT\\240609-v2y3yadf33.behavioral1.pcapng to z-order\\train\\METASPLOIT\\240609-v2y3yadf33.behavioral1.pcapng.png\n"
     ]
    },
    {
     "name": "stderr",
     "output_type": "stream",
     "text": [
      "WARNING: PcapNg: TLS Key Log available, but the TLS layer is not loaded! Scapy won't be able to decrypt the packets.\n"
     ]
    },
    {
     "name": "stdout",
     "output_type": "stream",
     "text": [
      "Saved image for data\\PCAPS\\METASPLOIT\\240609-zsdsvseh8s.behavioral1.pcapng to z-order\\train\\METASPLOIT\\240609-zsdsvseh8s.behavioral1.pcapng.png\n"
     ]
    },
    {
     "name": "stderr",
     "output_type": "stream",
     "text": [
      "WARNING: PcapNg: TLS Key Log available, but the TLS layer is not loaded! Scapy won't be able to decrypt the packets.\n"
     ]
    },
    {
     "name": "stdout",
     "output_type": "stream",
     "text": [
      "Saved image for data\\PCAPS\\METASPLOIT\\240609-zsdsvseh8s.behavioral2.pcapng to z-order\\train\\METASPLOIT\\240609-zsdsvseh8s.behavioral2.pcapng.png\n"
     ]
    },
    {
     "name": "stderr",
     "output_type": "stream",
     "text": [
      "WARNING: more PcapNg: TLS Key Log available, but the TLS layer is not loaded! Scapy won't be able to decrypt the packets.\n"
     ]
    },
    {
     "name": "stdout",
     "output_type": "stream",
     "text": [
      "Saved image for data\\PCAPS\\METASPLOIT\\240610-c99kjaba8s.behavioral1.pcapng to z-order\\train\\METASPLOIT\\240610-c99kjaba8s.behavioral1.pcapng.png\n",
      "Saved image for data\\PCAPS\\METASPLOIT\\240610-c99kjaba8s.behavioral2.pcapng to z-order\\train\\METASPLOIT\\240610-c99kjaba8s.behavioral2.pcapng.png\n",
      "Skipping data\\PCAPS\\METASPLOIT\\240610-emhveace23.behavioral1.pcapng as it is smaller than 2KB\n",
      "Saved image for data\\PCAPS\\METASPLOIT\\240610-emhveace23.behavioral2.pcapng to z-order\\train\\METASPLOIT\\240610-emhveace23.behavioral2.pcapng.png\n",
      "Saved image for data\\PCAPS\\METASPLOIT\\240610-mp6m9aga7v.behavioral1.pcapng to z-order\\train\\METASPLOIT\\240610-mp6m9aga7v.behavioral1.pcapng.png\n",
      "Saved image for data\\PCAPS\\METASPLOIT\\240610-mp6m9aga7v.behavioral2.pcapng to z-order\\train\\METASPLOIT\\240610-mp6m9aga7v.behavioral2.pcapng.png\n",
      "Skipping data\\PCAPS\\METASPLOIT\\240610-q6dwcayajb.behavioral1.pcapng as it is smaller than 2KB\n",
      "Skipping data\\PCAPS\\METASPLOIT\\240610-q6dwcayajb.behavioral2.pcapng as it is smaller than 2KB\n",
      "Saved image for data\\PCAPS\\METASPLOIT\\240610-qafeasxaqp.behavioral1.pcapng to z-order\\train\\METASPLOIT\\240610-qafeasxaqp.behavioral1.pcapng.png\n",
      "Saved image for data\\PCAPS\\METASPLOIT\\240610-qafeasxaqp.behavioral2.pcapng to z-order\\train\\METASPLOIT\\240610-qafeasxaqp.behavioral2.pcapng.png\n",
      "Skipping data\\PCAPS\\METASPLOIT\\240610-qyzsvaybml.behavioral1.pcapng as it is smaller than 2KB\n",
      "Saved image for data\\PCAPS\\METASPLOIT\\240610-qyzsvaybml.behavioral2.pcapng to z-order\\train\\METASPLOIT\\240610-qyzsvaybml.behavioral2.pcapng.png\n",
      "Saved image for data\\PCAPS\\MODILOADER\\240605-yznqzahc45.behavioral1.pcapng to z-order\\train\\MODILOADER\\240605-yznqzahc45.behavioral1.pcapng.png\n",
      "Saved image for data\\PCAPS\\MODILOADER\\240605-yznqzahc45.behavioral2.pcapng to z-order\\train\\MODILOADER\\240605-yznqzahc45.behavioral2.pcapng.png\n",
      "Saved image for data\\PCAPS\\MODILOADER\\240606-cwt8paeg6t.behavioral1.pcapng to z-order\\train\\MODILOADER\\240606-cwt8paeg6t.behavioral1.pcapng.png\n",
      "Saved image for data\\PCAPS\\MODILOADER\\240606-cwt8paeg6t.behavioral2.pcapng to z-order\\train\\MODILOADER\\240606-cwt8paeg6t.behavioral2.pcapng.png\n",
      "Saved image for data\\PCAPS\\MODILOADER\\240606-j8zr9sbg51.behavioral1.pcapng to z-order\\train\\MODILOADER\\240606-j8zr9sbg51.behavioral1.pcapng.png\n",
      "Saved image for data\\PCAPS\\MODILOADER\\240606-j8zr9sbg51.behavioral2.pcapng to z-order\\train\\MODILOADER\\240606-j8zr9sbg51.behavioral2.pcapng.png\n",
      "Skipping data\\PCAPS\\MODILOADER\\240606-ph7yvafa43.behavioral1.pcapng as it is smaller than 2KB\n"
     ]
    },
    {
     "name": "stderr",
     "output_type": "stream",
     "text": [
      "WARNING: PcapNg: TLS Key Log available, but the TLS layer is not loaded! Scapy won't be able to decrypt the packets.\n"
     ]
    },
    {
     "name": "stdout",
     "output_type": "stream",
     "text": [
      "Saved image for data\\PCAPS\\MODILOADER\\240606-ph7yvafa43.behavioral2.pcapng to z-order\\train\\MODILOADER\\240606-ph7yvafa43.behavioral2.pcapng.png\n"
     ]
    },
    {
     "name": "stderr",
     "output_type": "stream",
     "text": [
      "WARNING: PcapNg: TLS Key Log available, but the TLS layer is not loaded! Scapy won't be able to decrypt the packets.\n"
     ]
    },
    {
     "name": "stdout",
     "output_type": "stream",
     "text": [
      "Saved image for data\\PCAPS\\MODILOADER\\240606-qv8lkseg5z.behavioral1.pcapng to z-order\\train\\MODILOADER\\240606-qv8lkseg5z.behavioral1.pcapng.png\n"
     ]
    },
    {
     "name": "stderr",
     "output_type": "stream",
     "text": [
      "WARNING: more PcapNg: TLS Key Log available, but the TLS layer is not loaded! Scapy won't be able to decrypt the packets.\n"
     ]
    },
    {
     "name": "stdout",
     "output_type": "stream",
     "text": [
      "Saved image for data\\PCAPS\\MODILOADER\\240606-qv8lkseg5z.behavioral2.pcapng to z-order\\train\\MODILOADER\\240606-qv8lkseg5z.behavioral2.pcapng.png\n",
      "Saved image for data\\PCAPS\\MODILOADER\\240606-smd34sfg4y.behavioral1.pcapng to z-order\\train\\MODILOADER\\240606-smd34sfg4y.behavioral1.pcapng.png\n",
      "Skipping data\\PCAPS\\MODILOADER\\240606-sv5wssgh69.behavioral1.pcapng as it is smaller than 2KB\n",
      "Saved image for data\\PCAPS\\MODILOADER\\240606-sv5wssgh69.behavioral2.pcapng to z-order\\train\\MODILOADER\\240606-sv5wssgh69.behavioral2.pcapng.png\n",
      "Skipping data\\PCAPS\\MODILOADER\\240606-vxtmnaab58.behavioral1.pcapng as it is smaller than 2KB\n",
      "Saved image for data\\PCAPS\\MODILOADER\\240606-vxtmnaab58.behavioral2.pcapng to z-order\\train\\MODILOADER\\240606-vxtmnaab58.behavioral2.pcapng.png\n",
      "Skipping data\\PCAPS\\MODILOADER\\240607-b284csfd9z.behavioral1.pcapng as it is smaller than 2KB\n",
      "Saved image for data\\PCAPS\\MODILOADER\\240607-b284csfd9z.behavioral2.pcapng to z-order\\train\\MODILOADER\\240607-b284csfd9z.behavioral2.pcapng.png\n",
      "Skipping data\\PCAPS\\MODILOADER\\240607-bjkytaeh8x.behavioral1.pcapng as it is smaller than 2KB\n",
      "Saved image for data\\PCAPS\\MODILOADER\\240607-bjkytaeh8x.behavioral2.pcapng to z-order\\train\\MODILOADER\\240607-bjkytaeh8x.behavioral2.pcapng.png\n",
      "Skipping data\\PCAPS\\MODILOADER\\240607-bx6gnsgd67.behavioral1.pcapng as it is smaller than 2KB\n"
     ]
    },
    {
     "name": "stderr",
     "output_type": "stream",
     "text": [
      "WARNING: PcapNg: TLS Key Log available, but the TLS layer is not loaded! Scapy won't be able to decrypt the packets.\n"
     ]
    },
    {
     "name": "stdout",
     "output_type": "stream",
     "text": [
      "Saved image for data\\PCAPS\\MODILOADER\\240607-bx6gnsgd67.behavioral2.pcapng to z-order\\train\\MODILOADER\\240607-bx6gnsgd67.behavioral2.pcapng.png\n",
      "Skipping data\\PCAPS\\MODILOADER\\240607-fzt9msab5v.behavioral1.pcapng as it is smaller than 2KB\n"
     ]
    },
    {
     "name": "stderr",
     "output_type": "stream",
     "text": [
      "WARNING: PcapNg: TLS Key Log available, but the TLS layer is not loaded! Scapy won't be able to decrypt the packets.\n"
     ]
    },
    {
     "name": "stdout",
     "output_type": "stream",
     "text": [
      "Saved image for data\\PCAPS\\MODILOADER\\240607-fzt9msab5v.behavioral2.pcapng to z-order\\train\\MODILOADER\\240607-fzt9msab5v.behavioral2.pcapng.png\n",
      "Skipping data\\PCAPS\\MODILOADER\\240607-pawkvagg69.behavioral1.pcapng as it is smaller than 2KB\n"
     ]
    },
    {
     "name": "stderr",
     "output_type": "stream",
     "text": [
      "WARNING: more PcapNg: TLS Key Log available, but the TLS layer is not loaded! Scapy won't be able to decrypt the packets.\n"
     ]
    },
    {
     "name": "stdout",
     "output_type": "stream",
     "text": [
      "Saved image for data\\PCAPS\\MODILOADER\\240607-pawkvagg69.behavioral2.pcapng to z-order\\train\\MODILOADER\\240607-pawkvagg69.behavioral2.pcapng.png\n",
      "Saved image for data\\PCAPS\\MODILOADER\\240607-w8vjrsda29.behavioral1.pcapng to z-order\\train\\MODILOADER\\240607-w8vjrsda29.behavioral1.pcapng.png\n",
      "Saved image for data\\PCAPS\\MODILOADER\\240607-w8vjrsda29.behavioral2.pcapng to z-order\\train\\MODILOADER\\240607-w8vjrsda29.behavioral2.pcapng.png\n",
      "Skipping data\\PCAPS\\MODILOADER\\240608-1y2bsaha7y.behavioral1.pcapng as it is smaller than 2KB\n",
      "Saved image for data\\PCAPS\\MODILOADER\\240608-1y2bsaha7y.behavioral2.pcapng to z-order\\train\\MODILOADER\\240608-1y2bsaha7y.behavioral2.pcapng.png\n",
      "Saved image for data\\PCAPS\\MODILOADER\\240608-btws3afb3t.behavioral1.pcapng to z-order\\train\\MODILOADER\\240608-btws3afb3t.behavioral1.pcapng.png\n",
      "Saved image for data\\PCAPS\\MODILOADER\\240608-btws3afb3t.behavioral2.pcapng to z-order\\train\\MODILOADER\\240608-btws3afb3t.behavioral2.pcapng.png\n",
      "Saved image for data\\PCAPS\\MODILOADER\\240608-es18yahg48.behavioral1.pcapng to z-order\\train\\MODILOADER\\240608-es18yahg48.behavioral1.pcapng.png\n",
      "Saved image for data\\PCAPS\\MODILOADER\\240608-es18yahg48.behavioral2.pcapng to z-order\\train\\MODILOADER\\240608-es18yahg48.behavioral2.pcapng.png\n",
      "Saved image for data\\PCAPS\\MODILOADER\\240608-jjxllsac3v.behavioral1.pcapng to z-order\\train\\MODILOADER\\240608-jjxllsac3v.behavioral1.pcapng.png\n",
      "Saved image for data\\PCAPS\\MODILOADER\\240608-jjxllsac3v.behavioral2.pcapng to z-order\\train\\MODILOADER\\240608-jjxllsac3v.behavioral2.pcapng.png\n",
      "Saved image for data\\PCAPS\\MODILOADER\\240608-m4jf9sbh54.behavioral1.pcapng to z-order\\train\\MODILOADER\\240608-m4jf9sbh54.behavioral1.pcapng.png\n",
      "Saved image for data\\PCAPS\\MODILOADER\\240608-m4jf9sbh54.behavioral2.pcapng to z-order\\train\\MODILOADER\\240608-m4jf9sbh54.behavioral2.pcapng.png\n",
      "Saved image for data\\PCAPS\\MODILOADER\\240609-3kte5ahb39.behavioral1.pcapng to z-order\\train\\MODILOADER\\240609-3kte5ahb39.behavioral1.pcapng.png\n",
      "Saved image for data\\PCAPS\\MODILOADER\\240609-3kte5ahb39.behavioral2.pcapng to z-order\\train\\MODILOADER\\240609-3kte5ahb39.behavioral2.pcapng.png\n",
      "Skipping data\\PCAPS\\MODILOADER\\240609-ad8l9aae51.behavioral1.pcapng as it is smaller than 2KB\n",
      "Saved image for data\\PCAPS\\MODILOADER\\240609-ad8l9aae51.behavioral2.pcapng to z-order\\train\\MODILOADER\\240609-ad8l9aae51.behavioral2.pcapng.png\n",
      "Saved image for data\\PCAPS\\MODILOADER\\240609-ca9fgsce78.behavioral1.pcapng to z-order\\train\\MODILOADER\\240609-ca9fgsce78.behavioral1.pcapng.png\n",
      "Saved image for data\\PCAPS\\MODILOADER\\240609-ca9fgsce78.behavioral2.pcapng to z-order\\train\\MODILOADER\\240609-ca9fgsce78.behavioral2.pcapng.png\n",
      "Saved image for data\\PCAPS\\MODILOADER\\240609-exhx6ade5z.behavioral1.pcapng to z-order\\train\\MODILOADER\\240609-exhx6ade5z.behavioral1.pcapng.png\n",
      "Saved image for data\\PCAPS\\MODILOADER\\240609-exhx6ade5z.behavioral2.pcapng to z-order\\train\\MODILOADER\\240609-exhx6ade5z.behavioral2.pcapng.png\n",
      "Saved image for data\\PCAPS\\MODILOADER\\240609-hbpelafg39.behavioral1.pcapng to z-order\\train\\MODILOADER\\240609-hbpelafg39.behavioral1.pcapng.png\n",
      "Saved image for data\\PCAPS\\MODILOADER\\240609-hbpelafg39.behavioral2.pcapng to z-order\\train\\MODILOADER\\240609-hbpelafg39.behavioral2.pcapng.png\n",
      "Saved image for data\\PCAPS\\MODILOADER\\240609-mf51csaa69.behavioral1.pcapng to z-order\\train\\MODILOADER\\240609-mf51csaa69.behavioral1.pcapng.png\n",
      "Saved image for data\\PCAPS\\MODILOADER\\240609-mf51csaa69.behavioral2.pcapng to z-order\\train\\MODILOADER\\240609-mf51csaa69.behavioral2.pcapng.png\n",
      "Saved image for data\\PCAPS\\MODILOADER\\240609-smc6tace62.behavioral1.pcapng to z-order\\train\\MODILOADER\\240609-smc6tace62.behavioral1.pcapng.png\n"
     ]
    },
    {
     "name": "stderr",
     "output_type": "stream",
     "text": [
      "WARNING: PcapNg: TLS Key Log available, but the TLS layer is not loaded! Scapy won't be able to decrypt the packets.\n"
     ]
    },
    {
     "name": "stdout",
     "output_type": "stream",
     "text": [
      "Saved image for data\\PCAPS\\MODILOADER\\240609-smc6tace62.behavioral2.pcapng to z-order\\train\\MODILOADER\\240609-smc6tace62.behavioral2.pcapng.png\n"
     ]
    },
    {
     "name": "stderr",
     "output_type": "stream",
     "text": [
      "WARNING: PcapNg: TLS Key Log available, but the TLS layer is not loaded! Scapy won't be able to decrypt the packets.\n"
     ]
    },
    {
     "name": "stdout",
     "output_type": "stream",
     "text": [
      "Saved image for data\\PCAPS\\MODILOADER\\240609-tff5kach54.behavioral1.pcapng to z-order\\train\\MODILOADER\\240609-tff5kach54.behavioral1.pcapng.png\n"
     ]
    },
    {
     "name": "stderr",
     "output_type": "stream",
     "text": [
      "WARNING: more PcapNg: TLS Key Log available, but the TLS layer is not loaded! Scapy won't be able to decrypt the packets.\n"
     ]
    },
    {
     "name": "stdout",
     "output_type": "stream",
     "text": [
      "Saved image for data\\PCAPS\\MODILOADER\\240609-tff5kach54.behavioral2.pcapng to z-order\\train\\MODILOADER\\240609-tff5kach54.behavioral2.pcapng.png\n",
      "Saved image for data\\PCAPS\\MODILOADER\\240609-vm7rjadd73.behavioral1.pcapng to z-order\\train\\MODILOADER\\240609-vm7rjadd73.behavioral1.pcapng.png\n",
      "Saved image for data\\PCAPS\\MODILOADER\\240609-vm7rjadd73.behavioral2.pcapng to z-order\\train\\MODILOADER\\240609-vm7rjadd73.behavioral2.pcapng.png\n",
      "Saved image for data\\PCAPS\\MODILOADER\\240610-mb23xagc88.behavioral1.pcapng to z-order\\train\\MODILOADER\\240610-mb23xagc88.behavioral1.pcapng.png\n",
      "Saved image for data\\PCAPS\\MODILOADER\\240610-mb23xagc88.behavioral2.pcapng to z-order\\train\\MODILOADER\\240610-mb23xagc88.behavioral2.pcapng.png\n",
      "Saved image for data\\PCAPS\\MODILOADER\\240610-mb55kagc95.behavioral1.pcapng to z-order\\train\\MODILOADER\\240610-mb55kagc95.behavioral1.pcapng.png\n",
      "Saved image for data\\PCAPS\\MODILOADER\\240610-mb55kagc95.behavioral2.pcapng to z-order\\train\\MODILOADER\\240610-mb55kagc95.behavioral2.pcapng.png\n",
      "Saved image for data\\PCAPS\\MODILOADER\\240610-mb7cmagc97.behavioral1.pcapng to z-order\\train\\MODILOADER\\240610-mb7cmagc97.behavioral1.pcapng.png\n"
     ]
    },
    {
     "name": "stderr",
     "output_type": "stream",
     "text": [
      "WARNING: PcapNg: TLS Key Log available, but the TLS layer is not loaded! Scapy won't be able to decrypt the packets.\n"
     ]
    },
    {
     "name": "stdout",
     "output_type": "stream",
     "text": [
      "Saved image for data\\PCAPS\\MODILOADER\\240610-mb7cmagc97.behavioral2.pcapng to z-order\\train\\MODILOADER\\240610-mb7cmagc97.behavioral2.pcapng.png\n"
     ]
    },
    {
     "name": "stderr",
     "output_type": "stream",
     "text": [
      "WARNING: PcapNg: TLS Key Log available, but the TLS layer is not loaded! Scapy won't be able to decrypt the packets.\n"
     ]
    },
    {
     "name": "stdout",
     "output_type": "stream",
     "text": [
      "Saved image for data\\PCAPS\\MODILOADER\\240610-mbdqbagc66.behavioral1.pcapng to z-order\\train\\MODILOADER\\240610-mbdqbagc66.behavioral1.pcapng.png\n"
     ]
    },
    {
     "name": "stderr",
     "output_type": "stream",
     "text": [
      "WARNING: more PcapNg: TLS Key Log available, but the TLS layer is not loaded! Scapy won't be able to decrypt the packets.\n"
     ]
    },
    {
     "name": "stdout",
     "output_type": "stream",
     "text": [
      "Saved image for data\\PCAPS\\MODILOADER\\240610-mbdqbagc66.behavioral2.pcapng to z-order\\train\\MODILOADER\\240610-mbdqbagc66.behavioral2.pcapng.png\n",
      "Saved image for data\\PCAPS\\MODILOADER\\240610-mbgrzagc72.behavioral1.pcapng to z-order\\train\\MODILOADER\\240610-mbgrzagc72.behavioral1.pcapng.png\n",
      "Saved image for data\\PCAPS\\MODILOADER\\240610-mbgrzagc72.behavioral2.pcapng to z-order\\train\\MODILOADER\\240610-mbgrzagc72.behavioral2.pcapng.png\n",
      "Saved image for data\\PCAPS\\MODILOADER\\240610-mbj74agc75.behavioral1.pcapng to z-order\\train\\MODILOADER\\240610-mbj74agc75.behavioral1.pcapng.png\n",
      "Saved image for data\\PCAPS\\MODILOADER\\240610-mbj74agc75.behavioral2.pcapng to z-order\\train\\MODILOADER\\240610-mbj74agc75.behavioral2.pcapng.png\n",
      "Saved image for data\\PCAPS\\MODILOADER\\240610-mbs51agc79.behavioral1.pcapng to z-order\\train\\MODILOADER\\240610-mbs51agc79.behavioral1.pcapng.png\n",
      "Saved image for data\\PCAPS\\MODILOADER\\240610-mbs51agc79.behavioral2.pcapng to z-order\\train\\MODILOADER\\240610-mbs51agc79.behavioral2.pcapng.png\n",
      "Saved image for data\\PCAPS\\MODILOADER\\240610-mbwk5agc82.behavioral1.pcapng to z-order\\train\\MODILOADER\\240610-mbwk5agc82.behavioral1.pcapng.png\n",
      "Saved image for data\\PCAPS\\MODILOADER\\240610-mbwk5agc82.behavioral2.pcapng to z-order\\train\\MODILOADER\\240610-mbwk5agc82.behavioral2.pcapng.png\n",
      "Saved image for data\\PCAPS\\MODILOADER\\240610-mbx4ysgc84.behavioral1.pcapng to z-order\\train\\MODILOADER\\240610-mbx4ysgc84.behavioral1.pcapng.png\n",
      "Saved image for data\\PCAPS\\MODILOADER\\240610-mbx4ysgc84.behavioral2.pcapng to z-order\\train\\MODILOADER\\240610-mbx4ysgc84.behavioral2.pcapng.png\n",
      "Saved image for data\\PCAPS\\MODILOADER\\240610-mcdfyagd25.behavioral1.pcapng to z-order\\train\\MODILOADER\\240610-mcdfyagd25.behavioral1.pcapng.png\n",
      "Saved image for data\\PCAPS\\MODILOADER\\240610-mcdfyagd25.behavioral2.pcapng to z-order\\train\\MODILOADER\\240610-mcdfyagd25.behavioral2.pcapng.png\n",
      "Saved image for data\\PCAPS\\MODILOADER\\240610-mcf7tsgd27.behavioral1.pcapng to z-order\\train\\MODILOADER\\240610-mcf7tsgd27.behavioral1.pcapng.png\n",
      "Saved image for data\\PCAPS\\MODILOADER\\240610-mcf7tsgd27.behavioral2.pcapng to z-order\\train\\MODILOADER\\240610-mcf7tsgd27.behavioral2.pcapng.png\n",
      "Skipping data\\PCAPS\\MODILOADER\\240610-pqt2yswblp.behavioral1.pcapng as it is smaller than 2KB\n",
      "Saved image for data\\PCAPS\\MODILOADER\\240610-pqt2yswblp.behavioral2.pcapng to z-order\\train\\MODILOADER\\240610-pqt2yswblp.behavioral2.pcapng.png\n",
      "Skipping data\\PCAPS\\MODILOADER\\240610-q6ahxsydmn.behavioral1.pcapng as it is smaller than 2KB\n",
      "Saved image for data\\PCAPS\\MODILOADER\\240610-q6ahxsydmn.behavioral2.pcapng to z-order\\train\\MODILOADER\\240610-q6ahxsydmn.behavioral2.pcapng.png\n",
      "Saved image for data\\PCAPS\\NANOCORE\\240531-134byagb28.behavioral1.pcapng to z-order\\train\\NANOCORE\\240531-134byagb28.behavioral1.pcapng.png\n",
      "Saved image for data\\PCAPS\\NANOCORE\\240531-134byagb28.behavioral2.pcapng to z-order\\train\\NANOCORE\\240531-134byagb28.behavioral2.pcapng.png\n",
      "Saved image for data\\PCAPS\\NANOCORE\\240531-2ca35sge42.behavioral1.pcapng to z-order\\train\\NANOCORE\\240531-2ca35sge42.behavioral1.pcapng.png\n",
      "Saved image for data\\PCAPS\\NANOCORE\\240531-2ca35sge42.behavioral2.pcapng to z-order\\train\\NANOCORE\\240531-2ca35sge42.behavioral2.pcapng.png\n",
      "Saved image for data\\PCAPS\\NANOCORE\\240531-2v5epshd25.behavioral1.pcapng to z-order\\train\\NANOCORE\\240531-2v5epshd25.behavioral1.pcapng.png\n",
      "Saved image for data\\PCAPS\\NANOCORE\\240531-2v5epshd25.behavioral2.pcapng to z-order\\train\\NANOCORE\\240531-2v5epshd25.behavioral2.pcapng.png\n",
      "Saved image for data\\PCAPS\\NANOCORE\\240531-sa7vnabh8v.behavioral1.pcapng to z-order\\train\\NANOCORE\\240531-sa7vnabh8v.behavioral1.pcapng.png\n",
      "Saved image for data\\PCAPS\\NANOCORE\\240531-sa7vnabh8v.behavioral2.pcapng to z-order\\train\\NANOCORE\\240531-sa7vnabh8v.behavioral2.pcapng.png\n"
     ]
    },
    {
     "name": "stderr",
     "output_type": "stream",
     "text": [
      "WARNING: PcapNg: TLS Key Log available, but the TLS layer is not loaded! Scapy won't be able to decrypt the packets.\n"
     ]
    },
    {
     "name": "stdout",
     "output_type": "stream",
     "text": [
      "Saved image for data\\PCAPS\\NANOCORE\\240531-wtfr3ahb33.behavioral1.pcapng to z-order\\train\\NANOCORE\\240531-wtfr3ahb33.behavioral1.pcapng.png\n"
     ]
    },
    {
     "name": "stderr",
     "output_type": "stream",
     "text": [
      "WARNING: PcapNg: TLS Key Log available, but the TLS layer is not loaded! Scapy won't be able to decrypt the packets.\n"
     ]
    },
    {
     "name": "stdout",
     "output_type": "stream",
     "text": [
      "Saved image for data\\PCAPS\\NANOCORE\\240531-wtfr3ahb33.behavioral2.pcapng to z-order\\train\\NANOCORE\\240531-wtfr3ahb33.behavioral2.pcapng.png\n"
     ]
    },
    {
     "name": "stderr",
     "output_type": "stream",
     "text": [
      "WARNING: more PcapNg: TLS Key Log available, but the TLS layer is not loaded! Scapy won't be able to decrypt the packets.\n"
     ]
    },
    {
     "name": "stdout",
     "output_type": "stream",
     "text": [
      "Saved image for data\\PCAPS\\NANOCORE\\240601-167hrsge6x.behavioral1.pcapng to z-order\\train\\NANOCORE\\240601-167hrsge6x.behavioral1.pcapng.png\n",
      "Saved image for data\\PCAPS\\NANOCORE\\240601-167hrsge6x.behavioral2.pcapng to z-order\\train\\NANOCORE\\240601-167hrsge6x.behavioral2.pcapng.png\n",
      "Saved image for data\\PCAPS\\NANOCORE\\240601-2kpw9shh68.behavioral1.pcapng to z-order\\train\\NANOCORE\\240601-2kpw9shh68.behavioral1.pcapng.png\n",
      "Saved image for data\\PCAPS\\NANOCORE\\240601-2kpw9shh68.behavioral2.pcapng to z-order\\train\\NANOCORE\\240601-2kpw9shh68.behavioral2.pcapng.png\n",
      "Saved image for data\\PCAPS\\NANOCORE\\240601-3xgbbsbd5s.behavioral1.pcapng to z-order\\train\\NANOCORE\\240601-3xgbbsbd5s.behavioral1.pcapng.png\n",
      "Saved image for data\\PCAPS\\NANOCORE\\240601-3xgbbsbd5s.behavioral2.pcapng to z-order\\train\\NANOCORE\\240601-3xgbbsbd5s.behavioral2.pcapng.png\n",
      "Skipping data\\PCAPS\\NANOCORE\\240601-a9lscsce77.behavioral1.pcapng as it is smaller than 2KB\n",
      "Saved image for data\\PCAPS\\NANOCORE\\240601-a9lscsce77.behavioral2.pcapng to z-order\\train\\NANOCORE\\240601-a9lscsce77.behavioral2.pcapng.png\n",
      "Saved image for data\\PCAPS\\NANOCORE\\240601-en7vxshh94.behavioral1.pcapng to z-order\\train\\NANOCORE\\240601-en7vxshh94.behavioral1.pcapng.png\n",
      "Saved image for data\\PCAPS\\NANOCORE\\240601-en7vxshh94.behavioral2.pcapng to z-order\\train\\NANOCORE\\240601-en7vxshh94.behavioral2.pcapng.png\n",
      "Saved image for data\\PCAPS\\NANOCORE\\240601-l9ympsae87.behavioral1.pcapng to z-order\\train\\NANOCORE\\240601-l9ympsae87.behavioral1.pcapng.png\n",
      "Saved image for data\\PCAPS\\NANOCORE\\240601-l9ympsae87.behavioral2.pcapng to z-order\\train\\NANOCORE\\240601-l9ympsae87.behavioral2.pcapng.png\n",
      "Saved image for data\\PCAPS\\NANOCORE\\240601-qjlmnsea64.behavioral1.pcapng to z-order\\train\\NANOCORE\\240601-qjlmnsea64.behavioral1.pcapng.png\n",
      "Saved image for data\\PCAPS\\NANOCORE\\240601-qjlmnsea64.behavioral2.pcapng to z-order\\train\\NANOCORE\\240601-qjlmnsea64.behavioral2.pcapng.png\n",
      "Saved image for data\\PCAPS\\NANOCORE\\240601-wjpl8aah92.behavioral1.pcapng to z-order\\train\\NANOCORE\\240601-wjpl8aah92.behavioral1.pcapng.png\n",
      "Saved image for data\\PCAPS\\NANOCORE\\240601-wjpl8aah92.behavioral2.pcapng to z-order\\train\\NANOCORE\\240601-wjpl8aah92.behavioral2.pcapng.png\n",
      "Saved image for data\\PCAPS\\NANOCORE\\240601-y9lpcsea8t.behavioral1.pcapng to z-order\\train\\NANOCORE\\240601-y9lpcsea8t.behavioral1.pcapng.png\n",
      "Saved image for data\\PCAPS\\NANOCORE\\240601-y9lpcsea8t.behavioral2.pcapng to z-order\\train\\NANOCORE\\240601-y9lpcsea8t.behavioral2.pcapng.png\n",
      "Saved image for data\\PCAPS\\NANOCORE\\240601-z2x8vsfb31.behavioral1.pcapng to z-order\\train\\NANOCORE\\240601-z2x8vsfb31.behavioral1.pcapng.png\n",
      "Saved image for data\\PCAPS\\NANOCORE\\240601-z2x8vsfb31.behavioral2.pcapng to z-order\\train\\NANOCORE\\240601-z2x8vsfb31.behavioral2.pcapng.png\n",
      "Saved image for data\\PCAPS\\NANOCORE\\240602-a5sp4sde27.behavioral1.pcapng to z-order\\train\\NANOCORE\\240602-a5sp4sde27.behavioral1.pcapng.png\n",
      "Saved image for data\\PCAPS\\NANOCORE\\240602-a5sp4sde27.behavioral2.pcapng to z-order\\train\\NANOCORE\\240602-a5sp4sde27.behavioral2.pcapng.png\n",
      "Saved image for data\\PCAPS\\NANOCORE\\240602-e8rdnsbg76.behavioral1.pcapng to z-order\\train\\NANOCORE\\240602-e8rdnsbg76.behavioral1.pcapng.png\n",
      "Saved image for data\\PCAPS\\NANOCORE\\240602-e8rdnsbg76.behavioral2.pcapng to z-order\\train\\NANOCORE\\240602-e8rdnsbg76.behavioral2.pcapng.png\n",
      "Skipping data\\PCAPS\\NANOCORE\\240602-f254xscd3s.behavioral1.pcapng as it is smaller than 2KB\n"
     ]
    },
    {
     "name": "stderr",
     "output_type": "stream",
     "text": [
      "WARNING: PcapNg: TLS Key Log available, but the TLS layer is not loaded! Scapy won't be able to decrypt the packets.\n"
     ]
    },
    {
     "name": "stdout",
     "output_type": "stream",
     "text": [
      "Saved image for data\\PCAPS\\NANOCORE\\240602-f254xscd3s.behavioral2.pcapng to z-order\\train\\NANOCORE\\240602-f254xscd3s.behavioral2.pcapng.png\n"
     ]
    },
    {
     "name": "stderr",
     "output_type": "stream",
     "text": [
      "WARNING: PcapNg: TLS Key Log available, but the TLS layer is not loaded! Scapy won't be able to decrypt the packets.\n"
     ]
    },
    {
     "name": "stdout",
     "output_type": "stream",
     "text": [
      "Saved image for data\\PCAPS\\NANOCORE\\240602-gjfa8add83.behavioral1.pcapng to z-order\\train\\NANOCORE\\240602-gjfa8add83.behavioral1.pcapng.png\n"
     ]
    },
    {
     "name": "stderr",
     "output_type": "stream",
     "text": [
      "WARNING: more PcapNg: TLS Key Log available, but the TLS layer is not loaded! Scapy won't be able to decrypt the packets.\n"
     ]
    },
    {
     "name": "stdout",
     "output_type": "stream",
     "text": [
      "Saved image for data\\PCAPS\\NANOCORE\\240602-gjfa8add83.behavioral2.pcapng to z-order\\train\\NANOCORE\\240602-gjfa8add83.behavioral2.pcapng.png\n",
      "Saved image for data\\PCAPS\\NANOCORE\\240602-jegplafa5x.behavioral1.pcapng to z-order\\train\\NANOCORE\\240602-jegplafa5x.behavioral1.pcapng.png\n",
      "Saved image for data\\PCAPS\\NANOCORE\\240602-jegplafa5x.behavioral2.pcapng to z-order\\train\\NANOCORE\\240602-jegplafa5x.behavioral2.pcapng.png\n",
      "Saved image for data\\PCAPS\\NANOCORE\\240602-qnnyladd5s.behavioral1.pcapng to z-order\\train\\NANOCORE\\240602-qnnyladd5s.behavioral1.pcapng.png\n",
      "Saved image for data\\PCAPS\\NANOCORE\\240602-qnnyladd5s.behavioral2.pcapng to z-order\\train\\NANOCORE\\240602-qnnyladd5s.behavioral2.pcapng.png\n",
      "Saved image for data\\PCAPS\\NANOCORE\\240603-2qwxrscg27.behavioral1.pcapng to z-order\\train\\NANOCORE\\240603-2qwxrscg27.behavioral1.pcapng.png\n",
      "Saved image for data\\PCAPS\\NANOCORE\\240603-2qwxrscg27.behavioral2.pcapng to z-order\\train\\NANOCORE\\240603-2qwxrscg27.behavioral2.pcapng.png\n",
      "Saved image for data\\PCAPS\\NANOCORE\\240603-g9gxqsfh69.behavioral1.pcapng to z-order\\train\\NANOCORE\\240603-g9gxqsfh69.behavioral1.pcapng.png\n",
      "Saved image for data\\PCAPS\\NANOCORE\\240603-g9gxqsfh69.behavioral2.pcapng to z-order\\train\\NANOCORE\\240603-g9gxqsfh69.behavioral2.pcapng.png\n",
      "Skipping data\\PCAPS\\NANOCORE\\240603-gbf8jsdd4t.behavioral1.pcapng as it is smaller than 2KB\n",
      "Saved image for data\\PCAPS\\NANOCORE\\240603-gbf8jsdd4t.behavioral2.pcapng to z-order\\train\\NANOCORE\\240603-gbf8jsdd4t.behavioral2.pcapng.png\n",
      "Saved image for data\\PCAPS\\NANOCORE\\240603-h1nvcsgh42.behavioral1.pcapng to z-order\\train\\NANOCORE\\240603-h1nvcsgh42.behavioral1.pcapng.png\n",
      "Saved image for data\\PCAPS\\NANOCORE\\240603-h1nvcsgh42.behavioral2.pcapng to z-order\\train\\NANOCORE\\240603-h1nvcsgh42.behavioral2.pcapng.png\n",
      "Saved image for data\\PCAPS\\NANOCORE\\240603-h3rn2afg9y.behavioral1.pcapng to z-order\\train\\NANOCORE\\240603-h3rn2afg9y.behavioral1.pcapng.png\n",
      "Saved image for data\\PCAPS\\NANOCORE\\240603-h3rn2afg9y.behavioral2.pcapng to z-order\\train\\NANOCORE\\240603-h3rn2afg9y.behavioral2.pcapng.png\n"
     ]
    },
    {
     "name": "stderr",
     "output_type": "stream",
     "text": [
      "WARNING: PcapNg: TLS Key Log available, but the TLS layer is not loaded! Scapy won't be able to decrypt the packets.\n"
     ]
    },
    {
     "name": "stdout",
     "output_type": "stream",
     "text": [
      "Saved image for data\\PCAPS\\NANOCORE\\240603-hfgwbafa7x.behavioral1.pcapng to z-order\\train\\NANOCORE\\240603-hfgwbafa7x.behavioral1.pcapng.png\n"
     ]
    },
    {
     "name": "stderr",
     "output_type": "stream",
     "text": [
      "WARNING: PcapNg: TLS Key Log available, but the TLS layer is not loaded! Scapy won't be able to decrypt the packets.\n"
     ]
    },
    {
     "name": "stdout",
     "output_type": "stream",
     "text": [
      "Saved image for data\\PCAPS\\NANOCORE\\240603-hfgwbafa7x.behavioral2.pcapng to z-order\\train\\NANOCORE\\240603-hfgwbafa7x.behavioral2.pcapng.png\n"
     ]
    },
    {
     "name": "stderr",
     "output_type": "stream",
     "text": [
      "WARNING: more PcapNg: TLS Key Log available, but the TLS layer is not loaded! Scapy won't be able to decrypt the packets.\n"
     ]
    },
    {
     "name": "stdout",
     "output_type": "stream",
     "text": [
      "Saved image for data\\PCAPS\\NANOCORE\\240603-l1e41aag5t.behavioral1.pcapng to z-order\\train\\NANOCORE\\240603-l1e41aag5t.behavioral1.pcapng.png\n",
      "Saved image for data\\PCAPS\\NANOCORE\\240603-l1e41aag5t.behavioral2.pcapng to z-order\\train\\NANOCORE\\240603-l1e41aag5t.behavioral2.pcapng.png\n",
      "Skipping data\\PCAPS\\NANOCORE\\240604-bnmcfaga9s.behavioral1.pcapng as it is smaller than 2KB\n",
      "Saved image for data\\PCAPS\\NANOCORE\\240604-bnmcfaga9s.behavioral2.pcapng to z-order\\train\\NANOCORE\\240604-bnmcfaga9s.behavioral2.pcapng.png\n",
      "Skipping data\\PCAPS\\NANOCORE\\240604-ca8tyshd3t.behavioral1.pcapng as it is smaller than 2KB\n",
      "Saved image for data\\PCAPS\\NANOCORE\\240604-ca8tyshd3t.behavioral2.pcapng to z-order\\train\\NANOCORE\\240604-ca8tyshd3t.behavioral2.pcapng.png\n",
      "Saved image for data\\PCAPS\\NANOCORE\\240604-dry7hsbh89.behavioral1.pcapng to z-order\\train\\NANOCORE\\240604-dry7hsbh89.behavioral1.pcapng.png\n",
      "Saved image for data\\PCAPS\\NANOCORE\\240604-dry7hsbh89.behavioral2.pcapng to z-order\\train\\NANOCORE\\240604-dry7hsbh89.behavioral2.pcapng.png\n",
      "Saved image for data\\PCAPS\\NANOCORE\\240604-g8hsmsgb2z.behavioral1.pcapng to z-order\\train\\NANOCORE\\240604-g8hsmsgb2z.behavioral1.pcapng.png\n",
      "Saved image for data\\PCAPS\\NANOCORE\\240604-g8hsmsgb2z.behavioral2.pcapng to z-order\\train\\NANOCORE\\240604-g8hsmsgb2z.behavioral2.pcapng.png\n",
      "Saved image for data\\PCAPS\\NANOCORE\\240604-n21s7sfc5x.behavioral1.pcapng to z-order\\train\\NANOCORE\\240604-n21s7sfc5x.behavioral1.pcapng.png\n",
      "Saved image for data\\PCAPS\\NANOCORE\\240604-n21s7sfc5x.behavioral2.pcapng to z-order\\train\\NANOCORE\\240604-n21s7sfc5x.behavioral2.pcapng.png\n",
      "Saved image for data\\PCAPS\\NANOCORE\\240604-sd9hnaba21.behavioral1.pcapng to z-order\\train\\NANOCORE\\240604-sd9hnaba21.behavioral1.pcapng.png\n",
      "Saved image for data\\PCAPS\\NANOCORE\\240604-sd9hnaba21.behavioral2.pcapng to z-order\\train\\NANOCORE\\240604-sd9hnaba21.behavioral2.pcapng.png\n",
      "Saved image for data\\PCAPS\\NANOCORE\\240605-3xpygacc2y.behavioral1.pcapng to z-order\\train\\NANOCORE\\240605-3xpygacc2y.behavioral1.pcapng.png\n",
      "Saved image for data\\PCAPS\\NANOCORE\\240605-3xpygacc2y.behavioral2.pcapng to z-order\\train\\NANOCORE\\240605-3xpygacc2y.behavioral2.pcapng.png\n"
     ]
    },
    {
     "name": "stderr",
     "output_type": "stream",
     "text": [
      "WARNING: PcapNg: TLS Key Log available, but the TLS layer is not loaded! Scapy won't be able to decrypt the packets.\n"
     ]
    },
    {
     "name": "stdout",
     "output_type": "stream",
     "text": [
      "Saved image for data\\PCAPS\\NANOCORE\\240605-a26gssgh4w.behavioral1.pcapng to z-order\\train\\NANOCORE\\240605-a26gssgh4w.behavioral1.pcapng.png\n"
     ]
    },
    {
     "name": "stderr",
     "output_type": "stream",
     "text": [
      "WARNING: PcapNg: TLS Key Log available, but the TLS layer is not loaded! Scapy won't be able to decrypt the packets.\n"
     ]
    },
    {
     "name": "stdout",
     "output_type": "stream",
     "text": [
      "Saved image for data\\PCAPS\\NANOCORE\\240605-aad88sfg8y.behavioral1.pcapng to z-order\\train\\NANOCORE\\240605-aad88sfg8y.behavioral1.pcapng.png\n"
     ]
    },
    {
     "name": "stderr",
     "output_type": "stream",
     "text": [
      "WARNING: PcapNg: TLS Key Log available, but the TLS layer is not loaded! Scapy won't be able to decrypt the packets.\n"
     ]
    },
    {
     "name": "stdout",
     "output_type": "stream",
     "text": [
      "Saved image for data\\PCAPS\\NANOCORE\\240605-ed9xjaec93.behavioral1.pcapng to z-order\\train\\NANOCORE\\240605-ed9xjaec93.behavioral1.pcapng.png\n"
     ]
    },
    {
     "name": "stderr",
     "output_type": "stream",
     "text": [
      "WARNING: PcapNg: TLS Key Log available, but the TLS layer is not loaded! Scapy won't be able to decrypt the packets.\n"
     ]
    },
    {
     "name": "stdout",
     "output_type": "stream",
     "text": [
      "Saved image for data\\PCAPS\\NANOCORE\\240605-ed9xjaec93.behavioral2.pcapng to z-order\\train\\NANOCORE\\240605-ed9xjaec93.behavioral2.pcapng.png\n",
      "Skipping data\\PCAPS\\NANOCORE\\240605-f3y21afc6s.behavioral1.pcapng as it is smaller than 2KB\n"
     ]
    },
    {
     "name": "stderr",
     "output_type": "stream",
     "text": [
      "WARNING: more PcapNg: TLS Key Log available, but the TLS layer is not loaded! Scapy won't be able to decrypt the packets.\n"
     ]
    },
    {
     "name": "stdout",
     "output_type": "stream",
     "text": [
      "Saved image for data\\PCAPS\\NANOCORE\\240605-f3y21afc6s.behavioral2.pcapng to z-order\\train\\NANOCORE\\240605-f3y21afc6s.behavioral2.pcapng.png\n",
      "Saved image for data\\PCAPS\\NANOCORE\\240605-jcb2bsae23.behavioral1.pcapng to z-order\\train\\NANOCORE\\240605-jcb2bsae23.behavioral1.pcapng.png\n",
      "Saved image for data\\PCAPS\\NANOCORE\\240605-jcb2bsae23.behavioral2.pcapng to z-order\\train\\NANOCORE\\240605-jcb2bsae23.behavioral2.pcapng.png\n",
      "Saved image for data\\PCAPS\\NANOCORE\\240605-l15dwsdd66.behavioral1.pcapng to z-order\\train\\NANOCORE\\240605-l15dwsdd66.behavioral1.pcapng.png\n",
      "Saved image for data\\PCAPS\\NANOCORE\\240605-l15dwsdd66.behavioral2.pcapng to z-order\\train\\NANOCORE\\240605-l15dwsdd66.behavioral2.pcapng.png\n",
      "Saved image for data\\PCAPS\\NANOCORE\\240605-rcsyvaaa66.behavioral1.pcapng to z-order\\train\\NANOCORE\\240605-rcsyvaaa66.behavioral1.pcapng.png\n",
      "Saved image for data\\PCAPS\\NANOCORE\\240605-rcsyvaaa66.behavioral2.pcapng to z-order\\train\\NANOCORE\\240605-rcsyvaaa66.behavioral2.pcapng.png\n",
      "Saved image for data\\PCAPS\\NANOCORE\\240606-a3wc8adh62.behavioral1.pcapng to z-order\\train\\NANOCORE\\240606-a3wc8adh62.behavioral1.pcapng.png\n",
      "Saved image for data\\PCAPS\\NANOCORE\\240606-a3wc8adh62.behavioral2.pcapng to z-order\\train\\NANOCORE\\240606-a3wc8adh62.behavioral2.pcapng.png\n",
      "Saved image for data\\PCAPS\\NANOCORE\\240606-agpnjscd8y.behavioral1.pcapng to z-order\\train\\NANOCORE\\240606-agpnjscd8y.behavioral1.pcapng.png\n",
      "Saved image for data\\PCAPS\\NANOCORE\\240606-agpnjscd8y.behavioral2.pcapng to z-order\\train\\NANOCORE\\240606-agpnjscd8y.behavioral2.pcapng.png\n",
      "Saved image for data\\PCAPS\\NANOCORE\\240606-d6kmnsfg5t.behavioral1.pcapng to z-order\\train\\NANOCORE\\240606-d6kmnsfg5t.behavioral1.pcapng.png\n",
      "Saved image for data\\PCAPS\\NANOCORE\\240606-d6kmnsfg5t.behavioral2.pcapng to z-order\\train\\NANOCORE\\240606-d6kmnsfg5t.behavioral2.pcapng.png\n",
      "Saved image for data\\PCAPS\\NANOCORE\\240606-f2mbtaac74.behavioral1.pcapng to z-order\\train\\NANOCORE\\240606-f2mbtaac74.behavioral1.pcapng.png\n",
      "Saved image for data\\PCAPS\\NANOCORE\\240606-f2mbtaac74.behavioral2.pcapng to z-order\\train\\NANOCORE\\240606-f2mbtaac74.behavioral2.pcapng.png\n",
      "Skipping data\\PCAPS\\NANOCORE\\240606-k2saaadb59.behavioral1.pcapng as it is smaller than 2KB\n",
      "Saved image for data\\PCAPS\\NANOCORE\\240606-k2saaadb59.behavioral2.pcapng to z-order\\train\\NANOCORE\\240606-k2saaadb59.behavioral2.pcapng.png\n"
     ]
    },
    {
     "name": "stderr",
     "output_type": "stream",
     "text": [
      "WARNING: PcapNg: TLS Key Log available, but the TLS layer is not loaded! Scapy won't be able to decrypt the packets.\n"
     ]
    },
    {
     "name": "stdout",
     "output_type": "stream",
     "text": [
      "Saved image for data\\PCAPS\\NANOCORE\\240609-3c5hesgh72.behavioral1.pcapng to z-order\\train\\NANOCORE\\240609-3c5hesgh72.behavioral1.pcapng.png\n"
     ]
    },
    {
     "name": "stderr",
     "output_type": "stream",
     "text": [
      "WARNING: PcapNg: TLS Key Log available, but the TLS layer is not loaded! Scapy won't be able to decrypt the packets.\n"
     ]
    },
    {
     "name": "stdout",
     "output_type": "stream",
     "text": [
      "Saved image for data\\PCAPS\\NANOCORE\\240609-3c5hesgh72.behavioral2.pcapng to z-order\\train\\NANOCORE\\240609-3c5hesgh72.behavioral2.pcapng.png\n"
     ]
    },
    {
     "name": "stderr",
     "output_type": "stream",
     "text": [
      "WARNING: more PcapNg: TLS Key Log available, but the TLS layer is not loaded! Scapy won't be able to decrypt the packets.\n"
     ]
    },
    {
     "name": "stdout",
     "output_type": "stream",
     "text": [
      "Saved image for data\\PCAPS\\NANOCORE\\240610-kr93cafd43.behavioral1.pcapng to z-order\\train\\NANOCORE\\240610-kr93cafd43.behavioral1.pcapng.png\n",
      "Saved image for data\\PCAPS\\NANOCORE\\240610-kr93cafd43.behavioral2.pcapng to z-order\\train\\NANOCORE\\240610-kr93cafd43.behavioral2.pcapng.png\n",
      "Skipping data\\PCAPS\\NETWIRE\\240528-3vdseshe6x.behavioral1.pcapng as it is smaller than 2KB\n",
      "Saved image for data\\PCAPS\\NETWIRE\\240528-3vdseshe6x.behavioral2.pcapng to z-order\\train\\NETWIRE\\240528-3vdseshe6x.behavioral2.pcapng.png\n",
      "Skipping data\\PCAPS\\NETWIRE\\240528-tvdyracg28.behavioral1.pcapng as it is smaller than 2KB\n",
      "Saved image for data\\PCAPS\\NETWIRE\\240528-tvdyracg28.behavioral2.pcapng to z-order\\train\\NETWIRE\\240528-tvdyracg28.behavioral2.pcapng.png\n",
      "Skipping data\\PCAPS\\NETWIRE\\240528-yl22fahh3x.behavioral1.pcapng as it is smaller than 2KB\n",
      "Saved image for data\\PCAPS\\NETWIRE\\240528-yl22fahh3x.behavioral2.pcapng to z-order\\train\\NETWIRE\\240528-yl22fahh3x.behavioral2.pcapng.png\n",
      "Saved image for data\\PCAPS\\NETWIRE\\240529-16x94acg54.behavioral1.pcapng to z-order\\train\\NETWIRE\\240529-16x94acg54.behavioral1.pcapng.png\n",
      "Skipping data\\PCAPS\\NETWIRE\\240529-aszmwsbg49.behavioral1.pcapng as it is smaller than 2KB\n",
      "Saved image for data\\PCAPS\\NETWIRE\\240529-aszmwsbg49.behavioral2.pcapng to z-order\\train\\NETWIRE\\240529-aszmwsbg49.behavioral2.pcapng.png\n",
      "Skipping data\\PCAPS\\NETWIRE\\240529-bb9bfacf47.behavioral1.pcapng as it is smaller than 2KB\n",
      "Saved image for data\\PCAPS\\NETWIRE\\240529-bb9bfacf47.behavioral2.pcapng to z-order\\train\\NETWIRE\\240529-bb9bfacf47.behavioral2.pcapng.png\n",
      "Skipping data\\PCAPS\\NETWIRE\\240529-dfjmpagf37.behavioral1.pcapng as it is smaller than 2KB\n",
      "Saved image for data\\PCAPS\\NETWIRE\\240529-dfjmpagf37.behavioral2.pcapng to z-order\\train\\NETWIRE\\240529-dfjmpagf37.behavioral2.pcapng.png\n",
      "Skipping data\\PCAPS\\NETWIRE\\240529-dsj4zsgd61.behavioral1.pcapng as it is smaller than 2KB\n",
      "Saved image for data\\PCAPS\\NETWIRE\\240529-dsj4zsgd61.behavioral2.pcapng to z-order\\train\\NETWIRE\\240529-dsj4zsgd61.behavioral2.pcapng.png\n",
      "Skipping data\\PCAPS\\NETWIRE\\240529-q5hg5sgd5x.behavioral1.pcapng as it is smaller than 2KB\n",
      "Saved image for data\\PCAPS\\NETWIRE\\240529-q5hg5sgd5x.behavioral2.pcapng to z-order\\train\\NETWIRE\\240529-q5hg5sgd5x.behavioral2.pcapng.png\n",
      "Skipping data\\PCAPS\\NETWIRE\\240529-zrzzpsad65.behavioral1.pcapng as it is smaller than 2KB\n",
      "Saved image for data\\PCAPS\\NETWIRE\\240529-zrzzpsad65.behavioral2.pcapng to z-order\\train\\NETWIRE\\240529-zrzzpsad65.behavioral2.pcapng.png\n",
      "Skipping data\\PCAPS\\NETWIRE\\240530-d67r7sda7v.behavioral1.pcapng as it is smaller than 2KB\n",
      "Saved image for data\\PCAPS\\NETWIRE\\240530-d67r7sda7v.behavioral2.pcapng to z-order\\train\\NETWIRE\\240530-d67r7sda7v.behavioral2.pcapng.png\n",
      "Skipping data\\PCAPS\\NETWIRE\\240530-nxbcraha55.behavioral1.pcapng as it is smaller than 2KB\n",
      "Saved image for data\\PCAPS\\NETWIRE\\240530-nxbcraha55.behavioral2.pcapng to z-order\\train\\NETWIRE\\240530-nxbcraha55.behavioral2.pcapng.png\n",
      "Skipping data\\PCAPS\\NETWIRE\\240530-tll8rsdg5z.behavioral1.pcapng as it is smaller than 2KB\n",
      "Saved image for data\\PCAPS\\NETWIRE\\240530-tll8rsdg5z.behavioral2.pcapng to z-order\\train\\NETWIRE\\240530-tll8rsdg5z.behavioral2.pcapng.png\n",
      "Skipping data\\PCAPS\\NETWIRE\\240531-c7dp3sde35.behavioral1.pcapng as it is smaller than 2KB\n",
      "Saved image for data\\PCAPS\\NETWIRE\\240531-c7dp3sde35.behavioral2.pcapng to z-order\\train\\NETWIRE\\240531-c7dp3sde35.behavioral2.pcapng.png\n",
      "Saved image for data\\PCAPS\\NETWIRE\\240531-lmv83aed29.behavioral1.pcapng to z-order\\train\\NETWIRE\\240531-lmv83aed29.behavioral1.pcapng.png\n",
      "Saved image for data\\PCAPS\\NETWIRE\\240531-lmv83aed29.behavioral2.pcapng to z-order\\train\\NETWIRE\\240531-lmv83aed29.behavioral2.pcapng.png\n",
      "Skipping data\\PCAPS\\NETWIRE\\240531-q32g8sbb68.behavioral1.pcapng as it is smaller than 2KB\n"
     ]
    },
    {
     "name": "stderr",
     "output_type": "stream",
     "text": [
      "WARNING: PcapNg: TLS Key Log available, but the TLS layer is not loaded! Scapy won't be able to decrypt the packets.\n"
     ]
    },
    {
     "name": "stdout",
     "output_type": "stream",
     "text": [
      "Saved image for data\\PCAPS\\NETWIRE\\240531-q32g8sbb68.behavioral2.pcapng to z-order\\train\\NETWIRE\\240531-q32g8sbb68.behavioral2.pcapng.png\n",
      "Skipping data\\PCAPS\\NETWIRE\\240531-rktkcabf72.behavioral1.pcapng as it is smaller than 2KB\n"
     ]
    },
    {
     "name": "stderr",
     "output_type": "stream",
     "text": [
      "WARNING: PcapNg: TLS Key Log available, but the TLS layer is not loaded! Scapy won't be able to decrypt the packets.\n"
     ]
    },
    {
     "name": "stdout",
     "output_type": "stream",
     "text": [
      "Saved image for data\\PCAPS\\NETWIRE\\240531-rktkcabf72.behavioral2.pcapng to z-order\\train\\NETWIRE\\240531-rktkcabf72.behavioral2.pcapng.png\n"
     ]
    },
    {
     "name": "stderr",
     "output_type": "stream",
     "text": [
      "WARNING: more PcapNg: TLS Key Log available, but the TLS layer is not loaded! Scapy won't be able to decrypt the packets.\n"
     ]
    },
    {
     "name": "stdout",
     "output_type": "stream",
     "text": [
      "Saved image for data\\PCAPS\\NETWIRE\\240531-rllk5abb2x.behavioral1.pcapng to z-order\\train\\NETWIRE\\240531-rllk5abb2x.behavioral1.pcapng.png\n",
      "Saved image for data\\PCAPS\\NETWIRE\\240531-rllk5abb2x.behavioral2.pcapng to z-order\\train\\NETWIRE\\240531-rllk5abb2x.behavioral2.pcapng.png\n",
      "Skipping data\\PCAPS\\NETWIRE\\240531-zpwjhada4w.behavioral1.pcapng as it is smaller than 2KB\n",
      "Saved image for data\\PCAPS\\NETWIRE\\240531-zpwjhada4w.behavioral2.pcapng to z-order\\train\\NETWIRE\\240531-zpwjhada4w.behavioral2.pcapng.png\n",
      "Skipping data\\PCAPS\\NETWIRE\\240601-bep2zacb2v.behavioral1.pcapng as it is smaller than 2KB\n",
      "Saved image for data\\PCAPS\\NETWIRE\\240601-bep2zacb2v.behavioral2.pcapng to z-order\\train\\NETWIRE\\240601-bep2zacb2v.behavioral2.pcapng.png\n",
      "Skipping data\\PCAPS\\NETWIRE\\240601-lqhr5shh98.behavioral1.pcapng as it is smaller than 2KB\n",
      "Saved image for data\\PCAPS\\NETWIRE\\240601-lqhr5shh98.behavioral2.pcapng to z-order\\train\\NETWIRE\\240601-lqhr5shh98.behavioral2.pcapng.png\n",
      "Skipping data\\PCAPS\\NETWIRE\\240601-qmdfgaeb34.behavioral1.pcapng as it is smaller than 2KB\n",
      "Saved image for data\\PCAPS\\NETWIRE\\240601-qmdfgaeb34.behavioral2.pcapng to z-order\\train\\NETWIRE\\240601-qmdfgaeb34.behavioral2.pcapng.png\n",
      "Skipping data\\PCAPS\\NETWIRE\\240601-r5vyxaff59.behavioral1.pcapng as it is smaller than 2KB\n",
      "Saved image for data\\PCAPS\\NETWIRE\\240601-r5vyxaff59.behavioral2.pcapng to z-order\\train\\NETWIRE\\240601-r5vyxaff59.behavioral2.pcapng.png\n",
      "Skipping data\\PCAPS\\NETWIRE\\240602-rrgjcsfd64.behavioral1.pcapng as it is smaller than 2KB\n",
      "Saved image for data\\PCAPS\\NETWIRE\\240602-rrgjcsfd64.behavioral2.pcapng to z-order\\train\\NETWIRE\\240602-rrgjcsfd64.behavioral2.pcapng.png\n",
      "Skipping data\\PCAPS\\NETWIRE\\240602-z5h84sfc4x.behavioral1.pcapng as it is smaller than 2KB\n",
      "Saved image for data\\PCAPS\\NETWIRE\\240602-z5h84sfc4x.behavioral2.pcapng to z-order\\train\\NETWIRE\\240602-z5h84sfc4x.behavioral2.pcapng.png\n",
      "Skipping data\\PCAPS\\NETWIRE\\240603-1ejbvshg2t.behavioral1.pcapng as it is smaller than 2KB\n"
     ]
    },
    {
     "name": "stderr",
     "output_type": "stream",
     "text": [
      "WARNING: PcapNg: TLS Key Log available, but the TLS layer is not loaded! Scapy won't be able to decrypt the packets.\n"
     ]
    },
    {
     "name": "stdout",
     "output_type": "stream",
     "text": [
      "Saved image for data\\PCAPS\\NETWIRE\\240603-1ejbvshg2t.behavioral2.pcapng to z-order\\train\\NETWIRE\\240603-1ejbvshg2t.behavioral2.pcapng.png\n",
      "Skipping data\\PCAPS\\NETWIRE\\240603-ddm74aaa99.behavioral1.pcapng as it is smaller than 2KB\n"
     ]
    },
    {
     "name": "stderr",
     "output_type": "stream",
     "text": [
      "WARNING: PcapNg: TLS Key Log available, but the TLS layer is not loaded! Scapy won't be able to decrypt the packets.\n"
     ]
    },
    {
     "name": "stdout",
     "output_type": "stream",
     "text": [
      "Saved image for data\\PCAPS\\NETWIRE\\240603-ddm74aaa99.behavioral2.pcapng to z-order\\train\\NETWIRE\\240603-ddm74aaa99.behavioral2.pcapng.png\n",
      "Skipping data\\PCAPS\\NETWIRE\\240603-gfa74ade8v.behavioral1.pcapng as it is smaller than 2KB\n"
     ]
    },
    {
     "name": "stderr",
     "output_type": "stream",
     "text": [
      "WARNING: more PcapNg: TLS Key Log available, but the TLS layer is not loaded! Scapy won't be able to decrypt the packets.\n"
     ]
    },
    {
     "name": "stdout",
     "output_type": "stream",
     "text": [
      "Saved image for data\\PCAPS\\NETWIRE\\240603-gfa74ade8v.behavioral2.pcapng to z-order\\train\\NETWIRE\\240603-gfa74ade8v.behavioral2.pcapng.png\n",
      "Skipping data\\PCAPS\\NETWIRE\\240603-ne5tmsce8v.behavioral1.pcapng as it is smaller than 2KB\n",
      "Saved image for data\\PCAPS\\NETWIRE\\240603-ne5tmsce8v.behavioral2.pcapng to z-order\\train\\NETWIRE\\240603-ne5tmsce8v.behavioral2.pcapng.png\n",
      "Skipping data\\PCAPS\\NETWIRE\\240603-sdp41sac6w.behavioral1.pcapng as it is smaller than 2KB\n",
      "Saved image for data\\PCAPS\\NETWIRE\\240603-sdp41sac6w.behavioral2.pcapng to z-order\\train\\NETWIRE\\240603-sdp41sac6w.behavioral2.pcapng.png\n",
      "Skipping data\\PCAPS\\NETWIRE\\240603-v7ge3sdg7x.behavioral1.pcapng as it is smaller than 2KB\n",
      "Saved image for data\\PCAPS\\NETWIRE\\240603-v7ge3sdg7x.behavioral2.pcapng to z-order\\train\\NETWIRE\\240603-v7ge3sdg7x.behavioral2.pcapng.png\n",
      "Skipping data\\PCAPS\\NETWIRE\\240604-favtwaea45.behavioral1.pcapng as it is smaller than 2KB\n",
      "Saved image for data\\PCAPS\\NETWIRE\\240604-favtwaea45.behavioral2.pcapng to z-order\\train\\NETWIRE\\240604-favtwaea45.behavioral2.pcapng.png\n",
      "Skipping data\\PCAPS\\NETWIRE\\240604-njb25aee5z.behavioral1.pcapng as it is smaller than 2KB\n",
      "Saved image for data\\PCAPS\\NETWIRE\\240604-njb25aee5z.behavioral2.pcapng to z-order\\train\\NETWIRE\\240604-njb25aee5z.behavioral2.pcapng.png\n",
      "Skipping data\\PCAPS\\NETWIRE\\240604-rl3jmsae82.behavioral1.pcapng as it is smaller than 2KB\n",
      "Saved image for data\\PCAPS\\NETWIRE\\240604-rl3jmsae82.behavioral2.pcapng to z-order\\train\\NETWIRE\\240604-rl3jmsae82.behavioral2.pcapng.png\n",
      "Skipping data\\PCAPS\\NETWIRE\\240604-w88fmagd33.behavioral1.pcapng as it is smaller than 2KB\n",
      "Saved image for data\\PCAPS\\NETWIRE\\240604-w88fmagd33.behavioral2.pcapng to z-order\\train\\NETWIRE\\240604-w88fmagd33.behavioral2.pcapng.png\n",
      "Skipping data\\PCAPS\\NETWIRE\\240604-zg1s9aag5s.behavioral1.pcapng as it is smaller than 2KB\n"
     ]
    },
    {
     "name": "stderr",
     "output_type": "stream",
     "text": [
      "WARNING: PcapNg: TLS Key Log available, but the TLS layer is not loaded! Scapy won't be able to decrypt the packets.\n"
     ]
    },
    {
     "name": "stdout",
     "output_type": "stream",
     "text": [
      "Saved image for data\\PCAPS\\NETWIRE\\240604-zg1s9aag5s.behavioral2.pcapng to z-order\\train\\NETWIRE\\240604-zg1s9aag5s.behavioral2.pcapng.png\n",
      "Skipping data\\PCAPS\\NETWIRE\\240605-bcjgeaab52.behavioral1.pcapng as it is smaller than 2KB\n"
     ]
    },
    {
     "name": "stderr",
     "output_type": "stream",
     "text": [
      "WARNING: PcapNg: TLS Key Log available, but the TLS layer is not loaded! Scapy won't be able to decrypt the packets.\n"
     ]
    },
    {
     "name": "stdout",
     "output_type": "stream",
     "text": [
      "Saved image for data\\PCAPS\\NETWIRE\\240605-bcjgeaab52.behavioral2.pcapng to z-order\\train\\NETWIRE\\240605-bcjgeaab52.behavioral2.pcapng.png\n",
      "Skipping data\\PCAPS\\NETWIRE\\240605-zcg6cahf95.behavioral1.pcapng as it is smaller than 2KB\n"
     ]
    },
    {
     "name": "stderr",
     "output_type": "stream",
     "text": [
      "WARNING: more PcapNg: TLS Key Log available, but the TLS layer is not loaded! Scapy won't be able to decrypt the packets.\n"
     ]
    },
    {
     "name": "stdout",
     "output_type": "stream",
     "text": [
      "Saved image for data\\PCAPS\\NETWIRE\\240605-zcg6cahf95.behavioral2.pcapng to z-order\\train\\NETWIRE\\240605-zcg6cahf95.behavioral2.pcapng.png\n",
      "Skipping data\\PCAPS\\NETWIRE\\240605-zhb7aahh57.behavioral1.pcapng as it is smaller than 2KB\n",
      "Saved image for data\\PCAPS\\NETWIRE\\240605-zhb7aahh57.behavioral2.pcapng to z-order\\train\\NETWIRE\\240605-zhb7aahh57.behavioral2.pcapng.png\n",
      "Skipping data\\PCAPS\\NETWIRE\\240606-tt5p3sgd9y.behavioral1.pcapng as it is smaller than 2KB\n",
      "Saved image for data\\PCAPS\\NETWIRE\\240606-tt5p3sgd9y.behavioral2.pcapng to z-order\\train\\NETWIRE\\240606-tt5p3sgd9y.behavioral2.pcapng.png\n",
      "Saved image for data\\PCAPS\\NETWIRE\\240606-ty4nkshf29.behavioral1.pcapng to z-order\\train\\NETWIRE\\240606-ty4nkshf29.behavioral1.pcapng.png\n",
      "Skipping data\\PCAPS\\NETWIRE\\240607-nc76zsgc75.behavioral1.pcapng as it is smaller than 2KB\n"
     ]
    },
    {
     "name": "stderr",
     "output_type": "stream",
     "text": [
      "WARNING: PcapNg: TLS Key Log available, but the TLS layer is not loaded! Scapy won't be able to decrypt the packets.\n"
     ]
    },
    {
     "name": "stdout",
     "output_type": "stream",
     "text": [
      "Saved image for data\\PCAPS\\NETWIRE\\240607-nc76zsgc75.behavioral2.pcapng to z-order\\train\\NETWIRE\\240607-nc76zsgc75.behavioral2.pcapng.png\n",
      "Skipping data\\PCAPS\\NETWIRE\\240607-qcewjshe88.behavioral1.pcapng as it is smaller than 2KB\n"
     ]
    },
    {
     "name": "stderr",
     "output_type": "stream",
     "text": [
      "WARNING: PcapNg: TLS Key Log available, but the TLS layer is not loaded! Scapy won't be able to decrypt the packets.\n"
     ]
    },
    {
     "name": "stdout",
     "output_type": "stream",
     "text": [
      "Saved image for data\\PCAPS\\NETWIRE\\240607-qcewjshe88.behavioral2.pcapng to z-order\\train\\NETWIRE\\240607-qcewjshe88.behavioral2.pcapng.png\n",
      "Skipping data\\PCAPS\\NETWIRE\\240608-174s9shb5z.behavioral1.pcapng as it is smaller than 2KB\n"
     ]
    },
    {
     "name": "stderr",
     "output_type": "stream",
     "text": [
      "WARNING: more PcapNg: TLS Key Log available, but the TLS layer is not loaded! Scapy won't be able to decrypt the packets.\n"
     ]
    },
    {
     "name": "stdout",
     "output_type": "stream",
     "text": [
      "Saved image for data\\PCAPS\\NETWIRE\\240608-174s9shb5z.behavioral2.pcapng to z-order\\train\\NETWIRE\\240608-174s9shb5z.behavioral2.pcapng.png\n",
      "Skipping data\\PCAPS\\NETWIRE\\240609-bswrnsbe5t.behavioral1.pcapng as it is smaller than 2KB\n",
      "Saved image for data\\PCAPS\\NETWIRE\\240609-bswrnsbe5t.behavioral2.pcapng to z-order\\train\\NETWIRE\\240609-bswrnsbe5t.behavioral2.pcapng.png\n",
      "Saved image for data\\PCAPS\\NETWIRE\\240609-smc6tace62.behavioral1.pcapng to z-order\\train\\NETWIRE\\240609-smc6tace62.behavioral1.pcapng.png\n"
     ]
    },
    {
     "name": "stderr",
     "output_type": "stream",
     "text": [
      "WARNING: PcapNg: TLS Key Log available, but the TLS layer is not loaded! Scapy won't be able to decrypt the packets.\n"
     ]
    },
    {
     "name": "stdout",
     "output_type": "stream",
     "text": [
      "Saved image for data\\PCAPS\\NETWIRE\\240609-smc6tace62.behavioral2.pcapng to z-order\\train\\NETWIRE\\240609-smc6tace62.behavioral2.pcapng.png\n"
     ]
    },
    {
     "name": "stderr",
     "output_type": "stream",
     "text": [
      "WARNING: PcapNg: TLS Key Log available, but the TLS layer is not loaded! Scapy won't be able to decrypt the packets.\n"
     ]
    },
    {
     "name": "stdout",
     "output_type": "stream",
     "text": [
      "Saved image for data\\PCAPS\\NETWIRE\\240610-nlh88ahf27.behavioral1.pcapng to z-order\\train\\NETWIRE\\240610-nlh88ahf27.behavioral1.pcapng.png\n"
     ]
    },
    {
     "name": "stderr",
     "output_type": "stream",
     "text": [
      "WARNING: more PcapNg: TLS Key Log available, but the TLS layer is not loaded! Scapy won't be able to decrypt the packets.\n"
     ]
    },
    {
     "name": "stdout",
     "output_type": "stream",
     "text": [
      "Saved image for data\\PCAPS\\NETWIRE\\240610-nlh88ahf27.behavioral2.pcapng to z-order\\train\\NETWIRE\\240610-nlh88ahf27.behavioral2.pcapng.png\n",
      "Skipping data\\PCAPS\\NJRAT\\240608-2fewhahc5x.behavioral1.pcapng as it is smaller than 2KB\n",
      "Saved image for data\\PCAPS\\NJRAT\\240608-2fewhahc5x.behavioral2.pcapng to z-order\\train\\NJRAT\\240608-2fewhahc5x.behavioral2.pcapng.png\n",
      "Saved image for data\\PCAPS\\NJRAT\\240608-3mz1paah82.behavioral1.pcapng to z-order\\train\\NJRAT\\240608-3mz1paah82.behavioral1.pcapng.png\n",
      "Saved image for data\\PCAPS\\NJRAT\\240608-3mz1paah82.behavioral2.pcapng to z-order\\train\\NJRAT\\240608-3mz1paah82.behavioral2.pcapng.png\n",
      "Saved image for data\\PCAPS\\NJRAT\\240608-qjsqzscg89.behavioral1.pcapng to z-order\\train\\NJRAT\\240608-qjsqzscg89.behavioral1.pcapng.png\n",
      "Saved image for data\\PCAPS\\NJRAT\\240608-qjsqzscg89.behavioral2.pcapng to z-order\\train\\NJRAT\\240608-qjsqzscg89.behavioral2.pcapng.png\n",
      "Saved image for data\\PCAPS\\NJRAT\\240608-s644msda41.behavioral1.pcapng to z-order\\train\\NJRAT\\240608-s644msda41.behavioral1.pcapng.png\n",
      "Saved image for data\\PCAPS\\NJRAT\\240608-s644msda41.behavioral2.pcapng to z-order\\train\\NJRAT\\240608-s644msda41.behavioral2.pcapng.png\n",
      "Saved image for data\\PCAPS\\NJRAT\\240608-xa54aaee41.behavioral1.pcapng to z-order\\train\\NJRAT\\240608-xa54aaee41.behavioral1.pcapng.png\n",
      "Saved image for data\\PCAPS\\NJRAT\\240608-xa54aaee41.behavioral2.pcapng to z-order\\train\\NJRAT\\240608-xa54aaee41.behavioral2.pcapng.png\n",
      "Saved image for data\\PCAPS\\NJRAT\\240608-z78a1shc26.behavioral1.pcapng to z-order\\train\\NJRAT\\240608-z78a1shc26.behavioral1.pcapng.png\n",
      "Saved image for data\\PCAPS\\NJRAT\\240608-z78a1shc26.behavioral2.pcapng to z-order\\train\\NJRAT\\240608-z78a1shc26.behavioral2.pcapng.png\n",
      "Saved image for data\\PCAPS\\NJRAT\\240608-zbyrpsge92.behavioral1.pcapng to z-order\\train\\NJRAT\\240608-zbyrpsge92.behavioral1.pcapng.png\n"
     ]
    },
    {
     "name": "stderr",
     "output_type": "stream",
     "text": [
      "WARNING: PcapNg: TLS Key Log available, but the TLS layer is not loaded! Scapy won't be able to decrypt the packets.\n"
     ]
    },
    {
     "name": "stdout",
     "output_type": "stream",
     "text": [
      "Saved image for data\\PCAPS\\NJRAT\\240608-zbyrpsge92.behavioral2.pcapng to z-order\\train\\NJRAT\\240608-zbyrpsge92.behavioral2.pcapng.png\n",
      "Skipping data\\PCAPS\\NJRAT\\240608-ztjeqsha23.behavioral1.pcapng as it is smaller than 2KB\n"
     ]
    },
    {
     "name": "stderr",
     "output_type": "stream",
     "text": [
      "WARNING: PcapNg: TLS Key Log available, but the TLS layer is not loaded! Scapy won't be able to decrypt the packets.\n"
     ]
    },
    {
     "name": "stdout",
     "output_type": "stream",
     "text": [
      "Saved image for data\\PCAPS\\NJRAT\\240608-ztjeqsha23.behavioral2.pcapng to z-order\\train\\NJRAT\\240608-ztjeqsha23.behavioral2.pcapng.png\n"
     ]
    },
    {
     "name": "stderr",
     "output_type": "stream",
     "text": [
      "WARNING: more PcapNg: TLS Key Log available, but the TLS layer is not loaded! Scapy won't be able to decrypt the packets.\n"
     ]
    },
    {
     "name": "stdout",
     "output_type": "stream",
     "text": [
      "Saved image for data\\PCAPS\\NJRAT\\240609-a1r8saah6w.behavioral1.pcapng to z-order\\train\\NJRAT\\240609-a1r8saah6w.behavioral1.pcapng.png\n",
      "Saved image for data\\PCAPS\\NJRAT\\240609-a1r8saah6w.behavioral2.pcapng to z-order\\train\\NJRAT\\240609-a1r8saah6w.behavioral2.pcapng.png\n",
      "Saved image for data\\PCAPS\\NJRAT\\240609-akggcabd64.behavioral1.pcapng to z-order\\train\\NJRAT\\240609-akggcabd64.behavioral1.pcapng.png\n",
      "Saved image for data\\PCAPS\\NJRAT\\240609-akggcabd64.behavioral2.pcapng to z-order\\train\\NJRAT\\240609-akggcabd64.behavioral2.pcapng.png\n",
      "Saved image for data\\PCAPS\\NJRAT\\240609-b5zzvsbg3x.behavioral1.pcapng to z-order\\train\\NJRAT\\240609-b5zzvsbg3x.behavioral1.pcapng.png\n",
      "Saved image for data\\PCAPS\\NJRAT\\240609-b5zzvsbg3x.behavioral2.pcapng to z-order\\train\\NJRAT\\240609-b5zzvsbg3x.behavioral2.pcapng.png\n",
      "Skipping data\\PCAPS\\NJRAT\\240609-b9mkbsce49.behavioral1.pcapng as it is smaller than 2KB\n",
      "Saved image for data\\PCAPS\\NJRAT\\240609-b9mkbsce49.behavioral2.pcapng to z-order\\train\\NJRAT\\240609-b9mkbsce49.behavioral2.pcapng.png\n",
      "Saved image for data\\PCAPS\\NJRAT\\240609-bzndwacc46.behavioral1.pcapng to z-order\\train\\NJRAT\\240609-bzndwacc46.behavioral1.pcapng.png\n",
      "Saved image for data\\PCAPS\\NJRAT\\240609-bzndwacc46.behavioral2.pcapng to z-order\\train\\NJRAT\\240609-bzndwacc46.behavioral2.pcapng.png\n",
      "Skipping data\\PCAPS\\NJRAT\\240609-cb9smsce96.behavioral1.pcapng as it is smaller than 2KB\n",
      "Saved image for data\\PCAPS\\NJRAT\\240609-cb9smsce96.behavioral2.pcapng to z-order\\train\\NJRAT\\240609-cb9smsce96.behavioral2.pcapng.png\n",
      "Skipping data\\PCAPS\\NJRAT\\240609-cmw1xscg22.behavioral1.pcapng as it is smaller than 2KB\n",
      "Saved image for data\\PCAPS\\NJRAT\\240609-cmw1xscg22.behavioral2.pcapng to z-order\\train\\NJRAT\\240609-cmw1xscg22.behavioral2.pcapng.png\n",
      "Saved image for data\\PCAPS\\NJRAT\\240609-d9dcrsdb4y.behavioral1.pcapng to z-order\\train\\NJRAT\\240609-d9dcrsdb4y.behavioral1.pcapng.png\n",
      "Saved image for data\\PCAPS\\NJRAT\\240609-d9dcrsdb4y.behavioral2.pcapng to z-order\\train\\NJRAT\\240609-d9dcrsdb4y.behavioral2.pcapng.png\n",
      "Saved image for data\\PCAPS\\NJRAT\\240609-dej7tsdc74.behavioral1.pcapng to z-order\\train\\NJRAT\\240609-dej7tsdc74.behavioral1.pcapng.png\n",
      "Saved image for data\\PCAPS\\NJRAT\\240609-dej7tsdc74.behavioral2.pcapng to z-order\\train\\NJRAT\\240609-dej7tsdc74.behavioral2.pcapng.png\n",
      "Skipping data\\PCAPS\\NJRAT\\240609-fcbh1sef54.behavioral1.pcapng as it is smaller than 2KB\n",
      "Saved image for data\\PCAPS\\NJRAT\\240609-fcbh1sef54.behavioral2.pcapng to z-order\\train\\NJRAT\\240609-fcbh1sef54.behavioral2.pcapng.png\n",
      "Saved image for data\\PCAPS\\NJRAT\\240609-fpdtxaea2z.behavioral1.pcapng to z-order\\train\\NJRAT\\240609-fpdtxaea2z.behavioral1.pcapng.png\n",
      "Saved image for data\\PCAPS\\NJRAT\\240609-fpdtxaea2z.behavioral2.pcapng to z-order\\train\\NJRAT\\240609-fpdtxaea2z.behavioral2.pcapng.png\n",
      "Saved image for data\\PCAPS\\NJRAT\\240609-k89sxage8s.behavioral1.pcapng to z-order\\train\\NJRAT\\240609-k89sxage8s.behavioral1.pcapng.png\n",
      "Saved image for data\\PCAPS\\NJRAT\\240609-k89sxage8s.behavioral2.pcapng to z-order\\train\\NJRAT\\240609-k89sxage8s.behavioral2.pcapng.png\n",
      "Saved image for data\\PCAPS\\NJRAT\\240609-l1fershg68.behavioral1.pcapng to z-order\\train\\NJRAT\\240609-l1fershg68.behavioral1.pcapng.png\n",
      "Saved image for data\\PCAPS\\NJRAT\\240609-l1fershg68.behavioral2.pcapng to z-order\\train\\NJRAT\\240609-l1fershg68.behavioral2.pcapng.png\n",
      "Skipping data\\PCAPS\\NJRAT\\240609-lcxn5shd55.behavioral1.pcapng as it is smaller than 2KB\n",
      "Saved image for data\\PCAPS\\NJRAT\\240609-lcxn5shd55.behavioral2.pcapng to z-order\\train\\NJRAT\\240609-lcxn5shd55.behavioral2.pcapng.png\n",
      "Saved image for data\\PCAPS\\NJRAT\\240609-smc6tace62.behavioral1.pcapng to z-order\\train\\NJRAT\\240609-smc6tace62.behavioral1.pcapng.png\n"
     ]
    },
    {
     "name": "stderr",
     "output_type": "stream",
     "text": [
      "WARNING: PcapNg: TLS Key Log available, but the TLS layer is not loaded! Scapy won't be able to decrypt the packets.\n"
     ]
    },
    {
     "name": "stdout",
     "output_type": "stream",
     "text": [
      "Saved image for data\\PCAPS\\NJRAT\\240609-smc6tace62.behavioral2.pcapng to z-order\\train\\NJRAT\\240609-smc6tace62.behavioral2.pcapng.png\n"
     ]
    },
    {
     "name": "stderr",
     "output_type": "stream",
     "text": [
      "WARNING: PcapNg: TLS Key Log available, but the TLS layer is not loaded! Scapy won't be able to decrypt the packets.\n"
     ]
    },
    {
     "name": "stdout",
     "output_type": "stream",
     "text": [
      "Saved image for data\\PCAPS\\NJRAT\\240610-b2hamsac41.behavioral1.pcapng to z-order\\train\\NJRAT\\240610-b2hamsac41.behavioral1.pcapng.png\n"
     ]
    },
    {
     "name": "stderr",
     "output_type": "stream",
     "text": [
      "WARNING: more PcapNg: TLS Key Log available, but the TLS layer is not loaded! Scapy won't be able to decrypt the packets.\n"
     ]
    },
    {
     "name": "stdout",
     "output_type": "stream",
     "text": [
      "Saved image for data\\PCAPS\\NJRAT\\240610-b2hamsac41.behavioral2.pcapng to z-order\\train\\NJRAT\\240610-b2hamsac41.behavioral2.pcapng.png\n",
      "Saved image for data\\PCAPS\\NJRAT\\240610-d526bsbf3x.behavioral1.pcapng to z-order\\train\\NJRAT\\240610-d526bsbf3x.behavioral1.pcapng.png\n",
      "Saved image for data\\PCAPS\\NJRAT\\240610-d526bsbf3x.behavioral2.pcapng to z-order\\train\\NJRAT\\240610-d526bsbf3x.behavioral2.pcapng.png\n",
      "Saved image for data\\PCAPS\\NJRAT\\240610-fh2bmada43.behavioral1.pcapng to z-order\\train\\NJRAT\\240610-fh2bmada43.behavioral1.pcapng.png\n",
      "Saved image for data\\PCAPS\\NJRAT\\240610-fh2bmada43.behavioral2.pcapng to z-order\\train\\NJRAT\\240610-fh2bmada43.behavioral2.pcapng.png\n",
      "Saved image for data\\PCAPS\\NJRAT\\240610-l245hsgb69.behavioral1.pcapng to z-order\\train\\NJRAT\\240610-l245hsgb69.behavioral1.pcapng.png\n",
      "Saved image for data\\PCAPS\\NJRAT\\240610-l245hsgb69.behavioral2.pcapng to z-order\\train\\NJRAT\\240610-l245hsgb69.behavioral2.pcapng.png\n"
     ]
    },
    {
     "name": "stderr",
     "output_type": "stream",
     "text": [
      "WARNING: PcapNg: TLS Key Log available, but the TLS layer is not loaded! Scapy won't be able to decrypt the packets.\n"
     ]
    },
    {
     "name": "stdout",
     "output_type": "stream",
     "text": [
      "Saved image for data\\PCAPS\\NJRAT\\240610-ntcfmsaa69.behavioral1.pcapng to z-order\\train\\NJRAT\\240610-ntcfmsaa69.behavioral1.pcapng.png\n"
     ]
    },
    {
     "name": "stderr",
     "output_type": "stream",
     "text": [
      "WARNING: PcapNg: TLS Key Log available, but the TLS layer is not loaded! Scapy won't be able to decrypt the packets.\n"
     ]
    },
    {
     "name": "stdout",
     "output_type": "stream",
     "text": [
      "Saved image for data\\PCAPS\\NJRAT\\240610-ntcfmsaa69.behavioral2.pcapng to z-order\\train\\NJRAT\\240610-ntcfmsaa69.behavioral2.pcapng.png\n"
     ]
    },
    {
     "name": "stderr",
     "output_type": "stream",
     "text": [
      "WARNING: more PcapNg: TLS Key Log available, but the TLS layer is not loaded! Scapy won't be able to decrypt the packets.\n"
     ]
    },
    {
     "name": "stdout",
     "output_type": "stream",
     "text": [
      "Saved image for data\\PCAPS\\NJRAT\\240610-q8q9fsyemm.behavioral1.pcapng to z-order\\train\\NJRAT\\240610-q8q9fsyemm.behavioral1.pcapng.png\n",
      "Saved image for data\\PCAPS\\NJRAT\\240610-q8q9fsyemm.behavioral2.pcapng to z-order\\train\\NJRAT\\240610-q8q9fsyemm.behavioral2.pcapng.png\n",
      "Skipping data\\PCAPS\\NJRAT\\240610-qhbq3swgrb.behavioral1.pcapng as it is smaller than 2KB\n",
      "Saved image for data\\PCAPS\\NJRAT\\240610-qhbq3swgrb.behavioral2.pcapng to z-order\\train\\NJRAT\\240610-qhbq3swgrb.behavioral2.pcapng.png\n",
      "Saved image for data\\PCAPS\\NJRAT\\240610-qxdtzsxera.behavioral1.pcapng to z-order\\train\\NJRAT\\240610-qxdtzsxera.behavioral1.pcapng.png\n",
      "Saved image for data\\PCAPS\\NJRAT\\240610-qxdtzsxera.behavioral2.pcapng to z-order\\train\\NJRAT\\240610-qxdtzsxera.behavioral2.pcapng.png\n",
      "Saved image for data\\PCAPS\\PONY\\240605-1pnz4aab6x.behavioral1.pcapng to z-order\\train\\PONY\\240605-1pnz4aab6x.behavioral1.pcapng.png\n",
      "Saved image for data\\PCAPS\\PONY\\240605-1pnz4aab6x.behavioral2.pcapng to z-order\\train\\PONY\\240605-1pnz4aab6x.behavioral2.pcapng.png\n",
      "Skipping data\\PCAPS\\PONY\\240605-3115xacd2v.behavioral1.pcapng as it is smaller than 2KB\n",
      "Saved image for data\\PCAPS\\PONY\\240605-3115xacd2v.behavioral2.pcapng to z-order\\train\\PONY\\240605-3115xacd2v.behavioral2.pcapng.png\n",
      "Skipping data\\PCAPS\\PONY\\240605-n2r63afe88.behavioral1.pcapng as it is smaller than 2KB\n",
      "Saved image for data\\PCAPS\\PONY\\240605-n2r63afe88.behavioral2.pcapng to z-order\\train\\PONY\\240605-n2r63afe88.behavioral2.pcapng.png\n",
      "Skipping data\\PCAPS\\PONY\\240605-p8d4fsga7z.behavioral1.pcapng as it is smaller than 2KB\n",
      "Saved image for data\\PCAPS\\PONY\\240605-p8d4fsga7z.behavioral2.pcapng to z-order\\train\\PONY\\240605-p8d4fsga7z.behavioral2.pcapng.png\n",
      "Skipping data\\PCAPS\\PONY\\240605-pbry2sfh32.behavioral1.pcapng as it is smaller than 2KB\n",
      "Saved image for data\\PCAPS\\PONY\\240605-pbry2sfh32.behavioral2.pcapng to z-order\\train\\PONY\\240605-pbry2sfh32.behavioral2.pcapng.png\n",
      "Skipping data\\PCAPS\\PONY\\240605-sh9n8abc45.behavioral1.pcapng as it is smaller than 2KB\n",
      "Saved image for data\\PCAPS\\PONY\\240605-sh9n8abc45.behavioral2.pcapng to z-order\\train\\PONY\\240605-sh9n8abc45.behavioral2.pcapng.png\n",
      "Skipping data\\PCAPS\\PONY\\240605-wgs7maed83.behavioral1.pcapng as it is smaller than 2KB\n",
      "Saved image for data\\PCAPS\\PONY\\240605-wgs7maed83.behavioral2.pcapng to z-order\\train\\PONY\\240605-wgs7maed83.behavioral2.pcapng.png\n",
      "Skipping data\\PCAPS\\PONY\\240605-z2a4bsad86.behavioral1.pcapng as it is smaller than 2KB\n",
      "Saved image for data\\PCAPS\\PONY\\240605-z2a4bsad86.behavioral2.pcapng to z-order\\train\\PONY\\240605-z2a4bsad86.behavioral2.pcapng.png\n",
      "Skipping data\\PCAPS\\PONY\\240605-zhzmkshh74.behavioral1.pcapng as it is smaller than 2KB\n",
      "Saved image for data\\PCAPS\\PONY\\240605-zhzmkshh74.behavioral2.pcapng to z-order\\train\\PONY\\240605-zhzmkshh74.behavioral2.pcapng.png\n",
      "Skipping data\\PCAPS\\PONY\\240606-eswnfsge3y.behavioral1.pcapng as it is smaller than 2KB\n",
      "Saved image for data\\PCAPS\\PONY\\240606-eswnfsge3y.behavioral2.pcapng to z-order\\train\\PONY\\240606-eswnfsge3y.behavioral2.pcapng.png\n",
      "Skipping data\\PCAPS\\PONY\\240606-f9xshshf6z.behavioral1.pcapng as it is smaller than 2KB\n",
      "Saved image for data\\PCAPS\\PONY\\240606-f9xshshf6z.behavioral2.pcapng to z-order\\train\\PONY\\240606-f9xshshf6z.behavioral2.pcapng.png\n",
      "Skipping data\\PCAPS\\PONY\\240606-fpkx8ahc3s.behavioral1.pcapng as it is smaller than 2KB\n",
      "Saved image for data\\PCAPS\\PONY\\240606-fpkx8ahc3s.behavioral2.pcapng to z-order\\train\\PONY\\240606-fpkx8ahc3s.behavioral2.pcapng.png\n",
      "Skipping data\\PCAPS\\PONY\\240606-g5g2yaad3s.behavioral1.pcapng as it is smaller than 2KB\n",
      "Saved image for data\\PCAPS\\PONY\\240606-g5g2yaad3s.behavioral2.pcapng to z-order\\train\\PONY\\240606-g5g2yaad3s.behavioral2.pcapng.png\n",
      "Skipping data\\PCAPS\\PONY\\240606-gc1ctaaf45.behavioral1.pcapng as it is smaller than 2KB\n",
      "Saved image for data\\PCAPS\\PONY\\240606-gc1ctaaf45.behavioral2.pcapng to z-order\\train\\PONY\\240606-gc1ctaaf45.behavioral2.pcapng.png\n",
      "Skipping data\\PCAPS\\PONY\\240606-gclveshg3s.behavioral1.pcapng as it is smaller than 2KB\n",
      "Saved image for data\\PCAPS\\PONY\\240606-gclveshg3s.behavioral2.pcapng to z-order\\train\\PONY\\240606-gclveshg3s.behavioral2.pcapng.png\n",
      "Skipping data\\PCAPS\\PONY\\240606-grh23sab5v.behavioral1.pcapng as it is smaller than 2KB\n",
      "Saved image for data\\PCAPS\\PONY\\240606-grh23sab5v.behavioral2.pcapng to z-order\\train\\PONY\\240606-grh23sab5v.behavioral2.pcapng.png\n",
      "Saved image for data\\PCAPS\\PONY\\240607-c7s5rshd96.behavioral1.pcapng to z-order\\train\\PONY\\240607-c7s5rshd96.behavioral1.pcapng.png\n",
      "Saved image for data\\PCAPS\\PONY\\240607-c7s5rshd96.behavioral2.pcapng to z-order\\train\\PONY\\240607-c7s5rshd96.behavioral2.pcapng.png\n",
      "Skipping data\\PCAPS\\PONY\\240610-fpv37acd7v.behavioral1.pcapng as it is smaller than 2KB\n",
      "Saved image for data\\PCAPS\\PONY\\240610-fpv37acd7v.behavioral2.pcapng to z-order\\train\\PONY\\240610-fpv37acd7v.behavioral2.pcapng.png\n",
      "Skipping data\\PCAPS\\PONY\\240610-j4qzkafa22.behavioral1.pcapng as it is smaller than 2KB\n",
      "Saved image for data\\PCAPS\\PONY\\240610-j4qzkafa22.behavioral2.pcapng to z-order\\train\\PONY\\240610-j4qzkafa22.behavioral2.pcapng.png\n",
      "Skipping data\\PCAPS\\PONY\\240610-kq521aef6t.behavioral1.pcapng as it is smaller than 2KB\n",
      "Saved image for data\\PCAPS\\PONY\\240610-kq521aef6t.behavioral2.pcapng to z-order\\train\\PONY\\240610-kq521aef6t.behavioral2.pcapng.png\n",
      "Skipping data\\PCAPS\\PONY\\240610-nn8a5ahg53.behavioral1.pcapng as it is smaller than 2KB\n",
      "Saved image for data\\PCAPS\\PONY\\240610-nn8a5ahg53.behavioral2.pcapng to z-order\\train\\PONY\\240610-nn8a5ahg53.behavioral2.pcapng.png\n",
      "Skipping data\\PCAPS\\PONY\\240610-p4dl5awgkk.behavioral1.pcapng as it is smaller than 2KB\n",
      "Skipping data\\PCAPS\\PONY\\240610-p4dl5awgkk.behavioral2.pcapng as it is smaller than 2KB\n",
      "Skipping data\\PCAPS\\PONY\\240610-pby3csac81.behavioral1.pcapng as it is smaller than 2KB\n",
      "Saved image for data\\PCAPS\\PONY\\240610-pby3csac81.behavioral2.pcapng to z-order\\train\\PONY\\240610-pby3csac81.behavioral2.pcapng.png\n",
      "Skipping data\\PCAPS\\QAKBOT\\240504-rc3haafh61.behavioral1.pcapng as it is smaller than 2KB\n",
      "Saved image for data\\PCAPS\\QAKBOT\\240504-rc3haafh61.behavioral2.pcapng to z-order\\train\\QAKBOT\\240504-rc3haafh61.behavioral2.pcapng.png\n",
      "Skipping data\\PCAPS\\QAKBOT\\240505-ncy83sbf64.behavioral1.pcapng as it is smaller than 2KB\n",
      "Saved image for data\\PCAPS\\QAKBOT\\240505-ncy83sbf64.behavioral2.pcapng to z-order\\train\\QAKBOT\\240505-ncy83sbf64.behavioral2.pcapng.png\n",
      "Skipping data\\PCAPS\\QAKBOT\\240506-a63lpsed75.behavioral1.pcapng as it is smaller than 2KB\n"
     ]
    },
    {
     "name": "stderr",
     "output_type": "stream",
     "text": [
      "WARNING: PcapNg: TLS Key Log available, but the TLS layer is not loaded! Scapy won't be able to decrypt the packets.\n"
     ]
    },
    {
     "name": "stdout",
     "output_type": "stream",
     "text": [
      "Saved image for data\\PCAPS\\QAKBOT\\240506-a63lpsed75.behavioral2.pcapng to z-order\\train\\QAKBOT\\240506-a63lpsed75.behavioral2.pcapng.png\n",
      "Skipping data\\PCAPS\\QAKBOT\\240507-dmgrnsad35.behavioral1.pcapng as it is smaller than 2KB\n"
     ]
    },
    {
     "name": "stderr",
     "output_type": "stream",
     "text": [
      "WARNING: PcapNg: TLS Key Log available, but the TLS layer is not loaded! Scapy won't be able to decrypt the packets.\n"
     ]
    },
    {
     "name": "stdout",
     "output_type": "stream",
     "text": [
      "Saved image for data\\PCAPS\\QAKBOT\\240507-dmgrnsad35.behavioral2.pcapng to z-order\\train\\QAKBOT\\240507-dmgrnsad35.behavioral2.pcapng.png\n",
      "Skipping data\\PCAPS\\QAKBOT\\240507-swclmsda2v.behavioral1.pcapng as it is smaller than 2KB\n"
     ]
    },
    {
     "name": "stderr",
     "output_type": "stream",
     "text": [
      "WARNING: more PcapNg: TLS Key Log available, but the TLS layer is not loaded! Scapy won't be able to decrypt the packets.\n"
     ]
    },
    {
     "name": "stdout",
     "output_type": "stream",
     "text": [
      "Saved image for data\\PCAPS\\QAKBOT\\240507-swclmsda2v.behavioral2.pcapng to z-order\\train\\QAKBOT\\240507-swclmsda2v.behavioral2.pcapng.png\n",
      "Skipping data\\PCAPS\\QAKBOT\\240507-yrmtpsfg78.behavioral1.pcapng as it is smaller than 2KB\n",
      "Saved image for data\\PCAPS\\QAKBOT\\240507-yrmtpsfg78.behavioral2.pcapng to z-order\\train\\QAKBOT\\240507-yrmtpsfg78.behavioral2.pcapng.png\n",
      "Skipping data\\PCAPS\\QAKBOT\\240508-16j3gaac9x.behavioral1.pcapng as it is smaller than 2KB\n",
      "Saved image for data\\PCAPS\\QAKBOT\\240508-16j3gaac9x.behavioral2.pcapng to z-order\\train\\QAKBOT\\240508-16j3gaac9x.behavioral2.pcapng.png\n",
      "Saved image for data\\PCAPS\\QAKBOT\\240508-cr8waadf4z.behavioral1.pcapng to z-order\\train\\QAKBOT\\240508-cr8waadf4z.behavioral1.pcapng.png\n",
      "Saved image for data\\PCAPS\\QAKBOT\\240508-cr8waadf4z.behavioral2.pcapng to z-order\\train\\QAKBOT\\240508-cr8waadf4z.behavioral2.pcapng.png\n",
      "Skipping data\\PCAPS\\QAKBOT\\240508-x3szesdg44.behavioral1.pcapng as it is smaller than 2KB\n",
      "Saved image for data\\PCAPS\\QAKBOT\\240508-x3szesdg44.behavioral2.pcapng to z-order\\train\\QAKBOT\\240508-x3szesdg44.behavioral2.pcapng.png\n",
      "Skipping data\\PCAPS\\QAKBOT\\240509-cetktseh93.behavioral1.pcapng as it is smaller than 2KB\n",
      "Saved image for data\\PCAPS\\QAKBOT\\240509-cetktseh93.behavioral2.pcapng to z-order\\train\\QAKBOT\\240509-cetktseh93.behavioral2.pcapng.png\n",
      "Skipping data\\PCAPS\\QAKBOT\\240510-qbzjkabd39.behavioral1.pcapng as it is smaller than 2KB\n",
      "Saved image for data\\PCAPS\\QAKBOT\\240510-qbzjkabd39.behavioral2.pcapng to z-order\\train\\QAKBOT\\240510-qbzjkabd39.behavioral2.pcapng.png\n",
      "Skipping data\\PCAPS\\QAKBOT\\240510-sh7jvsbh9w.behavioral1.pcapng as it is smaller than 2KB\n",
      "Saved image for data\\PCAPS\\QAKBOT\\240510-sh7jvsbh9w.behavioral2.pcapng to z-order\\train\\QAKBOT\\240510-sh7jvsbh9w.behavioral2.pcapng.png\n",
      "Skipping data\\PCAPS\\QAKBOT\\240510-tw1h5shh47.behavioral1.pcapng as it is smaller than 2KB\n",
      "Saved image for data\\PCAPS\\QAKBOT\\240510-tw1h5shh47.behavioral2.pcapng to z-order\\train\\QAKBOT\\240510-tw1h5shh47.behavioral2.pcapng.png\n",
      "Saved image for data\\PCAPS\\QAKBOT\\240510-wdyypscg56.behavioral1.pcapng to z-order\\train\\QAKBOT\\240510-wdyypscg56.behavioral1.pcapng.png\n",
      "Saved image for data\\PCAPS\\QAKBOT\\240510-wdyypscg56.behavioral2.pcapng to z-order\\train\\QAKBOT\\240510-wdyypscg56.behavioral2.pcapng.png\n",
      "Saved image for data\\PCAPS\\QAKBOT\\240510-zz7phsch55.behavioral1.pcapng to z-order\\train\\QAKBOT\\240510-zz7phsch55.behavioral1.pcapng.png\n",
      "Saved image for data\\PCAPS\\QAKBOT\\240510-zz7phsch55.behavioral2.pcapng to z-order\\train\\QAKBOT\\240510-zz7phsch55.behavioral2.pcapng.png\n",
      "Skipping data\\PCAPS\\QAKBOT\\240511-cy5gfagc7y.behavioral1.pcapng as it is smaller than 2KB\n",
      "Saved image for data\\PCAPS\\QAKBOT\\240511-cy5gfagc7y.behavioral2.pcapng to z-order\\train\\QAKBOT\\240511-cy5gfagc7y.behavioral2.pcapng.png\n",
      "Skipping data\\PCAPS\\QAKBOT\\240511-jnqnvsee6w.behavioral1.pcapng as it is smaller than 2KB\n"
     ]
    },
    {
     "name": "stderr",
     "output_type": "stream",
     "text": [
      "WARNING: PcapNg: TLS Key Log available, but the TLS layer is not loaded! Scapy won't be able to decrypt the packets.\n"
     ]
    },
    {
     "name": "stdout",
     "output_type": "stream",
     "text": [
      "Saved image for data\\PCAPS\\QAKBOT\\240511-jnqnvsee6w.behavioral2.pcapng to z-order\\train\\QAKBOT\\240511-jnqnvsee6w.behavioral2.pcapng.png\n",
      "Skipping data\\PCAPS\\QAKBOT\\240511-vj8vesge6w.behavioral1.pcapng as it is smaller than 2KB\n"
     ]
    },
    {
     "name": "stderr",
     "output_type": "stream",
     "text": [
      "WARNING: PcapNg: TLS Key Log available, but the TLS layer is not loaded! Scapy won't be able to decrypt the packets.\n"
     ]
    },
    {
     "name": "stdout",
     "output_type": "stream",
     "text": [
      "Saved image for data\\PCAPS\\QAKBOT\\240511-vj8vesge6w.behavioral2.pcapng to z-order\\train\\QAKBOT\\240511-vj8vesge6w.behavioral2.pcapng.png\n",
      "Skipping data\\PCAPS\\QAKBOT\\240512-vty3zafh5s.behavioral1.pcapng as it is smaller than 2KB\n"
     ]
    },
    {
     "name": "stderr",
     "output_type": "stream",
     "text": [
      "WARNING: more PcapNg: TLS Key Log available, but the TLS layer is not loaded! Scapy won't be able to decrypt the packets.\n"
     ]
    },
    {
     "name": "stdout",
     "output_type": "stream",
     "text": [
      "Saved image for data\\PCAPS\\QAKBOT\\240512-vty3zafh5s.behavioral2.pcapng to z-order\\train\\QAKBOT\\240512-vty3zafh5s.behavioral2.pcapng.png\n",
      "Saved image for data\\PCAPS\\QAKBOT\\240516-gv9n7sff28.behavioral1.pcapng to z-order\\train\\QAKBOT\\240516-gv9n7sff28.behavioral1.pcapng.png\n",
      "Skipping data\\PCAPS\\QAKBOT\\240516-rxg23she45.behavioral1.pcapng as it is smaller than 2KB\n",
      "Saved image for data\\PCAPS\\QAKBOT\\240516-rxg23she45.behavioral2.pcapng to z-order\\train\\QAKBOT\\240516-rxg23she45.behavioral2.pcapng.png\n",
      "Skipping data\\PCAPS\\QAKBOT\\240517-22cy2afh38.behavioral1.pcapng as it is smaller than 2KB\n",
      "Saved image for data\\PCAPS\\QAKBOT\\240517-22cy2afh38.behavioral2.pcapng to z-order\\train\\QAKBOT\\240517-22cy2afh38.behavioral2.pcapng.png\n",
      "Skipping data\\PCAPS\\QAKBOT\\240517-kv6jbsad6t.behavioral1.pcapng as it is smaller than 2KB\n",
      "Saved image for data\\PCAPS\\QAKBOT\\240517-kv6jbsad6t.behavioral2.pcapng to z-order\\train\\QAKBOT\\240517-kv6jbsad6t.behavioral2.pcapng.png\n",
      "Skipping data\\PCAPS\\QAKBOT\\240519-c1hepadh9v.behavioral1.pcapng as it is smaller than 2KB\n",
      "Saved image for data\\PCAPS\\QAKBOT\\240519-c1hepadh9v.behavioral2.pcapng to z-order\\train\\QAKBOT\\240519-c1hepadh9v.behavioral2.pcapng.png\n",
      "Skipping data\\PCAPS\\QAKBOT\\240519-ca78escd5t.behavioral1.pcapng as it is smaller than 2KB\n",
      "Saved image for data\\PCAPS\\QAKBOT\\240519-ca78escd5t.behavioral2.pcapng to z-order\\train\\QAKBOT\\240519-ca78escd5t.behavioral2.pcapng.png\n",
      "Saved image for data\\PCAPS\\QAKBOT\\240519-pya9tahf8z.behavioral1.pcapng to z-order\\train\\QAKBOT\\240519-pya9tahf8z.behavioral1.pcapng.png\n",
      "Skipping data\\PCAPS\\QAKBOT\\240520-2dc9wshg22.behavioral1.pcapng as it is smaller than 2KB\n"
     ]
    },
    {
     "name": "stderr",
     "output_type": "stream",
     "text": [
      "WARNING: PcapNg: TLS Key Log available, but the TLS layer is not loaded! Scapy won't be able to decrypt the packets.\n"
     ]
    },
    {
     "name": "stdout",
     "output_type": "stream",
     "text": [
      "Saved image for data\\PCAPS\\QAKBOT\\240520-2dc9wshg22.behavioral2.pcapng to z-order\\train\\QAKBOT\\240520-2dc9wshg22.behavioral2.pcapng.png\n",
      "Skipping data\\PCAPS\\QAKBOT\\240520-dsxp3shb58.behavioral1.pcapng as it is smaller than 2KB\n"
     ]
    },
    {
     "name": "stderr",
     "output_type": "stream",
     "text": [
      "WARNING: PcapNg: TLS Key Log available, but the TLS layer is not loaded! Scapy won't be able to decrypt the packets.\n"
     ]
    },
    {
     "name": "stdout",
     "output_type": "stream",
     "text": [
      "Saved image for data\\PCAPS\\QAKBOT\\240520-dsxp3shb58.behavioral2.pcapng to z-order\\train\\QAKBOT\\240520-dsxp3shb58.behavioral2.pcapng.png\n",
      "Skipping data\\PCAPS\\QAKBOT\\240520-ftks1sdf8t.behavioral1.pcapng as it is smaller than 2KB\n"
     ]
    },
    {
     "name": "stderr",
     "output_type": "stream",
     "text": [
      "WARNING: more PcapNg: TLS Key Log available, but the TLS layer is not loaded! Scapy won't be able to decrypt the packets.\n"
     ]
    },
    {
     "name": "stdout",
     "output_type": "stream",
     "text": [
      "Saved image for data\\PCAPS\\QAKBOT\\240520-ftks1sdf8t.behavioral2.pcapng to z-order\\train\\QAKBOT\\240520-ftks1sdf8t.behavioral2.pcapng.png\n",
      "Saved image for data\\PCAPS\\QAKBOT\\240521-vydmtsch7x.behavioral1.pcapng to z-order\\train\\QAKBOT\\240521-vydmtsch7x.behavioral1.pcapng.png\n",
      "Skipping data\\PCAPS\\QAKBOT\\240521-ye9gyage3v.behavioral1.pcapng as it is smaller than 2KB\n",
      "Saved image for data\\PCAPS\\QAKBOT\\240521-ye9gyage3v.behavioral2.pcapng to z-order\\train\\QAKBOT\\240521-ye9gyage3v.behavioral2.pcapng.png\n",
      "Skipping data\\PCAPS\\QAKBOT\\240523-ew76nadf2w.behavioral1.pcapng as it is smaller than 2KB\n",
      "Skipping data\\PCAPS\\QAKBOT\\240525-em75asdh5t.behavioral1.pcapng as it is smaller than 2KB\n",
      "Saved image for data\\PCAPS\\QAKBOT\\240525-em75asdh5t.behavioral2.pcapng to z-order\\train\\QAKBOT\\240525-em75asdh5t.behavioral2.pcapng.png\n",
      "Skipping data\\PCAPS\\QAKBOT\\240526-jwdz2abh4w.behavioral1.pcapng as it is smaller than 2KB\n",
      "Saved image for data\\PCAPS\\QAKBOT\\240526-jwdz2abh4w.behavioral2.pcapng to z-order\\train\\QAKBOT\\240526-jwdz2abh4w.behavioral2.pcapng.png\n",
      "Skipping data\\PCAPS\\QAKBOT\\240527-xgj5dsfb25.behavioral1.pcapng as it is smaller than 2KB\n",
      "Saved image for data\\PCAPS\\QAKBOT\\240527-xgj5dsfb25.behavioral2.pcapng to z-order\\train\\QAKBOT\\240527-xgj5dsfb25.behavioral2.pcapng.png\n",
      "Skipping data\\PCAPS\\QAKBOT\\240528-b6nm8abd36.behavioral1.pcapng as it is smaller than 2KB\n",
      "Saved image for data\\PCAPS\\QAKBOT\\240528-b6nm8abd36.behavioral2.pcapng to z-order\\train\\QAKBOT\\240528-b6nm8abd36.behavioral2.pcapng.png\n",
      "Skipping data\\PCAPS\\QAKBOT\\240530-l6jpdadh3x.behavioral1.pcapng as it is smaller than 2KB\n",
      "Saved image for data\\PCAPS\\QAKBOT\\240530-l6jpdadh3x.behavioral2.pcapng to z-order\\train\\QAKBOT\\240530-l6jpdadh3x.behavioral2.pcapng.png\n",
      "Skipping data\\PCAPS\\QAKBOT\\240531-3skg7aaa6v.behavioral1.pcapng as it is smaller than 2KB\n",
      "Saved image for data\\PCAPS\\QAKBOT\\240531-3skg7aaa6v.behavioral2.pcapng to z-order\\train\\QAKBOT\\240531-3skg7aaa6v.behavioral2.pcapng.png\n",
      "Skipping data\\PCAPS\\QAKBOT\\240531-md41aaee6y.behavioral1.pcapng as it is smaller than 2KB\n"
     ]
    },
    {
     "name": "stderr",
     "output_type": "stream",
     "text": [
      "WARNING: PcapNg: TLS Key Log available, but the TLS layer is not loaded! Scapy won't be able to decrypt the packets.\n"
     ]
    },
    {
     "name": "stdout",
     "output_type": "stream",
     "text": [
      "Saved image for data\\PCAPS\\QAKBOT\\240531-md41aaee6y.behavioral2.pcapng to z-order\\train\\QAKBOT\\240531-md41aaee6y.behavioral2.pcapng.png\n",
      "Skipping data\\PCAPS\\QAKBOT\\240601-jrnnnsef3z.behavioral1.pcapng as it is smaller than 2KB\n"
     ]
    },
    {
     "name": "stderr",
     "output_type": "stream",
     "text": [
      "WARNING: PcapNg: TLS Key Log available, but the TLS layer is not loaded! Scapy won't be able to decrypt the packets.\n"
     ]
    },
    {
     "name": "stdout",
     "output_type": "stream",
     "text": [
      "Saved image for data\\PCAPS\\QAKBOT\\240601-jrnnnsef3z.behavioral2.pcapng to z-order\\train\\QAKBOT\\240601-jrnnnsef3z.behavioral2.pcapng.png\n",
      "Skipping data\\PCAPS\\QAKBOT\\240601-lg1xcshf47.behavioral1.pcapng as it is smaller than 2KB\n"
     ]
    },
    {
     "name": "stderr",
     "output_type": "stream",
     "text": [
      "WARNING: more PcapNg: TLS Key Log available, but the TLS layer is not loaded! Scapy won't be able to decrypt the packets.\n"
     ]
    },
    {
     "name": "stdout",
     "output_type": "stream",
     "text": [
      "Saved image for data\\PCAPS\\QAKBOT\\240601-lg1xcshf47.behavioral2.pcapng to z-order\\train\\QAKBOT\\240601-lg1xcshf47.behavioral2.pcapng.png\n",
      "Skipping data\\PCAPS\\QAKBOT\\240602-mvq5raah6t.behavioral1.pcapng as it is smaller than 2KB\n",
      "Saved image for data\\PCAPS\\QAKBOT\\240602-mvq5raah6t.behavioral2.pcapng to z-order\\train\\QAKBOT\\240602-mvq5raah6t.behavioral2.pcapng.png\n",
      "Skipping data\\PCAPS\\QAKBOT\\240604-vjfhwaea43.behavioral1.pcapng as it is smaller than 2KB\n",
      "Saved image for data\\PCAPS\\QAKBOT\\240604-vjfhwaea43.behavioral2.pcapng to z-order\\train\\QAKBOT\\240604-vjfhwaea43.behavioral2.pcapng.png\n",
      "Skipping data\\PCAPS\\QAKBOT\\240604-vt7p4sec88.behavioral1.pcapng as it is smaller than 2KB\n",
      "Saved image for data\\PCAPS\\QAKBOT\\240604-vt7p4sec88.behavioral2.pcapng to z-order\\train\\QAKBOT\\240604-vt7p4sec88.behavioral2.pcapng.png\n",
      "Skipping data\\PCAPS\\QAKBOT\\240605-bcsebahc7s.behavioral1.pcapng as it is smaller than 2KB\n",
      "Saved image for data\\PCAPS\\QAKBOT\\240605-bcsebahc7s.behavioral2.pcapng to z-order\\train\\QAKBOT\\240605-bcsebahc7s.behavioral2.pcapng.png\n",
      "Skipping data\\PCAPS\\QAKBOT\\240605-f3vpksfc5x.behavioral1.pcapng as it is smaller than 2KB\n",
      "Saved image for data\\PCAPS\\QAKBOT\\240605-f3vpksfc5x.behavioral2.pcapng to z-order\\train\\QAKBOT\\240605-f3vpksfc5x.behavioral2.pcapng.png\n",
      "Skipping data\\PCAPS\\QAKBOT\\240605-jlcn8aag75.behavioral1.pcapng as it is smaller than 2KB\n",
      "Saved image for data\\PCAPS\\QAKBOT\\240605-jlcn8aag75.behavioral2.pcapng to z-order\\train\\QAKBOT\\240605-jlcn8aag75.behavioral2.pcapng.png\n",
      "Saved image for data\\PCAPS\\QNODESERVICE\\220521-bebvcabgc9.behavioral1.pcapng to z-order\\train\\QNODESERVICE\\220521-bebvcabgc9.behavioral1.pcapng.png\n"
     ]
    },
    {
     "name": "stderr",
     "output_type": "stream",
     "text": [
      "WARNING: PcapNg: TLS Key Log available, but the TLS layer is not loaded! Scapy won't be able to decrypt the packets.\n"
     ]
    },
    {
     "name": "stdout",
     "output_type": "stream",
     "text": [
      "Saved image for data\\PCAPS\\QNODESERVICE\\220521-bebvcabgc9.behavioral2.pcapng to z-order\\train\\QNODESERVICE\\220521-bebvcabgc9.behavioral2.pcapng.png\n"
     ]
    },
    {
     "name": "stderr",
     "output_type": "stream",
     "text": [
      "WARNING: PcapNg: TLS Key Log available, but the TLS layer is not loaded! Scapy won't be able to decrypt the packets.\n"
     ]
    },
    {
     "name": "stdout",
     "output_type": "stream",
     "text": [
      "Saved image for data\\PCAPS\\QNODESERVICE\\220521-bednyaegel.behavioral1.pcapng to z-order\\train\\QNODESERVICE\\220521-bednyaegel.behavioral1.pcapng.png\n"
     ]
    },
    {
     "name": "stderr",
     "output_type": "stream",
     "text": [
      "WARNING: PcapNg: TLS Key Log available, but the TLS layer is not loaded! Scapy won't be able to decrypt the packets.\n"
     ]
    },
    {
     "name": "stdout",
     "output_type": "stream",
     "text": [
      "Saved image for data\\PCAPS\\QNODESERVICE\\220521-bednyaegel.behavioral2.pcapng to z-order\\train\\QNODESERVICE\\220521-bednyaegel.behavioral2.pcapng.png\n"
     ]
    },
    {
     "name": "stderr",
     "output_type": "stream",
     "text": [
      "WARNING: PcapNg: TLS Key Log available, but the TLS layer is not loaded! Scapy won't be able to decrypt the packets.\n"
     ]
    },
    {
     "name": "stdout",
     "output_type": "stream",
     "text": [
      "Saved image for data\\PCAPS\\QNODESERVICE\\220521-behynabgd2.behavioral1.pcapng to z-order\\train\\QNODESERVICE\\220521-behynabgd2.behavioral1.pcapng.png\n"
     ]
    },
    {
     "name": "stderr",
     "output_type": "stream",
     "text": [
      "WARNING: PcapNg: TLS Key Log available, but the TLS layer is not loaded! Scapy won't be able to decrypt the packets.\n"
     ]
    },
    {
     "name": "stdout",
     "output_type": "stream",
     "text": [
      "Saved image for data\\PCAPS\\QNODESERVICE\\220521-behynabgd2.behavioral2.pcapng to z-order\\train\\QNODESERVICE\\220521-behynabgd2.behavioral2.pcapng.png\n"
     ]
    },
    {
     "name": "stderr",
     "output_type": "stream",
     "text": [
      "WARNING: PcapNg: TLS Key Log available, but the TLS layer is not loaded! Scapy won't be able to decrypt the packets.\n"
     ]
    },
    {
     "name": "stdout",
     "output_type": "stream",
     "text": [
      "Saved image for data\\PCAPS\\QNODESERVICE\\220521-bfmy1abgf7.behavioral1.pcapng to z-order\\train\\QNODESERVICE\\220521-bfmy1abgf7.behavioral1.pcapng.png\n"
     ]
    },
    {
     "name": "stderr",
     "output_type": "stream",
     "text": [
      "WARNING: PcapNg: TLS Key Log available, but the TLS layer is not loaded! Scapy won't be able to decrypt the packets.\n"
     ]
    },
    {
     "name": "stdout",
     "output_type": "stream",
     "text": [
      "Saved image for data\\PCAPS\\QNODESERVICE\\220521-bfmy1abgf7.behavioral2.pcapng to z-order\\train\\QNODESERVICE\\220521-bfmy1abgf7.behavioral2.pcapng.png\n"
     ]
    },
    {
     "name": "stderr",
     "output_type": "stream",
     "text": [
      "WARNING: PcapNg: TLS Key Log available, but the TLS layer is not loaded! Scapy won't be able to decrypt the packets.\n"
     ]
    },
    {
     "name": "stdout",
     "output_type": "stream",
     "text": [
      "Saved image for data\\PCAPS\\QNODESERVICE\\220521-bfst9aeggq.behavioral1.pcapng to z-order\\train\\QNODESERVICE\\220521-bfst9aeggq.behavioral1.pcapng.png\n"
     ]
    },
    {
     "name": "stderr",
     "output_type": "stream",
     "text": [
      "WARNING: PcapNg: TLS Key Log available, but the TLS layer is not loaded! Scapy won't be able to decrypt the packets.\n"
     ]
    },
    {
     "name": "stdout",
     "output_type": "stream",
     "text": [
      "Saved image for data\\PCAPS\\QNODESERVICE\\220521-bfst9aeggq.behavioral2.pcapng to z-order\\train\\QNODESERVICE\\220521-bfst9aeggq.behavioral2.pcapng.png\n"
     ]
    },
    {
     "name": "stderr",
     "output_type": "stream",
     "text": [
      "WARNING: PcapNg: TLS Key Log available, but the TLS layer is not loaded! Scapy won't be able to decrypt the packets.\n"
     ]
    },
    {
     "name": "stdout",
     "output_type": "stream",
     "text": [
      "Saved image for data\\PCAPS\\QNODESERVICE\\220521-bft3babgg2.behavioral1.pcapng to z-order\\train\\QNODESERVICE\\220521-bft3babgg2.behavioral1.pcapng.png\n"
     ]
    },
    {
     "name": "stderr",
     "output_type": "stream",
     "text": [
      "WARNING: PcapNg: TLS Key Log available, but the TLS layer is not loaded! Scapy won't be able to decrypt the packets.\n"
     ]
    },
    {
     "name": "stdout",
     "output_type": "stream",
     "text": [
      "Saved image for data\\PCAPS\\QNODESERVICE\\220521-bft3babgg2.behavioral2.pcapng to z-order\\train\\QNODESERVICE\\220521-bft3babgg2.behavioral2.pcapng.png\n"
     ]
    },
    {
     "name": "stderr",
     "output_type": "stream",
     "text": [
      "WARNING: PcapNg: TLS Key Log available, but the TLS layer is not loaded! Scapy won't be able to decrypt the packets.\n"
     ]
    },
    {
     "name": "stdout",
     "output_type": "stream",
     "text": [
      "Saved image for data\\PCAPS\\QNODESERVICE\\220521-bga1tseghr.behavioral1.pcapng to z-order\\train\\QNODESERVICE\\220521-bga1tseghr.behavioral1.pcapng.png\n"
     ]
    },
    {
     "name": "stderr",
     "output_type": "stream",
     "text": [
      "WARNING: PcapNg: TLS Key Log available, but the TLS layer is not loaded! Scapy won't be able to decrypt the packets.\n"
     ]
    },
    {
     "name": "stdout",
     "output_type": "stream",
     "text": [
      "Saved image for data\\PCAPS\\QNODESERVICE\\220521-bga1tseghr.behavioral2.pcapng to z-order\\train\\QNODESERVICE\\220521-bga1tseghr.behavioral2.pcapng.png\n"
     ]
    },
    {
     "name": "stderr",
     "output_type": "stream",
     "text": [
      "WARNING: PcapNg: TLS Key Log available, but the TLS layer is not loaded! Scapy won't be able to decrypt the packets.\n"
     ]
    },
    {
     "name": "stdout",
     "output_type": "stream",
     "text": [
      "Saved image for data\\PCAPS\\QNODESERVICE\\220521-bgb8wsehaj.behavioral1.pcapng to z-order\\train\\QNODESERVICE\\220521-bgb8wsehaj.behavioral1.pcapng.png\n"
     ]
    },
    {
     "name": "stderr",
     "output_type": "stream",
     "text": [
      "WARNING: PcapNg: TLS Key Log available, but the TLS layer is not loaded! Scapy won't be able to decrypt the packets.\n"
     ]
    },
    {
     "name": "stdout",
     "output_type": "stream",
     "text": [
      "Saved image for data\\PCAPS\\QNODESERVICE\\220521-bgb8wsehaj.behavioral2.pcapng to z-order\\train\\QNODESERVICE\\220521-bgb8wsehaj.behavioral2.pcapng.png\n"
     ]
    },
    {
     "name": "stderr",
     "output_type": "stream",
     "text": [
      "WARNING: PcapNg: TLS Key Log available, but the TLS layer is not loaded! Scapy won't be able to decrypt the packets.\n"
     ]
    },
    {
     "name": "stdout",
     "output_type": "stream",
     "text": [
      "Saved image for data\\PCAPS\\QNODESERVICE\\220521-bgn8fsehaq.behavioral1.pcapng to z-order\\train\\QNODESERVICE\\220521-bgn8fsehaq.behavioral1.pcapng.png\n"
     ]
    },
    {
     "name": "stderr",
     "output_type": "stream",
     "text": [
      "WARNING: PcapNg: TLS Key Log available, but the TLS layer is not loaded! Scapy won't be able to decrypt the packets.\n"
     ]
    },
    {
     "name": "stdout",
     "output_type": "stream",
     "text": [
      "Saved image for data\\PCAPS\\QNODESERVICE\\220521-bgn8fsehaq.behavioral2.pcapng to z-order\\train\\QNODESERVICE\\220521-bgn8fsehaq.behavioral2.pcapng.png\n"
     ]
    },
    {
     "name": "stderr",
     "output_type": "stream",
     "text": [
      "WARNING: PcapNg: TLS Key Log available, but the TLS layer is not loaded! Scapy won't be able to decrypt the packets.\n"
     ]
    },
    {
     "name": "stdout",
     "output_type": "stream",
     "text": [
      "Saved image for data\\PCAPS\\QNODESERVICE\\220521-bgqraabgh6.behavioral1.pcapng to z-order\\train\\QNODESERVICE\\220521-bgqraabgh6.behavioral1.pcapng.png\n"
     ]
    },
    {
     "name": "stderr",
     "output_type": "stream",
     "text": [
      "WARNING: PcapNg: TLS Key Log available, but the TLS layer is not loaded! Scapy won't be able to decrypt the packets.\n"
     ]
    },
    {
     "name": "stdout",
     "output_type": "stream",
     "text": [
      "Saved image for data\\PCAPS\\QNODESERVICE\\220521-bgqraabgh6.behavioral2.pcapng to z-order\\train\\QNODESERVICE\\220521-bgqraabgh6.behavioral2.pcapng.png\n"
     ]
    },
    {
     "name": "stderr",
     "output_type": "stream",
     "text": [
      "WARNING: PcapNg: TLS Key Log available, but the TLS layer is not loaded! Scapy won't be able to decrypt the packets.\n"
     ]
    },
    {
     "name": "stdout",
     "output_type": "stream",
     "text": [
      "Saved image for data\\PCAPS\\QNODESERVICE\\220521-bgyf5abha3.behavioral1.pcapng to z-order\\train\\QNODESERVICE\\220521-bgyf5abha3.behavioral1.pcapng.png\n"
     ]
    },
    {
     "name": "stderr",
     "output_type": "stream",
     "text": [
      "WARNING: PcapNg: TLS Key Log available, but the TLS layer is not loaded! Scapy won't be able to decrypt the packets.\n"
     ]
    },
    {
     "name": "stdout",
     "output_type": "stream",
     "text": [
      "Saved image for data\\PCAPS\\QNODESERVICE\\220521-bgyf5abha3.behavioral2.pcapng to z-order\\train\\QNODESERVICE\\220521-bgyf5abha3.behavioral2.pcapng.png\n"
     ]
    },
    {
     "name": "stderr",
     "output_type": "stream",
     "text": [
      "WARNING: PcapNg: TLS Key Log available, but the TLS layer is not loaded! Scapy won't be able to decrypt the packets.\n"
     ]
    },
    {
     "name": "stdout",
     "output_type": "stream",
     "text": [
      "Saved image for data\\PCAPS\\QNODESERVICE\\220521-nh8ppsdgd7.behavioral1.pcapng to z-order\\train\\QNODESERVICE\\220521-nh8ppsdgd7.behavioral1.pcapng.png\n"
     ]
    },
    {
     "name": "stderr",
     "output_type": "stream",
     "text": [
      "WARNING: PcapNg: TLS Key Log available, but the TLS layer is not loaded! Scapy won't be able to decrypt the packets.\n"
     ]
    },
    {
     "name": "stdout",
     "output_type": "stream",
     "text": [
      "Saved image for data\\PCAPS\\QNODESERVICE\\220521-nh8ppsdgd7.behavioral2.pcapng to z-order\\train\\QNODESERVICE\\220521-nh8ppsdgd7.behavioral2.pcapng.png\n"
     ]
    },
    {
     "name": "stderr",
     "output_type": "stream",
     "text": [
      "WARNING: PcapNg: TLS Key Log available, but the TLS layer is not loaded! Scapy won't be able to decrypt the packets.\n"
     ]
    },
    {
     "name": "stdout",
     "output_type": "stream",
     "text": [
      "Saved image for data\\PCAPS\\QNODESERVICE\\220521-nj36lsdgf2.behavioral1.pcapng to z-order\\train\\QNODESERVICE\\220521-nj36lsdgf2.behavioral1.pcapng.png\n"
     ]
    },
    {
     "name": "stderr",
     "output_type": "stream",
     "text": [
      "WARNING: PcapNg: TLS Key Log available, but the TLS layer is not loaded! Scapy won't be able to decrypt the packets.\n"
     ]
    },
    {
     "name": "stdout",
     "output_type": "stream",
     "text": [
      "Saved image for data\\PCAPS\\QNODESERVICE\\220521-nj36lsdgf2.behavioral2.pcapng to z-order\\train\\QNODESERVICE\\220521-nj36lsdgf2.behavioral2.pcapng.png\n"
     ]
    },
    {
     "name": "stderr",
     "output_type": "stream",
     "text": [
      "WARNING: PcapNg: TLS Key Log available, but the TLS layer is not loaded! Scapy won't be able to decrypt the packets.\n"
     ]
    },
    {
     "name": "stdout",
     "output_type": "stream",
     "text": [
      "Saved image for data\\PCAPS\\QNODESERVICE\\220521-nj8q4aghfr.behavioral1.pcapng to z-order\\train\\QNODESERVICE\\220521-nj8q4aghfr.behavioral1.pcapng.png\n"
     ]
    },
    {
     "name": "stderr",
     "output_type": "stream",
     "text": [
      "WARNING: PcapNg: TLS Key Log available, but the TLS layer is not loaded! Scapy won't be able to decrypt the packets.\n"
     ]
    },
    {
     "name": "stdout",
     "output_type": "stream",
     "text": [
      "Saved image for data\\PCAPS\\QNODESERVICE\\220521-nj8q4aghfr.behavioral2.pcapng to z-order\\train\\QNODESERVICE\\220521-nj8q4aghfr.behavioral2.pcapng.png\n"
     ]
    },
    {
     "name": "stderr",
     "output_type": "stream",
     "text": [
      "WARNING: PcapNg: TLS Key Log available, but the TLS layer is not loaded! Scapy won't be able to decrypt the packets.\n"
     ]
    },
    {
     "name": "stdout",
     "output_type": "stream",
     "text": [
      "Saved image for data\\PCAPS\\QNODESERVICE\\220521-njbfladgd8.behavioral1.pcapng to z-order\\train\\QNODESERVICE\\220521-njbfladgd8.behavioral1.pcapng.png\n"
     ]
    },
    {
     "name": "stderr",
     "output_type": "stream",
     "text": [
      "WARNING: more PcapNg: TLS Key Log available, but the TLS layer is not loaded! Scapy won't be able to decrypt the packets.\n"
     ]
    },
    {
     "name": "stdout",
     "output_type": "stream",
     "text": [
      "Saved image for data\\PCAPS\\QNODESERVICE\\220521-njbfladgd8.behavioral2.pcapng to z-order\\train\\QNODESERVICE\\220521-njbfladgd8.behavioral2.pcapng.png\n"
     ]
    },
    {
     "name": "stderr",
     "output_type": "stream",
     "text": [
      "WARNING: PcapNg: TLS Key Log available, but the TLS layer is not loaded! Scapy won't be able to decrypt the packets.\n"
     ]
    },
    {
     "name": "stdout",
     "output_type": "stream",
     "text": [
      "Saved image for data\\PCAPS\\QNODESERVICE\\220521-nk9d1shaaj.behavioral1.pcapng to z-order\\train\\QNODESERVICE\\220521-nk9d1shaaj.behavioral1.pcapng.png\n"
     ]
    },
    {
     "name": "stderr",
     "output_type": "stream",
     "text": [
      "WARNING: PcapNg: TLS Key Log available, but the TLS layer is not loaded! Scapy won't be able to decrypt the packets.\n"
     ]
    },
    {
     "name": "stdout",
     "output_type": "stream",
     "text": [
      "Saved image for data\\PCAPS\\QNODESERVICE\\220521-nk9d1shaaj.behavioral2.pcapng to z-order\\train\\QNODESERVICE\\220521-nk9d1shaaj.behavioral2.pcapng.png\n"
     ]
    },
    {
     "name": "stderr",
     "output_type": "stream",
     "text": [
      "WARNING: PcapNg: TLS Key Log available, but the TLS layer is not loaded! Scapy won't be able to decrypt the packets.\n"
     ]
    },
    {
     "name": "stdout",
     "output_type": "stream",
     "text": [
      "Saved image for data\\PCAPS\\QNODESERVICE\\220521-nlb5xahaak.behavioral1.pcapng to z-order\\train\\QNODESERVICE\\220521-nlb5xahaak.behavioral1.pcapng.png\n"
     ]
    },
    {
     "name": "stderr",
     "output_type": "stream",
     "text": [
      "WARNING: PcapNg: TLS Key Log available, but the TLS layer is not loaded! Scapy won't be able to decrypt the packets.\n"
     ]
    },
    {
     "name": "stdout",
     "output_type": "stream",
     "text": [
      "Saved image for data\\PCAPS\\QNODESERVICE\\220521-nlb5xahaak.behavioral2.pcapng to z-order\\train\\QNODESERVICE\\220521-nlb5xahaak.behavioral2.pcapng.png\n"
     ]
    },
    {
     "name": "stderr",
     "output_type": "stream",
     "text": [
      "WARNING: PcapNg: TLS Key Log available, but the TLS layer is not loaded! Scapy won't be able to decrypt the packets.\n"
     ]
    },
    {
     "name": "stdout",
     "output_type": "stream",
     "text": [
      "Saved image for data\\PCAPS\\QNODESERVICE\\220521-nldzhadha2.behavioral1.pcapng to z-order\\train\\QNODESERVICE\\220521-nldzhadha2.behavioral1.pcapng.png\n"
     ]
    },
    {
     "name": "stderr",
     "output_type": "stream",
     "text": [
      "WARNING: PcapNg: TLS Key Log available, but the TLS layer is not loaded! Scapy won't be able to decrypt the packets.\n"
     ]
    },
    {
     "name": "stdout",
     "output_type": "stream",
     "text": [
      "Saved image for data\\PCAPS\\QNODESERVICE\\220521-nldzhadha2.behavioral2.pcapng to z-order\\train\\QNODESERVICE\\220521-nldzhadha2.behavioral2.pcapng.png\n"
     ]
    },
    {
     "name": "stderr",
     "output_type": "stream",
     "text": [
      "WARNING: PcapNg: TLS Key Log available, but the TLS layer is not loaded! Scapy won't be able to decrypt the packets.\n"
     ]
    },
    {
     "name": "stdout",
     "output_type": "stream",
     "text": [
      "Saved image for data\\PCAPS\\QNODESERVICE\\220531-abew6abfbp.behavioral1.pcapng to z-order\\train\\QNODESERVICE\\220531-abew6abfbp.behavioral1.pcapng.png\n"
     ]
    },
    {
     "name": "stderr",
     "output_type": "stream",
     "text": [
      "WARNING: PcapNg: TLS Key Log available, but the TLS layer is not loaded! Scapy won't be able to decrypt the packets.\n"
     ]
    },
    {
     "name": "stdout",
     "output_type": "stream",
     "text": [
      "Saved image for data\\PCAPS\\QNODESERVICE\\220531-abew6abfbp.behavioral2.pcapng to z-order\\train\\QNODESERVICE\\220531-abew6abfbp.behavioral2.pcapng.png\n"
     ]
    },
    {
     "name": "stderr",
     "output_type": "stream",
     "text": [
      "WARNING: PcapNg: TLS Key Log available, but the TLS layer is not loaded! Scapy won't be able to decrypt the packets.\n"
     ]
    },
    {
     "name": "stdout",
     "output_type": "stream",
     "text": [
      "Saved image for data\\PCAPS\\QNODESERVICE\\240308-xkbbnaea68.behavioral1.pcapng to z-order\\train\\QNODESERVICE\\240308-xkbbnaea68.behavioral1.pcapng.png\n",
      "Skipping data\\PCAPS\\QNODESERVICE\\240308-xkbbnaea68.behavioral2.pcapng as it is smaller than 2KB\n"
     ]
    },
    {
     "name": "stderr",
     "output_type": "stream",
     "text": [
      "WARNING: PcapNg: TLS Key Log available, but the TLS layer is not loaded! Scapy won't be able to decrypt the packets.\n"
     ]
    },
    {
     "name": "stdout",
     "output_type": "stream",
     "text": [
      "Saved image for data\\PCAPS\\QNODESERVICE\\240329-1mbxrabc84.behavioral1.pcapng to z-order\\train\\QNODESERVICE\\240329-1mbxrabc84.behavioral1.pcapng.png\n"
     ]
    },
    {
     "name": "stderr",
     "output_type": "stream",
     "text": [
      "WARNING: PcapNg: TLS Key Log available, but the TLS layer is not loaded! Scapy won't be able to decrypt the packets.\n"
     ]
    },
    {
     "name": "stdout",
     "output_type": "stream",
     "text": [
      "Saved image for data\\PCAPS\\QNODESERVICE\\240329-1mbxrabc84.behavioral2.pcapng to z-order\\train\\QNODESERVICE\\240329-1mbxrabc84.behavioral2.pcapng.png\n"
     ]
    },
    {
     "name": "stderr",
     "output_type": "stream",
     "text": [
      "WARNING: PcapNg: TLS Key Log available, but the TLS layer is not loaded! Scapy won't be able to decrypt the packets.\n"
     ]
    },
    {
     "name": "stdout",
     "output_type": "stream",
     "text": [
      "Saved image for data\\PCAPS\\QNODESERVICE\\240506-wvw6fagd66.behavioral1.pcapng to z-order\\train\\QNODESERVICE\\240506-wvw6fagd66.behavioral1.pcapng.png\n"
     ]
    },
    {
     "name": "stderr",
     "output_type": "stream",
     "text": [
      "WARNING: PcapNg: TLS Key Log available, but the TLS layer is not loaded! Scapy won't be able to decrypt the packets.\n"
     ]
    },
    {
     "name": "stdout",
     "output_type": "stream",
     "text": [
      "Saved image for data\\PCAPS\\QNODESERVICE\\240506-wvw6fagd66.behavioral2.pcapng to z-order\\train\\QNODESERVICE\\240506-wvw6fagd66.behavioral2.pcapng.png\n",
      "Skipping data\\PCAPS\\QNODESERVICE\\240512-nr8fasdc2s.behavioral1.pcapng as it is smaller than 2KB\n"
     ]
    },
    {
     "name": "stderr",
     "output_type": "stream",
     "text": [
      "WARNING: PcapNg: TLS Key Log available, but the TLS layer is not loaded! Scapy won't be able to decrypt the packets.\n"
     ]
    },
    {
     "name": "stdout",
     "output_type": "stream",
     "text": [
      "Saved image for data\\PCAPS\\QNODESERVICE\\240512-nr8fasdc2s.behavioral2.pcapng to z-order\\train\\QNODESERVICE\\240512-nr8fasdc2s.behavioral2.pcapng.png\n",
      "Skipping data\\PCAPS\\QNODESERVICE\\240517-jw54hsgh82.behavioral1.pcapng as it is smaller than 2KB\n"
     ]
    },
    {
     "name": "stderr",
     "output_type": "stream",
     "text": [
      "WARNING: PcapNg: TLS Key Log available, but the TLS layer is not loaded! Scapy won't be able to decrypt the packets.\n"
     ]
    },
    {
     "name": "stdout",
     "output_type": "stream",
     "text": [
      "Saved image for data\\PCAPS\\QNODESERVICE\\240517-jw54hsgh82.behavioral2.pcapng to z-order\\train\\QNODESERVICE\\240517-jw54hsgh82.behavioral2.pcapng.png\n",
      "Skipping data\\PCAPS\\QNODESERVICE\\240519-beek8sab78.behavioral1.pcapng as it is smaller than 2KB\n"
     ]
    },
    {
     "name": "stderr",
     "output_type": "stream",
     "text": [
      "WARNING: PcapNg: TLS Key Log available, but the TLS layer is not loaded! Scapy won't be able to decrypt the packets.\n"
     ]
    },
    {
     "name": "stdout",
     "output_type": "stream",
     "text": [
      "Saved image for data\\PCAPS\\QNODESERVICE\\240519-beek8sab78.behavioral2.pcapng to z-order\\train\\QNODESERVICE\\240519-beek8sab78.behavioral2.pcapng.png\n",
      "Skipping data\\PCAPS\\QNODESERVICE\\240525-rq3efaff41.behavioral1.pcapng as it is smaller than 2KB\n"
     ]
    },
    {
     "name": "stderr",
     "output_type": "stream",
     "text": [
      "WARNING: PcapNg: TLS Key Log available, but the TLS layer is not loaded! Scapy won't be able to decrypt the packets.\n"
     ]
    },
    {
     "name": "stdout",
     "output_type": "stream",
     "text": [
      "Saved image for data\\PCAPS\\QNODESERVICE\\240525-rq3efaff41.behavioral2.pcapng to z-order\\train\\QNODESERVICE\\240525-rq3efaff41.behavioral2.pcapng.png\n"
     ]
    },
    {
     "name": "stderr",
     "output_type": "stream",
     "text": [
      "WARNING: PcapNg: TLS Key Log available, but the TLS layer is not loaded! Scapy won't be able to decrypt the packets.\n"
     ]
    },
    {
     "name": "stdout",
     "output_type": "stream",
     "text": [
      "Saved image for data\\PCAPS\\QNODESERVICE\\240531-mksktsfd54.behavioral1.pcapng to z-order\\train\\QNODESERVICE\\240531-mksktsfd54.behavioral1.pcapng.png\n"
     ]
    },
    {
     "name": "stderr",
     "output_type": "stream",
     "text": [
      "WARNING: PcapNg: TLS Key Log available, but the TLS layer is not loaded! Scapy won't be able to decrypt the packets.\n"
     ]
    },
    {
     "name": "stdout",
     "output_type": "stream",
     "text": [
      "Saved image for data\\PCAPS\\QNODESERVICE\\240531-mksktsfd54.behavioral2.pcapng to z-order\\train\\QNODESERVICE\\240531-mksktsfd54.behavioral2.pcapng.png\n"
     ]
    },
    {
     "name": "stderr",
     "output_type": "stream",
     "text": [
      "WARNING: PcapNg: TLS Key Log available, but the TLS layer is not loaded! Scapy won't be able to decrypt the packets.\n"
     ]
    },
    {
     "name": "stdout",
     "output_type": "stream",
     "text": [
      "Saved image for data\\PCAPS\\QNODESERVICE\\240531-p8r1bahe8s.behavioral1.pcapng to z-order\\train\\QNODESERVICE\\240531-p8r1bahe8s.behavioral1.pcapng.png\n"
     ]
    },
    {
     "name": "stderr",
     "output_type": "stream",
     "text": [
      "WARNING: PcapNg: TLS Key Log available, but the TLS layer is not loaded! Scapy won't be able to decrypt the packets.\n"
     ]
    },
    {
     "name": "stdout",
     "output_type": "stream",
     "text": [
      "Saved image for data\\PCAPS\\QNODESERVICE\\240531-p8r1bahe8s.behavioral2.pcapng to z-order\\train\\QNODESERVICE\\240531-p8r1bahe8s.behavioral2.pcapng.png\n"
     ]
    },
    {
     "name": "stderr",
     "output_type": "stream",
     "text": [
      "WARNING: PcapNg: TLS Key Log available, but the TLS layer is not loaded! Scapy won't be able to decrypt the packets.\n"
     ]
    },
    {
     "name": "stdout",
     "output_type": "stream",
     "text": [
      "Saved image for data\\PCAPS\\QNODESERVICE\\240605-egb5nsed58.behavioral1.pcapng to z-order\\train\\QNODESERVICE\\240605-egb5nsed58.behavioral1.pcapng.png\n"
     ]
    },
    {
     "name": "stderr",
     "output_type": "stream",
     "text": [
      "WARNING: PcapNg: TLS Key Log available, but the TLS layer is not loaded! Scapy won't be able to decrypt the packets.\n"
     ]
    },
    {
     "name": "stdout",
     "output_type": "stream",
     "text": [
      "Saved image for data\\PCAPS\\QNODESERVICE\\240605-egb5nsed58.behavioral2.pcapng to z-order\\train\\QNODESERVICE\\240605-egb5nsed58.behavioral2.pcapng.png\n"
     ]
    },
    {
     "name": "stderr",
     "output_type": "stream",
     "text": [
      "WARNING: more PcapNg: TLS Key Log available, but the TLS layer is not loaded! Scapy won't be able to decrypt the packets.\n"
     ]
    },
    {
     "name": "stdout",
     "output_type": "stream",
     "text": [
      "Saved image for data\\PCAPS\\RACCOON\\240507-1qp9jsce38.behavioral1.pcapng to z-order\\train\\RACCOON\\240507-1qp9jsce38.behavioral1.pcapng.png\n",
      "Saved image for data\\PCAPS\\RACCOON\\240507-1qp9jsce38.behavioral2.pcapng to z-order\\train\\RACCOON\\240507-1qp9jsce38.behavioral2.pcapng.png\n",
      "Saved image for data\\PCAPS\\RACCOON\\240507-gmmjpsfa44.behavioral1.pcapng to z-order\\train\\RACCOON\\240507-gmmjpsfa44.behavioral1.pcapng.png\n",
      "Saved image for data\\PCAPS\\RACCOON\\240507-gmmjpsfa44.behavioral2.pcapng to z-order\\train\\RACCOON\\240507-gmmjpsfa44.behavioral2.pcapng.png\n",
      "Saved image for data\\PCAPS\\RACCOON\\240507-zda4esee7s.behavioral1.pcapng to z-order\\train\\RACCOON\\240507-zda4esee7s.behavioral1.pcapng.png\n"
     ]
    },
    {
     "name": "stderr",
     "output_type": "stream",
     "text": [
      "WARNING: PcapNg: TLS Key Log available, but the TLS layer is not loaded! Scapy won't be able to decrypt the packets.\n"
     ]
    },
    {
     "name": "stdout",
     "output_type": "stream",
     "text": [
      "Saved image for data\\PCAPS\\RACCOON\\240507-zxekysfg5y.behavioral1.pcapng to z-order\\train\\RACCOON\\240507-zxekysfg5y.behavioral1.pcapng.png\n"
     ]
    },
    {
     "name": "stderr",
     "output_type": "stream",
     "text": [
      "WARNING: PcapNg: TLS Key Log available, but the TLS layer is not loaded! Scapy won't be able to decrypt the packets.\n"
     ]
    },
    {
     "name": "stdout",
     "output_type": "stream",
     "text": [
      "Saved image for data\\PCAPS\\RACCOON\\240509-cpzvlada3w.behavioral1.pcapng to z-order\\train\\RACCOON\\240509-cpzvlada3w.behavioral1.pcapng.png\n"
     ]
    },
    {
     "name": "stderr",
     "output_type": "stream",
     "text": [
      "WARNING: more PcapNg: TLS Key Log available, but the TLS layer is not loaded! Scapy won't be able to decrypt the packets.\n"
     ]
    },
    {
     "name": "stdout",
     "output_type": "stream",
     "text": [
      "Saved image for data\\PCAPS\\RACCOON\\240509-cpzvlada3w.behavioral2.pcapng to z-order\\train\\RACCOON\\240509-cpzvlada3w.behavioral2.pcapng.png\n",
      "Skipping data\\PCAPS\\RACCOON\\240510-tw1h5shh47.behavioral1.pcapng as it is smaller than 2KB\n",
      "Saved image for data\\PCAPS\\RACCOON\\240510-tw1h5shh47.behavioral2.pcapng to z-order\\train\\RACCOON\\240510-tw1h5shh47.behavioral2.pcapng.png\n",
      "Saved image for data\\PCAPS\\RACCOON\\240510-wdyypscg56.behavioral1.pcapng to z-order\\train\\RACCOON\\240510-wdyypscg56.behavioral1.pcapng.png\n",
      "Saved image for data\\PCAPS\\RACCOON\\240510-wdyypscg56.behavioral2.pcapng to z-order\\train\\RACCOON\\240510-wdyypscg56.behavioral2.pcapng.png\n",
      "Saved image for data\\PCAPS\\RACCOON\\240510-wpghssdd27.behavioral1.pcapng to z-order\\train\\RACCOON\\240510-wpghssdd27.behavioral1.pcapng.png\n",
      "Saved image for data\\PCAPS\\RACCOON\\240510-wpghssdd27.behavioral2.pcapng to z-order\\train\\RACCOON\\240510-wpghssdd27.behavioral2.pcapng.png\n",
      "Skipping data\\PCAPS\\RACCOON\\240510-xz9g1ada51.behavioral1.pcapng as it is smaller than 2KB\n",
      "Saved image for data\\PCAPS\\RACCOON\\240510-xz9g1ada51.behavioral2.pcapng to z-order\\train\\RACCOON\\240510-xz9g1ada51.behavioral2.pcapng.png\n",
      "Skipping data\\PCAPS\\RACCOON\\240512-vty3zafh5s.behavioral1.pcapng as it is smaller than 2KB\n",
      "Saved image for data\\PCAPS\\RACCOON\\240512-vty3zafh5s.behavioral2.pcapng to z-order\\train\\RACCOON\\240512-vty3zafh5s.behavioral2.pcapng.png\n",
      "Saved image for data\\PCAPS\\RACCOON\\240513-v6qblafe3y.behavioral1.pcapng to z-order\\train\\RACCOON\\240513-v6qblafe3y.behavioral1.pcapng.png\n",
      "Saved image for data\\PCAPS\\RACCOON\\240513-v6qblafe3y.behavioral2.pcapng to z-order\\train\\RACCOON\\240513-v6qblafe3y.behavioral2.pcapng.png\n",
      "Saved image for data\\PCAPS\\RACCOON\\240516-pjl3rscb8w.behavioral1.pcapng to z-order\\train\\RACCOON\\240516-pjl3rscb8w.behavioral1.pcapng.png\n",
      "Saved image for data\\PCAPS\\RACCOON\\240516-pjl3rscb8w.behavioral2.pcapng to z-order\\train\\RACCOON\\240516-pjl3rscb8w.behavioral2.pcapng.png\n",
      "Skipping data\\PCAPS\\RACCOON\\240516-vytn2sfd4v.behavioral1.pcapng as it is smaller than 2KB\n",
      "Saved image for data\\PCAPS\\RACCOON\\240516-vytn2sfd4v.behavioral2.pcapng to z-order\\train\\RACCOON\\240516-vytn2sfd4v.behavioral2.pcapng.png\n",
      "Skipping data\\PCAPS\\RACCOON\\240516-xkr96sbb6s.behavioral1.pcapng as it is smaller than 2KB\n",
      "Saved image for data\\PCAPS\\RACCOON\\240516-xkr96sbb6s.behavioral2.pcapng to z-order\\train\\RACCOON\\240516-xkr96sbb6s.behavioral2.pcapng.png\n",
      "Skipping data\\PCAPS\\RACCOON\\240518-fjsqwacf9t.behavioral1.pcapng as it is smaller than 2KB\n",
      "Saved image for data\\PCAPS\\RACCOON\\240518-fjsqwacf9t.behavioral2.pcapng to z-order\\train\\RACCOON\\240518-fjsqwacf9t.behavioral2.pcapng.png\n",
      "Saved image for data\\PCAPS\\RACCOON\\240518-n1t92aab97.behavioral1.pcapng to z-order\\train\\RACCOON\\240518-n1t92aab97.behavioral1.pcapng.png\n",
      "Saved image for data\\PCAPS\\RACCOON\\240518-n1t92aab97.behavioral2.pcapng to z-order\\train\\RACCOON\\240518-n1t92aab97.behavioral2.pcapng.png\n"
     ]
    },
    {
     "name": "stderr",
     "output_type": "stream",
     "text": [
      "WARNING: PcapNg: TLS Key Log available, but the TLS layer is not loaded! Scapy won't be able to decrypt the packets.\n"
     ]
    },
    {
     "name": "stdout",
     "output_type": "stream",
     "text": [
      "Saved image for data\\PCAPS\\RACCOON\\240520-cfq64afa6s.behavioral1.pcapng to z-order\\train\\RACCOON\\240520-cfq64afa6s.behavioral1.pcapng.png\n"
     ]
    },
    {
     "name": "stderr",
     "output_type": "stream",
     "text": [
      "WARNING: PcapNg: TLS Key Log available, but the TLS layer is not loaded! Scapy won't be able to decrypt the packets.\n"
     ]
    },
    {
     "name": "stdout",
     "output_type": "stream",
     "text": [
      "Saved image for data\\PCAPS\\RACCOON\\240520-cfq64afa6s.behavioral2.pcapng to z-order\\train\\RACCOON\\240520-cfq64afa6s.behavioral2.pcapng.png\n"
     ]
    },
    {
     "name": "stderr",
     "output_type": "stream",
     "text": [
      "WARNING: more PcapNg: TLS Key Log available, but the TLS layer is not loaded! Scapy won't be able to decrypt the packets.\n"
     ]
    },
    {
     "name": "stdout",
     "output_type": "stream",
     "text": [
      "Saved image for data\\PCAPS\\RACCOON\\240521-htjxtscd2x.behavioral1.pcapng to z-order\\train\\RACCOON\\240521-htjxtscd2x.behavioral1.pcapng.png\n",
      "Saved image for data\\PCAPS\\RACCOON\\240521-htjxtscd2x.behavioral2.pcapng to z-order\\train\\RACCOON\\240521-htjxtscd2x.behavioral2.pcapng.png\n",
      "Saved image for data\\PCAPS\\RACCOON\\240521-mcbx4shg72.behavioral1.pcapng to z-order\\train\\RACCOON\\240521-mcbx4shg72.behavioral1.pcapng.png\n",
      "Skipping data\\PCAPS\\RACCOON\\240523-lvyddscd9z.behavioral1.pcapng as it is smaller than 2KB\n"
     ]
    },
    {
     "name": "stderr",
     "output_type": "stream",
     "text": [
      "WARNING: PcapNg: TLS Key Log available, but the TLS layer is not loaded! Scapy won't be able to decrypt the packets.\n"
     ]
    },
    {
     "name": "stdout",
     "output_type": "stream",
     "text": [
      "Saved image for data\\PCAPS\\RACCOON\\240523-lvyddscd9z.behavioral2.pcapng to z-order\\train\\RACCOON\\240523-lvyddscd9z.behavioral2.pcapng.png\n",
      "Skipping data\\PCAPS\\RACCOON\\240523-n7wfnsfh5w.behavioral1.pcapng as it is smaller than 2KB\n"
     ]
    },
    {
     "name": "stderr",
     "output_type": "stream",
     "text": [
      "WARNING: PcapNg: TLS Key Log available, but the TLS layer is not loaded! Scapy won't be able to decrypt the packets.\n"
     ]
    },
    {
     "name": "stdout",
     "output_type": "stream",
     "text": [
      "Saved image for data\\PCAPS\\RACCOON\\240523-n7wfnsfh5w.behavioral2.pcapng to z-order\\train\\RACCOON\\240523-n7wfnsfh5w.behavioral2.pcapng.png\n"
     ]
    },
    {
     "name": "stderr",
     "output_type": "stream",
     "text": [
      "WARNING: more PcapNg: TLS Key Log available, but the TLS layer is not loaded! Scapy won't be able to decrypt the packets.\n"
     ]
    },
    {
     "name": "stdout",
     "output_type": "stream",
     "text": [
      "Saved image for data\\PCAPS\\RACCOON\\240523-zm5dmaga24.behavioral1.pcapng to z-order\\train\\RACCOON\\240523-zm5dmaga24.behavioral1.pcapng.png\n",
      "Saved image for data\\PCAPS\\RACCOON\\240523-zm5dmaga24.behavioral2.pcapng to z-order\\train\\RACCOON\\240523-zm5dmaga24.behavioral2.pcapng.png\n",
      "Saved image for data\\PCAPS\\RACCOON\\240524-bkdk5aga26.behavioral1.pcapng to z-order\\train\\RACCOON\\240524-bkdk5aga26.behavioral1.pcapng.png\n",
      "Saved image for data\\PCAPS\\RACCOON\\240524-l28gyadb9v.behavioral1.pcapng to z-order\\train\\RACCOON\\240524-l28gyadb9v.behavioral1.pcapng.png\n",
      "Saved image for data\\PCAPS\\RACCOON\\240524-l28gyadb9v.behavioral2.pcapng to z-order\\train\\RACCOON\\240524-l28gyadb9v.behavioral2.pcapng.png\n",
      "Saved image for data\\PCAPS\\RACCOON\\240524-llppwscf9w.behavioral1.pcapng to z-order\\train\\RACCOON\\240524-llppwscf9w.behavioral1.pcapng.png\n",
      "Saved image for data\\PCAPS\\RACCOON\\240524-llppwscf9w.behavioral2.pcapng to z-order\\train\\RACCOON\\240524-llppwscf9w.behavioral2.pcapng.png\n",
      "Skipping data\\PCAPS\\RACCOON\\240524-q53hbagd36.behavioral1.pcapng as it is smaller than 2KB\n",
      "Saved image for data\\PCAPS\\RACCOON\\240524-q53hbagd36.behavioral2.pcapng to z-order\\train\\RACCOON\\240524-q53hbagd36.behavioral2.pcapng.png\n",
      "Saved image for data\\PCAPS\\RACCOON\\240524-sydlqaba34.behavioral1.pcapng to z-order\\train\\RACCOON\\240524-sydlqaba34.behavioral1.pcapng.png\n",
      "Skipping data\\PCAPS\\RACCOON\\240524-tjsyjabd6t.behavioral1.pcapng as it is smaller than 2KB\n",
      "Saved image for data\\PCAPS\\RACCOON\\240524-tjsyjabd6t.behavioral2.pcapng to z-order\\train\\RACCOON\\240524-tjsyjabd6t.behavioral2.pcapng.png\n",
      "Skipping data\\PCAPS\\RACCOON\\240524-tnhclabh96.behavioral1.pcapng as it is smaller than 2KB\n"
     ]
    },
    {
     "name": "stderr",
     "output_type": "stream",
     "text": [
      "WARNING: PcapNg: TLS Key Log available, but the TLS layer is not loaded! Scapy won't be able to decrypt the packets.\n"
     ]
    },
    {
     "name": "stdout",
     "output_type": "stream",
     "text": [
      "Saved image for data\\PCAPS\\RACCOON\\240524-tnhclabh96.behavioral2.pcapng to z-order\\train\\RACCOON\\240524-tnhclabh96.behavioral2.pcapng.png\n",
      "Skipping data\\PCAPS\\RACCOON\\240524-xvd6asgb62.behavioral1.pcapng as it is smaller than 2KB\n"
     ]
    },
    {
     "name": "stderr",
     "output_type": "stream",
     "text": [
      "WARNING: PcapNg: TLS Key Log available, but the TLS layer is not loaded! Scapy won't be able to decrypt the packets.\n"
     ]
    },
    {
     "name": "stdout",
     "output_type": "stream",
     "text": [
      "Saved image for data\\PCAPS\\RACCOON\\240524-xvd6asgb62.behavioral2.pcapng to z-order\\train\\RACCOON\\240524-xvd6asgb62.behavioral2.pcapng.png\n"
     ]
    },
    {
     "name": "stderr",
     "output_type": "stream",
     "text": [
      "WARNING: more PcapNg: TLS Key Log available, but the TLS layer is not loaded! Scapy won't be able to decrypt the packets.\n"
     ]
    },
    {
     "name": "stdout",
     "output_type": "stream",
     "text": [
      "Saved image for data\\PCAPS\\RACCOON\\240525-xn36vaee8s.behavioral1.pcapng to z-order\\train\\RACCOON\\240525-xn36vaee8s.behavioral1.pcapng.png\n",
      "Saved image for data\\PCAPS\\RACCOON\\240525-xn36vaee8s.behavioral2.pcapng to z-order\\train\\RACCOON\\240525-xn36vaee8s.behavioral2.pcapng.png\n",
      "Skipping data\\PCAPS\\RACCOON\\240525-zz3essae5z.behavioral1.pcapng as it is smaller than 2KB\n",
      "Saved image for data\\PCAPS\\RACCOON\\240525-zz3essae5z.behavioral2.pcapng to z-order\\train\\RACCOON\\240525-zz3essae5z.behavioral2.pcapng.png\n",
      "Saved image for data\\PCAPS\\RACCOON\\240527-q5mrvsee91.behavioral1.pcapng to z-order\\train\\RACCOON\\240527-q5mrvsee91.behavioral1.pcapng.png\n",
      "Saved image for data\\PCAPS\\RACCOON\\240527-q5mrvsee91.behavioral2.pcapng to z-order\\train\\RACCOON\\240527-q5mrvsee91.behavioral2.pcapng.png\n",
      "Saved image for data\\PCAPS\\RACCOON\\240529-mt8cmscf99.behavioral1.pcapng to z-order\\train\\RACCOON\\240529-mt8cmscf99.behavioral1.pcapng.png\n",
      "Saved image for data\\PCAPS\\RACCOON\\240529-mt8cmscf99.behavioral2.pcapng to z-order\\train\\RACCOON\\240529-mt8cmscf99.behavioral2.pcapng.png\n",
      "Skipping data\\PCAPS\\RACCOON\\240529-mvvg6sca3x.behavioral1.pcapng as it is smaller than 2KB\n",
      "Saved image for data\\PCAPS\\RACCOON\\240529-mvvg6sca3x.behavioral2.pcapng to z-order\\train\\RACCOON\\240529-mvvg6sca3x.behavioral2.pcapng.png\n",
      "Saved image for data\\PCAPS\\RACCOON\\240530-cze8yacc39.behavioral1.pcapng to z-order\\train\\RACCOON\\240530-cze8yacc39.behavioral1.pcapng.png\n",
      "Saved image for data\\PCAPS\\RACCOON\\240530-cze8yacc39.behavioral2.pcapng to z-order\\train\\RACCOON\\240530-cze8yacc39.behavioral2.pcapng.png\n",
      "Saved image for data\\PCAPS\\RACCOON\\240531-hn8zrsae6w.behavioral1.pcapng to z-order\\train\\RACCOON\\240531-hn8zrsae6w.behavioral1.pcapng.png\n"
     ]
    },
    {
     "name": "stderr",
     "output_type": "stream",
     "text": [
      "WARNING: PcapNg: TLS Key Log available, but the TLS layer is not loaded! Scapy won't be able to decrypt the packets.\n"
     ]
    },
    {
     "name": "stdout",
     "output_type": "stream",
     "text": [
      "Saved image for data\\PCAPS\\RACCOON\\240601-y6dvcaeg32.behavioral1.pcapng to z-order\\train\\RACCOON\\240601-y6dvcaeg32.behavioral1.pcapng.png\n"
     ]
    },
    {
     "name": "stderr",
     "output_type": "stream",
     "text": [
      "WARNING: PcapNg: TLS Key Log available, but the TLS layer is not loaded! Scapy won't be able to decrypt the packets.\n"
     ]
    },
    {
     "name": "stdout",
     "output_type": "stream",
     "text": [
      "Saved image for data\\PCAPS\\RACCOON\\240601-y6dvcaeg32.behavioral2.pcapng to z-order\\train\\RACCOON\\240601-y6dvcaeg32.behavioral2.pcapng.png\n"
     ]
    },
    {
     "name": "stderr",
     "output_type": "stream",
     "text": [
      "WARNING: more PcapNg: TLS Key Log available, but the TLS layer is not loaded! Scapy won't be able to decrypt the packets.\n"
     ]
    },
    {
     "name": "stdout",
     "output_type": "stream",
     "text": [
      "Saved image for data\\PCAPS\\RACCOON\\240602-enyl9aad6y.behavioral1.pcapng to z-order\\train\\RACCOON\\240602-enyl9aad6y.behavioral1.pcapng.png\n",
      "Saved image for data\\PCAPS\\RACCOON\\240602-f5dtvada29.behavioral1.pcapng to z-order\\train\\RACCOON\\240602-f5dtvada29.behavioral1.pcapng.png\n",
      "Saved image for data\\PCAPS\\RACCOON\\240602-f5dtvada29.behavioral2.pcapng to z-order\\train\\RACCOON\\240602-f5dtvada29.behavioral2.pcapng.png\n",
      "Saved image for data\\PCAPS\\RACCOON\\240602-l17t1shh4v.behavioral1.pcapng to z-order\\train\\RACCOON\\240602-l17t1shh4v.behavioral1.pcapng.png\n",
      "Saved image for data\\PCAPS\\RACCOON\\240602-l17t1shh4v.behavioral2.pcapng to z-order\\train\\RACCOON\\240602-l17t1shh4v.behavioral2.pcapng.png\n",
      "Saved image for data\\PCAPS\\RACCOON\\240602-vb2fdahg47.behavioral1.pcapng to z-order\\train\\RACCOON\\240602-vb2fdahg47.behavioral1.pcapng.png\n",
      "Saved image for data\\PCAPS\\RACCOON\\240602-vb2fdahg47.behavioral2.pcapng to z-order\\train\\RACCOON\\240602-vb2fdahg47.behavioral2.pcapng.png\n",
      "Saved image for data\\PCAPS\\RACCOON\\240603-l1e41aag5t.behavioral1.pcapng to z-order\\train\\RACCOON\\240603-l1e41aag5t.behavioral1.pcapng.png\n",
      "Saved image for data\\PCAPS\\RACCOON\\240603-l1e41aag5t.behavioral2.pcapng to z-order\\train\\RACCOON\\240603-l1e41aag5t.behavioral2.pcapng.png\n",
      "Saved image for data\\PCAPS\\RACCOON\\240603-s419zacd46.behavioral1.pcapng to z-order\\train\\RACCOON\\240603-s419zacd46.behavioral1.pcapng.png\n",
      "Saved image for data\\PCAPS\\RACCOON\\240603-s419zacd46.behavioral2.pcapng to z-order\\train\\RACCOON\\240603-s419zacd46.behavioral2.pcapng.png\n",
      "Saved image for data\\PCAPS\\RACCOON\\240603-vcz9pscg8y.behavioral1.pcapng to z-order\\train\\RACCOON\\240603-vcz9pscg8y.behavioral1.pcapng.png\n",
      "Saved image for data\\PCAPS\\RACCOON\\240603-vcz9pscg8y.behavioral2.pcapng to z-order\\train\\RACCOON\\240603-vcz9pscg8y.behavioral2.pcapng.png\n",
      "Skipping data\\PCAPS\\RACCOON\\240604-bj9beagg28.behavioral1.pcapng as it is smaller than 2KB\n",
      "Saved image for data\\PCAPS\\RACCOON\\240604-bj9beagg28.behavioral2.pcapng to z-order\\train\\RACCOON\\240604-bj9beagg28.behavioral2.pcapng.png\n",
      "Saved image for data\\PCAPS\\RACCOON\\240605-trcxaabg5w.behavioral1.pcapng to z-order\\train\\RACCOON\\240605-trcxaabg5w.behavioral1.pcapng.png\n",
      "Saved image for data\\PCAPS\\RACCOON\\240605-trcxaabg5w.behavioral2.pcapng to z-order\\train\\RACCOON\\240605-trcxaabg5w.behavioral2.pcapng.png\n",
      "Saved image for data\\PCAPS\\RACCOON\\240610-adb82she88.behavioral1.pcapng to z-order\\train\\RACCOON\\240610-adb82she88.behavioral1.pcapng.png\n",
      "Saved image for data\\PCAPS\\RACCOON\\240610-adb82she88.behavioral2.pcapng to z-order\\train\\RACCOON\\240610-adb82she88.behavioral2.pcapng.png\n",
      "Saved image for data\\PCAPS\\REMCOS\\240609-2xjk1sgf87.behavioral1.pcapng to z-order\\train\\REMCOS\\240609-2xjk1sgf87.behavioral1.pcapng.png\n",
      "Saved image for data\\PCAPS\\REMCOS\\240609-wq58jsea77.behavioral1.pcapng to z-order\\train\\REMCOS\\240609-wq58jsea77.behavioral1.pcapng.png\n",
      "Saved image for data\\PCAPS\\REMCOS\\240609-yg1mtaeh63.behavioral1.pcapng to z-order\\train\\REMCOS\\240609-yg1mtaeh63.behavioral1.pcapng.png\n",
      "Saved image for data\\PCAPS\\REMCOS\\240609-yg1mtaeh63.behavioral2.pcapng to z-order\\train\\REMCOS\\240609-yg1mtaeh63.behavioral2.pcapng.png\n",
      "Saved image for data\\PCAPS\\REMCOS\\240610-a1trlsab53.behavioral1.pcapng to z-order\\train\\REMCOS\\240610-a1trlsab53.behavioral1.pcapng.png\n",
      "Saved image for data\\PCAPS\\REMCOS\\240610-a2yf7aab62.behavioral1.pcapng to z-order\\train\\REMCOS\\240610-a2yf7aab62.behavioral1.pcapng.png\n"
     ]
    },
    {
     "name": "stderr",
     "output_type": "stream",
     "text": [
      "WARNING: PcapNg: TLS Key Log available, but the TLS layer is not loaded! Scapy won't be able to decrypt the packets.\n"
     ]
    },
    {
     "name": "stdout",
     "output_type": "stream",
     "text": [
      "Saved image for data\\PCAPS\\REMCOS\\240610-a3hgcsab67.behavioral1.pcapng to z-order\\train\\REMCOS\\240610-a3hgcsab67.behavioral1.pcapng.png\n"
     ]
    },
    {
     "name": "stderr",
     "output_type": "stream",
     "text": [
      "WARNING: PcapNg: TLS Key Log available, but the TLS layer is not loaded! Scapy won't be able to decrypt the packets.\n"
     ]
    },
    {
     "name": "stdout",
     "output_type": "stream",
     "text": [
      "Saved image for data\\PCAPS\\REMCOS\\240610-a3hgcsab67.behavioral2.pcapng to z-order\\train\\REMCOS\\240610-a3hgcsab67.behavioral2.pcapng.png\n"
     ]
    },
    {
     "name": "stderr",
     "output_type": "stream",
     "text": [
      "WARNING: more PcapNg: TLS Key Log available, but the TLS layer is not loaded! Scapy won't be able to decrypt the packets.\n"
     ]
    },
    {
     "name": "stdout",
     "output_type": "stream",
     "text": [
      "Saved image for data\\PCAPS\\REMCOS\\240610-a7pfgaac32.behavioral1.pcapng to z-order\\train\\REMCOS\\240610-a7pfgaac32.behavioral1.pcapng.png\n",
      "Saved image for data\\PCAPS\\REMCOS\\240610-a7pfgaac32.behavioral2.pcapng to z-order\\train\\REMCOS\\240610-a7pfgaac32.behavioral2.pcapng.png\n",
      "Saved image for data\\PCAPS\\REMCOS\\240610-a7zw7sac37.behavioral1.pcapng to z-order\\train\\REMCOS\\240610-a7zw7sac37.behavioral1.pcapng.png\n",
      "Saved image for data\\PCAPS\\REMCOS\\240610-a9h2gaac68.behavioral1.pcapng to z-order\\train\\REMCOS\\240610-a9h2gaac68.behavioral1.pcapng.png\n",
      "Skipping data\\PCAPS\\REMCOS\\240610-afxmrsha2w.behavioral1.pcapng as it is smaller than 2KB\n",
      "Saved image for data\\PCAPS\\REMCOS\\240610-afxmrsha2w.behavioral2.pcapng to z-order\\train\\REMCOS\\240610-afxmrsha2w.behavioral2.pcapng.png\n",
      "Saved image for data\\PCAPS\\REMCOS\\240610-aqc14shh38.behavioral1.pcapng to z-order\\train\\REMCOS\\240610-aqc14shh38.behavioral1.pcapng.png\n",
      "Saved image for data\\PCAPS\\REMCOS\\240610-awfdesaa55.behavioral1.pcapng to z-order\\train\\REMCOS\\240610-awfdesaa55.behavioral1.pcapng.png\n",
      "Saved image for data\\PCAPS\\REMCOS\\240610-axnq7aaa83.behavioral1.pcapng to z-order\\train\\REMCOS\\240610-axnq7aaa83.behavioral1.pcapng.png\n",
      "Saved image for data\\PCAPS\\REMCOS\\240610-ayn4caaa98.behavioral1.pcapng to z-order\\train\\REMCOS\\240610-ayn4caaa98.behavioral1.pcapng.png\n",
      "Saved image for data\\PCAPS\\REMCOS\\240610-c2ncbsah6t.behavioral1.pcapng to z-order\\train\\REMCOS\\240610-c2ncbsah6t.behavioral1.pcapng.png\n",
      "Saved image for data\\PCAPS\\REMCOS\\240610-c2ncbsah6t.behavioral2.pcapng to z-order\\train\\REMCOS\\240610-c2ncbsah6t.behavioral2.pcapng.png\n",
      "Saved image for data\\PCAPS\\REMCOS\\240610-hmw9ksdd9v.behavioral1.pcapng to z-order\\train\\REMCOS\\240610-hmw9ksdd9v.behavioral1.pcapng.png\n",
      "Saved image for data\\PCAPS\\REMCOS\\240610-hmw9ksdd9v.behavioral2.pcapng to z-order\\train\\REMCOS\\240610-hmw9ksdd9v.behavioral2.pcapng.png\n",
      "Saved image for data\\PCAPS\\REMCOS\\240610-jxgsbaeb8y.behavioral1.pcapng to z-order\\train\\REMCOS\\240610-jxgsbaeb8y.behavioral1.pcapng.png\n"
     ]
    },
    {
     "name": "stderr",
     "output_type": "stream",
     "text": [
      "WARNING: PcapNg: TLS Key Log available, but the TLS layer is not loaded! Scapy won't be able to decrypt the packets.\n"
     ]
    },
    {
     "name": "stdout",
     "output_type": "stream",
     "text": [
      "Saved image for data\\PCAPS\\REMCOS\\240610-jxgsbaeb8y.behavioral2.pcapng to z-order\\train\\REMCOS\\240610-jxgsbaeb8y.behavioral2.pcapng.png\n"
     ]
    },
    {
     "name": "stderr",
     "output_type": "stream",
     "text": [
      "WARNING: PcapNg: TLS Key Log available, but the TLS layer is not loaded! Scapy won't be able to decrypt the packets.\n"
     ]
    },
    {
     "name": "stdout",
     "output_type": "stream",
     "text": [
      "Saved image for data\\PCAPS\\REMCOS\\240610-m4b27agd2y.behavioral1.pcapng to z-order\\train\\REMCOS\\240610-m4b27agd2y.behavioral1.pcapng.png\n"
     ]
    },
    {
     "name": "stderr",
     "output_type": "stream",
     "text": [
      "WARNING: more PcapNg: TLS Key Log available, but the TLS layer is not loaded! Scapy won't be able to decrypt the packets.\n"
     ]
    },
    {
     "name": "stdout",
     "output_type": "stream",
     "text": [
      "Saved image for data\\PCAPS\\REMCOS\\240610-m4b27agd2y.behavioral2.pcapng to z-order\\train\\REMCOS\\240610-m4b27agd2y.behavioral2.pcapng.png\n",
      "Saved image for data\\PCAPS\\REMCOS\\240610-m4ccysgd2z.behavioral1.pcapng to z-order\\train\\REMCOS\\240610-m4ccysgd2z.behavioral1.pcapng.png\n",
      "Saved image for data\\PCAPS\\REMCOS\\240610-m4ccysgd2z.behavioral2.pcapng to z-order\\train\\REMCOS\\240610-m4ccysgd2z.behavioral2.pcapng.png\n",
      "Saved image for data\\PCAPS\\REMCOS\\240610-naernahb75.behavioral1.pcapng to z-order\\train\\REMCOS\\240610-naernahb75.behavioral1.pcapng.png\n",
      "Saved image for data\\PCAPS\\REMCOS\\240610-naernahb75.behavioral2.pcapng to z-order\\train\\REMCOS\\240610-naernahb75.behavioral2.pcapng.png\n",
      "Skipping data\\PCAPS\\REMCOS\\240610-nmnkbshb5v.behavioral1.pcapng as it is smaller than 2KB\n",
      "Skipping data\\PCAPS\\REMCOS\\240610-nmnkbshb5v.behavioral2.pcapng as it is smaller than 2KB\n",
      "Skipping data\\PCAPS\\REMCOS\\240610-nmtfkshb5z.behavioral1.pcapng as it is smaller than 2KB\n"
     ]
    },
    {
     "name": "stderr",
     "output_type": "stream",
     "text": [
      "WARNING: PcapNg: TLS Key Log available, but the TLS layer is not loaded! Scapy won't be able to decrypt the packets.\n"
     ]
    },
    {
     "name": "stdout",
     "output_type": "stream",
     "text": [
      "Saved image for data\\PCAPS\\REMCOS\\240610-nmtfkshb5z.behavioral2.pcapng to z-order\\train\\REMCOS\\240610-nmtfkshb5z.behavioral2.pcapng.png\n"
     ]
    },
    {
     "name": "stderr",
     "output_type": "stream",
     "text": [
      "WARNING: PcapNg: TLS Key Log available, but the TLS layer is not loaded! Scapy won't be able to decrypt the packets.\n"
     ]
    },
    {
     "name": "stdout",
     "output_type": "stream",
     "text": [
      "Saved image for data\\PCAPS\\REMCOS\\240610-npbnjshg62.behavioral1.pcapng to z-order\\train\\REMCOS\\240610-npbnjshg62.behavioral1.pcapng.png\n"
     ]
    },
    {
     "name": "stderr",
     "output_type": "stream",
     "text": [
      "WARNING: more PcapNg: TLS Key Log available, but the TLS layer is not loaded! Scapy won't be able to decrypt the packets.\n"
     ]
    },
    {
     "name": "stdout",
     "output_type": "stream",
     "text": [
      "Saved image for data\\PCAPS\\REMCOS\\240610-npbnjshg62.behavioral2.pcapng to z-order\\train\\REMCOS\\240610-npbnjshg62.behavioral2.pcapng.png\n",
      "Skipping data\\PCAPS\\REVENGERAT\\240524-24mk9aed6x.behavioral1.pcapng as it is smaller than 2KB\n",
      "Saved image for data\\PCAPS\\REVENGERAT\\240524-24mk9aed6x.behavioral2.pcapng to z-order\\train\\REVENGERAT\\240524-24mk9aed6x.behavioral2.pcapng.png\n",
      "Saved image for data\\PCAPS\\REVENGERAT\\240525-3g2bkafb59.behavioral1.pcapng to z-order\\train\\REVENGERAT\\240525-3g2bkafb59.behavioral1.pcapng.png\n",
      "Saved image for data\\PCAPS\\REVENGERAT\\240525-3g2bkafb59.behavioral2.pcapng to z-order\\train\\REVENGERAT\\240525-3g2bkafb59.behavioral2.pcapng.png\n",
      "Saved image for data\\PCAPS\\REVENGERAT\\240525-b64z7sac6z.behavioral1.pcapng to z-order\\train\\REVENGERAT\\240525-b64z7sac6z.behavioral1.pcapng.png\n",
      "Saved image for data\\PCAPS\\REVENGERAT\\240525-b64z7sac6z.behavioral2.pcapng to z-order\\train\\REVENGERAT\\240525-b64z7sac6z.behavioral2.pcapng.png\n",
      "Saved image for data\\PCAPS\\REVENGERAT\\240525-b9mv4aad8t.behavioral1.pcapng to z-order\\train\\REVENGERAT\\240525-b9mv4aad8t.behavioral1.pcapng.png\n"
     ]
    },
    {
     "name": "stderr",
     "output_type": "stream",
     "text": [
      "WARNING: PcapNg: TLS Key Log available, but the TLS layer is not loaded! Scapy won't be able to decrypt the packets.\n"
     ]
    },
    {
     "name": "stdout",
     "output_type": "stream",
     "text": [
      "Saved image for data\\PCAPS\\REVENGERAT\\240525-cf6a1sag5w.behavioral1.pcapng to z-order\\train\\REVENGERAT\\240525-cf6a1sag5w.behavioral1.pcapng.png\n"
     ]
    },
    {
     "name": "stderr",
     "output_type": "stream",
     "text": [
      "WARNING: PcapNg: TLS Key Log available, but the TLS layer is not loaded! Scapy won't be able to decrypt the packets.\n"
     ]
    },
    {
     "name": "stdout",
     "output_type": "stream",
     "text": [
      "Saved image for data\\PCAPS\\REVENGERAT\\240525-cf6a1sag5w.behavioral2.pcapng to z-order\\train\\REVENGERAT\\240525-cf6a1sag5w.behavioral2.pcapng.png\n"
     ]
    },
    {
     "name": "stderr",
     "output_type": "stream",
     "text": [
      "WARNING: more PcapNg: TLS Key Log available, but the TLS layer is not loaded! Scapy won't be able to decrypt the packets.\n"
     ]
    },
    {
     "name": "stdout",
     "output_type": "stream",
     "text": [
      "Saved image for data\\PCAPS\\REVENGERAT\\240525-eanj5add21.behavioral1.pcapng to z-order\\train\\REVENGERAT\\240525-eanj5add21.behavioral1.pcapng.png\n",
      "Saved image for data\\PCAPS\\REVENGERAT\\240525-eanj5add21.behavioral2.pcapng to z-order\\train\\REVENGERAT\\240525-eanj5add21.behavioral2.pcapng.png\n",
      "Saved image for data\\PCAPS\\REVENGERAT\\240525-gyblksha25.behavioral1.pcapng to z-order\\train\\REVENGERAT\\240525-gyblksha25.behavioral1.pcapng.png\n",
      "Saved image for data\\PCAPS\\REVENGERAT\\240525-gyblksha25.behavioral2.pcapng to z-order\\train\\REVENGERAT\\240525-gyblksha25.behavioral2.pcapng.png\n",
      "Saved image for data\\PCAPS\\REVENGERAT\\240525-pdk9aahh3z.behavioral1.pcapng to z-order\\train\\REVENGERAT\\240525-pdk9aahh3z.behavioral1.pcapng.png\n"
     ]
    },
    {
     "name": "stderr",
     "output_type": "stream",
     "text": [
      "WARNING: PcapNg: TLS Key Log available, but the TLS layer is not loaded! Scapy won't be able to decrypt the packets.\n"
     ]
    },
    {
     "name": "stdout",
     "output_type": "stream",
     "text": [
      "Saved image for data\\PCAPS\\REVENGERAT\\240525-ph47ysah24.behavioral1.pcapng to z-order\\train\\REVENGERAT\\240525-ph47ysah24.behavioral1.pcapng.png\n"
     ]
    },
    {
     "name": "stderr",
     "output_type": "stream",
     "text": [
      "WARNING: PcapNg: TLS Key Log available, but the TLS layer is not loaded! Scapy won't be able to decrypt the packets.\n"
     ]
    },
    {
     "name": "stdout",
     "output_type": "stream",
     "text": [
      "Saved image for data\\PCAPS\\REVENGERAT\\240525-ph47ysah24.behavioral2.pcapng to z-order\\train\\REVENGERAT\\240525-ph47ysah24.behavioral2.pcapng.png\n"
     ]
    },
    {
     "name": "stderr",
     "output_type": "stream",
     "text": [
      "WARNING: more PcapNg: TLS Key Log available, but the TLS layer is not loaded! Scapy won't be able to decrypt the packets.\n"
     ]
    },
    {
     "name": "stdout",
     "output_type": "stream",
     "text": [
      "Saved image for data\\PCAPS\\REVENGERAT\\240526-d6hs3sdd8z.behavioral1.pcapng to z-order\\train\\REVENGERAT\\240526-d6hs3sdd8z.behavioral1.pcapng.png\n",
      "Saved image for data\\PCAPS\\REVENGERAT\\240526-d6hs3sdd8z.behavioral2.pcapng to z-order\\train\\REVENGERAT\\240526-d6hs3sdd8z.behavioral2.pcapng.png\n",
      "Saved image for data\\PCAPS\\REVENGERAT\\240526-dpvrbacg7s.behavioral1.pcapng to z-order\\train\\REVENGERAT\\240526-dpvrbacg7s.behavioral1.pcapng.png\n",
      "Saved image for data\\PCAPS\\REVENGERAT\\240526-dpvrbacg7s.behavioral2.pcapng to z-order\\train\\REVENGERAT\\240526-dpvrbacg7s.behavioral2.pcapng.png\n",
      "Saved image for data\\PCAPS\\REVENGERAT\\240526-gc3syahf53.behavioral1.pcapng to z-order\\train\\REVENGERAT\\240526-gc3syahf53.behavioral1.pcapng.png\n",
      "Saved image for data\\PCAPS\\REVENGERAT\\240526-gc3syahf53.behavioral2.pcapng to z-order\\train\\REVENGERAT\\240526-gc3syahf53.behavioral2.pcapng.png\n",
      "Saved image for data\\PCAPS\\REVENGERAT\\240526-gnq9aahb7w.behavioral1.pcapng to z-order\\train\\REVENGERAT\\240526-gnq9aahb7w.behavioral1.pcapng.png\n",
      "Saved image for data\\PCAPS\\REVENGERAT\\240526-gnq9aahb7w.behavioral2.pcapng to z-order\\train\\REVENGERAT\\240526-gnq9aahb7w.behavioral2.pcapng.png\n",
      "Saved image for data\\PCAPS\\REVENGERAT\\240527-27gjeaef97.behavioral1.pcapng to z-order\\train\\REVENGERAT\\240527-27gjeaef97.behavioral1.pcapng.png\n",
      "Saved image for data\\PCAPS\\REVENGERAT\\240527-27gjeaef97.behavioral2.pcapng to z-order\\train\\REVENGERAT\\240527-27gjeaef97.behavioral2.pcapng.png\n",
      "Saved image for data\\PCAPS\\REVENGERAT\\240527-3tbxfaff82.behavioral1.pcapng to z-order\\train\\REVENGERAT\\240527-3tbxfaff82.behavioral1.pcapng.png\n",
      "Saved image for data\\PCAPS\\REVENGERAT\\240527-3tbxfaff82.behavioral2.pcapng to z-order\\train\\REVENGERAT\\240527-3tbxfaff82.behavioral2.pcapng.png\n",
      "Saved image for data\\PCAPS\\REVENGERAT\\240527-a1bwssaa3s.behavioral1.pcapng to z-order\\train\\REVENGERAT\\240527-a1bwssaa3s.behavioral1.pcapng.png\n",
      "Saved image for data\\PCAPS\\REVENGERAT\\240527-a1bwssaa3s.behavioral2.pcapng to z-order\\train\\REVENGERAT\\240527-a1bwssaa3s.behavioral2.pcapng.png\n",
      "Saved image for data\\PCAPS\\REVENGERAT\\240528-lqds7afe53.behavioral1.pcapng to z-order\\train\\REVENGERAT\\240528-lqds7afe53.behavioral1.pcapng.png\n",
      "Saved image for data\\PCAPS\\REVENGERAT\\240528-lqds7afe53.behavioral2.pcapng to z-order\\train\\REVENGERAT\\240528-lqds7afe53.behavioral2.pcapng.png\n",
      "Saved image for data\\PCAPS\\REVENGERAT\\240528-mb9gzsgd87.behavioral1.pcapng to z-order\\train\\REVENGERAT\\240528-mb9gzsgd87.behavioral1.pcapng.png\n",
      "Saved image for data\\PCAPS\\REVENGERAT\\240528-mb9gzsgd87.behavioral2.pcapng to z-order\\train\\REVENGERAT\\240528-mb9gzsgd87.behavioral2.pcapng.png\n"
     ]
    },
    {
     "name": "stderr",
     "output_type": "stream",
     "text": [
      "WARNING: PcapNg: TLS Key Log available, but the TLS layer is not loaded! Scapy won't be able to decrypt the packets.\n"
     ]
    },
    {
     "name": "stdout",
     "output_type": "stream",
     "text": [
      "Saved image for data\\PCAPS\\REVENGERAT\\240528-txfv5acg87.behavioral1.pcapng to z-order\\train\\REVENGERAT\\240528-txfv5acg87.behavioral1.pcapng.png\n"
     ]
    },
    {
     "name": "stderr",
     "output_type": "stream",
     "text": [
      "WARNING: PcapNg: TLS Key Log available, but the TLS layer is not loaded! Scapy won't be able to decrypt the packets.\n"
     ]
    },
    {
     "name": "stdout",
     "output_type": "stream",
     "text": [
      "Saved image for data\\PCAPS\\REVENGERAT\\240528-txfv5acg87.behavioral2.pcapng to z-order\\train\\REVENGERAT\\240528-txfv5acg87.behavioral2.pcapng.png\n"
     ]
    },
    {
     "name": "stderr",
     "output_type": "stream",
     "text": [
      "WARNING: more PcapNg: TLS Key Log available, but the TLS layer is not loaded! Scapy won't be able to decrypt the packets.\n"
     ]
    },
    {
     "name": "stdout",
     "output_type": "stream",
     "text": [
      "Saved image for data\\PCAPS\\REVENGERAT\\240529-27fxwaee24.behavioral1.pcapng to z-order\\train\\REVENGERAT\\240529-27fxwaee24.behavioral1.pcapng.png\n",
      "Saved image for data\\PCAPS\\REVENGERAT\\240529-27fxwaee24.behavioral2.pcapng to z-order\\train\\REVENGERAT\\240529-27fxwaee24.behavioral2.pcapng.png\n",
      "Saved image for data\\PCAPS\\REVENGERAT\\240529-h8y1asff99.behavioral1.pcapng to z-order\\train\\REVENGERAT\\240529-h8y1asff99.behavioral1.pcapng.png\n",
      "Saved image for data\\PCAPS\\REVENGERAT\\240529-h8y1asff99.behavioral2.pcapng to z-order\\train\\REVENGERAT\\240529-h8y1asff99.behavioral2.pcapng.png\n",
      "Saved image for data\\PCAPS\\REVENGERAT\\240530-3rg1nseg2v.behavioral1.pcapng to z-order\\train\\REVENGERAT\\240530-3rg1nseg2v.behavioral1.pcapng.png\n",
      "Saved image for data\\PCAPS\\REVENGERAT\\240530-3rg1nseg2v.behavioral2.pcapng to z-order\\train\\REVENGERAT\\240530-3rg1nseg2v.behavioral2.pcapng.png\n",
      "Saved image for data\\PCAPS\\REVENGERAT\\240530-czd1wabc7y.behavioral1.pcapng to z-order\\train\\REVENGERAT\\240530-czd1wabc7y.behavioral1.pcapng.png\n",
      "Saved image for data\\PCAPS\\REVENGERAT\\240530-czd1wabc7y.behavioral2.pcapng to z-order\\train\\REVENGERAT\\240530-czd1wabc7y.behavioral2.pcapng.png\n",
      "Saved image for data\\PCAPS\\REVENGERAT\\240530-d3zx7adh54.behavioral1.pcapng to z-order\\train\\REVENGERAT\\240530-d3zx7adh54.behavioral1.pcapng.png\n",
      "Saved image for data\\PCAPS\\REVENGERAT\\240530-d3zx7adh54.behavioral2.pcapng to z-order\\train\\REVENGERAT\\240530-d3zx7adh54.behavioral2.pcapng.png\n",
      "Saved image for data\\PCAPS\\REVENGERAT\\240530-e1v2wsfd82.behavioral1.pcapng to z-order\\train\\REVENGERAT\\240530-e1v2wsfd82.behavioral1.pcapng.png\n",
      "Saved image for data\\PCAPS\\REVENGERAT\\240530-e1v2wsfd82.behavioral2.pcapng to z-order\\train\\REVENGERAT\\240530-e1v2wsfd82.behavioral2.pcapng.png\n",
      "Skipping data\\PCAPS\\REVENGERAT\\240530-qpa35abb99.behavioral1.pcapng as it is smaller than 2KB\n",
      "Saved image for data\\PCAPS\\REVENGERAT\\240530-qpa35abb99.behavioral2.pcapng to z-order\\train\\REVENGERAT\\240530-qpa35abb99.behavioral2.pcapng.png\n",
      "Skipping data\\PCAPS\\REVENGERAT\\240530-qt4agaac61.behavioral1.pcapng as it is smaller than 2KB\n",
      "Saved image for data\\PCAPS\\REVENGERAT\\240530-qt4agaac61.behavioral2.pcapng to z-order\\train\\REVENGERAT\\240530-qt4agaac61.behavioral2.pcapng.png\n",
      "Saved image for data\\PCAPS\\REVENGERAT\\240531-b4yemsae3z.behavioral1.pcapng to z-order\\train\\REVENGERAT\\240531-b4yemsae3z.behavioral1.pcapng.png\n",
      "Saved image for data\\PCAPS\\REVENGERAT\\240531-b4yemsae3z.behavioral2.pcapng to z-order\\train\\REVENGERAT\\240531-b4yemsae3z.behavioral2.pcapng.png\n",
      "Saved image for data\\PCAPS\\REVENGERAT\\240531-sqjsrscd5w.behavioral1.pcapng to z-order\\train\\REVENGERAT\\240531-sqjsrscd5w.behavioral1.pcapng.png\n",
      "Saved image for data\\PCAPS\\REVENGERAT\\240531-sqjsrscd5w.behavioral2.pcapng to z-order\\train\\REVENGERAT\\240531-sqjsrscd5w.behavioral2.pcapng.png\n"
     ]
    },
    {
     "name": "stderr",
     "output_type": "stream",
     "text": [
      "WARNING: PcapNg: TLS Key Log available, but the TLS layer is not loaded! Scapy won't be able to decrypt the packets.\n"
     ]
    },
    {
     "name": "stdout",
     "output_type": "stream",
     "text": [
      "Saved image for data\\PCAPS\\REVENGERAT\\240601-d4rm7sha94.behavioral1.pcapng to z-order\\train\\REVENGERAT\\240601-d4rm7sha94.behavioral1.pcapng.png\n"
     ]
    },
    {
     "name": "stderr",
     "output_type": "stream",
     "text": [
      "WARNING: PcapNg: TLS Key Log available, but the TLS layer is not loaded! Scapy won't be able to decrypt the packets.\n"
     ]
    },
    {
     "name": "stdout",
     "output_type": "stream",
     "text": [
      "Saved image for data\\PCAPS\\REVENGERAT\\240601-d4rm7sha94.behavioral2.pcapng to z-order\\train\\REVENGERAT\\240601-d4rm7sha94.behavioral2.pcapng.png\n"
     ]
    },
    {
     "name": "stderr",
     "output_type": "stream",
     "text": [
      "WARNING: more PcapNg: TLS Key Log available, but the TLS layer is not loaded! Scapy won't be able to decrypt the packets.\n"
     ]
    },
    {
     "name": "stdout",
     "output_type": "stream",
     "text": [
      "Saved image for data\\PCAPS\\REVENGERAT\\240601-fjrhtaae7v.behavioral1.pcapng to z-order\\train\\REVENGERAT\\240601-fjrhtaae7v.behavioral1.pcapng.png\n",
      "Saved image for data\\PCAPS\\REVENGERAT\\240601-fjrhtaae7v.behavioral2.pcapng to z-order\\train\\REVENGERAT\\240601-fjrhtaae7v.behavioral2.pcapng.png\n",
      "Saved image for data\\PCAPS\\REVENGERAT\\240602-arqctsch44.behavioral1.pcapng to z-order\\train\\REVENGERAT\\240602-arqctsch44.behavioral1.pcapng.png\n",
      "Saved image for data\\PCAPS\\REVENGERAT\\240602-arqctsch44.behavioral2.pcapng to z-order\\train\\REVENGERAT\\240602-arqctsch44.behavioral2.pcapng.png\n",
      "Saved image for data\\PCAPS\\REVENGERAT\\240602-zz9twagc39.behavioral1.pcapng to z-order\\train\\REVENGERAT\\240602-zz9twagc39.behavioral1.pcapng.png\n",
      "Saved image for data\\PCAPS\\REVENGERAT\\240602-zz9twagc39.behavioral2.pcapng to z-order\\train\\REVENGERAT\\240602-zz9twagc39.behavioral2.pcapng.png\n",
      "Saved image for data\\PCAPS\\REVENGERAT\\240603-bcgb2sdd7w.behavioral1.pcapng to z-order\\train\\REVENGERAT\\240603-bcgb2sdd7w.behavioral1.pcapng.png\n",
      "Saved image for data\\PCAPS\\REVENGERAT\\240603-bcgb2sdd7w.behavioral2.pcapng to z-order\\train\\REVENGERAT\\240603-bcgb2sdd7w.behavioral2.pcapng.png\n",
      "Saved image for data\\PCAPS\\REVENGERAT\\240603-s27c7sba9z.behavioral1.pcapng to z-order\\train\\REVENGERAT\\240603-s27c7sba9z.behavioral1.pcapng.png\n",
      "Saved image for data\\PCAPS\\REVENGERAT\\240603-s27c7sba9z.behavioral2.pcapng to z-order\\train\\REVENGERAT\\240603-s27c7sba9z.behavioral2.pcapng.png\n",
      "Saved image for data\\PCAPS\\REVENGERAT\\240603-s2mzkaba8w.behavioral1.pcapng to z-order\\train\\REVENGERAT\\240603-s2mzkaba8w.behavioral1.pcapng.png\n",
      "Saved image for data\\PCAPS\\REVENGERAT\\240603-s2mzkaba8w.behavioral2.pcapng to z-order\\train\\REVENGERAT\\240603-s2mzkaba8w.behavioral2.pcapng.png\n"
     ]
    },
    {
     "name": "stderr",
     "output_type": "stream",
     "text": [
      "WARNING: PcapNg: TLS Key Log available, but the TLS layer is not loaded! Scapy won't be able to decrypt the packets.\n"
     ]
    },
    {
     "name": "stdout",
     "output_type": "stream",
     "text": [
      "Saved image for data\\PCAPS\\REVENGERAT\\240603-symvdscb39.behavioral1.pcapng to z-order\\train\\REVENGERAT\\240603-symvdscb39.behavioral1.pcapng.png\n"
     ]
    },
    {
     "name": "stderr",
     "output_type": "stream",
     "text": [
      "WARNING: PcapNg: TLS Key Log available, but the TLS layer is not loaded! Scapy won't be able to decrypt the packets.\n"
     ]
    },
    {
     "name": "stdout",
     "output_type": "stream",
     "text": [
      "Saved image for data\\PCAPS\\REVENGERAT\\240603-symvdscb39.behavioral2.pcapng to z-order\\train\\REVENGERAT\\240603-symvdscb39.behavioral2.pcapng.png\n",
      "Skipping data\\PCAPS\\REVENGERAT\\240604-pytfdsgg89.behavioral1.pcapng as it is smaller than 2KB\n"
     ]
    },
    {
     "name": "stderr",
     "output_type": "stream",
     "text": [
      "WARNING: more PcapNg: TLS Key Log available, but the TLS layer is not loaded! Scapy won't be able to decrypt the packets.\n"
     ]
    },
    {
     "name": "stdout",
     "output_type": "stream",
     "text": [
      "Saved image for data\\PCAPS\\REVENGERAT\\240604-pytfdsgg89.behavioral2.pcapng to z-order\\train\\REVENGERAT\\240604-pytfdsgg89.behavioral2.pcapng.png\n",
      "Saved image for data\\PCAPS\\REVENGERAT\\240604-xqfhkaha76.behavioral1.pcapng to z-order\\train\\REVENGERAT\\240604-xqfhkaha76.behavioral1.pcapng.png\n",
      "Saved image for data\\PCAPS\\REVENGERAT\\240604-xqfhkaha76.behavioral2.pcapng to z-order\\train\\REVENGERAT\\240604-xqfhkaha76.behavioral2.pcapng.png\n",
      "Saved image for data\\PCAPS\\REVENGERAT\\240606-f3dq3ahd9w.behavioral1.pcapng to z-order\\train\\REVENGERAT\\240606-f3dq3ahd9w.behavioral1.pcapng.png\n",
      "Saved image for data\\PCAPS\\REVENGERAT\\240606-f3dq3ahd9w.behavioral2.pcapng to z-order\\train\\REVENGERAT\\240606-f3dq3ahd9w.behavioral2.pcapng.png\n",
      "Skipping data\\PCAPS\\REVENGERAT\\240606-sblc2sgf79.behavioral1.pcapng as it is smaller than 2KB\n",
      "Saved image for data\\PCAPS\\REVENGERAT\\240606-sblc2sgf79.behavioral2.pcapng to z-order\\train\\REVENGERAT\\240606-sblc2sgf79.behavioral2.pcapng.png\n",
      "Skipping data\\PCAPS\\REVENGERAT\\240607-b5l31agf68.behavioral1.pcapng as it is smaller than 2KB\n",
      "Saved image for data\\PCAPS\\REVENGERAT\\240607-b5l31agf68.behavioral2.pcapng to z-order\\train\\REVENGERAT\\240607-b5l31agf68.behavioral2.pcapng.png\n",
      "Saved image for data\\PCAPS\\REVENGERAT\\240609-nf634aae95.behavioral1.pcapng to z-order\\train\\REVENGERAT\\240609-nf634aae95.behavioral1.pcapng.png\n",
      "Saved image for data\\PCAPS\\REVENGERAT\\240609-nf634aae95.behavioral2.pcapng to z-order\\train\\REVENGERAT\\240609-nf634aae95.behavioral2.pcapng.png\n",
      "Saved image for data\\PCAPS\\REVENGERAT\\240609-vm7rjadd73.behavioral1.pcapng to z-order\\train\\REVENGERAT\\240609-vm7rjadd73.behavioral1.pcapng.png\n",
      "Saved image for data\\PCAPS\\REVENGERAT\\240609-vm7rjadd73.behavioral2.pcapng to z-order\\train\\REVENGERAT\\240609-vm7rjadd73.behavioral2.pcapng.png\n",
      "Saved image for data\\PCAPS\\REVENGERAT\\240609-vmxlkadd68.behavioral1.pcapng to z-order\\train\\REVENGERAT\\240609-vmxlkadd68.behavioral1.pcapng.png\n"
     ]
    },
    {
     "name": "stderr",
     "output_type": "stream",
     "text": [
      "WARNING: PcapNg: TLS Key Log available, but the TLS layer is not loaded! Scapy won't be able to decrypt the packets.\n"
     ]
    },
    {
     "name": "stdout",
     "output_type": "stream",
     "text": [
      "Saved image for data\\PCAPS\\REVENGERAT\\240610-nab1rsgf2v.behavioral1.pcapng to z-order\\train\\REVENGERAT\\240610-nab1rsgf2v.behavioral1.pcapng.png\n"
     ]
    },
    {
     "name": "stderr",
     "output_type": "stream",
     "text": [
      "WARNING: PcapNg: TLS Key Log available, but the TLS layer is not loaded! Scapy won't be able to decrypt the packets.\n"
     ]
    },
    {
     "name": "stdout",
     "output_type": "stream",
     "text": [
      "Saved image for data\\PCAPS\\REVENGERAT\\240610-nab1rsgf2v.behavioral2.pcapng to z-order\\train\\REVENGERAT\\240610-nab1rsgf2v.behavioral2.pcapng.png\n"
     ]
    },
    {
     "name": "stderr",
     "output_type": "stream",
     "text": [
      "WARNING: more PcapNg: TLS Key Log available, but the TLS layer is not loaded! Scapy won't be able to decrypt the packets.\n"
     ]
    },
    {
     "name": "stdout",
     "output_type": "stream",
     "text": [
      "Saved image for data\\PCAPS\\REVENGERAT\\240610-pb7z9sah62.behavioral1.pcapng to z-order\\train\\REVENGERAT\\240610-pb7z9sah62.behavioral1.pcapng.png\n",
      "Saved image for data\\PCAPS\\REVENGERAT\\240610-pb7z9sah62.behavioral2.pcapng to z-order\\train\\REVENGERAT\\240610-pb7z9sah62.behavioral2.pcapng.png\n",
      "Skipping data\\PCAPS\\SMOKELOADER\\240602-2cca7sac94.behavioral1.pcapng as it is smaller than 2KB\n",
      "Saved image for data\\PCAPS\\SMOKELOADER\\240602-2cca7sac94.behavioral2.pcapng to z-order\\train\\SMOKELOADER\\240602-2cca7sac94.behavioral2.pcapng.png\n",
      "Saved image for data\\PCAPS\\SMOKELOADER\\240602-cx5qtagc75.behavioral1.pcapng to z-order\\train\\SMOKELOADER\\240602-cx5qtagc75.behavioral1.pcapng.png\n"
     ]
    },
    {
     "name": "stderr",
     "output_type": "stream",
     "text": [
      "WARNING: PcapNg: TLS Key Log available, but the TLS layer is not loaded! Scapy won't be able to decrypt the packets.\n"
     ]
    },
    {
     "name": "stdout",
     "output_type": "stream",
     "text": [
      "Saved image for data\\PCAPS\\SMOKELOADER\\240602-cx5qtagc75.behavioral2.pcapng to z-order\\train\\SMOKELOADER\\240602-cx5qtagc75.behavioral2.pcapng.png\n"
     ]
    },
    {
     "name": "stderr",
     "output_type": "stream",
     "text": [
      "WARNING: PcapNg: TLS Key Log available, but the TLS layer is not loaded! Scapy won't be able to decrypt the packets.\n"
     ]
    },
    {
     "name": "stdout",
     "output_type": "stream",
     "text": [
      "Saved image for data\\PCAPS\\SMOKELOADER\\240602-fbkqasbd3s.behavioral1.pcapng to z-order\\train\\SMOKELOADER\\240602-fbkqasbd3s.behavioral1.pcapng.png\n"
     ]
    },
    {
     "name": "stderr",
     "output_type": "stream",
     "text": [
      "WARNING: PcapNg: TLS Key Log available, but the TLS layer is not loaded! Scapy won't be able to decrypt the packets.\n"
     ]
    },
    {
     "name": "stdout",
     "output_type": "stream",
     "text": [
      "Saved image for data\\PCAPS\\SMOKELOADER\\240602-fbkqasbd3s.behavioral2.pcapng to z-order\\train\\SMOKELOADER\\240602-fbkqasbd3s.behavioral2.pcapng.png\n"
     ]
    },
    {
     "name": "stderr",
     "output_type": "stream",
     "text": [
      "WARNING: PcapNg: TLS Key Log available, but the TLS layer is not loaded! Scapy won't be able to decrypt the packets.\n"
     ]
    },
    {
     "name": "stdout",
     "output_type": "stream",
     "text": [
      "Saved image for data\\PCAPS\\SMOKELOADER\\240602-gjttlsdd94.behavioral2.pcapng to z-order\\train\\SMOKELOADER\\240602-gjttlsdd94.behavioral2.pcapng.png\n"
     ]
    },
    {
     "name": "stderr",
     "output_type": "stream",
     "text": [
      "WARNING: PcapNg: TLS Key Log available, but the TLS layer is not loaded! Scapy won't be able to decrypt the packets.\n"
     ]
    },
    {
     "name": "stdout",
     "output_type": "stream",
     "text": [
      "Saved image for data\\PCAPS\\SMOKELOADER\\240602-glnelsde57.behavioral1.pcapng to z-order\\train\\SMOKELOADER\\240602-glnelsde57.behavioral1.pcapng.png\n"
     ]
    },
    {
     "name": "stderr",
     "output_type": "stream",
     "text": [
      "WARNING: more PcapNg: TLS Key Log available, but the TLS layer is not loaded! Scapy won't be able to decrypt the packets.\n"
     ]
    },
    {
     "name": "stdout",
     "output_type": "stream",
     "text": [
      "Saved image for data\\PCAPS\\SMOKELOADER\\240602-glnelsde57.behavioral2.pcapng to z-order\\train\\SMOKELOADER\\240602-glnelsde57.behavioral2.pcapng.png\n",
      "Skipping data\\PCAPS\\SMOKELOADER\\240602-l5qfjaaa3v.behavioral1.pcapng as it is smaller than 2KB\n"
     ]
    },
    {
     "name": "stderr",
     "output_type": "stream",
     "text": [
      "WARNING: PcapNg: TLS Key Log available, but the TLS layer is not loaded! Scapy won't be able to decrypt the packets.\n"
     ]
    },
    {
     "name": "stdout",
     "output_type": "stream",
     "text": [
      "Saved image for data\\PCAPS\\SMOKELOADER\\240602-l5qfjaaa3v.behavioral2.pcapng to z-order\\train\\SMOKELOADER\\240602-l5qfjaaa3v.behavioral2.pcapng.png\n",
      "Skipping data\\PCAPS\\SMOKELOADER\\240602-t3bhlagg2v.behavioral1.pcapng as it is smaller than 2KB\n"
     ]
    },
    {
     "name": "stderr",
     "output_type": "stream",
     "text": [
      "WARNING: PcapNg: TLS Key Log available, but the TLS layer is not loaded! Scapy won't be able to decrypt the packets.\n"
     ]
    },
    {
     "name": "stdout",
     "output_type": "stream",
     "text": [
      "Saved image for data\\PCAPS\\SMOKELOADER\\240602-t3bhlagg2v.behavioral2.pcapng to z-order\\train\\SMOKELOADER\\240602-t3bhlagg2v.behavioral2.pcapng.png\n"
     ]
    },
    {
     "name": "stderr",
     "output_type": "stream",
     "text": [
      "WARNING: more PcapNg: TLS Key Log available, but the TLS layer is not loaded! Scapy won't be able to decrypt the packets.\n"
     ]
    },
    {
     "name": "stdout",
     "output_type": "stream",
     "text": [
      "Saved image for data\\PCAPS\\SMOKELOADER\\240602-y978csfa86.behavioral1.pcapng to z-order\\train\\SMOKELOADER\\240602-y978csfa86.behavioral1.pcapng.png\n",
      "Saved image for data\\PCAPS\\SMOKELOADER\\240602-y978csfa86.behavioral2.pcapng to z-order\\train\\SMOKELOADER\\240602-y978csfa86.behavioral2.pcapng.png\n",
      "Skipping data\\PCAPS\\SMOKELOADER\\240603-c1kj2she33.behavioral1.pcapng as it is smaller than 2KB\n",
      "Saved image for data\\PCAPS\\SMOKELOADER\\240603-c1kj2she33.behavioral2.pcapng to z-order\\train\\SMOKELOADER\\240603-c1kj2she33.behavioral2.pcapng.png\n",
      "Skipping data\\PCAPS\\SMOKELOADER\\240603-gj7epsdg6w.behavioral1.pcapng as it is smaller than 2KB\n",
      "Saved image for data\\PCAPS\\SMOKELOADER\\240603-gj7epsdg6w.behavioral2.pcapng to z-order\\train\\SMOKELOADER\\240603-gj7epsdg6w.behavioral2.pcapng.png\n",
      "Saved image for data\\PCAPS\\SMOKELOADER\\240603-gtlwraeb4y.behavioral1.pcapng to z-order\\train\\SMOKELOADER\\240603-gtlwraeb4y.behavioral1.pcapng.png\n",
      "Saved image for data\\PCAPS\\SMOKELOADER\\240603-gtlwraeb4y.behavioral2.pcapng to z-order\\train\\SMOKELOADER\\240603-gtlwraeb4y.behavioral2.pcapng.png\n",
      "Saved image for data\\PCAPS\\SMOKELOADER\\240603-m8x58acc8w.behavioral1.pcapng to z-order\\train\\SMOKELOADER\\240603-m8x58acc8w.behavioral1.pcapng.png\n",
      "Saved image for data\\PCAPS\\SMOKELOADER\\240603-q7h7fsgf6y.behavioral1.pcapng to z-order\\train\\SMOKELOADER\\240603-q7h7fsgf6y.behavioral1.pcapng.png\n",
      "Saved image for data\\PCAPS\\SMOKELOADER\\240603-q7h7fsgf6y.behavioral2.pcapng to z-order\\train\\SMOKELOADER\\240603-q7h7fsgf6y.behavioral2.pcapng.png\n",
      "Skipping data\\PCAPS\\SMOKELOADER\\240603-rpjkyahc9t.behavioral1.pcapng as it is smaller than 2KB\n",
      "Saved image for data\\PCAPS\\SMOKELOADER\\240603-rpjkyahc9t.behavioral2.pcapng to z-order\\train\\SMOKELOADER\\240603-rpjkyahc9t.behavioral2.pcapng.png\n",
      "Saved image for data\\PCAPS\\SMOKELOADER\\240604-akpgysed4v.behavioral1.pcapng to z-order\\train\\SMOKELOADER\\240604-akpgysed4v.behavioral1.pcapng.png\n"
     ]
    },
    {
     "name": "stderr",
     "output_type": "stream",
     "text": [
      "WARNING: PcapNg: TLS Key Log available, but the TLS layer is not loaded! Scapy won't be able to decrypt the packets.\n"
     ]
    },
    {
     "name": "stdout",
     "output_type": "stream",
     "text": [
      "Saved image for data\\PCAPS\\SMOKELOADER\\240604-akpgysed4v.behavioral2.pcapng to z-order\\train\\SMOKELOADER\\240604-akpgysed4v.behavioral2.pcapng.png\n"
     ]
    },
    {
     "name": "stderr",
     "output_type": "stream",
     "text": [
      "WARNING: PcapNg: TLS Key Log available, but the TLS layer is not loaded! Scapy won't be able to decrypt the packets.\n"
     ]
    },
    {
     "name": "stdout",
     "output_type": "stream",
     "text": [
      "Saved image for data\\PCAPS\\SMOKELOADER\\240604-b455gsgh91.behavioral1.pcapng to z-order\\train\\SMOKELOADER\\240604-b455gsgh91.behavioral1.pcapng.png\n"
     ]
    },
    {
     "name": "stderr",
     "output_type": "stream",
     "text": [
      "WARNING: more PcapNg: TLS Key Log available, but the TLS layer is not loaded! Scapy won't be able to decrypt the packets.\n"
     ]
    },
    {
     "name": "stdout",
     "output_type": "stream",
     "text": [
      "Saved image for data\\PCAPS\\SMOKELOADER\\240604-b455gsgh91.behavioral2.pcapng to z-order\\train\\SMOKELOADER\\240604-b455gsgh91.behavioral2.pcapng.png\n",
      "Skipping data\\PCAPS\\SMOKELOADER\\240604-b8d7kahb8t.behavioral1.pcapng as it is smaller than 2KB\n",
      "Saved image for data\\PCAPS\\SMOKELOADER\\240604-b8d7kahb8t.behavioral2.pcapng to z-order\\train\\SMOKELOADER\\240604-b8d7kahb8t.behavioral2.pcapng.png\n",
      "Skipping data\\PCAPS\\SMOKELOADER\\240604-q9vchahf9y.behavioral1.pcapng as it is smaller than 2KB\n",
      "Saved image for data\\PCAPS\\SMOKELOADER\\240604-q9vchahf9y.behavioral2.pcapng to z-order\\train\\SMOKELOADER\\240604-q9vchahf9y.behavioral2.pcapng.png\n",
      "Saved image for data\\PCAPS\\SMOKELOADER\\240604-qefkvshc45.behavioral1.pcapng to z-order\\train\\SMOKELOADER\\240604-qefkvshc45.behavioral1.pcapng.png\n",
      "Skipping data\\PCAPS\\SMOKELOADER\\240604-qefkvshc45.behavioral2.pcapng as it is smaller than 2KB\n",
      "Skipping data\\PCAPS\\SMOKELOADER\\240604-sbc2nsbd79.behavioral1.pcapng as it is smaller than 2KB\n",
      "Saved image for data\\PCAPS\\SMOKELOADER\\240604-sbc2nsbd79.behavioral2.pcapng to z-order\\train\\SMOKELOADER\\240604-sbc2nsbd79.behavioral2.pcapng.png\n",
      "Skipping data\\PCAPS\\SMOKELOADER\\240604-wrr3baeg9z.behavioral1.pcapng as it is smaller than 2KB\n",
      "Saved image for data\\PCAPS\\SMOKELOADER\\240604-wrr3baeg9z.behavioral2.pcapng to z-order\\train\\SMOKELOADER\\240604-wrr3baeg9z.behavioral2.pcapng.png\n",
      "Saved image for data\\PCAPS\\SMOKELOADER\\240604-y4d3bsah73.behavioral1.pcapng to z-order\\train\\SMOKELOADER\\240604-y4d3bsah73.behavioral1.pcapng.png\n",
      "Saved image for data\\PCAPS\\SMOKELOADER\\240604-y4d3bsah73.behavioral2.pcapng to z-order\\train\\SMOKELOADER\\240604-y4d3bsah73.behavioral2.pcapng.png\n",
      "Saved image for data\\PCAPS\\SMOKELOADER\\240604-z662kace69.behavioral1.pcapng to z-order\\train\\SMOKELOADER\\240604-z662kace69.behavioral1.pcapng.png\n"
     ]
    },
    {
     "name": "stderr",
     "output_type": "stream",
     "text": [
      "WARNING: PcapNg: TLS Key Log available, but the TLS layer is not loaded! Scapy won't be able to decrypt the packets.\n"
     ]
    },
    {
     "name": "stdout",
     "output_type": "stream",
     "text": [
      "Saved image for data\\PCAPS\\SMOKELOADER\\240604-z662kace69.behavioral2.pcapng to z-order\\train\\SMOKELOADER\\240604-z662kace69.behavioral2.pcapng.png\n",
      "Skipping data\\PCAPS\\SMOKELOADER\\240605-bfgf8ahe2x.behavioral1.pcapng as it is smaller than 2KB\n"
     ]
    },
    {
     "name": "stderr",
     "output_type": "stream",
     "text": [
      "WARNING: PcapNg: TLS Key Log available, but the TLS layer is not loaded! Scapy won't be able to decrypt the packets.\n"
     ]
    },
    {
     "name": "stdout",
     "output_type": "stream",
     "text": [
      "Saved image for data\\PCAPS\\SMOKELOADER\\240605-bfgf8ahe2x.behavioral2.pcapng to z-order\\train\\SMOKELOADER\\240605-bfgf8ahe2x.behavioral2.pcapng.png\n",
      "Skipping data\\PCAPS\\SMOKELOADER\\240605-ca22eaag4t.behavioral1.pcapng as it is smaller than 2KB\n"
     ]
    },
    {
     "name": "stderr",
     "output_type": "stream",
     "text": [
      "WARNING: more PcapNg: TLS Key Log available, but the TLS layer is not loaded! Scapy won't be able to decrypt the packets.\n"
     ]
    },
    {
     "name": "stdout",
     "output_type": "stream",
     "text": [
      "Saved image for data\\PCAPS\\SMOKELOADER\\240605-ca22eaag4t.behavioral2.pcapng to z-order\\train\\SMOKELOADER\\240605-ca22eaag4t.behavioral2.pcapng.png\n",
      "Saved image for data\\PCAPS\\SMOKELOADER\\240605-ltxepscc8y.behavioral1.pcapng to z-order\\train\\SMOKELOADER\\240605-ltxepscc8y.behavioral1.pcapng.png\n",
      "Saved image for data\\PCAPS\\SMOKELOADER\\240605-ltxepscc8y.behavioral2.pcapng to z-order\\train\\SMOKELOADER\\240605-ltxepscc8y.behavioral2.pcapng.png\n",
      "Skipping data\\PCAPS\\SMOKELOADER\\240605-mtrpwsdd4v.behavioral1.pcapng as it is smaller than 2KB\n",
      "Saved image for data\\PCAPS\\SMOKELOADER\\240605-mtrpwsdd4v.behavioral2.pcapng to z-order\\train\\SMOKELOADER\\240605-mtrpwsdd4v.behavioral2.pcapng.png\n",
      "Skipping data\\PCAPS\\SMOKELOADER\\240605-r38f8ahh8z.behavioral1.pcapng as it is smaller than 2KB\n",
      "Saved image for data\\PCAPS\\SMOKELOADER\\240605-r38f8ahh8z.behavioral2.pcapng to z-order\\train\\SMOKELOADER\\240605-r38f8ahh8z.behavioral2.pcapng.png\n",
      "Skipping data\\PCAPS\\SMOKELOADER\\240605-zk8m9saa42.behavioral1.pcapng as it is smaller than 2KB\n",
      "Saved image for data\\PCAPS\\SMOKELOADER\\240605-zk8m9saa42.behavioral2.pcapng to z-order\\train\\SMOKELOADER\\240605-zk8m9saa42.behavioral2.pcapng.png\n",
      "Skipping data\\PCAPS\\SMOKELOADER\\240606-dr4r1afd7v.behavioral1.pcapng as it is smaller than 2KB\n"
     ]
    },
    {
     "name": "stderr",
     "output_type": "stream",
     "text": [
      "WARNING: PcapNg: TLS Key Log available, but the TLS layer is not loaded! Scapy won't be able to decrypt the packets.\n"
     ]
    },
    {
     "name": "stdout",
     "output_type": "stream",
     "text": [
      "Saved image for data\\PCAPS\\SMOKELOADER\\240606-dr4r1afd7v.behavioral2.pcapng to z-order\\train\\SMOKELOADER\\240606-dr4r1afd7v.behavioral2.pcapng.png\n",
      "Skipping data\\PCAPS\\SMOKELOADER\\240606-ecbcksga5x.behavioral1.pcapng as it is smaller than 2KB\n"
     ]
    },
    {
     "name": "stderr",
     "output_type": "stream",
     "text": [
      "WARNING: PcapNg: TLS Key Log available, but the TLS layer is not loaded! Scapy won't be able to decrypt the packets.\n"
     ]
    },
    {
     "name": "stdout",
     "output_type": "stream",
     "text": [
      "Saved image for data\\PCAPS\\SMOKELOADER\\240606-ecbcksga5x.behavioral2.pcapng to z-order\\train\\SMOKELOADER\\240606-ecbcksga5x.behavioral2.pcapng.png\n"
     ]
    },
    {
     "name": "stderr",
     "output_type": "stream",
     "text": [
      "WARNING: more PcapNg: TLS Key Log available, but the TLS layer is not loaded! Scapy won't be able to decrypt the packets.\n"
     ]
    },
    {
     "name": "stdout",
     "output_type": "stream",
     "text": [
      "Saved image for data\\PCAPS\\SMOKELOADER\\240606-hlzcjsah2w.behavioral1.pcapng to z-order\\train\\SMOKELOADER\\240606-hlzcjsah2w.behavioral1.pcapng.png\n",
      "Saved image for data\\PCAPS\\SMOKELOADER\\240606-hlzcjsah2w.behavioral2.pcapng to z-order\\train\\SMOKELOADER\\240606-hlzcjsah2w.behavioral2.pcapng.png\n",
      "Skipping data\\PCAPS\\SMOKELOADER\\240606-hyl8raba8y.behavioral1.pcapng as it is smaller than 2KB\n",
      "Saved image for data\\PCAPS\\SMOKELOADER\\240606-hyl8raba8y.behavioral2.pcapng to z-order\\train\\SMOKELOADER\\240606-hyl8raba8y.behavioral2.pcapng.png\n",
      "Saved image for data\\PCAPS\\SMOKELOADER\\240606-l47nescg4x.behavioral1.pcapng to z-order\\train\\SMOKELOADER\\240606-l47nescg4x.behavioral1.pcapng.png\n",
      "Saved image for data\\PCAPS\\SMOKELOADER\\240606-l47nescg4x.behavioral2.pcapng to z-order\\train\\SMOKELOADER\\240606-l47nescg4x.behavioral2.pcapng.png\n"
     ]
    },
    {
     "name": "stderr",
     "output_type": "stream",
     "text": [
      "WARNING: PcapNg: TLS Key Log available, but the TLS layer is not loaded! Scapy won't be able to decrypt the packets.\n"
     ]
    },
    {
     "name": "stdout",
     "output_type": "stream",
     "text": [
      "Saved image for data\\PCAPS\\SMOKELOADER\\240606-pzqqwsfc62.behavioral1.pcapng to z-order\\train\\SMOKELOADER\\240606-pzqqwsfc62.behavioral1.pcapng.png\n"
     ]
    },
    {
     "name": "stderr",
     "output_type": "stream",
     "text": [
      "WARNING: PcapNg: TLS Key Log available, but the TLS layer is not loaded! Scapy won't be able to decrypt the packets.\n"
     ]
    },
    {
     "name": "stdout",
     "output_type": "stream",
     "text": [
      "Saved image for data\\PCAPS\\SMOKELOADER\\240606-pzqqwsfc62.behavioral2.pcapng to z-order\\train\\SMOKELOADER\\240606-pzqqwsfc62.behavioral2.pcapng.png\n"
     ]
    },
    {
     "name": "stderr",
     "output_type": "stream",
     "text": [
      "WARNING: more PcapNg: TLS Key Log available, but the TLS layer is not loaded! Scapy won't be able to decrypt the packets.\n"
     ]
    },
    {
     "name": "stdout",
     "output_type": "stream",
     "text": [
      "Saved image for data\\PCAPS\\SMOKELOADER\\240606-t4qnxahf96.behavioral1.pcapng to z-order\\train\\SMOKELOADER\\240606-t4qnxahf96.behavioral1.pcapng.png\n",
      "Saved image for data\\PCAPS\\SMOKELOADER\\240606-t4qnxahf96.behavioral2.pcapng to z-order\\train\\SMOKELOADER\\240606-t4qnxahf96.behavioral2.pcapng.png\n",
      "Saved image for data\\PCAPS\\SMOKELOADER\\240607-b1rgxsge47.behavioral1.pcapng to z-order\\train\\SMOKELOADER\\240607-b1rgxsge47.behavioral1.pcapng.png\n",
      "Saved image for data\\PCAPS\\SMOKELOADER\\240607-b1rgxsge47.behavioral2.pcapng to z-order\\train\\SMOKELOADER\\240607-b1rgxsge47.behavioral2.pcapng.png\n",
      "Skipping data\\PCAPS\\SMOKELOADER\\240608-r4a74sde33.behavioral1.pcapng as it is smaller than 2KB\n",
      "Saved image for data\\PCAPS\\SMOKELOADER\\240608-r4a74sde33.behavioral2.pcapng to z-order\\train\\SMOKELOADER\\240608-r4a74sde33.behavioral2.pcapng.png\n",
      "Saved image for data\\PCAPS\\SMOKELOADER\\240608-tlajzaea59.behavioral1.pcapng to z-order\\train\\SMOKELOADER\\240608-tlajzaea59.behavioral1.pcapng.png\n",
      "Saved image for data\\PCAPS\\SMOKELOADER\\240608-tlajzaea59.behavioral2.pcapng to z-order\\train\\SMOKELOADER\\240608-tlajzaea59.behavioral2.pcapng.png\n",
      "Saved image for data\\PCAPS\\SMOKELOADER\\240609-3zdcfshd63.behavioral1.pcapng to z-order\\train\\SMOKELOADER\\240609-3zdcfshd63.behavioral1.pcapng.png\n",
      "Saved image for data\\PCAPS\\SMOKELOADER\\240609-3zdcfshd63.behavioral2.pcapng to z-order\\train\\SMOKELOADER\\240609-3zdcfshd63.behavioral2.pcapng.png\n",
      "Saved image for data\\PCAPS\\SMOKELOADER\\240609-vm7rjadd73.behavioral1.pcapng to z-order\\train\\SMOKELOADER\\240609-vm7rjadd73.behavioral1.pcapng.png\n",
      "Saved image for data\\PCAPS\\SMOKELOADER\\240609-vm7rjadd73.behavioral2.pcapng to z-order\\train\\SMOKELOADER\\240609-vm7rjadd73.behavioral2.pcapng.png\n",
      "Skipping data\\PCAPS\\SMOKELOADER\\240610-nq3hnahh33.behavioral1.pcapng as it is smaller than 2KB\n",
      "Saved image for data\\PCAPS\\SMOKELOADER\\240610-nq3hnahh33.behavioral2.pcapng to z-order\\train\\SMOKELOADER\\240610-nq3hnahh33.behavioral2.pcapng.png\n",
      "Skipping data\\PCAPS\\SODINOKIBI\\240513-2gwkmsgc81.behavioral1.pcapng as it is smaller than 2KB\n",
      "Saved image for data\\PCAPS\\SODINOKIBI\\240513-2gwkmsgc81.behavioral2.pcapng to z-order\\train\\SODINOKIBI\\240513-2gwkmsgc81.behavioral2.pcapng.png\n",
      "Saved image for data\\PCAPS\\SODINOKIBI\\240513-ma3m2shh4t.behavioral1.pcapng to z-order\\train\\SODINOKIBI\\240513-ma3m2shh4t.behavioral1.pcapng.png\n",
      "Saved image for data\\PCAPS\\SODINOKIBI\\240513-ma3m2shh4t.behavioral2.pcapng to z-order\\train\\SODINOKIBI\\240513-ma3m2shh4t.behavioral2.pcapng.png\n",
      "Skipping data\\PCAPS\\SODINOKIBI\\240514-1b76tahd21.behavioral1.pcapng as it is smaller than 2KB\n",
      "Saved image for data\\PCAPS\\SODINOKIBI\\240514-1b76tahd21.behavioral2.pcapng to z-order\\train\\SODINOKIBI\\240514-1b76tahd21.behavioral2.pcapng.png\n",
      "Skipping data\\PCAPS\\SODINOKIBI\\240514-et34xsad3z.behavioral1.pcapng as it is smaller than 2KB\n",
      "Saved image for data\\PCAPS\\SODINOKIBI\\240514-et34xsad3z.behavioral2.pcapng to z-order\\train\\SODINOKIBI\\240514-et34xsad3z.behavioral2.pcapng.png\n",
      "Saved image for data\\PCAPS\\SODINOKIBI\\240514-xs5v8sbf3v.behavioral1.pcapng to z-order\\train\\SODINOKIBI\\240514-xs5v8sbf3v.behavioral1.pcapng.png\n",
      "Saved image for data\\PCAPS\\SODINOKIBI\\240514-xs5v8sbf3v.behavioral2.pcapng to z-order\\train\\SODINOKIBI\\240514-xs5v8sbf3v.behavioral2.pcapng.png\n"
     ]
    },
    {
     "name": "stderr",
     "output_type": "stream",
     "text": [
      "WARNING: PcapNg: TLS Key Log available, but the TLS layer is not loaded! Scapy won't be able to decrypt the packets.\n"
     ]
    },
    {
     "name": "stdout",
     "output_type": "stream",
     "text": [
      "Saved image for data\\PCAPS\\SODINOKIBI\\240515-c81agadh88.behavioral1.pcapng to z-order\\train\\SODINOKIBI\\240515-c81agadh88.behavioral1.pcapng.png\n"
     ]
    },
    {
     "name": "stderr",
     "output_type": "stream",
     "text": [
      "WARNING: PcapNg: TLS Key Log available, but the TLS layer is not loaded! Scapy won't be able to decrypt the packets.\n"
     ]
    },
    {
     "name": "stdout",
     "output_type": "stream",
     "text": [
      "Saved image for data\\PCAPS\\SODINOKIBI\\240515-c81agadh88.behavioral2.pcapng to z-order\\train\\SODINOKIBI\\240515-c81agadh88.behavioral2.pcapng.png\n",
      "Skipping data\\PCAPS\\SODINOKIBI\\240515-g9g8hadd62.behavioral1.pcapng as it is smaller than 2KB\n"
     ]
    },
    {
     "name": "stderr",
     "output_type": "stream",
     "text": [
      "WARNING: more PcapNg: TLS Key Log available, but the TLS layer is not loaded! Scapy won't be able to decrypt the packets.\n"
     ]
    },
    {
     "name": "stdout",
     "output_type": "stream",
     "text": [
      "Saved image for data\\PCAPS\\SODINOKIBI\\240515-g9g8hadd62.behavioral2.pcapng to z-order\\train\\SODINOKIBI\\240515-g9g8hadd62.behavioral2.pcapng.png\n",
      "Skipping data\\PCAPS\\SODINOKIBI\\240515-kx6l4sac33.behavioral1.pcapng as it is smaller than 2KB\n",
      "Saved image for data\\PCAPS\\SODINOKIBI\\240515-kx6l4sac33.behavioral2.pcapng to z-order\\train\\SODINOKIBI\\240515-kx6l4sac33.behavioral2.pcapng.png\n",
      "Skipping data\\PCAPS\\SODINOKIBI\\240516-3ppyhaeh36.behavioral1.pcapng as it is smaller than 2KB\n",
      "Saved image for data\\PCAPS\\SODINOKIBI\\240516-3ppyhaeh36.behavioral2.pcapng to z-order\\train\\SODINOKIBI\\240516-3ppyhaeh36.behavioral2.pcapng.png\n",
      "Skipping data\\PCAPS\\SODINOKIBI\\240516-b9jhnsfd24.behavioral1.pcapng as it is smaller than 2KB\n",
      "Saved image for data\\PCAPS\\SODINOKIBI\\240516-b9jhnsfd24.behavioral2.pcapng to z-order\\train\\SODINOKIBI\\240516-b9jhnsfd24.behavioral2.pcapng.png\n",
      "Saved image for data\\PCAPS\\SODINOKIBI\\240517-3b3bnsgd5v.behavioral1.pcapng to z-order\\train\\SODINOKIBI\\240517-3b3bnsgd5v.behavioral1.pcapng.png\n",
      "Saved image for data\\PCAPS\\SODINOKIBI\\240517-3b3bnsgd5v.behavioral2.pcapng to z-order\\train\\SODINOKIBI\\240517-3b3bnsgd5v.behavioral2.pcapng.png\n"
     ]
    },
    {
     "name": "stderr",
     "output_type": "stream",
     "text": [
      "WARNING: PcapNg: TLS Key Log available, but the TLS layer is not loaded! Scapy won't be able to decrypt the packets.\n"
     ]
    },
    {
     "name": "stdout",
     "output_type": "stream",
     "text": [
      "Saved image for data\\PCAPS\\SODINOKIBI\\240518-g2a48afd74.behavioral1.pcapng to z-order\\train\\SODINOKIBI\\240518-g2a48afd74.behavioral1.pcapng.png\n"
     ]
    },
    {
     "name": "stderr",
     "output_type": "stream",
     "text": [
      "WARNING: PcapNg: TLS Key Log available, but the TLS layer is not loaded! Scapy won't be able to decrypt the packets.\n"
     ]
    },
    {
     "name": "stdout",
     "output_type": "stream",
     "text": [
      "Saved image for data\\PCAPS\\SODINOKIBI\\240518-g2a48afd74.behavioral2.pcapng to z-order\\train\\SODINOKIBI\\240518-g2a48afd74.behavioral2.pcapng.png\n",
      "Skipping data\\PCAPS\\SODINOKIBI\\240519-ef5etshb31.behavioral1.pcapng as it is smaller than 2KB\n"
     ]
    },
    {
     "name": "stderr",
     "output_type": "stream",
     "text": [
      "WARNING: more PcapNg: TLS Key Log available, but the TLS layer is not loaded! Scapy won't be able to decrypt the packets.\n"
     ]
    },
    {
     "name": "stdout",
     "output_type": "stream",
     "text": [
      "Saved image for data\\PCAPS\\SODINOKIBI\\240519-ef5etshb31.behavioral2.pcapng to z-order\\train\\SODINOKIBI\\240519-ef5etshb31.behavioral2.pcapng.png\n",
      "Skipping data\\PCAPS\\SODINOKIBI\\240520-2l7tgaaa65.behavioral1.pcapng as it is smaller than 2KB\n",
      "Saved image for data\\PCAPS\\SODINOKIBI\\240520-2l7tgaaa65.behavioral2.pcapng to z-order\\train\\SODINOKIBI\\240520-2l7tgaaa65.behavioral2.pcapng.png\n",
      "Saved image for data\\PCAPS\\SODINOKIBI\\240520-tn61yshd3x.behavioral1.pcapng to z-order\\train\\SODINOKIBI\\240520-tn61yshd3x.behavioral1.pcapng.png\n",
      "Saved image for data\\PCAPS\\SODINOKIBI\\240520-tn61yshd3x.behavioral2.pcapng to z-order\\train\\SODINOKIBI\\240520-tn61yshd3x.behavioral2.pcapng.png\n",
      "Saved image for data\\PCAPS\\SODINOKIBI\\240521-bv4v3adg67.behavioral1.pcapng to z-order\\train\\SODINOKIBI\\240521-bv4v3adg67.behavioral1.pcapng.png\n",
      "Saved image for data\\PCAPS\\SODINOKIBI\\240521-bv4v3adg67.behavioral2.pcapng to z-order\\train\\SODINOKIBI\\240521-bv4v3adg67.behavioral2.pcapng.png\n"
     ]
    },
    {
     "name": "stderr",
     "output_type": "stream",
     "text": [
      "WARNING: PcapNg: TLS Key Log available, but the TLS layer is not loaded! Scapy won't be able to decrypt the packets.\n"
     ]
    },
    {
     "name": "stdout",
     "output_type": "stream",
     "text": [
      "Saved image for data\\PCAPS\\SODINOKIBI\\240521-letp9sgd3t.behavioral1.pcapng to z-order\\train\\SODINOKIBI\\240521-letp9sgd3t.behavioral1.pcapng.png\n"
     ]
    },
    {
     "name": "stderr",
     "output_type": "stream",
     "text": [
      "WARNING: PcapNg: TLS Key Log available, but the TLS layer is not loaded! Scapy won't be able to decrypt the packets.\n"
     ]
    },
    {
     "name": "stdout",
     "output_type": "stream",
     "text": [
      "Saved image for data\\PCAPS\\SODINOKIBI\\240521-letp9sgd3t.behavioral2.pcapng to z-order\\train\\SODINOKIBI\\240521-letp9sgd3t.behavioral2.pcapng.png\n"
     ]
    },
    {
     "name": "stderr",
     "output_type": "stream",
     "text": [
      "WARNING: more PcapNg: TLS Key Log available, but the TLS layer is not loaded! Scapy won't be able to decrypt the packets.\n"
     ]
    },
    {
     "name": "stdout",
     "output_type": "stream",
     "text": [
      "Saved image for data\\PCAPS\\SODINOKIBI\\240521-r733ashf39.behavioral1.pcapng to z-order\\train\\SODINOKIBI\\240521-r733ashf39.behavioral1.pcapng.png\n",
      "Saved image for data\\PCAPS\\SODINOKIBI\\240521-r733ashf39.behavioral2.pcapng to z-order\\train\\SODINOKIBI\\240521-r733ashf39.behavioral2.pcapng.png\n",
      "Skipping data\\PCAPS\\SODINOKIBI\\240521-saaj6ahf95.behavioral1.pcapng as it is smaller than 2KB\n",
      "Saved image for data\\PCAPS\\SODINOKIBI\\240521-saaj6ahf95.behavioral2.pcapng to z-order\\train\\SODINOKIBI\\240521-saaj6ahf95.behavioral2.pcapng.png\n",
      "Saved image for data\\PCAPS\\SODINOKIBI\\240522-nt3yladd93.behavioral1.pcapng to z-order\\train\\SODINOKIBI\\240522-nt3yladd93.behavioral1.pcapng.png\n",
      "Saved image for data\\PCAPS\\SODINOKIBI\\240522-nt3yladd93.behavioral2.pcapng to z-order\\train\\SODINOKIBI\\240522-nt3yladd93.behavioral2.pcapng.png\n"
     ]
    },
    {
     "name": "stderr",
     "output_type": "stream",
     "text": [
      "WARNING: PcapNg: TLS Key Log available, but the TLS layer is not loaded! Scapy won't be able to decrypt the packets.\n"
     ]
    },
    {
     "name": "stdout",
     "output_type": "stream",
     "text": [
      "Saved image for data\\PCAPS\\SODINOKIBI\\240522-xjj76scf8y.behavioral1.pcapng to z-order\\train\\SODINOKIBI\\240522-xjj76scf8y.behavioral1.pcapng.png\n"
     ]
    },
    {
     "name": "stderr",
     "output_type": "stream",
     "text": [
      "WARNING: PcapNg: TLS Key Log available, but the TLS layer is not loaded! Scapy won't be able to decrypt the packets.\n"
     ]
    },
    {
     "name": "stdout",
     "output_type": "stream",
     "text": [
      "Saved image for data\\PCAPS\\SODINOKIBI\\240522-xjj76scf8y.behavioral2.pcapng to z-order\\train\\SODINOKIBI\\240522-xjj76scf8y.behavioral2.pcapng.png\n",
      "Skipping data\\PCAPS\\SODINOKIBI\\240523-27zd8ada35.behavioral1.pcapng as it is smaller than 2KB\n"
     ]
    },
    {
     "name": "stderr",
     "output_type": "stream",
     "text": [
      "WARNING: more PcapNg: TLS Key Log available, but the TLS layer is not loaded! Scapy won't be able to decrypt the packets.\n"
     ]
    },
    {
     "name": "stdout",
     "output_type": "stream",
     "text": [
      "Saved image for data\\PCAPS\\SODINOKIBI\\240523-27zd8ada35.behavioral2.pcapng to z-order\\train\\SODINOKIBI\\240523-27zd8ada35.behavioral2.pcapng.png\n",
      "Skipping data\\PCAPS\\SODINOKIBI\\240523-xr2r7acg4t.behavioral1.pcapng as it is smaller than 2KB\n",
      "Saved image for data\\PCAPS\\SODINOKIBI\\240523-xr2r7acg4t.behavioral2.pcapng to z-order\\train\\SODINOKIBI\\240523-xr2r7acg4t.behavioral2.pcapng.png\n",
      "Skipping data\\PCAPS\\SODINOKIBI\\240525-q776ksfc48.behavioral1.pcapng as it is smaller than 2KB\n",
      "Saved image for data\\PCAPS\\SODINOKIBI\\240525-q776ksfc48.behavioral2.pcapng to z-order\\train\\SODINOKIBI\\240525-q776ksfc48.behavioral2.pcapng.png\n",
      "Saved image for data\\PCAPS\\SODINOKIBI\\240526-dak9bsda22.behavioral1.pcapng to z-order\\train\\SODINOKIBI\\240526-dak9bsda22.behavioral1.pcapng.png\n",
      "Saved image for data\\PCAPS\\SODINOKIBI\\240526-dak9bsda22.behavioral2.pcapng to z-order\\train\\SODINOKIBI\\240526-dak9bsda22.behavioral2.pcapng.png\n",
      "Skipping data\\PCAPS\\SODINOKIBI\\240526-jfftpacc66.behavioral1.pcapng as it is smaller than 2KB\n",
      "Saved image for data\\PCAPS\\SODINOKIBI\\240526-jfftpacc66.behavioral2.pcapng to z-order\\train\\SODINOKIBI\\240526-jfftpacc66.behavioral2.pcapng.png\n",
      "Skipping data\\PCAPS\\SODINOKIBI\\240527-jbm27sdc96.behavioral1.pcapng as it is smaller than 2KB\n",
      "Saved image for data\\PCAPS\\SODINOKIBI\\240527-jbm27sdc96.behavioral2.pcapng to z-order\\train\\SODINOKIBI\\240527-jbm27sdc96.behavioral2.pcapng.png\n"
     ]
    },
    {
     "name": "stderr",
     "output_type": "stream",
     "text": [
      "WARNING: PcapNg: TLS Key Log available, but the TLS layer is not loaded! Scapy won't be able to decrypt the packets.\n"
     ]
    },
    {
     "name": "stdout",
     "output_type": "stream",
     "text": [
      "Saved image for data\\PCAPS\\SODINOKIBI\\240528-3p2mashd2t.behavioral1.pcapng to z-order\\train\\SODINOKIBI\\240528-3p2mashd2t.behavioral1.pcapng.png\n"
     ]
    },
    {
     "name": "stderr",
     "output_type": "stream",
     "text": [
      "WARNING: PcapNg: TLS Key Log available, but the TLS layer is not loaded! Scapy won't be able to decrypt the packets.\n"
     ]
    },
    {
     "name": "stdout",
     "output_type": "stream",
     "text": [
      "Saved image for data\\PCAPS\\SODINOKIBI\\240528-3p2mashd2t.behavioral2.pcapng to z-order\\train\\SODINOKIBI\\240528-3p2mashd2t.behavioral2.pcapng.png\n",
      "Skipping data\\PCAPS\\SODINOKIBI\\240528-bwc4qsag56.behavioral1.pcapng as it is smaller than 2KB\n"
     ]
    },
    {
     "name": "stderr",
     "output_type": "stream",
     "text": [
      "WARNING: more PcapNg: TLS Key Log available, but the TLS layer is not loaded! Scapy won't be able to decrypt the packets.\n"
     ]
    },
    {
     "name": "stdout",
     "output_type": "stream",
     "text": [
      "Saved image for data\\PCAPS\\SODINOKIBI\\240528-bwc4qsag56.behavioral2.pcapng to z-order\\train\\SODINOKIBI\\240528-bwc4qsag56.behavioral2.pcapng.png\n",
      "Skipping data\\PCAPS\\SODINOKIBI\\240528-jxc45abh5s.behavioral1.pcapng as it is smaller than 2KB\n",
      "Saved image for data\\PCAPS\\SODINOKIBI\\240528-jxc45abh5s.behavioral2.pcapng to z-order\\train\\SODINOKIBI\\240528-jxc45abh5s.behavioral2.pcapng.png\n",
      "Saved image for data\\PCAPS\\SODINOKIBI\\240529-payefadg3y.behavioral1.pcapng to z-order\\train\\SODINOKIBI\\240529-payefadg3y.behavioral1.pcapng.png\n",
      "Saved image for data\\PCAPS\\SODINOKIBI\\240529-payefadg3y.behavioral2.pcapng to z-order\\train\\SODINOKIBI\\240529-payefadg3y.behavioral2.pcapng.png\n",
      "Skipping data\\PCAPS\\SODINOKIBI\\240531-dr1eksdb8z.behavioral1.pcapng as it is smaller than 2KB\n",
      "Saved image for data\\PCAPS\\SODINOKIBI\\240531-dr1eksdb8z.behavioral2.pcapng to z-order\\train\\SODINOKIBI\\240531-dr1eksdb8z.behavioral2.pcapng.png\n",
      "Skipping data\\PCAPS\\SODINOKIBI\\240531-jjyhxabe8x.behavioral1.pcapng as it is smaller than 2KB\n",
      "Saved image for data\\PCAPS\\SODINOKIBI\\240531-jjyhxabe8x.behavioral2.pcapng to z-order\\train\\SODINOKIBI\\240531-jjyhxabe8x.behavioral2.pcapng.png\n",
      "Saved image for data\\PCAPS\\SODINOKIBI\\240531-nnqq3sge23.behavioral1.pcapng to z-order\\train\\SODINOKIBI\\240531-nnqq3sge23.behavioral1.pcapng.png\n",
      "Saved image for data\\PCAPS\\SODINOKIBI\\240531-nnqq3sge23.behavioral2.pcapng to z-order\\train\\SODINOKIBI\\240531-nnqq3sge23.behavioral2.pcapng.png\n",
      "Saved image for data\\PCAPS\\SODINOKIBI\\240531-pk72mahd52.behavioral1.pcapng to z-order\\train\\SODINOKIBI\\240531-pk72mahd52.behavioral1.pcapng.png\n",
      "Saved image for data\\PCAPS\\SODINOKIBI\\240531-pk72mahd52.behavioral2.pcapng to z-order\\train\\SODINOKIBI\\240531-pk72mahd52.behavioral2.pcapng.png\n",
      "Skipping data\\PCAPS\\SODINOKIBI\\240601-3t4mfsbc5s.behavioral1.pcapng as it is smaller than 2KB\n",
      "Saved image for data\\PCAPS\\SODINOKIBI\\240601-3t4mfsbc5s.behavioral2.pcapng to z-order\\train\\SODINOKIBI\\240601-3t4mfsbc5s.behavioral2.pcapng.png\n",
      "Saved image for data\\PCAPS\\SODINOKIBI\\240601-cav8vsee36.behavioral1.pcapng to z-order\\train\\SODINOKIBI\\240601-cav8vsee36.behavioral1.pcapng.png\n",
      "Saved image for data\\PCAPS\\SODINOKIBI\\240601-cav8vsee36.behavioral2.pcapng to z-order\\train\\SODINOKIBI\\240601-cav8vsee36.behavioral2.pcapng.png\n",
      "Skipping data\\PCAPS\\SODINOKIBI\\240601-mdx7qsaf97.behavioral1.pcapng as it is smaller than 2KB\n",
      "Saved image for data\\PCAPS\\SODINOKIBI\\240601-mdx7qsaf97.behavioral2.pcapng to z-order\\train\\SODINOKIBI\\240601-mdx7qsaf97.behavioral2.pcapng.png\n",
      "Skipping data\\PCAPS\\SODINOKIBI\\240601-v3lt1aae44.behavioral1.pcapng as it is smaller than 2KB\n",
      "Saved image for data\\PCAPS\\SODINOKIBI\\240601-v3lt1aae44.behavioral2.pcapng to z-order\\train\\SODINOKIBI\\240601-v3lt1aae44.behavioral2.pcapng.png\n",
      "Skipping data\\PCAPS\\SODINOKIBI\\240602-hmd31aeg36.behavioral1.pcapng as it is smaller than 2KB\n",
      "Saved image for data\\PCAPS\\SODINOKIBI\\240602-hmd31aeg36.behavioral2.pcapng to z-order\\train\\SODINOKIBI\\240602-hmd31aeg36.behavioral2.pcapng.png\n",
      "Saved image for data\\PCAPS\\SODINOKIBI\\240602-km899agd6t.behavioral1.pcapng to z-order\\train\\SODINOKIBI\\240602-km899agd6t.behavioral1.pcapng.png\n",
      "Saved image for data\\PCAPS\\SODINOKIBI\\240602-km899agd6t.behavioral2.pcapng to z-order\\train\\SODINOKIBI\\240602-km899agd6t.behavioral2.pcapng.png\n",
      "Skipping data\\PCAPS\\SODINOKIBI\\240602-ncm6tabc91.behavioral1.pcapng as it is smaller than 2KB\n"
     ]
    },
    {
     "name": "stderr",
     "output_type": "stream",
     "text": [
      "WARNING: PcapNg: TLS Key Log available, but the TLS layer is not loaded! Scapy won't be able to decrypt the packets.\n"
     ]
    },
    {
     "name": "stdout",
     "output_type": "stream",
     "text": [
      "Saved image for data\\PCAPS\\SODINOKIBI\\240602-ncm6tabc91.behavioral2.pcapng to z-order\\train\\SODINOKIBI\\240602-ncm6tabc91.behavioral2.pcapng.png\n",
      "Skipping data\\PCAPS\\SODINOKIBI\\240603-d782nabc77.behavioral1.pcapng as it is smaller than 2KB\n"
     ]
    },
    {
     "name": "stderr",
     "output_type": "stream",
     "text": [
      "WARNING: PcapNg: TLS Key Log available, but the TLS layer is not loaded! Scapy won't be able to decrypt the packets.\n"
     ]
    },
    {
     "name": "stdout",
     "output_type": "stream",
     "text": [
      "Saved image for data\\PCAPS\\SODINOKIBI\\240603-d782nabc77.behavioral2.pcapng to z-order\\train\\SODINOKIBI\\240603-d782nabc77.behavioral2.pcapng.png\n",
      "Skipping data\\PCAPS\\SODINOKIBI\\240603-dy59eahe3x.behavioral1.pcapng as it is smaller than 2KB\n"
     ]
    },
    {
     "name": "stderr",
     "output_type": "stream",
     "text": [
      "WARNING: more PcapNg: TLS Key Log available, but the TLS layer is not loaded! Scapy won't be able to decrypt the packets.\n"
     ]
    },
    {
     "name": "stdout",
     "output_type": "stream",
     "text": [
      "Saved image for data\\PCAPS\\SODINOKIBI\\240603-dy59eahe3x.behavioral2.pcapng to z-order\\train\\SODINOKIBI\\240603-dy59eahe3x.behavioral2.pcapng.png\n",
      "Saved image for data\\PCAPS\\SODINOKIBI\\240604-3nsm1afd3y.behavioral1.pcapng to z-order\\train\\SODINOKIBI\\240604-3nsm1afd3y.behavioral1.pcapng.png\n",
      "Saved image for data\\PCAPS\\SODINOKIBI\\240604-3nsm1afd3y.behavioral2.pcapng to z-order\\train\\SODINOKIBI\\240604-3nsm1afd3y.behavioral2.pcapng.png\n",
      "Saved image for data\\PCAPS\\SODINOKIBI\\240604-3ste4afe5z.behavioral1.pcapng to z-order\\train\\SODINOKIBI\\240604-3ste4afe5z.behavioral1.pcapng.png\n",
      "Saved image for data\\PCAPS\\SODINOKIBI\\240604-3ste4afe5z.behavioral2.pcapng to z-order\\train\\SODINOKIBI\\240604-3ste4afe5z.behavioral2.pcapng.png\n",
      "Skipping data\\PCAPS\\SODINOKIBI\\240605-2ar9msbf26.behavioral1.pcapng as it is smaller than 2KB\n",
      "Saved image for data\\PCAPS\\SODINOKIBI\\240605-2ar9msbf26.behavioral2.pcapng to z-order\\train\\SODINOKIBI\\240605-2ar9msbf26.behavioral2.pcapng.png\n",
      "Saved image for data\\PCAPS\\SODINOKIBI\\240605-zwc1qsac62.behavioral1.pcapng to z-order\\train\\SODINOKIBI\\240605-zwc1qsac62.behavioral1.pcapng.png\n",
      "Saved image for data\\PCAPS\\SODINOKIBI\\240605-zwc1qsac62.behavioral2.pcapng to z-order\\train\\SODINOKIBI\\240605-zwc1qsac62.behavioral2.pcapng.png\n",
      "Skipping data\\PCAPS\\TRICKBOT\\240601-hwwz6seb96.behavioral1.pcapng as it is smaller than 2KB\n",
      "Saved image for data\\PCAPS\\TRICKBOT\\240601-hwwz6seb96.behavioral2.pcapng to z-order\\train\\TRICKBOT\\240601-hwwz6seb96.behavioral2.pcapng.png\n",
      "Skipping data\\PCAPS\\TRICKBOT\\240601-p7w8msch2w.behavioral1.pcapng as it is smaller than 2KB\n"
     ]
    },
    {
     "name": "stderr",
     "output_type": "stream",
     "text": [
      "WARNING: PcapNg: TLS Key Log available, but the TLS layer is not loaded! Scapy won't be able to decrypt the packets.\n"
     ]
    },
    {
     "name": "stdout",
     "output_type": "stream",
     "text": [
      "Saved image for data\\PCAPS\\TRICKBOT\\240601-p7w8msch2w.behavioral2.pcapng to z-order\\train\\TRICKBOT\\240601-p7w8msch2w.behavioral2.pcapng.png\n",
      "Skipping data\\PCAPS\\TRICKBOT\\240601-rlvh2afb75.behavioral1.pcapng as it is smaller than 2KB\n"
     ]
    },
    {
     "name": "stderr",
     "output_type": "stream",
     "text": [
      "WARNING: PcapNg: TLS Key Log available, but the TLS layer is not loaded! Scapy won't be able to decrypt the packets.\n"
     ]
    },
    {
     "name": "stdout",
     "output_type": "stream",
     "text": [
      "Saved image for data\\PCAPS\\TRICKBOT\\240601-rlvh2afb75.behavioral2.pcapng to z-order\\train\\TRICKBOT\\240601-rlvh2afb75.behavioral2.pcapng.png\n",
      "Skipping data\\PCAPS\\TRICKBOT\\240602-1lc4esga3v.behavioral1.pcapng as it is smaller than 2KB\n"
     ]
    },
    {
     "name": "stderr",
     "output_type": "stream",
     "text": [
      "WARNING: more PcapNg: TLS Key Log available, but the TLS layer is not loaded! Scapy won't be able to decrypt the packets.\n"
     ]
    },
    {
     "name": "stdout",
     "output_type": "stream",
     "text": [
      "Saved image for data\\PCAPS\\TRICKBOT\\240602-1lc4esga3v.behavioral2.pcapng to z-order\\train\\TRICKBOT\\240602-1lc4esga3v.behavioral2.pcapng.png\n",
      "Skipping data\\PCAPS\\TRICKBOT\\240602-1xyt9sge7w.behavioral1.pcapng as it is smaller than 2KB\n",
      "Saved image for data\\PCAPS\\TRICKBOT\\240602-1xyt9sge7w.behavioral2.pcapng to z-order\\train\\TRICKBOT\\240602-1xyt9sge7w.behavioral2.pcapng.png\n",
      "Skipping data\\PCAPS\\TRICKBOT\\240602-aym62sdb89.behavioral1.pcapng as it is smaller than 2KB\n",
      "Saved image for data\\PCAPS\\TRICKBOT\\240602-aym62sdb89.behavioral2.pcapng to z-order\\train\\TRICKBOT\\240602-aym62sdb89.behavioral2.pcapng.png\n",
      "Skipping data\\PCAPS\\TRICKBOT\\240602-ghz91ach8w.behavioral1.pcapng as it is smaller than 2KB\n",
      "Saved image for data\\PCAPS\\TRICKBOT\\240602-ghz91ach8w.behavioral2.pcapng to z-order\\train\\TRICKBOT\\240602-ghz91ach8w.behavioral2.pcapng.png\n",
      "Skipping data\\PCAPS\\TRICKBOT\\240602-plcl4sdc45.behavioral1.pcapng as it is smaller than 2KB\n",
      "Saved image for data\\PCAPS\\TRICKBOT\\240602-plcl4sdc45.behavioral2.pcapng to z-order\\train\\TRICKBOT\\240602-plcl4sdc45.behavioral2.pcapng.png\n",
      "Skipping data\\PCAPS\\TRICKBOT\\240602-qw18wsdg41.behavioral1.pcapng as it is smaller than 2KB\n",
      "Saved image for data\\PCAPS\\TRICKBOT\\240602-qw18wsdg41.behavioral2.pcapng to z-order\\train\\TRICKBOT\\240602-qw18wsdg41.behavioral2.pcapng.png\n",
      "Skipping data\\PCAPS\\TRICKBOT\\240602-vbk4dsgh8w.behavioral1.pcapng as it is smaller than 2KB\n",
      "Saved image for data\\PCAPS\\TRICKBOT\\240602-vbk4dsgh8w.behavioral2.pcapng to z-order\\train\\TRICKBOT\\240602-vbk4dsgh8w.behavioral2.pcapng.png\n",
      "Skipping data\\PCAPS\\TRICKBOT\\240603-1nhrpabb84.behavioral1.pcapng as it is smaller than 2KB\n",
      "Saved image for data\\PCAPS\\TRICKBOT\\240603-1nhrpabb84.behavioral2.pcapng to z-order\\train\\TRICKBOT\\240603-1nhrpabb84.behavioral2.pcapng.png\n",
      "Skipping data\\PCAPS\\TRICKBOT\\240603-bxm1bsee2s.behavioral1.pcapng as it is smaller than 2KB\n",
      "Saved image for data\\PCAPS\\TRICKBOT\\240603-bxm1bsee2s.behavioral2.pcapng to z-order\\train\\TRICKBOT\\240603-bxm1bsee2s.behavioral2.pcapng.png\n",
      "Skipping data\\PCAPS\\TRICKBOT\\240603-chgqfagg35.behavioral1.pcapng as it is smaller than 2KB\n",
      "Saved image for data\\PCAPS\\TRICKBOT\\240603-chgqfagg35.behavioral2.pcapng to z-order\\train\\TRICKBOT\\240603-chgqfagg35.behavioral2.pcapng.png\n",
      "Skipping data\\PCAPS\\TRICKBOT\\240603-el1zlabh98.behavioral1.pcapng as it is smaller than 2KB\n",
      "Saved image for data\\PCAPS\\TRICKBOT\\240603-el1zlabh98.behavioral2.pcapng to z-order\\train\\TRICKBOT\\240603-el1zlabh98.behavioral2.pcapng.png\n",
      "Skipping data\\PCAPS\\TRICKBOT\\240603-fxca2sdh83.behavioral1.pcapng as it is smaller than 2KB\n",
      "Saved image for data\\PCAPS\\TRICKBOT\\240603-fxca2sdh83.behavioral2.pcapng to z-order\\train\\TRICKBOT\\240603-fxca2sdh83.behavioral2.pcapng.png\n",
      "Skipping data\\PCAPS\\TRICKBOT\\240603-m6crhade85.behavioral1.pcapng as it is smaller than 2KB\n"
     ]
    },
    {
     "name": "stderr",
     "output_type": "stream",
     "text": [
      "WARNING: PcapNg: TLS Key Log available, but the TLS layer is not loaded! Scapy won't be able to decrypt the packets.\n"
     ]
    },
    {
     "name": "stdout",
     "output_type": "stream",
     "text": [
      "Saved image for data\\PCAPS\\TRICKBOT\\240603-m6crhade85.behavioral2.pcapng to z-order\\train\\TRICKBOT\\240603-m6crhade85.behavioral2.pcapng.png\n",
      "Skipping data\\PCAPS\\TRICKBOT\\240603-r9d6ysbd28.behavioral1.pcapng as it is smaller than 2KB\n"
     ]
    },
    {
     "name": "stderr",
     "output_type": "stream",
     "text": [
      "WARNING: PcapNg: TLS Key Log available, but the TLS layer is not loaded! Scapy won't be able to decrypt the packets.\n"
     ]
    },
    {
     "name": "stdout",
     "output_type": "stream",
     "text": [
      "Saved image for data\\PCAPS\\TRICKBOT\\240603-r9d6ysbd28.behavioral2.pcapng to z-order\\train\\TRICKBOT\\240603-r9d6ysbd28.behavioral2.pcapng.png\n",
      "Skipping data\\PCAPS\\TRICKBOT\\240603-rm2czahc5z.behavioral1.pcapng as it is smaller than 2KB\n"
     ]
    },
    {
     "name": "stderr",
     "output_type": "stream",
     "text": [
      "WARNING: more PcapNg: TLS Key Log available, but the TLS layer is not loaded! Scapy won't be able to decrypt the packets.\n"
     ]
    },
    {
     "name": "stdout",
     "output_type": "stream",
     "text": [
      "Saved image for data\\PCAPS\\TRICKBOT\\240603-rm2czahc5z.behavioral2.pcapng to z-order\\train\\TRICKBOT\\240603-rm2czahc5z.behavioral2.pcapng.png\n",
      "Skipping data\\PCAPS\\TRICKBOT\\240603-z9vspsaf37.behavioral1.pcapng as it is smaller than 2KB\n",
      "Saved image for data\\PCAPS\\TRICKBOT\\240603-z9vspsaf37.behavioral2.pcapng to z-order\\train\\TRICKBOT\\240603-z9vspsaf37.behavioral2.pcapng.png\n",
      "Skipping data\\PCAPS\\TRICKBOT\\240604-26f69afd97.behavioral1.pcapng as it is smaller than 2KB\n",
      "Saved image for data\\PCAPS\\TRICKBOT\\240604-26f69afd97.behavioral2.pcapng to z-order\\train\\TRICKBOT\\240604-26f69afd97.behavioral2.pcapng.png\n",
      "Skipping data\\PCAPS\\TRICKBOT\\240604-2awxtsde2z.behavioral1.pcapng as it is smaller than 2KB\n",
      "Saved image for data\\PCAPS\\TRICKBOT\\240604-2awxtsde2z.behavioral2.pcapng to z-order\\train\\TRICKBOT\\240604-2awxtsde2z.behavioral2.pcapng.png\n",
      "Skipping data\\PCAPS\\TRICKBOT\\240604-3atcdaeg6y.behavioral1.pcapng as it is smaller than 2KB\n",
      "Saved image for data\\PCAPS\\TRICKBOT\\240604-3atcdaeg6y.behavioral2.pcapng to z-order\\train\\TRICKBOT\\240604-3atcdaeg6y.behavioral2.pcapng.png\n",
      "Skipping data\\PCAPS\\TRICKBOT\\240604-av65raeh3v.behavioral1.pcapng as it is smaller than 2KB\n",
      "Saved image for data\\PCAPS\\TRICKBOT\\240604-av65raeh3v.behavioral2.pcapng to z-order\\train\\TRICKBOT\\240604-av65raeh3v.behavioral2.pcapng.png\n",
      "Skipping data\\PCAPS\\TRICKBOT\\240604-axlxlaeh71.behavioral1.pcapng as it is smaller than 2KB\n",
      "Saved image for data\\PCAPS\\TRICKBOT\\240604-axlxlaeh71.behavioral2.pcapng to z-order\\train\\TRICKBOT\\240604-axlxlaeh71.behavioral2.pcapng.png\n",
      "Skipping data\\PCAPS\\TRICKBOT\\240604-cps22shh9y.behavioral1.pcapng as it is smaller than 2KB\n",
      "Saved image for data\\PCAPS\\TRICKBOT\\240604-cps22shh9y.behavioral2.pcapng to z-order\\train\\TRICKBOT\\240604-cps22shh9y.behavioral2.pcapng.png\n",
      "Skipping data\\PCAPS\\TRICKBOT\\240604-jt44faaf57.behavioral1.pcapng as it is smaller than 2KB\n",
      "Saved image for data\\PCAPS\\TRICKBOT\\240604-jt44faaf57.behavioral2.pcapng to z-order\\train\\TRICKBOT\\240604-jt44faaf57.behavioral2.pcapng.png\n",
      "Skipping data\\PCAPS\\TRICKBOT\\240604-n2zk5sfg46.behavioral1.pcapng as it is smaller than 2KB\n",
      "Saved image for data\\PCAPS\\TRICKBOT\\240604-n2zk5sfg46.behavioral2.pcapng to z-order\\train\\TRICKBOT\\240604-n2zk5sfg46.behavioral2.pcapng.png\n",
      "Skipping data\\PCAPS\\TRICKBOT\\240604-nzlaqsfb6s.behavioral1.pcapng as it is smaller than 2KB\n",
      "Saved image for data\\PCAPS\\TRICKBOT\\240604-nzlaqsfb6s.behavioral2.pcapng to z-order\\train\\TRICKBOT\\240604-nzlaqsfb6s.behavioral2.pcapng.png\n",
      "Skipping data\\PCAPS\\TRICKBOT\\240604-y32r1aab7x.behavioral1.pcapng as it is smaller than 2KB\n",
      "Saved image for data\\PCAPS\\TRICKBOT\\240604-y32r1aab7x.behavioral2.pcapng to z-order\\train\\TRICKBOT\\240604-y32r1aab7x.behavioral2.pcapng.png\n",
      "Skipping data\\PCAPS\\TRICKBOT\\240605-b6jdhaae7t.behavioral1.pcapng as it is smaller than 2KB\n"
     ]
    },
    {
     "name": "stderr",
     "output_type": "stream",
     "text": [
      "WARNING: PcapNg: TLS Key Log available, but the TLS layer is not loaded! Scapy won't be able to decrypt the packets.\n"
     ]
    },
    {
     "name": "stdout",
     "output_type": "stream",
     "text": [
      "Saved image for data\\PCAPS\\TRICKBOT\\240605-b6jdhaae7t.behavioral2.pcapng to z-order\\train\\TRICKBOT\\240605-b6jdhaae7t.behavioral2.pcapng.png\n",
      "Skipping data\\PCAPS\\TRICKBOT\\240605-brlv3saf97.behavioral1.pcapng as it is smaller than 2KB\n"
     ]
    },
    {
     "name": "stderr",
     "output_type": "stream",
     "text": [
      "WARNING: PcapNg: TLS Key Log available, but the TLS layer is not loaded! Scapy won't be able to decrypt the packets.\n"
     ]
    },
    {
     "name": "stdout",
     "output_type": "stream",
     "text": [
      "Saved image for data\\PCAPS\\TRICKBOT\\240605-brlv3saf97.behavioral2.pcapng to z-order\\train\\TRICKBOT\\240605-brlv3saf97.behavioral2.pcapng.png\n",
      "Skipping data\\PCAPS\\TRICKBOT\\240605-c19h6sce57.behavioral1.pcapng as it is smaller than 2KB\n"
     ]
    },
    {
     "name": "stderr",
     "output_type": "stream",
     "text": [
      "WARNING: more PcapNg: TLS Key Log available, but the TLS layer is not loaded! Scapy won't be able to decrypt the packets.\n"
     ]
    },
    {
     "name": "stdout",
     "output_type": "stream",
     "text": [
      "Saved image for data\\PCAPS\\TRICKBOT\\240605-c19h6sce57.behavioral2.pcapng to z-order\\train\\TRICKBOT\\240605-c19h6sce57.behavioral2.pcapng.png\n",
      "Skipping data\\PCAPS\\TRICKBOT\\240605-fce67see3s.behavioral1.pcapng as it is smaller than 2KB\n",
      "Saved image for data\\PCAPS\\TRICKBOT\\240605-fce67see3s.behavioral2.pcapng to z-order\\train\\TRICKBOT\\240605-fce67see3s.behavioral2.pcapng.png\n",
      "Skipping data\\PCAPS\\TRICKBOT\\240605-jqdr3sah88.behavioral1.pcapng as it is smaller than 2KB\n",
      "Saved image for data\\PCAPS\\TRICKBOT\\240605-jqdr3sah88.behavioral2.pcapng to z-order\\train\\TRICKBOT\\240605-jqdr3sah88.behavioral2.pcapng.png\n",
      "Skipping data\\PCAPS\\TRICKBOT\\240605-lymfascd81.behavioral1.pcapng as it is smaller than 2KB\n",
      "Saved image for data\\PCAPS\\TRICKBOT\\240605-lymfascd81.behavioral2.pcapng to z-order\\train\\TRICKBOT\\240605-lymfascd81.behavioral2.pcapng.png\n",
      "Skipping data\\PCAPS\\TRICKBOT\\240605-mkyrvadh86.behavioral1.pcapng as it is smaller than 2KB\n",
      "Saved image for data\\PCAPS\\TRICKBOT\\240605-mkyrvadh86.behavioral2.pcapng to z-order\\train\\TRICKBOT\\240605-mkyrvadh86.behavioral2.pcapng.png\n",
      "Skipping data\\PCAPS\\TRICKBOT\\240605-qeqe3agc5s.behavioral1.pcapng as it is smaller than 2KB\n"
     ]
    },
    {
     "name": "stderr",
     "output_type": "stream",
     "text": [
      "WARNING: PcapNg: TLS Key Log available, but the TLS layer is not loaded! Scapy won't be able to decrypt the packets.\n"
     ]
    },
    {
     "name": "stdout",
     "output_type": "stream",
     "text": [
      "Saved image for data\\PCAPS\\TRICKBOT\\240605-qeqe3agc5s.behavioral2.pcapng to z-order\\train\\TRICKBOT\\240605-qeqe3agc5s.behavioral2.pcapng.png\n",
      "Skipping data\\PCAPS\\TRICKBOT\\240605-v73y3seb32.behavioral1.pcapng as it is smaller than 2KB\n"
     ]
    },
    {
     "name": "stderr",
     "output_type": "stream",
     "text": [
      "WARNING: PcapNg: TLS Key Log available, but the TLS layer is not loaded! Scapy won't be able to decrypt the packets.\n"
     ]
    },
    {
     "name": "stdout",
     "output_type": "stream",
     "text": [
      "Saved image for data\\PCAPS\\TRICKBOT\\240605-v73y3seb32.behavioral2.pcapng to z-order\\train\\TRICKBOT\\240605-v73y3seb32.behavioral2.pcapng.png\n",
      "Skipping data\\PCAPS\\TRICKBOT\\240605-xd19haee6t.behavioral1.pcapng as it is smaller than 2KB\n"
     ]
    },
    {
     "name": "stderr",
     "output_type": "stream",
     "text": [
      "WARNING: more PcapNg: TLS Key Log available, but the TLS layer is not loaded! Scapy won't be able to decrypt the packets.\n"
     ]
    },
    {
     "name": "stdout",
     "output_type": "stream",
     "text": [
      "Saved image for data\\PCAPS\\TRICKBOT\\240605-xd19haee6t.behavioral2.pcapng to z-order\\train\\TRICKBOT\\240605-xd19haee6t.behavioral2.pcapng.png\n",
      "Skipping data\\PCAPS\\TRICKBOT\\240606-bb98qsdc21.behavioral1.pcapng as it is smaller than 2KB\n",
      "Saved image for data\\PCAPS\\TRICKBOT\\240606-bb98qsdc21.behavioral2.pcapng to z-order\\train\\TRICKBOT\\240606-bb98qsdc21.behavioral2.pcapng.png\n",
      "Skipping data\\PCAPS\\TRICKBOT\\240606-bxxvjadg7t.behavioral1.pcapng as it is smaller than 2KB\n",
      "Saved image for data\\PCAPS\\TRICKBOT\\240606-bxxvjadg7t.behavioral2.pcapng to z-order\\train\\TRICKBOT\\240606-bxxvjadg7t.behavioral2.pcapng.png\n",
      "Skipping data\\PCAPS\\TRICKBOT\\240607-awnd2aed9y.behavioral1.pcapng as it is smaller than 2KB\n",
      "Saved image for data\\PCAPS\\TRICKBOT\\240607-awnd2aed9y.behavioral2.pcapng to z-order\\train\\TRICKBOT\\240607-awnd2aed9y.behavioral2.pcapng.png\n",
      "Skipping data\\PCAPS\\TRICKBOT\\240607-kd1xhsee57.behavioral1.pcapng as it is smaller than 2KB\n",
      "Saved image for data\\PCAPS\\TRICKBOT\\240607-kd1xhsee57.behavioral2.pcapng to z-order\\train\\TRICKBOT\\240607-kd1xhsee57.behavioral2.pcapng.png\n",
      "Skipping data\\PCAPS\\TRICKBOT\\240607-nf8a6afc7y.behavioral1.pcapng as it is smaller than 2KB\n",
      "Saved image for data\\PCAPS\\TRICKBOT\\240607-nf8a6afc7y.behavioral2.pcapng to z-order\\train\\TRICKBOT\\240607-nf8a6afc7y.behavioral2.pcapng.png\n",
      "Skipping data\\PCAPS\\TRICKBOT\\240610-nqkb3shg95.behavioral1.pcapng as it is smaller than 2KB\n",
      "Saved image for data\\PCAPS\\TRICKBOT\\240610-nqkb3shg95.behavioral2.pcapng to z-order\\train\\TRICKBOT\\240610-nqkb3shg95.behavioral2.pcapng.png\n",
      "Skipping data\\PCAPS\\TRICKBOT\\240610-qkc2xsxelq.behavioral1.pcapng as it is smaller than 2KB\n",
      "Saved image for data\\PCAPS\\TRICKBOT\\240610-qkc2xsxelq.behavioral2.pcapng to z-order\\train\\TRICKBOT\\240610-qkc2xsxelq.behavioral2.pcapng.png\n",
      "Skipping data\\PCAPS\\UPATRE\\240409-17gzhahf5x.behavioral1.pcapng as it is smaller than 2KB\n",
      "Saved image for data\\PCAPS\\UPATRE\\240409-17gzhahf5x.behavioral2.pcapng to z-order\\train\\UPATRE\\240409-17gzhahf5x.behavioral2.pcapng.png\n",
      "Skipping data\\PCAPS\\UPATRE\\240409-1g6j6sce37.behavioral1.pcapng as it is smaller than 2KB\n",
      "Saved image for data\\PCAPS\\UPATRE\\240409-1g6j6sce37.behavioral2.pcapng to z-order\\train\\UPATRE\\240409-1g6j6sce37.behavioral2.pcapng.png\n",
      "Skipping data\\PCAPS\\UPATRE\\240409-1kvbbacg47.behavioral1.pcapng as it is smaller than 2KB\n",
      "Saved image for data\\PCAPS\\UPATRE\\240409-1kvbbacg47.behavioral2.pcapng to z-order\\train\\UPATRE\\240409-1kvbbacg47.behavioral2.pcapng.png\n",
      "Skipping data\\PCAPS\\UPATRE\\240409-2a4bxahh9v.behavioral1.pcapng as it is smaller than 2KB\n",
      "Saved image for data\\PCAPS\\UPATRE\\240409-2a4bxahh9v.behavioral2.pcapng to z-order\\train\\UPATRE\\240409-2a4bxahh9v.behavioral2.pcapng.png\n",
      "Skipping data\\PCAPS\\UPATRE\\240410-mzt27sgb8s.behavioral1.pcapng as it is smaller than 2KB\n",
      "Saved image for data\\PCAPS\\UPATRE\\240410-mzt27sgb8s.behavioral2.pcapng to z-order\\train\\UPATRE\\240410-mzt27sgb8s.behavioral2.pcapng.png\n",
      "Skipping data\\PCAPS\\UPATRE\\240415-sb3bkahc39.behavioral1.pcapng as it is smaller than 2KB\n",
      "Saved image for data\\PCAPS\\UPATRE\\240415-sb3bkahc39.behavioral2.pcapng to z-order\\train\\UPATRE\\240415-sb3bkahc39.behavioral2.pcapng.png\n",
      "Skipping data\\PCAPS\\UPATRE\\240417-rgvy1abb99.behavioral1.pcapng as it is smaller than 2KB\n",
      "Saved image for data\\PCAPS\\UPATRE\\240417-rgvy1abb99.behavioral2.pcapng to z-order\\train\\UPATRE\\240417-rgvy1abb99.behavioral2.pcapng.png\n",
      "Skipping data\\PCAPS\\UPATRE\\240424-ptj16aaa3y.behavioral1.pcapng as it is smaller than 2KB\n",
      "Saved image for data\\PCAPS\\UPATRE\\240424-ptj16aaa3y.behavioral2.pcapng to z-order\\train\\UPATRE\\240424-ptj16aaa3y.behavioral2.pcapng.png\n",
      "Skipping data\\PCAPS\\UPATRE\\240426-meag3aec81.behavioral1.pcapng as it is smaller than 2KB\n",
      "Saved image for data\\PCAPS\\UPATRE\\240426-meag3aec81.behavioral2.pcapng to z-order\\train\\UPATRE\\240426-meag3aec81.behavioral2.pcapng.png\n",
      "Skipping data\\PCAPS\\UPATRE\\240504-bs432shf6t.behavioral1.pcapng as it is smaller than 2KB\n",
      "Saved image for data\\PCAPS\\UPATRE\\240504-bs432shf6t.behavioral2.pcapng to z-order\\train\\UPATRE\\240504-bs432shf6t.behavioral2.pcapng.png\n",
      "Skipping data\\PCAPS\\UPATRE\\240507-s8zxpsde6t.behavioral1.pcapng as it is smaller than 2KB\n"
     ]
    },
    {
     "name": "stderr",
     "output_type": "stream",
     "text": [
      "WARNING: PcapNg: TLS Key Log available, but the TLS layer is not loaded! Scapy won't be able to decrypt the packets.\n"
     ]
    },
    {
     "name": "stdout",
     "output_type": "stream",
     "text": [
      "Saved image for data\\PCAPS\\UPATRE\\240507-s8zxpsde6t.behavioral2.pcapng to z-order\\train\\UPATRE\\240507-s8zxpsde6t.behavioral2.pcapng.png\n",
      "Skipping data\\PCAPS\\UPATRE\\240509-s3aqmacc85.behavioral1.pcapng as it is smaller than 2KB\n"
     ]
    },
    {
     "name": "stderr",
     "output_type": "stream",
     "text": [
      "WARNING: PcapNg: TLS Key Log available, but the TLS layer is not loaded! Scapy won't be able to decrypt the packets.\n"
     ]
    },
    {
     "name": "stdout",
     "output_type": "stream",
     "text": [
      "Saved image for data\\PCAPS\\UPATRE\\240509-s3aqmacc85.behavioral2.pcapng to z-order\\train\\UPATRE\\240509-s3aqmacc85.behavioral2.pcapng.png\n",
      "Skipping data\\PCAPS\\UPATRE\\240510-24fspsfa61.behavioral1.pcapng as it is smaller than 2KB\n"
     ]
    },
    {
     "name": "stderr",
     "output_type": "stream",
     "text": [
      "WARNING: more PcapNg: TLS Key Log available, but the TLS layer is not loaded! Scapy won't be able to decrypt the packets.\n"
     ]
    },
    {
     "name": "stdout",
     "output_type": "stream",
     "text": [
      "Saved image for data\\PCAPS\\UPATRE\\240510-24fspsfa61.behavioral2.pcapng to z-order\\train\\UPATRE\\240510-24fspsfa61.behavioral2.pcapng.png\n",
      "Skipping data\\PCAPS\\UPATRE\\240510-awx88sgc6y.behavioral1.pcapng as it is smaller than 2KB\n",
      "Saved image for data\\PCAPS\\UPATRE\\240510-awx88sgc6y.behavioral2.pcapng to z-order\\train\\UPATRE\\240510-awx88sgc6y.behavioral2.pcapng.png\n",
      "Skipping data\\PCAPS\\UPATRE\\240510-fj2nsacb7x.behavioral1.pcapng as it is smaller than 2KB\n",
      "Saved image for data\\PCAPS\\UPATRE\\240510-fj2nsacb7x.behavioral2.pcapng to z-order\\train\\UPATRE\\240510-fj2nsacb7x.behavioral2.pcapng.png\n",
      "Skipping data\\PCAPS\\UPATRE\\240517-hvflssfa64.behavioral1.pcapng as it is smaller than 2KB\n",
      "Saved image for data\\PCAPS\\UPATRE\\240517-hvflssfa64.behavioral2.pcapng to z-order\\train\\UPATRE\\240517-hvflssfa64.behavioral2.pcapng.png\n",
      "Skipping data\\PCAPS\\UPATRE\\240517-x5765afa97.behavioral1.pcapng as it is smaller than 2KB\n",
      "Saved image for data\\PCAPS\\UPATRE\\240517-x5765afa97.behavioral2.pcapng to z-order\\train\\UPATRE\\240517-x5765afa97.behavioral2.pcapng.png\n",
      "Skipping data\\PCAPS\\UPATRE\\240518-yb821abh9v.behavioral1.pcapng as it is smaller than 2KB\n",
      "Saved image for data\\PCAPS\\UPATRE\\240518-yb821abh9v.behavioral2.pcapng to z-order\\train\\UPATRE\\240518-yb821abh9v.behavioral2.pcapng.png\n",
      "Skipping data\\PCAPS\\UPATRE\\240519-a894kahe7v.behavioral1.pcapng as it is smaller than 2KB\n",
      "Saved image for data\\PCAPS\\UPATRE\\240519-a894kahe7v.behavioral2.pcapng to z-order\\train\\UPATRE\\240519-a894kahe7v.behavioral2.pcapng.png\n",
      "Skipping data\\PCAPS\\UPATRE\\240519-tstw7afb5z.behavioral1.pcapng as it is smaller than 2KB\n",
      "Saved image for data\\PCAPS\\UPATRE\\240519-tstw7afb5z.behavioral2.pcapng to z-order\\train\\UPATRE\\240519-tstw7afb5z.behavioral2.pcapng.png\n",
      "Skipping data\\PCAPS\\UPATRE\\240523-z8pv3ahb74.behavioral1.pcapng as it is smaller than 2KB\n"
     ]
    },
    {
     "name": "stderr",
     "output_type": "stream",
     "text": [
      "WARNING: PcapNg: TLS Key Log available, but the TLS layer is not loaded! Scapy won't be able to decrypt the packets.\n"
     ]
    },
    {
     "name": "stdout",
     "output_type": "stream",
     "text": [
      "Saved image for data\\PCAPS\\UPATRE\\240523-z8pv3ahb74.behavioral2.pcapng to z-order\\train\\UPATRE\\240523-z8pv3ahb74.behavioral2.pcapng.png\n"
     ]
    },
    {
     "name": "stderr",
     "output_type": "stream",
     "text": [
      "WARNING: PcapNg: TLS Key Log available, but the TLS layer is not loaded! Scapy won't be able to decrypt the packets.\n"
     ]
    },
    {
     "name": "stdout",
     "output_type": "stream",
     "text": [
      "Saved image for data\\PCAPS\\UPATRE\\240524-22gbfsef37.behavioral1.pcapng to z-order\\train\\UPATRE\\240524-22gbfsef37.behavioral1.pcapng.png\n"
     ]
    },
    {
     "name": "stderr",
     "output_type": "stream",
     "text": [
      "WARNING: more PcapNg: TLS Key Log available, but the TLS layer is not loaded! Scapy won't be able to decrypt the packets.\n"
     ]
    },
    {
     "name": "stdout",
     "output_type": "stream",
     "text": [
      "Saved image for data\\PCAPS\\UPATRE\\240524-22gbfsef37.behavioral2.pcapng to z-order\\train\\UPATRE\\240524-22gbfsef37.behavioral2.pcapng.png\n",
      "Saved image for data\\PCAPS\\UPATRE\\240524-a4b1zafa8t.behavioral1.pcapng to z-order\\train\\UPATRE\\240524-a4b1zafa8t.behavioral1.pcapng.png\n"
     ]
    },
    {
     "name": "stderr",
     "output_type": "stream",
     "text": [
      "WARNING: PcapNg: TLS Key Log available, but the TLS layer is not loaded! Scapy won't be able to decrypt the packets.\n"
     ]
    },
    {
     "name": "stdout",
     "output_type": "stream",
     "text": [
      "Saved image for data\\PCAPS\\UPATRE\\240524-a4b1zafa8t.behavioral2.pcapng to z-order\\train\\UPATRE\\240524-a4b1zafa8t.behavioral2.pcapng.png\n",
      "Skipping data\\PCAPS\\UPATRE\\240524-deex4sag64.behavioral1.pcapng as it is smaller than 2KB\n"
     ]
    },
    {
     "name": "stderr",
     "output_type": "stream",
     "text": [
      "WARNING: PcapNg: TLS Key Log available, but the TLS layer is not loaded! Scapy won't be able to decrypt the packets.\n"
     ]
    },
    {
     "name": "stdout",
     "output_type": "stream",
     "text": [
      "Saved image for data\\PCAPS\\UPATRE\\240524-deex4sag64.behavioral2.pcapng to z-order\\train\\UPATRE\\240524-deex4sag64.behavioral2.pcapng.png\n",
      "Skipping data\\PCAPS\\UPATRE\\240526-1e3qhacg4z.behavioral1.pcapng as it is smaller than 2KB\n"
     ]
    },
    {
     "name": "stderr",
     "output_type": "stream",
     "text": [
      "WARNING: more PcapNg: TLS Key Log available, but the TLS layer is not loaded! Scapy won't be able to decrypt the packets.\n"
     ]
    },
    {
     "name": "stdout",
     "output_type": "stream",
     "text": [
      "Saved image for data\\PCAPS\\UPATRE\\240526-1e3qhacg4z.behavioral2.pcapng to z-order\\train\\UPATRE\\240526-1e3qhacg4z.behavioral2.pcapng.png\n",
      "Saved image for data\\PCAPS\\UPATRE\\240526-bfvnvahg72.behavioral1.pcapng to z-order\\train\\UPATRE\\240526-bfvnvahg72.behavioral1.pcapng.png\n"
     ]
    },
    {
     "name": "stderr",
     "output_type": "stream",
     "text": [
      "WARNING: PcapNg: TLS Key Log available, but the TLS layer is not loaded! Scapy won't be able to decrypt the packets.\n"
     ]
    },
    {
     "name": "stdout",
     "output_type": "stream",
     "text": [
      "Saved image for data\\PCAPS\\UPATRE\\240526-bfvnvahg72.behavioral2.pcapng to z-order\\train\\UPATRE\\240526-bfvnvahg72.behavioral2.pcapng.png\n"
     ]
    },
    {
     "name": "stderr",
     "output_type": "stream",
     "text": [
      "WARNING: PcapNg: TLS Key Log available, but the TLS layer is not loaded! Scapy won't be able to decrypt the packets.\n"
     ]
    },
    {
     "name": "stdout",
     "output_type": "stream",
     "text": [
      "Saved image for data\\PCAPS\\UPATRE\\240526-bn4aysac24.behavioral1.pcapng to z-order\\train\\UPATRE\\240526-bn4aysac24.behavioral1.pcapng.png\n"
     ]
    },
    {
     "name": "stderr",
     "output_type": "stream",
     "text": [
      "WARNING: PcapNg: TLS Key Log available, but the TLS layer is not loaded! Scapy won't be able to decrypt the packets.\n"
     ]
    },
    {
     "name": "stdout",
     "output_type": "stream",
     "text": [
      "Saved image for data\\PCAPS\\UPATRE\\240526-bn4aysac24.behavioral2.pcapng to z-order\\train\\UPATRE\\240526-bn4aysac24.behavioral2.pcapng.png\n",
      "Skipping data\\PCAPS\\UPATRE\\240526-w7djvsgd27.behavioral1.pcapng as it is smaller than 2KB\n"
     ]
    },
    {
     "name": "stderr",
     "output_type": "stream",
     "text": [
      "WARNING: PcapNg: TLS Key Log available, but the TLS layer is not loaded! Scapy won't be able to decrypt the packets.\n"
     ]
    },
    {
     "name": "stdout",
     "output_type": "stream",
     "text": [
      "Saved image for data\\PCAPS\\UPATRE\\240526-w7djvsgd27.behavioral2.pcapng to z-order\\train\\UPATRE\\240526-w7djvsgd27.behavioral2.pcapng.png\n"
     ]
    },
    {
     "name": "stderr",
     "output_type": "stream",
     "text": [
      "WARNING: more PcapNg: TLS Key Log available, but the TLS layer is not loaded! Scapy won't be able to decrypt the packets.\n"
     ]
    },
    {
     "name": "stdout",
     "output_type": "stream",
     "text": [
      "Saved image for data\\PCAPS\\UPATRE\\240527-b7gajabh8x.behavioral1.pcapng to z-order\\train\\UPATRE\\240527-b7gajabh8x.behavioral1.pcapng.png\n"
     ]
    },
    {
     "name": "stderr",
     "output_type": "stream",
     "text": [
      "WARNING: PcapNg: TLS Key Log available, but the TLS layer is not loaded! Scapy won't be able to decrypt the packets.\n"
     ]
    },
    {
     "name": "stdout",
     "output_type": "stream",
     "text": [
      "Saved image for data\\PCAPS\\UPATRE\\240527-b7gajabh8x.behavioral2.pcapng to z-order\\train\\UPATRE\\240527-b7gajabh8x.behavioral2.pcapng.png\n",
      "Skipping data\\PCAPS\\UPATRE\\240527-c8j89aed89.behavioral1.pcapng as it is smaller than 2KB\n"
     ]
    },
    {
     "name": "stderr",
     "output_type": "stream",
     "text": [
      "WARNING: PcapNg: TLS Key Log available, but the TLS layer is not loaded! Scapy won't be able to decrypt the packets.\n"
     ]
    },
    {
     "name": "stdout",
     "output_type": "stream",
     "text": [
      "Saved image for data\\PCAPS\\UPATRE\\240527-c8j89aed89.behavioral2.pcapng to z-order\\train\\UPATRE\\240527-c8j89aed89.behavioral2.pcapng.png\n",
      "Skipping data\\PCAPS\\UPATRE\\240528-q4v2vafh7v.behavioral1.pcapng as it is smaller than 2KB\n"
     ]
    },
    {
     "name": "stderr",
     "output_type": "stream",
     "text": [
      "WARNING: more PcapNg: TLS Key Log available, but the TLS layer is not loaded! Scapy won't be able to decrypt the packets.\n"
     ]
    },
    {
     "name": "stdout",
     "output_type": "stream",
     "text": [
      "Saved image for data\\PCAPS\\UPATRE\\240528-q4v2vafh7v.behavioral2.pcapng to z-order\\train\\UPATRE\\240528-q4v2vafh7v.behavioral2.pcapng.png\n",
      "Skipping data\\PCAPS\\UPATRE\\240528-vrrk4sea79.behavioral1.pcapng as it is smaller than 2KB\n",
      "Saved image for data\\PCAPS\\UPATRE\\240528-vrrk4sea79.behavioral2.pcapng to z-order\\train\\UPATRE\\240528-vrrk4sea79.behavioral2.pcapng.png\n",
      "Skipping data\\PCAPS\\UPATRE\\240528-vzbjvsdb61.behavioral1.pcapng as it is smaller than 2KB\n",
      "Saved image for data\\PCAPS\\UPATRE\\240528-vzbjvsdb61.behavioral2.pcapng to z-order\\train\\UPATRE\\240528-vzbjvsdb61.behavioral2.pcapng.png\n",
      "Skipping data\\PCAPS\\UPATRE\\240529-ga56aacb6v.behavioral1.pcapng as it is smaller than 2KB\n",
      "Saved image for data\\PCAPS\\UPATRE\\240529-ga56aacb6v.behavioral2.pcapng to z-order\\train\\UPATRE\\240529-ga56aacb6v.behavioral2.pcapng.png\n",
      "Saved image for data\\PCAPS\\UPATRE\\240531-byrpxabc66.behavioral1.pcapng to z-order\\train\\UPATRE\\240531-byrpxabc66.behavioral1.pcapng.png\n"
     ]
    },
    {
     "name": "stderr",
     "output_type": "stream",
     "text": [
      "WARNING: PcapNg: TLS Key Log available, but the TLS layer is not loaded! Scapy won't be able to decrypt the packets.\n"
     ]
    },
    {
     "name": "stdout",
     "output_type": "stream",
     "text": [
      "Saved image for data\\PCAPS\\UPATRE\\240531-byrpxabc66.behavioral2.pcapng to z-order\\train\\UPATRE\\240531-byrpxabc66.behavioral2.pcapng.png\n",
      "Skipping data\\PCAPS\\UPATRE\\240602-d5x7daab55.behavioral1.pcapng as it is smaller than 2KB\n"
     ]
    },
    {
     "name": "stderr",
     "output_type": "stream",
     "text": [
      "WARNING: PcapNg: TLS Key Log available, but the TLS layer is not loaded! Scapy won't be able to decrypt the packets.\n"
     ]
    },
    {
     "name": "stdout",
     "output_type": "stream",
     "text": [
      "Saved image for data\\PCAPS\\UPATRE\\240602-d5x7daab55.behavioral2.pcapng to z-order\\train\\UPATRE\\240602-d5x7daab55.behavioral2.pcapng.png\n",
      "Skipping data\\PCAPS\\UPATRE\\240602-jjdhqsfb5y.behavioral1.pcapng as it is smaller than 2KB\n"
     ]
    },
    {
     "name": "stderr",
     "output_type": "stream",
     "text": [
      "WARNING: more PcapNg: TLS Key Log available, but the TLS layer is not loaded! Scapy won't be able to decrypt the packets.\n"
     ]
    },
    {
     "name": "stdout",
     "output_type": "stream",
     "text": [
      "Saved image for data\\PCAPS\\UPATRE\\240602-jjdhqsfb5y.behavioral2.pcapng to z-order\\train\\UPATRE\\240602-jjdhqsfb5y.behavioral2.pcapng.png\n",
      "Saved image for data\\PCAPS\\WANNACRY\\240604-2xlqdafb28.behavioral1.pcapng to z-order\\train\\WANNACRY\\240604-2xlqdafb28.behavioral1.pcapng.png\n"
     ]
    },
    {
     "name": "stderr",
     "output_type": "stream",
     "text": [
      "WARNING: PcapNg: TLS Key Log available, but the TLS layer is not loaded! Scapy won't be able to decrypt the packets.\n"
     ]
    },
    {
     "name": "stdout",
     "output_type": "stream",
     "text": [
      "Saved image for data\\PCAPS\\WANNACRY\\240604-2xlqdafb28.behavioral2.pcapng to z-order\\train\\WANNACRY\\240604-2xlqdafb28.behavioral2.pcapng.png\n"
     ]
    },
    {
     "name": "stderr",
     "output_type": "stream",
     "text": [
      "WARNING: PcapNg: TLS Key Log available, but the TLS layer is not loaded! Scapy won't be able to decrypt the packets.\n"
     ]
    },
    {
     "name": "stdout",
     "output_type": "stream",
     "text": [
      "Saved image for data\\PCAPS\\WANNACRY\\240604-skqzwsbb7t.behavioral1.pcapng to z-order\\train\\WANNACRY\\240604-skqzwsbb7t.behavioral1.pcapng.png\n"
     ]
    },
    {
     "name": "stderr",
     "output_type": "stream",
     "text": [
      "WARNING: PcapNg: TLS Key Log available, but the TLS layer is not loaded! Scapy won't be able to decrypt the packets.\n"
     ]
    },
    {
     "name": "stdout",
     "output_type": "stream",
     "text": [
      "Saved image for data\\PCAPS\\WANNACRY\\240604-vw1pksdg8v.behavioral1.pcapng to z-order\\train\\WANNACRY\\240604-vw1pksdg8v.behavioral1.pcapng.png\n"
     ]
    },
    {
     "name": "stderr",
     "output_type": "stream",
     "text": [
      "WARNING: PcapNg: TLS Key Log available, but the TLS layer is not loaded! Scapy won't be able to decrypt the packets.\n"
     ]
    },
    {
     "name": "stdout",
     "output_type": "stream",
     "text": [
      "Saved image for data\\PCAPS\\WANNACRY\\240605-116z2sad9w.behavioral1.pcapng to z-order\\train\\WANNACRY\\240605-116z2sad9w.behavioral1.pcapng.png\n"
     ]
    },
    {
     "name": "stderr",
     "output_type": "stream",
     "text": [
      "WARNING: PcapNg: TLS Key Log available, but the TLS layer is not loaded! Scapy won't be able to decrypt the packets.\n"
     ]
    },
    {
     "name": "stdout",
     "output_type": "stream",
     "text": [
      "Saved image for data\\PCAPS\\WANNACRY\\240605-116z2sad9w.behavioral2.pcapng to z-order\\train\\WANNACRY\\240605-116z2sad9w.behavioral2.pcapng.png\n"
     ]
    },
    {
     "name": "stderr",
     "output_type": "stream",
     "text": [
      "WARNING: more PcapNg: TLS Key Log available, but the TLS layer is not loaded! Scapy won't be able to decrypt the packets.\n"
     ]
    },
    {
     "name": "stdout",
     "output_type": "stream",
     "text": [
      "Saved image for data\\PCAPS\\WANNACRY\\240605-1v4mqsac71.behavioral1.pcapng to z-order\\train\\WANNACRY\\240605-1v4mqsac71.behavioral1.pcapng.png\n"
     ]
    },
    {
     "name": "stderr",
     "output_type": "stream",
     "text": [
      "WARNING: PcapNg: TLS Key Log available, but the TLS layer is not loaded! Scapy won't be able to decrypt the packets.\n"
     ]
    },
    {
     "name": "stdout",
     "output_type": "stream",
     "text": [
      "Saved image for data\\PCAPS\\WANNACRY\\240605-1v4mqsac71.behavioral2.pcapng to z-order\\train\\WANNACRY\\240605-1v4mqsac71.behavioral2.pcapng.png\n"
     ]
    },
    {
     "name": "stderr",
     "output_type": "stream",
     "text": [
      "WARNING: PcapNg: TLS Key Log available, but the TLS layer is not loaded! Scapy won't be able to decrypt the packets.\n"
     ]
    },
    {
     "name": "stdout",
     "output_type": "stream",
     "text": [
      "Saved image for data\\PCAPS\\WANNACRY\\240605-afzgcsga6z.behavioral1.pcapng to z-order\\train\\WANNACRY\\240605-afzgcsga6z.behavioral1.pcapng.png\n",
      "Skipping data\\PCAPS\\WANNACRY\\240605-j8a4xaaf61.behavioral1.pcapng as it is smaller than 2KB\n"
     ]
    },
    {
     "name": "stderr",
     "output_type": "stream",
     "text": [
      "WARNING: PcapNg: TLS Key Log available, but the TLS layer is not loaded! Scapy won't be able to decrypt the packets.\n"
     ]
    },
    {
     "name": "stdout",
     "output_type": "stream",
     "text": [
      "Saved image for data\\PCAPS\\WANNACRY\\240605-j8a4xaaf61.behavioral2.pcapng to z-order\\train\\WANNACRY\\240605-j8a4xaaf61.behavioral2.pcapng.png\n"
     ]
    },
    {
     "name": "stderr",
     "output_type": "stream",
     "text": [
      "WARNING: PcapNg: TLS Key Log available, but the TLS layer is not loaded! Scapy won't be able to decrypt the packets.\n"
     ]
    },
    {
     "name": "stdout",
     "output_type": "stream",
     "text": [
      "Saved image for data\\PCAPS\\WANNACRY\\240605-rc1npahc3w.behavioral1.pcapng to z-order\\train\\WANNACRY\\240605-rc1npahc3w.behavioral1.pcapng.png\n"
     ]
    },
    {
     "name": "stderr",
     "output_type": "stream",
     "text": [
      "WARNING: more PcapNg: TLS Key Log available, but the TLS layer is not loaded! Scapy won't be able to decrypt the packets.\n"
     ]
    },
    {
     "name": "stdout",
     "output_type": "stream",
     "text": [
      "Saved image for data\\PCAPS\\WANNACRY\\240606-qyta3afg58.behavioral1.pcapng to z-order\\train\\WANNACRY\\240606-qyta3afg58.behavioral1.pcapng.png\n"
     ]
    },
    {
     "name": "stderr",
     "output_type": "stream",
     "text": [
      "WARNING: PcapNg: TLS Key Log available, but the TLS layer is not loaded! Scapy won't be able to decrypt the packets.\n"
     ]
    },
    {
     "name": "stdout",
     "output_type": "stream",
     "text": [
      "Saved image for data\\PCAPS\\WANNACRY\\240606-rw1g2afd9w.behavioral1.pcapng to z-order\\train\\WANNACRY\\240606-rw1g2afd9w.behavioral1.pcapng.png\n"
     ]
    },
    {
     "name": "stderr",
     "output_type": "stream",
     "text": [
      "WARNING: PcapNg: TLS Key Log available, but the TLS layer is not loaded! Scapy won't be able to decrypt the packets.\n"
     ]
    },
    {
     "name": "stdout",
     "output_type": "stream",
     "text": [
      "Saved image for data\\PCAPS\\WANNACRY\\240606-vklfhsgh5x.behavioral1.pcapng to z-order\\train\\WANNACRY\\240606-vklfhsgh5x.behavioral1.pcapng.png\n"
     ]
    },
    {
     "name": "stderr",
     "output_type": "stream",
     "text": [
      "WARNING: PcapNg: TLS Key Log available, but the TLS layer is not loaded! Scapy won't be able to decrypt the packets.\n"
     ]
    },
    {
     "name": "stdout",
     "output_type": "stream",
     "text": [
      "Saved image for data\\PCAPS\\WANNACRY\\240606-vklfhsgh5x.behavioral2.pcapng to z-order\\train\\WANNACRY\\240606-vklfhsgh5x.behavioral2.pcapng.png\n"
     ]
    },
    {
     "name": "stderr",
     "output_type": "stream",
     "text": [
      "WARNING: PcapNg: TLS Key Log available, but the TLS layer is not loaded! Scapy won't be able to decrypt the packets.\n"
     ]
    },
    {
     "name": "stdout",
     "output_type": "stream",
     "text": [
      "Saved image for data\\PCAPS\\WANNACRY\\240607-b19y9sfd7x.behavioral1.pcapng to z-order\\train\\WANNACRY\\240607-b19y9sfd7x.behavioral1.pcapng.png\n",
      "Skipping data\\PCAPS\\WANNACRY\\240607-bf48aafh77.behavioral1.pcapng as it is smaller than 2KB\n",
      "Skipping data\\PCAPS\\WANNACRY\\240607-bn2r5afa71.behavioral1.pcapng as it is smaller than 2KB\n"
     ]
    },
    {
     "name": "stderr",
     "output_type": "stream",
     "text": [
      "WARNING: PcapNg: TLS Key Log available, but the TLS layer is not loaded! Scapy won't be able to decrypt the packets.\n"
     ]
    },
    {
     "name": "stdout",
     "output_type": "stream",
     "text": [
      "Saved image for data\\PCAPS\\WANNACRY\\240607-bn2r5afa71.behavioral2.pcapng to z-order\\train\\WANNACRY\\240607-bn2r5afa71.behavioral2.pcapng.png\n",
      "Skipping data\\PCAPS\\WANNACRY\\240607-bq3r7sgb89.behavioral1.pcapng as it is smaller than 2KB\n",
      "Skipping data\\PCAPS\\WANNACRY\\240607-bt2pbagc62.behavioral1.pcapng as it is smaller than 2KB\n",
      "Skipping data\\PCAPS\\WANNACRY\\240607-byg6gafc8y.behavioral1.pcapng as it is smaller than 2KB\n",
      "Skipping data\\PCAPS\\WANNACRY\\240607-bztkwsfd4t.behavioral1.pcapng as it is smaller than 2KB\n"
     ]
    },
    {
     "name": "stderr",
     "output_type": "stream",
     "text": [
      "WARNING: PcapNg: TLS Key Log available, but the TLS layer is not loaded! Scapy won't be able to decrypt the packets.\n"
     ]
    },
    {
     "name": "stdout",
     "output_type": "stream",
     "text": [
      "Saved image for data\\PCAPS\\WANNACRY\\240608-hnfcfsah76.behavioral1.pcapng to z-order\\train\\WANNACRY\\240608-hnfcfsah76.behavioral1.pcapng.png\n"
     ]
    },
    {
     "name": "stderr",
     "output_type": "stream",
     "text": [
      "WARNING: more PcapNg: TLS Key Log available, but the TLS layer is not loaded! Scapy won't be able to decrypt the packets.\n"
     ]
    },
    {
     "name": "stdout",
     "output_type": "stream",
     "text": [
      "Saved image for data\\PCAPS\\WANNACRY\\240608-nrn2nabc3x.behavioral1.pcapng to z-order\\train\\WANNACRY\\240608-nrn2nabc3x.behavioral1.pcapng.png\n"
     ]
    },
    {
     "name": "stderr",
     "output_type": "stream",
     "text": [
      "WARNING: PcapNg: TLS Key Log available, but the TLS layer is not loaded! Scapy won't be able to decrypt the packets.\n"
     ]
    },
    {
     "name": "stdout",
     "output_type": "stream",
     "text": [
      "Saved image for data\\PCAPS\\WANNACRY\\240608-qcqm2scg62.behavioral1.pcapng to z-order\\train\\WANNACRY\\240608-qcqm2scg62.behavioral1.pcapng.png\n"
     ]
    },
    {
     "name": "stderr",
     "output_type": "stream",
     "text": [
      "WARNING: PcapNg: TLS Key Log available, but the TLS layer is not loaded! Scapy won't be able to decrypt the packets.\n"
     ]
    },
    {
     "name": "stdout",
     "output_type": "stream",
     "text": [
      "Saved image for data\\PCAPS\\WANNACRY\\240608-twj66adc4x.behavioral1.pcapng to z-order\\train\\WANNACRY\\240608-twj66adc4x.behavioral1.pcapng.png\n"
     ]
    },
    {
     "name": "stderr",
     "output_type": "stream",
     "text": [
      "WARNING: PcapNg: TLS Key Log available, but the TLS layer is not loaded! Scapy won't be able to decrypt the packets.\n"
     ]
    },
    {
     "name": "stdout",
     "output_type": "stream",
     "text": [
      "Saved image for data\\PCAPS\\WANNACRY\\240608-y29q8aff8x.behavioral1.pcapng to z-order\\train\\WANNACRY\\240608-y29q8aff8x.behavioral1.pcapng.png\n"
     ]
    },
    {
     "name": "stderr",
     "output_type": "stream",
     "text": [
      "WARNING: PcapNg: TLS Key Log available, but the TLS layer is not loaded! Scapy won't be able to decrypt the packets.\n"
     ]
    },
    {
     "name": "stdout",
     "output_type": "stream",
     "text": [
      "Saved image for data\\PCAPS\\WANNACRY\\240609-wb2xksdg64.behavioral1.pcapng to z-order\\train\\WANNACRY\\240609-wb2xksdg64.behavioral1.pcapng.png\n"
     ]
    },
    {
     "name": "stderr",
     "output_type": "stream",
     "text": [
      "WARNING: PcapNg: TLS Key Log available, but the TLS layer is not loaded! Scapy won't be able to decrypt the packets.\n"
     ]
    },
    {
     "name": "stdout",
     "output_type": "stream",
     "text": [
      "Saved image for data\\PCAPS\\WANNACRY\\240609-wb2xksdg64.behavioral2.pcapng to z-order\\train\\WANNACRY\\240609-wb2xksdg64.behavioral2.pcapng.png\n",
      "Skipping data\\PCAPS\\WANNACRY\\240610-j8ky4sfa55.behavioral1.pcapng as it is smaller than 2KB\n"
     ]
    },
    {
     "name": "stderr",
     "output_type": "stream",
     "text": [
      "WARNING: PcapNg: TLS Key Log available, but the TLS layer is not loaded! Scapy won't be able to decrypt the packets.\n"
     ]
    },
    {
     "name": "stdout",
     "output_type": "stream",
     "text": [
      "Saved image for data\\PCAPS\\WANNACRY\\240610-j8ky4sfa55.behavioral2.pcapng to z-order\\train\\WANNACRY\\240610-j8ky4sfa55.behavioral2.pcapng.png\n"
     ]
    },
    {
     "name": "stderr",
     "output_type": "stream",
     "text": [
      "WARNING: PcapNg: TLS Key Log available, but the TLS layer is not loaded! Scapy won't be able to decrypt the packets.\n"
     ]
    },
    {
     "name": "stdout",
     "output_type": "stream",
     "text": [
      "Saved image for data\\PCAPS\\WANNACRY\\240610-r72jga1apr.behavioral1.pcapng to z-order\\train\\WANNACRY\\240610-r72jga1apr.behavioral1.pcapng.png\n"
     ]
    },
    {
     "name": "stderr",
     "output_type": "stream",
     "text": [
      "WARNING: more PcapNg: TLS Key Log available, but the TLS layer is not loaded! Scapy won't be able to decrypt the packets.\n"
     ]
    },
    {
     "name": "stdout",
     "output_type": "stream",
     "text": [
      "Saved image for data\\PCAPS\\WANNACRY\\240610-r72jga1apr.behavioral2.pcapng to z-order\\train\\WANNACRY\\240610-r72jga1apr.behavioral2.pcapng.png\n"
     ]
    },
    {
     "name": "stderr",
     "output_type": "stream",
     "text": [
      "WARNING: PcapNg: TLS Key Log available, but the TLS layer is not loaded! Scapy won't be able to decrypt the packets.\n"
     ]
    },
    {
     "name": "stdout",
     "output_type": "stream",
     "text": [
      "Saved image for data\\PCAPS\\WANNACRY\\240610-rvf21azdpk.behavioral1.pcapng to z-order\\train\\WANNACRY\\240610-rvf21azdpk.behavioral1.pcapng.png\n",
      "Skipping data\\PCAPS\\YUNSIP\\240417-1r3k9sfc57.behavioral1.pcapng as it is smaller than 2KB\n"
     ]
    },
    {
     "name": "stderr",
     "output_type": "stream",
     "text": [
      "WARNING: PcapNg: TLS Key Log available, but the TLS layer is not loaded! Scapy won't be able to decrypt the packets.\n"
     ]
    },
    {
     "name": "stdout",
     "output_type": "stream",
     "text": [
      "Saved image for data\\PCAPS\\YUNSIP\\240417-1r3k9sfc57.behavioral2.pcapng to z-order\\train\\YUNSIP\\240417-1r3k9sfc57.behavioral2.pcapng.png\n",
      "Skipping data\\PCAPS\\YUNSIP\\240417-25wwbaac3t.behavioral1.pcapng as it is smaller than 2KB\n"
     ]
    },
    {
     "name": "stderr",
     "output_type": "stream",
     "text": [
      "WARNING: more PcapNg: TLS Key Log available, but the TLS layer is not loaded! Scapy won't be able to decrypt the packets.\n"
     ]
    },
    {
     "name": "stdout",
     "output_type": "stream",
     "text": [
      "Saved image for data\\PCAPS\\YUNSIP\\240417-25wwbaac3t.behavioral2.pcapng to z-order\\train\\YUNSIP\\240417-25wwbaac3t.behavioral2.pcapng.png\n",
      "Skipping data\\PCAPS\\YUNSIP\\240417-2a7z4agb22.behavioral1.pcapng as it is smaller than 2KB\n",
      "Saved image for data\\PCAPS\\YUNSIP\\240417-2a7z4agb22.behavioral2.pcapng to z-order\\train\\YUNSIP\\240417-2a7z4agb22.behavioral2.pcapng.png\n",
      "Skipping data\\PCAPS\\YUNSIP\\240417-y1zvmaed8z.behavioral1.pcapng as it is smaller than 2KB\n",
      "Saved image for data\\PCAPS\\YUNSIP\\240417-y1zvmaed8z.behavioral2.pcapng to z-order\\train\\YUNSIP\\240417-y1zvmaed8z.behavioral2.pcapng.png\n",
      "Skipping data\\PCAPS\\YUNSIP\\240417-yph3qsea4z.behavioral1.pcapng as it is smaller than 2KB\n",
      "Saved image for data\\PCAPS\\YUNSIP\\240417-yph3qsea4z.behavioral2.pcapng to z-order\\train\\YUNSIP\\240417-yph3qsea4z.behavioral2.pcapng.png\n",
      "Skipping data\\PCAPS\\YUNSIP\\240418-a365qaef2v.behavioral1.pcapng as it is smaller than 2KB\n",
      "Saved image for data\\PCAPS\\YUNSIP\\240418-a365qaef2v.behavioral2.pcapng to z-order\\train\\YUNSIP\\240418-a365qaef2v.behavioral2.pcapng.png\n",
      "Skipping data\\PCAPS\\YUNSIP\\240418-a3a3aaee2s.behavioral1.pcapng as it is smaller than 2KB\n",
      "Saved image for data\\PCAPS\\YUNSIP\\240418-a3a3aaee2s.behavioral2.pcapng to z-order\\train\\YUNSIP\\240418-a3a3aaee2s.behavioral2.pcapng.png\n",
      "Skipping data\\PCAPS\\YUNSIP\\240418-acjlqsah52.behavioral1.pcapng as it is smaller than 2KB\n",
      "Saved image for data\\PCAPS\\YUNSIP\\240418-acjlqsah52.behavioral2.pcapng to z-order\\train\\YUNSIP\\240418-acjlqsah52.behavioral2.pcapng.png\n",
      "Skipping data\\PCAPS\\YUNSIP\\240418-b5drmagh3y.behavioral1.pcapng as it is smaller than 2KB\n",
      "Saved image for data\\PCAPS\\YUNSIP\\240418-b5drmagh3y.behavioral2.pcapng to z-order\\train\\YUNSIP\\240418-b5drmagh3y.behavioral2.pcapng.png\n",
      "Skipping data\\PCAPS\\YUNSIP\\240418-bhgvrsfh6z.behavioral1.pcapng as it is smaller than 2KB\n",
      "Saved image for data\\PCAPS\\YUNSIP\\240418-bhgvrsfh6z.behavioral2.pcapng to z-order\\train\\YUNSIP\\240418-bhgvrsfh6z.behavioral2.pcapng.png\n",
      "Skipping data\\PCAPS\\YUNSIP\\240418-crjldshf81.behavioral1.pcapng as it is smaller than 2KB\n",
      "Saved image for data\\PCAPS\\YUNSIP\\240418-crjldshf81.behavioral2.pcapng to z-order\\train\\YUNSIP\\240418-crjldshf81.behavioral2.pcapng.png\n",
      "Skipping data\\PCAPS\\YUNSIP\\240418-dexg6ahb67.behavioral1.pcapng as it is smaller than 2KB\n",
      "Saved image for data\\PCAPS\\YUNSIP\\240418-dexg6ahb67.behavioral2.pcapng to z-order\\train\\YUNSIP\\240418-dexg6ahb67.behavioral2.pcapng.png\n",
      "Skipping data\\PCAPS\\YUNSIP\\240420-2t4rsaca77.behavioral1.pcapng as it is smaller than 2KB\n",
      "Saved image for data\\PCAPS\\YUNSIP\\240420-2t4rsaca77.behavioral2.pcapng to z-order\\train\\YUNSIP\\240420-2t4rsaca77.behavioral2.pcapng.png\n",
      "Skipping data\\PCAPS\\YUNSIP\\240421-z6n6rabg9v.behavioral1.pcapng as it is smaller than 2KB\n"
     ]
    },
    {
     "name": "stderr",
     "output_type": "stream",
     "text": [
      "WARNING: PcapNg: TLS Key Log available, but the TLS layer is not loaded! Scapy won't be able to decrypt the packets.\n"
     ]
    },
    {
     "name": "stdout",
     "output_type": "stream",
     "text": [
      "Saved image for data\\PCAPS\\YUNSIP\\240421-z6n6rabg9v.behavioral2.pcapng to z-order\\train\\YUNSIP\\240421-z6n6rabg9v.behavioral2.pcapng.png\n",
      "Skipping data\\PCAPS\\YUNSIP\\240421-zpa8kabe91.behavioral1.pcapng as it is smaller than 2KB\n"
     ]
    },
    {
     "name": "stderr",
     "output_type": "stream",
     "text": [
      "WARNING: PcapNg: TLS Key Log available, but the TLS layer is not loaded! Scapy won't be able to decrypt the packets.\n"
     ]
    },
    {
     "name": "stdout",
     "output_type": "stream",
     "text": [
      "Saved image for data\\PCAPS\\YUNSIP\\240421-zpa8kabe91.behavioral2.pcapng to z-order\\train\\YUNSIP\\240421-zpa8kabe91.behavioral2.pcapng.png\n",
      "Skipping data\\PCAPS\\YUNSIP\\240424-vrn5zsdg36.behavioral1.pcapng as it is smaller than 2KB\n"
     ]
    },
    {
     "name": "stderr",
     "output_type": "stream",
     "text": [
      "WARNING: more PcapNg: TLS Key Log available, but the TLS layer is not loaded! Scapy won't be able to decrypt the packets.\n"
     ]
    },
    {
     "name": "stdout",
     "output_type": "stream",
     "text": [
      "Saved image for data\\PCAPS\\YUNSIP\\240424-vrn5zsdg36.behavioral2.pcapng to z-order\\train\\YUNSIP\\240424-vrn5zsdg36.behavioral2.pcapng.png\n",
      "Skipping data\\PCAPS\\YUNSIP\\240503-x58gwsdf8z.behavioral1.pcapng as it is smaller than 2KB\n",
      "Saved image for data\\PCAPS\\YUNSIP\\240503-x58gwsdf8z.behavioral2.pcapng to z-order\\train\\YUNSIP\\240503-x58gwsdf8z.behavioral2.pcapng.png\n",
      "Skipping data\\PCAPS\\YUNSIP\\240507-nqv4ksgg92.behavioral1.pcapng as it is smaller than 2KB\n",
      "Saved image for data\\PCAPS\\YUNSIP\\240507-nqv4ksgg92.behavioral2.pcapng to z-order\\train\\YUNSIP\\240507-nqv4ksgg92.behavioral2.pcapng.png\n",
      "Skipping data\\PCAPS\\YUNSIP\\240507-p1pj8aba22.behavioral1.pcapng as it is smaller than 2KB\n",
      "Saved image for data\\PCAPS\\YUNSIP\\240507-p1pj8aba22.behavioral2.pcapng to z-order\\train\\YUNSIP\\240507-p1pj8aba22.behavioral2.pcapng.png\n",
      "Skipping data\\PCAPS\\YUNSIP\\240507-rxstksbc8s.behavioral1.pcapng as it is smaller than 2KB\n",
      "Saved image for data\\PCAPS\\YUNSIP\\240507-rxstksbc8s.behavioral2.pcapng to z-order\\train\\YUNSIP\\240507-rxstksbc8s.behavioral2.pcapng.png\n",
      "Skipping data\\PCAPS\\YUNSIP\\240509-dh66rseh7z.behavioral1.pcapng as it is smaller than 2KB\n",
      "Saved image for data\\PCAPS\\YUNSIP\\240509-dh66rseh7z.behavioral2.pcapng to z-order\\train\\YUNSIP\\240509-dh66rseh7z.behavioral2.pcapng.png\n",
      "Skipping data\\PCAPS\\YUNSIP\\240510-evj3faad91.behavioral1.pcapng as it is smaller than 2KB\n",
      "Saved image for data\\PCAPS\\YUNSIP\\240510-evj3faad91.behavioral2.pcapng to z-order\\train\\YUNSIP\\240510-evj3faad91.behavioral2.pcapng.png\n",
      "Skipping data\\PCAPS\\YUNSIP\\240510-g8mftsbd72.behavioral1.pcapng as it is smaller than 2KB\n",
      "Saved image for data\\PCAPS\\YUNSIP\\240510-g8mftsbd72.behavioral2.pcapng to z-order\\train\\YUNSIP\\240510-g8mftsbd72.behavioral2.pcapng.png\n",
      "Skipping data\\PCAPS\\YUNSIP\\240511-cg3xaahh24.behavioral1.pcapng as it is smaller than 2KB\n",
      "Saved image for data\\PCAPS\\YUNSIP\\240511-cg3xaahh24.behavioral2.pcapng to z-order\\train\\YUNSIP\\240511-cg3xaahh24.behavioral2.pcapng.png\n",
      "Skipping data\\PCAPS\\YUNSIP\\240511-hb9qjaag5v.behavioral1.pcapng as it is smaller than 2KB\n",
      "Saved image for data\\PCAPS\\YUNSIP\\240511-hb9qjaag5v.behavioral2.pcapng to z-order\\train\\YUNSIP\\240511-hb9qjaag5v.behavioral2.pcapng.png\n",
      "Skipping data\\PCAPS\\YUNSIP\\240513-xxz6jsad7y.behavioral1.pcapng as it is smaller than 2KB\n",
      "Saved image for data\\PCAPS\\YUNSIP\\240513-xxz6jsad7y.behavioral2.pcapng to z-order\\train\\YUNSIP\\240513-xxz6jsad7y.behavioral2.pcapng.png\n",
      "Skipping data\\PCAPS\\YUNSIP\\240514-zgmlmafd4s.behavioral1.pcapng as it is smaller than 2KB\n",
      "Saved image for data\\PCAPS\\YUNSIP\\240514-zgmlmafd4s.behavioral2.pcapng to z-order\\train\\YUNSIP\\240514-zgmlmafd4s.behavioral2.pcapng.png\n",
      "Skipping data\\PCAPS\\YUNSIP\\240515-a5a53agg4s.behavioral1.pcapng as it is smaller than 2KB\n",
      "Saved image for data\\PCAPS\\YUNSIP\\240515-a5a53agg4s.behavioral2.pcapng to z-order\\train\\YUNSIP\\240515-a5a53agg4s.behavioral2.pcapng.png\n",
      "Skipping data\\PCAPS\\YUNSIP\\240515-ybf18agc7s.behavioral1.pcapng as it is smaller than 2KB\n",
      "Saved image for data\\PCAPS\\YUNSIP\\240515-ybf18agc7s.behavioral2.pcapng to z-order\\train\\YUNSIP\\240515-ybf18agc7s.behavioral2.pcapng.png\n",
      "Skipping data\\PCAPS\\YUNSIP\\240517-31shrsaa3z.behavioral1.pcapng as it is smaller than 2KB\n",
      "Saved image for data\\PCAPS\\YUNSIP\\240517-31shrsaa3z.behavioral2.pcapng to z-order\\train\\YUNSIP\\240517-31shrsaa3z.behavioral2.pcapng.png\n",
      "Skipping data\\PCAPS\\YUNSIP\\240517-b4r8mabd8t.behavioral1.pcapng as it is smaller than 2KB\n",
      "Saved image for data\\PCAPS\\YUNSIP\\240517-b4r8mabd8t.behavioral2.pcapng to z-order\\train\\YUNSIP\\240517-b4r8mabd8t.behavioral2.pcapng.png\n",
      "Skipping data\\PCAPS\\YUNSIP\\240517-x661fseh5w.behavioral1.pcapng as it is smaller than 2KB\n"
     ]
    },
    {
     "name": "stderr",
     "output_type": "stream",
     "text": [
      "WARNING: PcapNg: TLS Key Log available, but the TLS layer is not loaded! Scapy won't be able to decrypt the packets.\n"
     ]
    },
    {
     "name": "stdout",
     "output_type": "stream",
     "text": [
      "Saved image for data\\PCAPS\\YUNSIP\\240517-x661fseh5w.behavioral2.pcapng to z-order\\train\\YUNSIP\\240517-x661fseh5w.behavioral2.pcapng.png\n",
      "Skipping data\\PCAPS\\YUNSIP\\240518-qe6gaada4w.behavioral1.pcapng as it is smaller than 2KB\n"
     ]
    },
    {
     "name": "stderr",
     "output_type": "stream",
     "text": [
      "WARNING: PcapNg: TLS Key Log available, but the TLS layer is not loaded! Scapy won't be able to decrypt the packets.\n"
     ]
    },
    {
     "name": "stdout",
     "output_type": "stream",
     "text": [
      "Saved image for data\\PCAPS\\YUNSIP\\240518-qe6gaada4w.behavioral2.pcapng to z-order\\train\\YUNSIP\\240518-qe6gaada4w.behavioral2.pcapng.png\n",
      "Skipping data\\PCAPS\\YUNSIP\\240519-m7myvsfb3y.behavioral1.pcapng as it is smaller than 2KB\n"
     ]
    },
    {
     "name": "stderr",
     "output_type": "stream",
     "text": [
      "WARNING: more PcapNg: TLS Key Log available, but the TLS layer is not loaded! Scapy won't be able to decrypt the packets.\n"
     ]
    },
    {
     "name": "stdout",
     "output_type": "stream",
     "text": [
      "Saved image for data\\PCAPS\\YUNSIP\\240519-m7myvsfb3y.behavioral2.pcapng to z-order\\train\\YUNSIP\\240519-m7myvsfb3y.behavioral2.pcapng.png\n",
      "Skipping data\\PCAPS\\YUNSIP\\240519-r6kvbsca88.behavioral1.pcapng as it is smaller than 2KB\n",
      "Saved image for data\\PCAPS\\YUNSIP\\240519-r6kvbsca88.behavioral2.pcapng to z-order\\train\\YUNSIP\\240519-r6kvbsca88.behavioral2.pcapng.png\n",
      "Skipping data\\PCAPS\\YUNSIP\\240519-vp29tshb4z.behavioral1.pcapng as it is smaller than 2KB\n",
      "Saved image for data\\PCAPS\\YUNSIP\\240519-vp29tshb4z.behavioral2.pcapng to z-order\\train\\YUNSIP\\240519-vp29tshb4z.behavioral2.pcapng.png\n",
      "Skipping data\\PCAPS\\YUNSIP\\240527-172nxadb58.behavioral1.pcapng as it is smaller than 2KB\n",
      "Saved image for data\\PCAPS\\YUNSIP\\240527-172nxadb58.behavioral2.pcapng to z-order\\train\\YUNSIP\\240527-172nxadb58.behavioral2.pcapng.png\n",
      "Skipping data\\PCAPS\\YUNSIP\\240527-22a5faed94.behavioral1.pcapng as it is smaller than 2KB\n",
      "Saved image for data\\PCAPS\\YUNSIP\\240527-22a5faed94.behavioral2.pcapng to z-order\\train\\YUNSIP\\240527-22a5faed94.behavioral2.pcapng.png\n",
      "Skipping data\\PCAPS\\YUNSIP\\240528-k1vn1see93.behavioral1.pcapng as it is smaller than 2KB\n",
      "Saved image for data\\PCAPS\\YUNSIP\\240528-k1vn1see93.behavioral2.pcapng to z-order\\train\\YUNSIP\\240528-k1vn1see93.behavioral2.pcapng.png\n",
      "Skipping data\\PCAPS\\YUNSIP\\240529-13h11ace93.behavioral1.pcapng as it is smaller than 2KB\n",
      "Saved image for data\\PCAPS\\YUNSIP\\240529-13h11ace93.behavioral2.pcapng to z-order\\train\\YUNSIP\\240529-13h11ace93.behavioral2.pcapng.png\n",
      "Skipping data\\PCAPS\\YUNSIP\\240529-3x2l9sff82.behavioral1.pcapng as it is smaller than 2KB\n",
      "Saved image for data\\PCAPS\\YUNSIP\\240529-3x2l9sff82.behavioral2.pcapng to z-order\\train\\YUNSIP\\240529-3x2l9sff82.behavioral2.pcapng.png\n",
      "Skipping data\\PCAPS\\YUNSIP\\240529-blejtadb33.behavioral1.pcapng as it is smaller than 2KB\n",
      "Saved image for data\\PCAPS\\YUNSIP\\240529-blejtadb33.behavioral2.pcapng to z-order\\train\\YUNSIP\\240529-blejtadb33.behavioral2.pcapng.png\n",
      "Skipping data\\PCAPS\\YUNSIP\\240529-hpxccseb3v.behavioral1.pcapng as it is smaller than 2KB\n",
      "Saved image for data\\PCAPS\\YUNSIP\\240529-hpxccseb3v.behavioral2.pcapng to z-order\\train\\YUNSIP\\240529-hpxccseb3v.behavioral2.pcapng.png\n",
      "Skipping data\\PCAPS\\YUNSIP\\240529-qfs8cagc73.behavioral1.pcapng as it is smaller than 2KB\n",
      "Saved image for data\\PCAPS\\YUNSIP\\240529-qfs8cagc73.behavioral2.pcapng to z-order\\train\\YUNSIP\\240529-qfs8cagc73.behavioral2.pcapng.png\n",
      "Skipping data\\PCAPS\\YUNSIP\\240531-3jkrlaac94.behavioral1.pcapng as it is smaller than 2KB\n",
      "Saved image for data\\PCAPS\\YUNSIP\\240531-3jkrlaac94.behavioral2.pcapng to z-order\\train\\YUNSIP\\240531-3jkrlaac94.behavioral2.pcapng.png\n",
      "Skipping data\\PCAPS\\YUNSIP\\240531-ax5dyahc53.behavioral1.pcapng as it is smaller than 2KB\n",
      "Saved image for data\\PCAPS\\YUNSIP\\240531-ax5dyahc53.behavioral2.pcapng to z-order\\train\\YUNSIP\\240531-ax5dyahc53.behavioral2.pcapng.png\n",
      "Skipping data\\PCAPS\\YUNSIP\\240602-3pw2tabd6w.behavioral1.pcapng as it is smaller than 2KB\n"
     ]
    },
    {
     "name": "stderr",
     "output_type": "stream",
     "text": [
      "WARNING: PcapNg: TLS Key Log available, but the TLS layer is not loaded! Scapy won't be able to decrypt the packets.\n"
     ]
    },
    {
     "name": "stdout",
     "output_type": "stream",
     "text": [
      "Saved image for data\\PCAPS\\YUNSIP\\240602-3pw2tabd6w.behavioral2.pcapng to z-order\\train\\YUNSIP\\240602-3pw2tabd6w.behavioral2.pcapng.png\n",
      "Skipping data\\PCAPS\\YUNSIP\\240604-fqg8qaea7t.behavioral1.pcapng as it is smaller than 2KB\n"
     ]
    },
    {
     "name": "stderr",
     "output_type": "stream",
     "text": [
      "WARNING: PcapNg: TLS Key Log available, but the TLS layer is not loaded! Scapy won't be able to decrypt the packets.\n"
     ]
    },
    {
     "name": "stdout",
     "output_type": "stream",
     "text": [
      "Saved image for data\\PCAPS\\YUNSIP\\240604-fqg8qaea7t.behavioral2.pcapng to z-order\\train\\YUNSIP\\240604-fqg8qaea7t.behavioral2.pcapng.png\n",
      "Skipping data\\PCAPS\\YUNSIP\\240607-1ygmdaec72.behavioral1.pcapng as it is smaller than 2KB\n"
     ]
    },
    {
     "name": "stderr",
     "output_type": "stream",
     "text": [
      "WARNING: more PcapNg: TLS Key Log available, but the TLS layer is not loaded! Scapy won't be able to decrypt the packets.\n"
     ]
    },
    {
     "name": "stdout",
     "output_type": "stream",
     "text": [
      "Saved image for data\\PCAPS\\YUNSIP\\240607-1ygmdaec72.behavioral2.pcapng to z-order\\train\\YUNSIP\\240607-1ygmdaec72.behavioral2.pcapng.png\n",
      "Skipping data\\PCAPS\\ZLOADER\\240312-14qggacb5x.behavioral1.pcapng as it is smaller than 2KB\n",
      "Saved image for data\\PCAPS\\ZLOADER\\240312-14qggacb5x.behavioral2.pcapng to z-order\\train\\ZLOADER\\240312-14qggacb5x.behavioral2.pcapng.png\n"
     ]
    },
    {
     "name": "stderr",
     "output_type": "stream",
     "text": [
      "WARNING: PcapNg: TLS Key Log available, but the TLS layer is not loaded! Scapy won't be able to decrypt the packets.\n"
     ]
    },
    {
     "name": "stdout",
     "output_type": "stream",
     "text": [
      "Saved image for data\\PCAPS\\ZLOADER\\240313-zeyacagb6x.behavioral1.pcapng to z-order\\train\\ZLOADER\\240313-zeyacagb6x.behavioral1.pcapng.png\n"
     ]
    },
    {
     "name": "stderr",
     "output_type": "stream",
     "text": [
      "WARNING: PcapNg: TLS Key Log available, but the TLS layer is not loaded! Scapy won't be able to decrypt the packets.\n"
     ]
    },
    {
     "name": "stdout",
     "output_type": "stream",
     "text": [
      "Saved image for data\\PCAPS\\ZLOADER\\240313-zeyacagb6x.behavioral2.pcapng to z-order\\train\\ZLOADER\\240313-zeyacagb6x.behavioral2.pcapng.png\n"
     ]
    },
    {
     "name": "stderr",
     "output_type": "stream",
     "text": [
      "WARNING: PcapNg: TLS Key Log available, but the TLS layer is not loaded! Scapy won't be able to decrypt the packets.\n"
     ]
    },
    {
     "name": "stdout",
     "output_type": "stream",
     "text": [
      "Saved image for data\\PCAPS\\ZLOADER\\240315-p1fx3saf88.behavioral1.pcapng to z-order\\train\\ZLOADER\\240315-p1fx3saf88.behavioral1.pcapng.png\n"
     ]
    },
    {
     "name": "stderr",
     "output_type": "stream",
     "text": [
      "WARNING: PcapNg: TLS Key Log available, but the TLS layer is not loaded! Scapy won't be able to decrypt the packets.\n"
     ]
    },
    {
     "name": "stdout",
     "output_type": "stream",
     "text": [
      "Saved image for data\\PCAPS\\ZLOADER\\240320-mft8vsed92.behavioral1.pcapng to z-order\\train\\ZLOADER\\240320-mft8vsed92.behavioral1.pcapng.png\n"
     ]
    },
    {
     "name": "stderr",
     "output_type": "stream",
     "text": [
      "WARNING: PcapNg: TLS Key Log available, but the TLS layer is not loaded! Scapy won't be able to decrypt the packets.\n"
     ]
    },
    {
     "name": "stdout",
     "output_type": "stream",
     "text": [
      "Saved image for data\\PCAPS\\ZLOADER\\240320-mft8vsed92.behavioral2.pcapng to z-order\\train\\ZLOADER\\240320-mft8vsed92.behavioral2.pcapng.png\n"
     ]
    },
    {
     "name": "stderr",
     "output_type": "stream",
     "text": [
      "WARNING: more PcapNg: TLS Key Log available, but the TLS layer is not loaded! Scapy won't be able to decrypt the packets.\n"
     ]
    },
    {
     "name": "stdout",
     "output_type": "stream",
     "text": [
      "Saved image for data\\PCAPS\\ZLOADER\\240321-srcqvaed68.behavioral1.pcapng to z-order\\train\\ZLOADER\\240321-srcqvaed68.behavioral1.pcapng.png\n",
      "Saved image for data\\PCAPS\\ZLOADER\\240321-srcqvaed68.behavioral2.pcapng to z-order\\train\\ZLOADER\\240321-srcqvaed68.behavioral2.pcapng.png\n",
      "Skipping data\\PCAPS\\ZLOADER\\240325-e7ctwsgb76.behavioral1.pcapng as it is smaller than 2KB\n",
      "Saved image for data\\PCAPS\\ZLOADER\\240325-e7ctwsgb76.behavioral2.pcapng to z-order\\train\\ZLOADER\\240325-e7ctwsgb76.behavioral2.pcapng.png\n",
      "Skipping data\\PCAPS\\ZLOADER\\240409-hqpnxacc4s.behavioral1.pcapng as it is smaller than 2KB\n"
     ]
    },
    {
     "name": "stderr",
     "output_type": "stream",
     "text": [
      "WARNING: PcapNg: TLS Key Log available, but the TLS layer is not loaded! Scapy won't be able to decrypt the packets.\n"
     ]
    },
    {
     "name": "stdout",
     "output_type": "stream",
     "text": [
      "Saved image for data\\PCAPS\\ZLOADER\\240409-hqpnxacc4s.behavioral2.pcapng to z-order\\train\\ZLOADER\\240409-hqpnxacc4s.behavioral2.pcapng.png\n"
     ]
    },
    {
     "name": "stderr",
     "output_type": "stream",
     "text": [
      "WARNING: PcapNg: TLS Key Log available, but the TLS layer is not loaded! Scapy won't be able to decrypt the packets.\n"
     ]
    },
    {
     "name": "stdout",
     "output_type": "stream",
     "text": [
      "Saved image for data\\PCAPS\\ZLOADER\\240409-pvg8ysfb33.behavioral1.pcapng to z-order\\train\\ZLOADER\\240409-pvg8ysfb33.behavioral1.pcapng.png\n"
     ]
    },
    {
     "name": "stderr",
     "output_type": "stream",
     "text": [
      "WARNING: PcapNg: TLS Key Log available, but the TLS layer is not loaded! Scapy won't be able to decrypt the packets.\n"
     ]
    },
    {
     "name": "stdout",
     "output_type": "stream",
     "text": [
      "Saved image for data\\PCAPS\\ZLOADER\\240409-tdx1aseh9y.behavioral1.pcapng to z-order\\train\\ZLOADER\\240409-tdx1aseh9y.behavioral1.pcapng.png\n"
     ]
    },
    {
     "name": "stderr",
     "output_type": "stream",
     "text": [
      "WARNING: PcapNg: TLS Key Log available, but the TLS layer is not loaded! Scapy won't be able to decrypt the packets.\n"
     ]
    },
    {
     "name": "stdout",
     "output_type": "stream",
     "text": [
      "Saved image for data\\PCAPS\\ZLOADER\\240409-tdx1aseh9y.behavioral2.pcapng to z-order\\train\\ZLOADER\\240409-tdx1aseh9y.behavioral2.pcapng.png\n",
      "Skipping data\\PCAPS\\ZLOADER\\240414-yqkmyscb47.behavioral1.pcapng as it is smaller than 2KB\n"
     ]
    },
    {
     "name": "stderr",
     "output_type": "stream",
     "text": [
      "WARNING: more PcapNg: TLS Key Log available, but the TLS layer is not loaded! Scapy won't be able to decrypt the packets.\n"
     ]
    },
    {
     "name": "stdout",
     "output_type": "stream",
     "text": [
      "Saved image for data\\PCAPS\\ZLOADER\\240414-yqkmyscb47.behavioral2.pcapng to z-order\\train\\ZLOADER\\240414-yqkmyscb47.behavioral2.pcapng.png\n",
      "Saved image for data\\PCAPS\\ZLOADER\\240428-3bcq1sbf79.behavioral1.pcapng to z-order\\train\\ZLOADER\\240428-3bcq1sbf79.behavioral1.pcapng.png\n"
     ]
    },
    {
     "name": "stderr",
     "output_type": "stream",
     "text": [
      "WARNING: PcapNg: TLS Key Log available, but the TLS layer is not loaded! Scapy won't be able to decrypt the packets.\n"
     ]
    },
    {
     "name": "stdout",
     "output_type": "stream",
     "text": [
      "Saved image for data\\PCAPS\\ZLOADER\\240428-3bcq1sbf79.behavioral2.pcapng to z-order\\train\\ZLOADER\\240428-3bcq1sbf79.behavioral2.pcapng.png\n",
      "Skipping data\\PCAPS\\ZLOADER\\240428-cb55fsdf37.behavioral1.pcapng as it is smaller than 2KB\n"
     ]
    },
    {
     "name": "stderr",
     "output_type": "stream",
     "text": [
      "WARNING: PcapNg: TLS Key Log available, but the TLS layer is not loaded! Scapy won't be able to decrypt the packets.\n"
     ]
    },
    {
     "name": "stdout",
     "output_type": "stream",
     "text": [
      "Saved image for data\\PCAPS\\ZLOADER\\240428-cb55fsdf37.behavioral2.pcapng to z-order\\train\\ZLOADER\\240428-cb55fsdf37.behavioral2.pcapng.png\n"
     ]
    },
    {
     "name": "stderr",
     "output_type": "stream",
     "text": [
      "WARNING: more PcapNg: TLS Key Log available, but the TLS layer is not loaded! Scapy won't be able to decrypt the packets.\n"
     ]
    },
    {
     "name": "stdout",
     "output_type": "stream",
     "text": [
      "Saved image for data\\PCAPS\\ZLOADER\\240429-3mv2qsdg77.behavioral2.pcapng to z-order\\train\\ZLOADER\\240429-3mv2qsdg77.behavioral2.pcapng.png\n"
     ]
    },
    {
     "name": "stderr",
     "output_type": "stream",
     "text": [
      "WARNING: PcapNg: TLS Key Log available, but the TLS layer is not loaded! Scapy won't be able to decrypt the packets.\n"
     ]
    },
    {
     "name": "stdout",
     "output_type": "stream",
     "text": [
      "Saved image for data\\PCAPS\\ZLOADER\\240501-21vsfshg4w.behavioral1.pcapng to z-order\\train\\ZLOADER\\240501-21vsfshg4w.behavioral1.pcapng.png\n"
     ]
    },
    {
     "name": "stderr",
     "output_type": "stream",
     "text": [
      "WARNING: PcapNg: TLS Key Log available, but the TLS layer is not loaded! Scapy won't be able to decrypt the packets.\n"
     ]
    },
    {
     "name": "stdout",
     "output_type": "stream",
     "text": [
      "Saved image for data\\PCAPS\\ZLOADER\\240501-21vsfshg4w.behavioral2.pcapng to z-order\\train\\ZLOADER\\240501-21vsfshg4w.behavioral2.pcapng.png\n"
     ]
    },
    {
     "name": "stderr",
     "output_type": "stream",
     "text": [
      "WARNING: PcapNg: TLS Key Log available, but the TLS layer is not loaded! Scapy won't be able to decrypt the packets.\n"
     ]
    },
    {
     "name": "stdout",
     "output_type": "stream",
     "text": [
      "Saved image for data\\PCAPS\\ZLOADER\\240501-28cxlsca92.behavioral1.pcapng to z-order\\train\\ZLOADER\\240501-28cxlsca92.behavioral1.pcapng.png\n"
     ]
    },
    {
     "name": "stderr",
     "output_type": "stream",
     "text": [
      "WARNING: PcapNg: TLS Key Log available, but the TLS layer is not loaded! Scapy won't be able to decrypt the packets.\n"
     ]
    },
    {
     "name": "stdout",
     "output_type": "stream",
     "text": [
      "Saved image for data\\PCAPS\\ZLOADER\\240501-28cxlsca92.behavioral2.pcapng to z-order\\train\\ZLOADER\\240501-28cxlsca92.behavioral2.pcapng.png\n"
     ]
    },
    {
     "name": "stderr",
     "output_type": "stream",
     "text": [
      "WARNING: PcapNg: TLS Key Log available, but the TLS layer is not loaded! Scapy won't be able to decrypt the packets.\n"
     ]
    },
    {
     "name": "stdout",
     "output_type": "stream",
     "text": [
      "Saved image for data\\PCAPS\\ZLOADER\\240501-2f5rxsbf25.behavioral1.pcapng to z-order\\train\\ZLOADER\\240501-2f5rxsbf25.behavioral1.pcapng.png\n"
     ]
    },
    {
     "name": "stderr",
     "output_type": "stream",
     "text": [
      "WARNING: PcapNg: TLS Key Log available, but the TLS layer is not loaded! Scapy won't be able to decrypt the packets.\n"
     ]
    },
    {
     "name": "stdout",
     "output_type": "stream",
     "text": [
      "Saved image for data\\PCAPS\\ZLOADER\\240501-2f5rxsbf25.behavioral2.pcapng to z-order\\train\\ZLOADER\\240501-2f5rxsbf25.behavioral2.pcapng.png\n"
     ]
    },
    {
     "name": "stderr",
     "output_type": "stream",
     "text": [
      "WARNING: PcapNg: TLS Key Log available, but the TLS layer is not loaded! Scapy won't be able to decrypt the packets.\n"
     ]
    },
    {
     "name": "stdout",
     "output_type": "stream",
     "text": [
      "Saved image for data\\PCAPS\\ZLOADER\\240501-2legxshe3y.behavioral1.pcapng to z-order\\train\\ZLOADER\\240501-2legxshe3y.behavioral1.pcapng.png\n"
     ]
    },
    {
     "name": "stderr",
     "output_type": "stream",
     "text": [
      "WARNING: PcapNg: TLS Key Log available, but the TLS layer is not loaded! Scapy won't be able to decrypt the packets.\n"
     ]
    },
    {
     "name": "stdout",
     "output_type": "stream",
     "text": [
      "Saved image for data\\PCAPS\\ZLOADER\\240501-2legxshe3y.behavioral2.pcapng to z-order\\train\\ZLOADER\\240501-2legxshe3y.behavioral2.pcapng.png\n",
      "Skipping data\\PCAPS\\ZLOADER\\240505-hw1y5adg64.behavioral1.pcapng as it is smaller than 2KB\n"
     ]
    },
    {
     "name": "stderr",
     "output_type": "stream",
     "text": [
      "WARNING: PcapNg: TLS Key Log available, but the TLS layer is not loaded! Scapy won't be able to decrypt the packets.\n"
     ]
    },
    {
     "name": "stdout",
     "output_type": "stream",
     "text": [
      "Saved image for data\\PCAPS\\ZLOADER\\240505-hw1y5adg64.behavioral2.pcapng to z-order\\train\\ZLOADER\\240505-hw1y5adg64.behavioral2.pcapng.png\n",
      "Skipping data\\PCAPS\\ZLOADER\\240508-cmpa3sfg56.behavioral1.pcapng as it is smaller than 2KB\n"
     ]
    },
    {
     "name": "stderr",
     "output_type": "stream",
     "text": [
      "WARNING: PcapNg: TLS Key Log available, but the TLS layer is not loaded! Scapy won't be able to decrypt the packets.\n"
     ]
    },
    {
     "name": "stdout",
     "output_type": "stream",
     "text": [
      "Saved image for data\\PCAPS\\ZLOADER\\240508-cmpa3sfg56.behavioral2.pcapng to z-order\\train\\ZLOADER\\240508-cmpa3sfg56.behavioral2.pcapng.png\n",
      "Skipping data\\PCAPS\\ZLOADER\\240508-gmcdqsea5x.behavioral1.pcapng as it is smaller than 2KB\n"
     ]
    },
    {
     "name": "stderr",
     "output_type": "stream",
     "text": [
      "WARNING: more PcapNg: TLS Key Log available, but the TLS layer is not loaded! Scapy won't be able to decrypt the packets.\n"
     ]
    },
    {
     "name": "stdout",
     "output_type": "stream",
     "text": [
      "Saved image for data\\PCAPS\\ZLOADER\\240508-gmcdqsea5x.behavioral2.pcapng to z-order\\train\\ZLOADER\\240508-gmcdqsea5x.behavioral2.pcapng.png\n",
      "Skipping data\\PCAPS\\ZLOADER\\240510-tw1h5shh47.behavioral1.pcapng as it is smaller than 2KB\n",
      "Saved image for data\\PCAPS\\ZLOADER\\240510-tw1h5shh47.behavioral2.pcapng to z-order\\train\\ZLOADER\\240510-tw1h5shh47.behavioral2.pcapng.png\n",
      "Skipping data\\PCAPS\\ZLOADER\\240511-3ff91agg64.behavioral1.pcapng as it is smaller than 2KB\n",
      "Saved image for data\\PCAPS\\ZLOADER\\240511-3ff91agg64.behavioral2.pcapng to z-order\\train\\ZLOADER\\240511-3ff91agg64.behavioral2.pcapng.png\n",
      "Skipping data\\PCAPS\\ZLOADER\\240513-n3jajsdd61.behavioral1.pcapng as it is smaller than 2KB\n",
      "Saved image for data\\PCAPS\\ZLOADER\\240513-n3jajsdd61.behavioral2.pcapng to z-order\\train\\ZLOADER\\240513-n3jajsdd61.behavioral2.pcapng.png\n",
      "Skipping data\\PCAPS\\ZLOADER\\240515-ws2cdach5z.behavioral1.pcapng as it is smaller than 2KB\n",
      "Saved image for data\\PCAPS\\ZLOADER\\240515-ws2cdach5z.behavioral2.pcapng to z-order\\train\\ZLOADER\\240515-ws2cdach5z.behavioral2.pcapng.png\n"
     ]
    },
    {
     "name": "stderr",
     "output_type": "stream",
     "text": [
      "WARNING: PcapNg: TLS Key Log available, but the TLS layer is not loaded! Scapy won't be able to decrypt the packets.\n"
     ]
    },
    {
     "name": "stdout",
     "output_type": "stream",
     "text": [
      "Saved image for data\\PCAPS\\ZLOADER\\240523-bs9crsge2w.behavioral1.pcapng to z-order\\train\\ZLOADER\\240523-bs9crsge2w.behavioral1.pcapng.png\n"
     ]
    },
    {
     "name": "stderr",
     "output_type": "stream",
     "text": [
      "WARNING: PcapNg: TLS Key Log available, but the TLS layer is not loaded! Scapy won't be able to decrypt the packets.\n"
     ]
    },
    {
     "name": "stdout",
     "output_type": "stream",
     "text": [
      "Saved image for data\\PCAPS\\ZLOADER\\240523-bs9crsge2w.behavioral2.pcapng to z-order\\train\\ZLOADER\\240523-bs9crsge2w.behavioral2.pcapng.png\n"
     ]
    },
    {
     "name": "stderr",
     "output_type": "stream",
     "text": [
      "WARNING: more PcapNg: TLS Key Log available, but the TLS layer is not loaded! Scapy won't be able to decrypt the packets.\n"
     ]
    },
    {
     "name": "stdout",
     "output_type": "stream",
     "text": [
      "Saved image for data\\PCAPS\\ZLOADER\\240525-11e7bscg27.behavioral1.pcapng to z-order\\train\\ZLOADER\\240525-11e7bscg27.behavioral1.pcapng.png\n",
      "Saved image for data\\PCAPS\\ZLOADER\\240525-11e7bscg27.behavioral2.pcapng to z-order\\train\\ZLOADER\\240525-11e7bscg27.behavioral2.pcapng.png\n",
      "Saved image for data\\PCAPS\\ZLOADER\\240525-adwbxsga76.behavioral1.pcapng to z-order\\train\\ZLOADER\\240525-adwbxsga76.behavioral1.pcapng.png\n"
     ]
    },
    {
     "name": "stderr",
     "output_type": "stream",
     "text": [
      "WARNING: PcapNg: TLS Key Log available, but the TLS layer is not loaded! Scapy won't be able to decrypt the packets.\n"
     ]
    },
    {
     "name": "stdout",
     "output_type": "stream",
     "text": [
      "Saved image for data\\PCAPS\\ZLOADER\\240525-b9mv4aad8t.behavioral1.pcapng to z-order\\train\\ZLOADER\\240525-b9mv4aad8t.behavioral1.pcapng.png\n"
     ]
    },
    {
     "name": "stderr",
     "output_type": "stream",
     "text": [
      "WARNING: PcapNg: TLS Key Log available, but the TLS layer is not loaded! Scapy won't be able to decrypt the packets.\n"
     ]
    },
    {
     "name": "stdout",
     "output_type": "stream",
     "text": [
      "Saved image for data\\PCAPS\\ZLOADER\\240526-eq3c8afb64.behavioral1.pcapng to z-order\\train\\ZLOADER\\240526-eq3c8afb64.behavioral1.pcapng.png\n"
     ]
    },
    {
     "name": "stderr",
     "output_type": "stream",
     "text": [
      "WARNING: more PcapNg: TLS Key Log available, but the TLS layer is not loaded! Scapy won't be able to decrypt the packets.\n"
     ]
    },
    {
     "name": "stdout",
     "output_type": "stream",
     "text": [
      "Saved image for data\\PCAPS\\ZLOADER\\240526-eq3c8afb64.behavioral2.pcapng to z-order\\train\\ZLOADER\\240526-eq3c8afb64.behavioral2.pcapng.png\n",
      "Skipping data\\PCAPS\\ZLOADER\\240530-bnfjwshb7y.behavioral1.pcapng as it is smaller than 2KB\n",
      "Saved image for data\\PCAPS\\ZLOADER\\240530-bnfjwshb7y.behavioral2.pcapng to z-order\\train\\ZLOADER\\240530-bnfjwshb7y.behavioral2.pcapng.png\n",
      "Skipping data\\PCAPS\\ZLOADER\\240601-3gkc2sbc74.behavioral1.pcapng as it is smaller than 2KB\n",
      "Saved image for data\\PCAPS\\ZLOADER\\240601-3gkc2sbc74.behavioral2.pcapng to z-order\\train\\ZLOADER\\240601-3gkc2sbc74.behavioral2.pcapng.png\n",
      "Skipping data\\PCAPS\\ZLOADER\\240601-m7bktsbe95.behavioral1.pcapng as it is smaller than 2KB\n",
      "Saved image for data\\PCAPS\\ZLOADER\\240601-m7bktsbe95.behavioral2.pcapng to z-order\\train\\ZLOADER\\240601-m7bktsbe95.behavioral2.pcapng.png\n",
      "Saved image for data\\PCAPS\\ZLOADER\\240606-rnfsnafc5t.behavioral1.pcapng to z-order\\train\\ZLOADER\\240606-rnfsnafc5t.behavioral1.pcapng.png\n",
      "Saved image for data\\PCAPS\\ZLOADER\\240606-rnfsnafc5t.behavioral2.pcapng to z-order\\train\\ZLOADER\\240606-rnfsnafc5t.behavioral2.pcapng.png\n"
     ]
    }
   ],
   "source": [
    "import os\n",
    "import numpy as np\n",
    "import matplotlib.pyplot as plt\n",
    "from scapy.all import rdpcap\n",
    "from bitstring import BitArray\n",
    "import ipaddress\n",
    "\n",
    "import warnings\n",
    "warnings.filterwarnings(\"ignore\", category=UserWarning, message=\"WARNING: PcapNg: TLS Key Log available, but the TLS layer is not loaded! Scapy won't be able to decrypt the packets.\")\n",
    "\n",
    "# Define a function to convert IP address to integer\n",
    "def ip_to_int(ip):\n",
    "    return int(ipaddress.ip_address(ip))\n",
    "\n",
    "# Define normalization function\n",
    "def normalize(value, min_val, max_val):\n",
    "    return int((value - min_val) / (max_val - min_val) * 255)\n",
    "\n",
    "# Define a function to identify protocol, including SSL\n",
    "def identify_protocol(packet):\n",
    "    if packet.haslayer(\"TCP\"):\n",
    "        return 6  # TCP\n",
    "    elif packet.haslayer(\"UDP\"):\n",
    "        return 17  # UDP\n",
    "    elif packet.haslayer(\"ICMP\"):\n",
    "        return 1  # ICMP\n",
    "    else:\n",
    "        return 0  # OTHER\n",
    "\n",
    "# Define a function to encode features into RGB channels\n",
    "def combine_features_to_pixel(src_ip, des_ip, src_port, des_port, protocol):\n",
    "    # Extracting the third byte from src_ip and des_ip\n",
    "    r = (src_ip >> 16) & 0xFF  # Get the high byte of the src_ip\n",
    "    g = (des_ip >> 16) & 0xFF  # Get the high byte of the des_ip\n",
    "    # Combine src_port, des_port, and protocol into the blue channel\n",
    "    b = ((src_port & 0xF0) >> 4) | (des_port & 0xF0) | (protocol & 0x0F)\n",
    "    return (r, g, b)\n",
    "\n",
    "# Function to interleave bits for Z-order curve\n",
    "def interleave_bits(x, y, max_bits=16):\n",
    "    z = BitArray()\n",
    "    for i in range(max_bits):\n",
    "        z.append(BitArray(uint=x >> i & 1, length=1))\n",
    "        z.append(BitArray(uint=y >> i & 1, length=1))\n",
    "    return z.uint\n",
    "\n",
    "# Function to process a single pcap file\n",
    "def process_pcap_file(file_path, output_dir):\n",
    "    packets = rdpcap(file_path)\n",
    "    data = []\n",
    "\n",
    "    for packet in packets:\n",
    "        if packet.haslayer(\"IP\"):\n",
    "            src_ip = ip_to_int(packet[\"IP\"].src)\n",
    "            des_ip = ip_to_int(packet[\"IP\"].dst)\n",
    "            protocol = identify_protocol(packet)\n",
    "\n",
    "            if packet.haslayer(\"TCP\"):\n",
    "                src_port = packet[\"TCP\"].sport\n",
    "                des_port = packet[\"TCP\"].dport\n",
    "            elif packet.haslayer(\"UDP\"):\n",
    "                src_port = packet[\"UDP\"].sport\n",
    "                des_port = packet[\"UDP\"].dport\n",
    "            else:\n",
    "                src_port = 0\n",
    "                des_port = 0\n",
    "            data.append((src_ip, des_ip, src_port, des_port, protocol))\n",
    "\n",
    "    if not data:\n",
    "        return\n",
    "\n",
    "    # Normalize feature values\n",
    "    src_ips = [item[0] for item in data]\n",
    "    des_ips = [item[1] for item in data]\n",
    "\n",
    "    min_ip = min(src_ips + des_ips)\n",
    "    max_ip = max(src_ips + des_ips)\n",
    "    min_port = 0\n",
    "    max_port = 65535\n",
    "    min_protocol = 0\n",
    "    max_protocol = 255\n",
    "\n",
    "    normalized_data = []\n",
    "    for src_ip, des_ip, src_port, des_port, protocol in data:\n",
    "        norm_src_ip = normalize(src_ip, min_ip, max_ip)\n",
    "        norm_des_ip = normalize(des_ip, min_ip, max_ip)\n",
    "        norm_src_port = normalize(src_port, min_port, max_port)\n",
    "        norm_des_port = normalize(des_port, min_port, max_port)\n",
    "        norm_protocol = normalize(protocol, min_protocol, max_protocol)\n",
    "        normalized_data.append((src_ip, des_ip, norm_src_port, norm_des_port, norm_protocol))\n",
    "\n",
    "    # Map data to image using Z-order curve\n",
    "    image_size = 256\n",
    "    image = np.zeros((image_size, image_size, 3), dtype=np.uint8)\n",
    "    max_bits = int(np.log2(image_size))\n",
    "\n",
    "    for i, (src_ip, des_ip, src_port, des_port, protocol) in enumerate(normalized_data):\n",
    "        if i >= image_size**2:\n",
    "            break\n",
    "        z_value = interleave_bits(i % image_size, i // image_size, max_bits)\n",
    "        x = z_value % image_size\n",
    "        y = z_value // image_size\n",
    "        if x < image_size and y < image_size:\n",
    "            pixel = combine_features_to_pixel(src_ip, des_ip, src_port, des_port, protocol)\n",
    "            image[x, y] = pixel\n",
    "\n",
    "    # Save the image\n",
    "    output_file_path = os.path.join(output_dir, os.path.basename(file_path) + '.png')\n",
    "    plt.imsave(output_file_path, image)\n",
    "    print(f\"Saved image for {file_path} to {output_file_path}\")\n",
    "\n",
    "# Function to process all pcap files in a directory and its subdirectories\n",
    "def process_all_pcaps(input_dir, output_dir):\n",
    "    for root, dirs, files in os.walk(input_dir):\n",
    "        for file in files:\n",
    "            if file.endswith('.pcap') or file.endswith('.pcapng'):\n",
    "                file_path = os.path.join(root, file)\n",
    "                # Check file size\n",
    "                if os.path.getsize(file_path) < 2048:  # 2 KB = 2048 bytes\n",
    "                    print(f\"Skipping {file_path} as it is smaller than 2KB\")\n",
    "                    continue\n",
    "                relative_path = os.path.relpath(root, input_dir)\n",
    "                output_subdir = os.path.join(output_dir, relative_path)\n",
    "                os.makedirs(output_subdir, exist_ok=True)\n",
    "                process_pcap_file(file_path, output_subdir)\n",
    "\n",
    "# Main function\n",
    "def main():\n",
    "    input_dir = 'data\\\\PCAPS'\n",
    "    output_dir = 'z-order\\\\train'\n",
    "    os.makedirs(output_dir, exist_ok=True)\n",
    "    process_all_pcaps(input_dir, output_dir)\n",
    "\n",
    "if __name__ == \"__main__\":\n",
    "    main()\n"
   ]
  }
 ],
 "metadata": {
  "kernelspec": {
   "display_name": "base",
   "language": "python",
   "name": "python3"
  },
  "language_info": {
   "codemirror_mode": {
    "name": "ipython",
    "version": 3
   },
   "file_extension": ".py",
   "mimetype": "text/x-python",
   "name": "python",
   "nbconvert_exporter": "python",
   "pygments_lexer": "ipython3",
   "version": "3.11.7"
  }
 },
 "nbformat": 4,
 "nbformat_minor": 2
}
